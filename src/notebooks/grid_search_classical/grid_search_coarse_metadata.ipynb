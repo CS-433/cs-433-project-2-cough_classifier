{
 "cells": [
  {
   "cell_type": "markdown",
   "metadata": {},
   "source": [
    "### Import libraries"
   ]
  },
  {
   "cell_type": "code",
   "execution_count": 1,
   "metadata": {
    "scrolled": true
   },
   "outputs": [],
   "source": [
    "from IPython.core.display import display\n",
    "from src.utils.preprocessing import classic_preprocessing\n",
    "from src.utils.get_data import import_data, split_experts\n",
    "from src.utils.train import hyperparameter_tuning_cv\n",
    "from src.utils.config import *\n",
    "import pandas as pd\n",
    "import numpy as np"
   ]
  },
  {
   "cell_type": "code",
   "execution_count": 2,
   "metadata": {
    "pycharm": {
     "name": "#%%\n"
    }
   },
   "outputs": [],
   "source": [
    "%load_ext autoreload\n",
    "%autoreload 2"
   ]
  },
  {
   "cell_type": "markdown",
   "metadata": {},
   "source": [
    "### Load Data"
   ]
  },
  {
   "cell_type": "code",
   "execution_count": 3,
   "metadata": {},
   "outputs": [
    {
     "ename": "FileNotFoundError",
     "evalue": "[Errno 2] No such file or directory: '../../data/features_coarse_segmentation.csv'",
     "output_type": "error",
     "traceback": [
      "\u001b[0;31m---------------------------------------------------------------------------\u001b[0m",
      "\u001b[0;31mFileNotFoundError\u001b[0m                         Traceback (most recent call last)",
      "\u001b[0;32m<ipython-input-3-e710f6b8304d>\u001b[0m in \u001b[0;36m<module>\u001b[0;34m\u001b[0m\n\u001b[1;32m      1\u001b[0m \u001b[0mDATA_PATH\u001b[0m \u001b[0;34m=\u001b[0m \u001b[0;34m'../../data'\u001b[0m\u001b[0;34m\u001b[0m\u001b[0;34m\u001b[0m\u001b[0m\n\u001b[0;32m----> 2\u001b[0;31m X_coarse, y_coarse = import_data(DATA_PATH, segmentation_type='coarse',\n\u001b[0m\u001b[1;32m      3\u001b[0m                                  \u001b[0mdrop_user_features\u001b[0m\u001b[0;34m=\u001b[0m\u001b[0;32mFalse\u001b[0m\u001b[0;34m,\u001b[0m\u001b[0;34m\u001b[0m\u001b[0;34m\u001b[0m\u001b[0m\n\u001b[1;32m      4\u001b[0m                                  drop_expert=True)\n\u001b[1;32m      5\u001b[0m \u001b[0;34m\u001b[0m\u001b[0m\n",
      "\u001b[0;32m~/Documents/EPFL/Projects/cs-433-project-2-cough_classifier/src/utils/get_data.py\u001b[0m in \u001b[0;36mimport_data\u001b[0;34m(path, segmentation_type, drop_user_features, return_type, drop_expert)\u001b[0m\n\u001b[1;32m     37\u001b[0m         \u001b[0;32mraise\u001b[0m \u001b[0mException\u001b[0m\u001b[0;34m\u001b[0m\u001b[0;34m\u001b[0m\u001b[0m\n\u001b[1;32m     38\u001b[0m \u001b[0;34m\u001b[0m\u001b[0m\n\u001b[0;32m---> 39\u001b[0;31m     \u001b[0mdf_features\u001b[0m \u001b[0;34m=\u001b[0m \u001b[0mpd\u001b[0m\u001b[0;34m.\u001b[0m\u001b[0mread_csv\u001b[0m\u001b[0;34m(\u001b[0m\u001b[0;34mf'{path}/features_{segmentation_type}_segmentation.csv'\u001b[0m\u001b[0;34m,\u001b[0m \u001b[0mindex_col\u001b[0m\u001b[0;34m=\u001b[0m\u001b[0;36m0\u001b[0m\u001b[0;34m)\u001b[0m\u001b[0;34m\u001b[0m\u001b[0;34m\u001b[0m\u001b[0m\n\u001b[0m\u001b[1;32m     40\u001b[0m     \u001b[0mdf_labels\u001b[0m \u001b[0;34m=\u001b[0m \u001b[0mpd\u001b[0m\u001b[0;34m.\u001b[0m\u001b[0mread_csv\u001b[0m\u001b[0;34m(\u001b[0m\u001b[0;34mf'{path}/labels_{segmentation_type}_segmentation.csv'\u001b[0m\u001b[0;34m,\u001b[0m \u001b[0mindex_col\u001b[0m\u001b[0;34m=\u001b[0m\u001b[0;36m0\u001b[0m\u001b[0;34m)\u001b[0m\u001b[0;34m\u001b[0m\u001b[0;34m\u001b[0m\u001b[0m\n\u001b[1;32m     41\u001b[0m \u001b[0;34m\u001b[0m\u001b[0m\n",
      "\u001b[0;32m~/Documents/EPFL/ML_course/venv/lib/python3.8/site-packages/pandas/io/parsers.py\u001b[0m in \u001b[0;36mread_csv\u001b[0;34m(filepath_or_buffer, sep, delimiter, header, names, index_col, usecols, squeeze, prefix, mangle_dupe_cols, dtype, engine, converters, true_values, false_values, skipinitialspace, skiprows, skipfooter, nrows, na_values, keep_default_na, na_filter, verbose, skip_blank_lines, parse_dates, infer_datetime_format, keep_date_col, date_parser, dayfirst, cache_dates, iterator, chunksize, compression, thousands, decimal, lineterminator, quotechar, quoting, doublequote, escapechar, comment, encoding, dialect, error_bad_lines, warn_bad_lines, delim_whitespace, low_memory, memory_map, float_precision)\u001b[0m\n\u001b[1;32m    684\u001b[0m     )\n\u001b[1;32m    685\u001b[0m \u001b[0;34m\u001b[0m\u001b[0m\n\u001b[0;32m--> 686\u001b[0;31m     \u001b[0;32mreturn\u001b[0m \u001b[0m_read\u001b[0m\u001b[0;34m(\u001b[0m\u001b[0mfilepath_or_buffer\u001b[0m\u001b[0;34m,\u001b[0m \u001b[0mkwds\u001b[0m\u001b[0;34m)\u001b[0m\u001b[0;34m\u001b[0m\u001b[0;34m\u001b[0m\u001b[0m\n\u001b[0m\u001b[1;32m    687\u001b[0m \u001b[0;34m\u001b[0m\u001b[0m\n\u001b[1;32m    688\u001b[0m \u001b[0;34m\u001b[0m\u001b[0m\n",
      "\u001b[0;32m~/Documents/EPFL/ML_course/venv/lib/python3.8/site-packages/pandas/io/parsers.py\u001b[0m in \u001b[0;36m_read\u001b[0;34m(filepath_or_buffer, kwds)\u001b[0m\n\u001b[1;32m    450\u001b[0m \u001b[0;34m\u001b[0m\u001b[0m\n\u001b[1;32m    451\u001b[0m     \u001b[0;31m# Create the parser.\u001b[0m\u001b[0;34m\u001b[0m\u001b[0;34m\u001b[0m\u001b[0;34m\u001b[0m\u001b[0m\n\u001b[0;32m--> 452\u001b[0;31m     \u001b[0mparser\u001b[0m \u001b[0;34m=\u001b[0m \u001b[0mTextFileReader\u001b[0m\u001b[0;34m(\u001b[0m\u001b[0mfp_or_buf\u001b[0m\u001b[0;34m,\u001b[0m \u001b[0;34m**\u001b[0m\u001b[0mkwds\u001b[0m\u001b[0;34m)\u001b[0m\u001b[0;34m\u001b[0m\u001b[0;34m\u001b[0m\u001b[0m\n\u001b[0m\u001b[1;32m    453\u001b[0m \u001b[0;34m\u001b[0m\u001b[0m\n\u001b[1;32m    454\u001b[0m     \u001b[0;32mif\u001b[0m \u001b[0mchunksize\u001b[0m \u001b[0;32mor\u001b[0m \u001b[0miterator\u001b[0m\u001b[0;34m:\u001b[0m\u001b[0;34m\u001b[0m\u001b[0;34m\u001b[0m\u001b[0m\n",
      "\u001b[0;32m~/Documents/EPFL/ML_course/venv/lib/python3.8/site-packages/pandas/io/parsers.py\u001b[0m in \u001b[0;36m__init__\u001b[0;34m(self, f, engine, **kwds)\u001b[0m\n\u001b[1;32m    934\u001b[0m             \u001b[0mself\u001b[0m\u001b[0;34m.\u001b[0m\u001b[0moptions\u001b[0m\u001b[0;34m[\u001b[0m\u001b[0;34m\"has_index_names\"\u001b[0m\u001b[0;34m]\u001b[0m \u001b[0;34m=\u001b[0m \u001b[0mkwds\u001b[0m\u001b[0;34m[\u001b[0m\u001b[0;34m\"has_index_names\"\u001b[0m\u001b[0;34m]\u001b[0m\u001b[0;34m\u001b[0m\u001b[0;34m\u001b[0m\u001b[0m\n\u001b[1;32m    935\u001b[0m \u001b[0;34m\u001b[0m\u001b[0m\n\u001b[0;32m--> 936\u001b[0;31m         \u001b[0mself\u001b[0m\u001b[0;34m.\u001b[0m\u001b[0m_make_engine\u001b[0m\u001b[0;34m(\u001b[0m\u001b[0mself\u001b[0m\u001b[0;34m.\u001b[0m\u001b[0mengine\u001b[0m\u001b[0;34m)\u001b[0m\u001b[0;34m\u001b[0m\u001b[0;34m\u001b[0m\u001b[0m\n\u001b[0m\u001b[1;32m    937\u001b[0m \u001b[0;34m\u001b[0m\u001b[0m\n\u001b[1;32m    938\u001b[0m     \u001b[0;32mdef\u001b[0m \u001b[0mclose\u001b[0m\u001b[0;34m(\u001b[0m\u001b[0mself\u001b[0m\u001b[0;34m)\u001b[0m\u001b[0;34m:\u001b[0m\u001b[0;34m\u001b[0m\u001b[0;34m\u001b[0m\u001b[0m\n",
      "\u001b[0;32m~/Documents/EPFL/ML_course/venv/lib/python3.8/site-packages/pandas/io/parsers.py\u001b[0m in \u001b[0;36m_make_engine\u001b[0;34m(self, engine)\u001b[0m\n\u001b[1;32m   1166\u001b[0m     \u001b[0;32mdef\u001b[0m \u001b[0m_make_engine\u001b[0m\u001b[0;34m(\u001b[0m\u001b[0mself\u001b[0m\u001b[0;34m,\u001b[0m \u001b[0mengine\u001b[0m\u001b[0;34m=\u001b[0m\u001b[0;34m\"c\"\u001b[0m\u001b[0;34m)\u001b[0m\u001b[0;34m:\u001b[0m\u001b[0;34m\u001b[0m\u001b[0;34m\u001b[0m\u001b[0m\n\u001b[1;32m   1167\u001b[0m         \u001b[0;32mif\u001b[0m \u001b[0mengine\u001b[0m \u001b[0;34m==\u001b[0m \u001b[0;34m\"c\"\u001b[0m\u001b[0;34m:\u001b[0m\u001b[0;34m\u001b[0m\u001b[0;34m\u001b[0m\u001b[0m\n\u001b[0;32m-> 1168\u001b[0;31m             \u001b[0mself\u001b[0m\u001b[0;34m.\u001b[0m\u001b[0m_engine\u001b[0m \u001b[0;34m=\u001b[0m \u001b[0mCParserWrapper\u001b[0m\u001b[0;34m(\u001b[0m\u001b[0mself\u001b[0m\u001b[0;34m.\u001b[0m\u001b[0mf\u001b[0m\u001b[0;34m,\u001b[0m \u001b[0;34m**\u001b[0m\u001b[0mself\u001b[0m\u001b[0;34m.\u001b[0m\u001b[0moptions\u001b[0m\u001b[0;34m)\u001b[0m\u001b[0;34m\u001b[0m\u001b[0;34m\u001b[0m\u001b[0m\n\u001b[0m\u001b[1;32m   1169\u001b[0m         \u001b[0;32melse\u001b[0m\u001b[0;34m:\u001b[0m\u001b[0;34m\u001b[0m\u001b[0;34m\u001b[0m\u001b[0m\n\u001b[1;32m   1170\u001b[0m             \u001b[0;32mif\u001b[0m \u001b[0mengine\u001b[0m \u001b[0;34m==\u001b[0m \u001b[0;34m\"python\"\u001b[0m\u001b[0;34m:\u001b[0m\u001b[0;34m\u001b[0m\u001b[0;34m\u001b[0m\u001b[0m\n",
      "\u001b[0;32m~/Documents/EPFL/ML_course/venv/lib/python3.8/site-packages/pandas/io/parsers.py\u001b[0m in \u001b[0;36m__init__\u001b[0;34m(self, src, **kwds)\u001b[0m\n\u001b[1;32m   1996\u001b[0m         \u001b[0mkwds\u001b[0m\u001b[0;34m[\u001b[0m\u001b[0;34m\"usecols\"\u001b[0m\u001b[0;34m]\u001b[0m \u001b[0;34m=\u001b[0m \u001b[0mself\u001b[0m\u001b[0;34m.\u001b[0m\u001b[0musecols\u001b[0m\u001b[0;34m\u001b[0m\u001b[0;34m\u001b[0m\u001b[0m\n\u001b[1;32m   1997\u001b[0m \u001b[0;34m\u001b[0m\u001b[0m\n\u001b[0;32m-> 1998\u001b[0;31m         \u001b[0mself\u001b[0m\u001b[0;34m.\u001b[0m\u001b[0m_reader\u001b[0m \u001b[0;34m=\u001b[0m \u001b[0mparsers\u001b[0m\u001b[0;34m.\u001b[0m\u001b[0mTextReader\u001b[0m\u001b[0;34m(\u001b[0m\u001b[0msrc\u001b[0m\u001b[0;34m,\u001b[0m \u001b[0;34m**\u001b[0m\u001b[0mkwds\u001b[0m\u001b[0;34m)\u001b[0m\u001b[0;34m\u001b[0m\u001b[0;34m\u001b[0m\u001b[0m\n\u001b[0m\u001b[1;32m   1999\u001b[0m         \u001b[0mself\u001b[0m\u001b[0;34m.\u001b[0m\u001b[0munnamed_cols\u001b[0m \u001b[0;34m=\u001b[0m \u001b[0mself\u001b[0m\u001b[0;34m.\u001b[0m\u001b[0m_reader\u001b[0m\u001b[0;34m.\u001b[0m\u001b[0munnamed_cols\u001b[0m\u001b[0;34m\u001b[0m\u001b[0;34m\u001b[0m\u001b[0m\n\u001b[1;32m   2000\u001b[0m \u001b[0;34m\u001b[0m\u001b[0m\n",
      "\u001b[0;32mpandas/_libs/parsers.pyx\u001b[0m in \u001b[0;36mpandas._libs.parsers.TextReader.__cinit__\u001b[0;34m()\u001b[0m\n",
      "\u001b[0;32mpandas/_libs/parsers.pyx\u001b[0m in \u001b[0;36mpandas._libs.parsers.TextReader._setup_parser_source\u001b[0;34m()\u001b[0m\n",
      "\u001b[0;31mFileNotFoundError\u001b[0m: [Errno 2] No such file or directory: '../../data/features_coarse_segmentation.csv'"
     ]
    }
   ],
   "source": [
    "DATA_PATH = '../../../data'\n",
    "X_coarse, y_coarse = import_data(DATA_PATH, segmentation_type='coarse',\n",
    "                                 drop_user_features=False,\n",
    "                                 drop_expert=True)"
   ]
  },
  {
   "cell_type": "code",
   "execution_count": null,
   "metadata": {},
   "outputs": [],
   "source": [
    "# For each expert separately\n",
    "X_e, y_e = import_data(DATA_PATH, segmentation_type='coarse',\n",
    "                       drop_user_features=False,\n",
    "                       drop_expert=False)"
   ]
  },
  {
   "cell_type": "code",
   "execution_count": null,
   "metadata": {
    "pycharm": {
     "name": "#%%\n"
    }
   },
   "outputs": [],
   "source": [
    "display(X_coarse.head())\n",
    "display(y_coarse.head())"
   ]
  },
  {
   "cell_type": "markdown",
   "metadata": {},
   "source": [
    "### Preprocessing"
   ]
  },
  {
   "cell_type": "code",
   "execution_count": null,
   "metadata": {},
   "outputs": [],
   "source": [
    "X_coarse = classic_preprocessing(X_coarse)"
   ]
  },
  {
   "cell_type": "code",
   "execution_count": null,
   "metadata": {},
   "outputs": [],
   "source": [
    "# Save the expert feature for split\n",
    "expert = X_e['Expert'].copy()\n",
    "X_e = classic_preprocessing(X_e)\n",
    "X_e['Expert'] = expert.values"
   ]
  },
  {
   "cell_type": "markdown",
   "metadata": {},
   "source": [
    "### Split expert models"
   ]
  },
  {
   "cell_type": "code",
   "execution_count": null,
   "metadata": {},
   "outputs": [],
   "source": [
    "X_e_1, y_e_1, X_e_2, y_e_2, X_e_3, y_e_3 = split_experts(X_e, y_e)"
   ]
  },
  {
   "cell_type": "markdown",
   "metadata": {},
   "source": [
    "### Grid search"
   ]
  },
  {
   "cell_type": "markdown",
   "metadata": {
    "pycharm": {
     "name": "#%% md\n"
    }
   },
   "source": [
    "#### 1. Logistic regression"
   ]
  },
  {
   "cell_type": "code",
   "execution_count": null,
   "metadata": {
    "pycharm": {
     "name": "#%%\n"
    },
    "scrolled": true
   },
   "outputs": [],
   "source": [
    "log_results = hyperparameter_tuning_cv(model='logistic', data=X_coarse, labels=y_coarse.Label, cv_k=5,\n",
    "                                       params=LOGISTIC_PARAMS)\n",
    "\n",
    "display(log_results)"
   ]
  },
  {
   "cell_type": "code",
   "execution_count": null,
   "metadata": {
    "pycharm": {
     "name": "#%%\n"
    }
   },
   "outputs": [],
   "source": [
    "# Best model parameters\n",
    "\n",
    "best_log = log_results.iloc[[log_results.reset_index()['f1_score'].idxmax()]]\n",
    "\n",
    "display(best_log)"
   ]
  },
  {
   "cell_type": "code",
   "execution_count": null,
   "metadata": {},
   "outputs": [],
   "source": [
    "# for each expert\n",
    "log_results_1 = hyperparameter_tuning_cv(model='logistic', data=X_e_1, labels=y_e_1, cv_k=5,\n",
    "                                         params=LOGISTIC_PARAMS)\n",
    "log_results_2 = hyperparameter_tuning_cv(model='logistic', data=X_e_2, labels=y_e_2, cv_k=5,\n",
    "                                         params=LOGISTIC_PARAMS)\n",
    "log_results_3 = hyperparameter_tuning_cv(model='logistic', data=X_e_3, labels=y_e_3, cv_k=5,\n",
    "                                         params=LOGISTIC_PARAMS)"
   ]
  },
  {
   "cell_type": "code",
   "execution_count": null,
   "metadata": {},
   "outputs": [],
   "source": [
    "# Best model parameters\n",
    "\n",
    "best_log_1 = log_results_1.iloc[[\n",
    "    log_results_1.reset_index()['roc_auc_score'].idxmax()]]\n",
    "best_log_2 = log_results_2.iloc[[\n",
    "    log_results_2.reset_index()['roc_auc_score'].idxmax()]]\n",
    "best_log_3 = log_results_3.iloc[[\n",
    "    log_results_3.reset_index()['roc_auc_score'].idxmax()]]\n",
    "\n",
    "display(best_log_1, best_log_2, best_log_3)"
   ]
  },
  {
   "cell_type": "markdown",
   "metadata": {
    "pycharm": {
     "name": "#%% md\n"
    }
   },
   "source": [
    "#### 2. Linear Discriminant Analysis"
   ]
  },
  {
   "cell_type": "code",
   "execution_count": null,
   "metadata": {
    "pycharm": {
     "name": "#%%\n"
    }
   },
   "outputs": [],
   "source": [
    "lda_results = hyperparameter_tuning_cv(model='lda', data=X_coarse, labels=y_coarse.Label, cv_k=5,\n",
    "                                       params=LDA_PARAMS)\n",
    "\n",
    "display(lda_results)"
   ]
  },
  {
   "cell_type": "code",
   "execution_count": null,
   "metadata": {
    "pycharm": {
     "name": "#%%\n"
    }
   },
   "outputs": [],
   "source": [
    "# Best model parameters\n",
    "\n",
    "best_lda = lda_results.iloc[[lda_results.reset_index()['f1_score'].idxmax()]]\n",
    "\n",
    "display(best_lda)"
   ]
  },
  {
   "cell_type": "code",
   "execution_count": null,
   "metadata": {},
   "outputs": [],
   "source": [
    "# For each expert\n",
    "lda_results_1 = hyperparameter_tuning_cv(model='lda', data=X_e_1, labels=y_e_1, cv_k=5,\n",
    "                                         params=LDA_PARAMS)\n",
    "lda_results_2 = hyperparameter_tuning_cv(model='lda', data=X_e_2, labels=y_e_2, cv_k=5,\n",
    "                                         params=LDA_PARAMS)\n",
    "lda_results_3 = hyperparameter_tuning_cv(model='lda', data=X_e_3, labels=y_e_3, cv_k=5,\n",
    "                                         params=LDA_PARAMS)"
   ]
  },
  {
   "cell_type": "code",
   "execution_count": null,
   "metadata": {},
   "outputs": [],
   "source": [
    "best_lda_1 = lda_results_1.iloc[[\n",
    "    lda_results_1.reset_index()['roc_auc_score'].idxmax()]]\n",
    "best_lda_2 = lda_results_2.iloc[[\n",
    "    lda_results_2.reset_index()['roc_auc_score'].idxmax()]]\n",
    "best_lda_3 = lda_results_3.iloc[[\n",
    "    lda_results_3.reset_index()['roc_auc_score'].idxmax()]]\n",
    "\n",
    "display(best_lda_1, best_lda_2, best_lda_3)"
   ]
  },
  {
   "cell_type": "markdown",
   "metadata": {
    "pycharm": {
     "name": "#%% md\n"
    }
   },
   "source": [
    "#### 3. K-nearest Neighbors"
   ]
  },
  {
   "cell_type": "code",
   "execution_count": null,
   "metadata": {
    "pycharm": {
     "name": "#%%\n"
    }
   },
   "outputs": [],
   "source": [
    "knn_results = hyperparameter_tuning_cv(model='knn', data=X_coarse, labels=y_coarse.Label, cv_k=5,\n",
    "                                       params=KNN_PARAMS)\n",
    "\n",
    "display(knn_results)"
   ]
  },
  {
   "cell_type": "code",
   "execution_count": null,
   "metadata": {
    "pycharm": {
     "name": "#%%\n"
    }
   },
   "outputs": [],
   "source": [
    "# Best model parameters\n",
    "\n",
    "best_knn = knn_results.iloc[[knn_results.reset_index()['f1_score'].idxmax()]]\n",
    "\n",
    "display(best_knn)"
   ]
  },
  {
   "cell_type": "code",
   "execution_count": null,
   "metadata": {},
   "outputs": [],
   "source": [
    "knn_results_1 = hyperparameter_tuning_cv(\n",
    "    model='knn', data=X_e_1, labels=y_e_1, cv_k=5, params=KNN_PARAMS)\n",
    "knn_results_2 = hyperparameter_tuning_cv(\n",
    "    model='knn', data=X_e_2, labels=y_e_2, cv_k=5, params=KNN_PARAMS)\n",
    "knn_results_3 = hyperparameter_tuning_cv(\n",
    "    model='knn', data=X_e_3, labels=y_e_3, cv_k=5, params=KNN_PARAMS)"
   ]
  },
  {
   "cell_type": "code",
   "execution_count": null,
   "metadata": {},
   "outputs": [],
   "source": [
    "best_knn_1 = knn_results_1.iloc[[\n",
    "    knn_results_1.reset_index()['roc_auc_score'].idxmax()]]\n",
    "best_knn_2 = knn_results_2.iloc[[\n",
    "    knn_results_2.reset_index()['roc_auc_score'].idxmax()]]\n",
    "best_knn_3 = knn_results_3.iloc[[\n",
    "    knn_results_3.reset_index()['roc_auc_score'].idxmax()]]\n",
    "\n",
    "display(best_knn_1, best_knn_2, best_knn_3)"
   ]
  },
  {
   "cell_type": "markdown",
   "metadata": {},
   "source": [
    "#### 4. Support Vector Classifier"
   ]
  },
  {
   "cell_type": "code",
   "execution_count": null,
   "metadata": {
    "pycharm": {
     "name": "#%%\n"
    }
   },
   "outputs": [],
   "source": [
    "svc_results = hyperparameter_tuning_cv(model='svc', data=X_coarse, labels=y_coarse.Label, cv_k=5,\n",
    "                                       params=SVC_PARAMS)\n",
    "\n",
    "display(svc_results)"
   ]
  },
  {
   "cell_type": "code",
   "execution_count": null,
   "metadata": {
    "pycharm": {
     "name": "#%%\n"
    },
    "scrolled": true
   },
   "outputs": [],
   "source": [
    "# Best model parameters\n",
    "\n",
    "best_svc = svc_results.iloc[[svc_results.reset_index()['f1_score'].idxmax()]]\n",
    "\n",
    "display(best_svc)"
   ]
  },
  {
   "cell_type": "code",
   "execution_count": null,
   "metadata": {},
   "outputs": [],
   "source": [
    "svc_results_1 = hyperparameter_tuning_cv(\n",
    "    model='svc', data=X_e_1, labels=y_e_1, cv_k=5, params=SVC_PARAMS)\n",
    "svc_results_2 = hyperparameter_tuning_cv(\n",
    "    model='svc', data=X_e_2, labels=y_e_2, cv_k=5, params=SVC_PARAMS)\n",
    "svc_results_3 = hyperparameter_tuning_cv(\n",
    "    model='svc', data=X_e_3, labels=y_e_3, cv_k=5, params=SVC_PARAMS)"
   ]
  },
  {
   "cell_type": "code",
   "execution_count": null,
   "metadata": {},
   "outputs": [],
   "source": [
    "best_svc_1 = svc_results_1.iloc[[\n",
    "    svc_results_1.reset_index()['roc_auc_score'].idxmax()]]\n",
    "best_svc_2 = svc_results_2.iloc[[\n",
    "    svc_results_2.reset_index()['roc_auc_score'].idxmax()]]\n",
    "best_svc_3 = svc_results_3.iloc[[\n",
    "    svc_results_3.reset_index()['roc_auc_score'].idxmax()]]\n",
    "\n",
    "\n",
    "display(best_svc_1, best_svc_2, best_svc_3)"
   ]
  },
  {
   "cell_type": "markdown",
   "metadata": {},
   "source": [
    "#### 5. Naive Bayes Classifier"
   ]
  },
  {
   "cell_type": "code",
   "execution_count": null,
   "metadata": {
    "pycharm": {
     "name": "#%%\n"
    }
   },
   "outputs": [],
   "source": [
    "nb_results = hyperparameter_tuning_cv(model='naive_bayes', data=X_coarse, labels=y_coarse.Label, cv_k=5,\n",
    "                                      params=NAIVE_BAYES_PARAMS)\n",
    "\n",
    "display(nb_results)"
   ]
  },
  {
   "cell_type": "code",
   "execution_count": null,
   "metadata": {
    "pycharm": {
     "name": "#%%\n"
    },
    "scrolled": true
   },
   "outputs": [],
   "source": [
    "# Best model parameters\n",
    "\n",
    "best_nb = nb_results.iloc[[nb_results.reset_index()['f1_score'].idxmax()]]\n",
    "\n",
    "display(best_nb)"
   ]
  },
  {
   "cell_type": "code",
   "execution_count": null,
   "metadata": {},
   "outputs": [],
   "source": [
    "nb_results_1 = hyperparameter_tuning_cv(\n",
    "    model='naive_bayes', data=X_e_1, labels=y_e_1, cv_k=5,\n",
    "    params=NAIVE_BAYES_PARAMS)\n",
    "nb_results_2 = hyperparameter_tuning_cv(\n",
    "    model='naive_bayes', data=X_e_2, labels=y_e_2, cv_k=5,\n",
    "    params=NAIVE_BAYES_PARAMS)\n",
    "nb_results_3 = hyperparameter_tuning_cv(\n",
    "    model='naive_bayes', data=X_e_3, labels=y_e_3, cv_k=5,\n",
    "    params=NAIVE_BAYES_PARAMS)"
   ]
  },
  {
   "cell_type": "code",
   "execution_count": null,
   "metadata": {},
   "outputs": [],
   "source": [
    "best_nb_1 = nb_results_1.iloc[[\n",
    "    nb_results_1.reset_index()['roc_auc_score'].idxmax()]]\n",
    "best_nb_2 = nb_results_2.iloc[[\n",
    "    nb_results_2.reset_index()['roc_auc_score'].idxmax()]]\n",
    "best_nb_3 = nb_results_3.iloc[[\n",
    "    nb_results_3.reset_index()['roc_auc_score'].idxmax()]]\n",
    "\n",
    "display(best_nb_1, best_nb_2, best_nb_3)"
   ]
  },
  {
   "cell_type": "markdown",
   "metadata": {},
   "source": [
    "#### 6. Decision Tree"
   ]
  },
  {
   "cell_type": "code",
   "execution_count": null,
   "metadata": {
    "pycharm": {
     "name": "#%%\n"
    }
   },
   "outputs": [],
   "source": [
    "dt_results = hyperparameter_tuning_cv(model='decision_tree', data=X_coarse, labels=y_coarse.Label, cv_k=5,\n",
    "                                      params=DECISION_TREE_PARAMS)\n",
    "\n",
    "display(dt_results)"
   ]
  },
  {
   "cell_type": "code",
   "execution_count": null,
   "metadata": {
    "pycharm": {
     "name": "#%%\n"
    }
   },
   "outputs": [],
   "source": [
    "# Best model parameters\n",
    "\n",
    "best_dt = dt_results.iloc[[dt_results.reset_index()['f1_score'].idxmax()]]\n",
    "\n",
    "display(best_dt)"
   ]
  },
  {
   "cell_type": "code",
   "execution_count": null,
   "metadata": {},
   "outputs": [],
   "source": [
    "dt_results_1 = hyperparameter_tuning_cv(\n",
    "    model='decision_tree', data=X_e_1, labels=y_e_1, cv_k=5, params=DECISION_TREE_PARAMS)\n",
    "dt_results_2 = hyperparameter_tuning_cv(\n",
    "    model='decision_tree', data=X_e_2, labels=y_e_2, cv_k=5, params=DECISION_TREE_PARAMS)\n",
    "dt_results_3 = hyperparameter_tuning_cv(\n",
    "    model='decision_tree', data=X_e_3, labels=y_e_3, cv_k=5, params=DECISION_TREE_PARAMS)"
   ]
  },
  {
   "cell_type": "code",
   "execution_count": null,
   "metadata": {},
   "outputs": [],
   "source": [
    "best_dt_1 = dt_results_1.iloc[[\n",
    "    dt_results_1.reset_index()['roc_auc_score'].idxmax()]]\n",
    "best_dt_2 = dt_results_2.iloc[[\n",
    "    dt_results_2.reset_index()['roc_auc_score'].idxmax()]]\n",
    "best_dt_3 = dt_results_3.iloc[[\n",
    "    dt_results_3.reset_index()['roc_auc_score'].idxmax()]]\n",
    "\n",
    "display(best_dt_1, best_dt_2, best_dt_3)"
   ]
  },
  {
   "cell_type": "markdown",
   "metadata": {},
   "source": [
    "#### 7. Random Forest"
   ]
  },
  {
   "cell_type": "code",
   "execution_count": null,
   "metadata": {
    "pycharm": {
     "name": "#%%\n"
    }
   },
   "outputs": [],
   "source": [
    "rf_results = hyperparameter_tuning_cv(model='random_forest', data=X_coarse, labels=y_coarse.Label, cv_k=5,\n",
    "                                      params=RANDOM_FOREST_PARAMS)\n",
    "\n",
    "display(rf_results)"
   ]
  },
  {
   "cell_type": "code",
   "execution_count": null,
   "metadata": {
    "pycharm": {
     "name": "#%%\n"
    }
   },
   "outputs": [],
   "source": [
    "# Best model parameters\n",
    "\n",
    "best_rf = rf_results.iloc[[rf_results.reset_index()['f1_score'].idxmax()]]\n",
    "\n",
    "display(best_rf)"
   ]
  },
  {
   "cell_type": "code",
   "execution_count": null,
   "metadata": {},
   "outputs": [],
   "source": [
    "rf_results_1 = hyperparameter_tuning_cv(\n",
    "    model='random_forest', data=X_e_1, labels=y_e_1, cv_k=5, params=RANDOM_FOREST_PARAMS)\n",
    "rf_results_2 = hyperparameter_tuning_cv(\n",
    "    model='random_forest', data=X_e_2, labels=y_e_2, cv_k=5, params=RANDOM_FOREST_PARAMS)\n",
    "rf_results_3 = hyperparameter_tuning_cv(\n",
    "    model='random_forest', data=X_e_3, labels=y_e_3, cv_k=5, params=RANDOM_FOREST_PARAMS)"
   ]
  },
  {
   "cell_type": "code",
   "execution_count": null,
   "metadata": {},
   "outputs": [],
   "source": [
    "best_rf_1 = rf_results_1.iloc[[\n",
    "    rf_results_1.reset_index()['roc_auc_score'].idxmax()]]\n",
    "best_rf_2 = rf_results_2.iloc[[\n",
    "    rf_results_2.reset_index()['roc_auc_score'].idxmax()]]\n",
    "best_rf_3 = rf_results_3.iloc[[\n",
    "    rf_results_3.reset_index()['roc_auc_score'].idxmax()]]\n",
    "\n",
    "display(best_rf_1, best_rf_2, best_rf_3)"
   ]
  },
  {
   "cell_type": "markdown",
   "metadata": {
    "pycharm": {
     "name": "#%% md\n"
    }
   },
   "source": [
    "#### 8. Gradient Boosting"
   ]
  },
  {
   "cell_type": "code",
   "execution_count": null,
   "metadata": {
    "pycharm": {
     "name": "#%%\n"
    },
    "scrolled": true
   },
   "outputs": [],
   "source": [
    "gb_results = hyperparameter_tuning_cv(model='gradient_boosting', data=X_coarse, labels=y_coarse.Label, cv_k=5,\n",
    "                                      params=GRADIENT_BOOSTING_PARAMS)\n",
    "\n",
    "display(gb_results)"
   ]
  },
  {
   "cell_type": "code",
   "execution_count": null,
   "metadata": {
    "pycharm": {
     "name": "#%%\n"
    }
   },
   "outputs": [],
   "source": [
    "# Best model parameters\n",
    "\n",
    "best_gb = gb_results.iloc[[gb_results.reset_index()['f1_score'].idxmax()]]\n",
    "\n",
    "display(best_gb)"
   ]
  },
  {
   "cell_type": "code",
   "execution_count": null,
   "metadata": {},
   "outputs": [],
   "source": [
    "gb_results_1 = hyperparameter_tuning_cv(\n",
    "    model='gradient_boosting', data=X_e_1, labels=y_e_1, cv_k=5, params=GRADIENT_BOOSTING_PARAMS)\n",
    "gb_results_2 = hyperparameter_tuning_cv(\n",
    "    model='gradient_boosting', data=X_e_2, labels=y_e_2, cv_k=5, params=GRADIENT_BOOSTING_PARAMS)\n",
    "gb_results_3 = hyperparameter_tuning_cv(\n",
    "    model='gradient_boosting', data=X_e_3, labels=y_e_3, cv_k=5, params=GRADIENT_BOOSTING_PARAMS)"
   ]
  },
  {
   "cell_type": "code",
   "execution_count": null,
   "metadata": {},
   "outputs": [],
   "source": [
    "best_gb_1 = gb_results_1.iloc[[\n",
    "    gb_results_1.reset_index()['roc_auc_score'].idxmax()]]\n",
    "best_gb_2 = gb_results_2.iloc[[\n",
    "    gb_results_2.reset_index()['roc_auc_score'].idxmax()]]\n",
    "best_gb_3 = gb_results_3.iloc[[\n",
    "    gb_results_3.reset_index()['roc_auc_score'].idxmax()]]\n",
    "display(best_gb_1, best_gb_2, best_gb_3)"
   ]
  },
  {
   "cell_type": "markdown",
   "metadata": {},
   "source": [
    "### Results"
   ]
  },
  {
   "cell_type": "code",
   "execution_count": null,
   "metadata": {
    "pycharm": {
     "name": "#%%\n"
    },
    "scrolled": true
   },
   "outputs": [],
   "source": [
    "# display('logistic', best_log)\n",
    "# display('lda', best_lda)\n",
    "# display('knn', best_knn)\n",
    "# display('svc', best_svc)\n",
    "# display('naive_bayes', best_nb)\n",
    "# display('decision_tree', best_dt)\n",
    "# display('random_forest', best_rf)\n",
    "# display('gradient_boosting', best_gb)"
   ]
  },
  {
   "cell_type": "code",
   "execution_count": null,
   "metadata": {},
   "outputs": [],
   "source": [
    "weighted_average = (np.array([len(X_e_1), len(X_e_2), len(X_e_3)]) / len(X_e))\n",
    "\n",
    "e_log = np.sum(pd.concat([best_log_1, best_log_2, best_log_3]\n",
    "                         ).roc_auc_score.values * weighted_average)\n",
    "e_lda = np.sum(pd.concat([best_lda_1, best_lda_2, best_lda_3]\n",
    "                         ).roc_auc_score.values * weighted_average)\n",
    "e_knn = np.sum(pd.concat([best_knn_1, best_knn_2, best_knn_3]\n",
    "                         ).roc_auc_score.values * weighted_average)\n",
    "e_svc = np.sum(pd.concat([best_svc_1, best_svc_2, best_svc_3]\n",
    "                         ).roc_auc_score.values * weighted_average)\n",
    "e_nb = np.sum(pd.concat([best_nb_1, best_nb_2, best_nb_3]\n",
    "                        ).roc_auc_score.values * weighted_average)\n",
    "e_dt = np.sum(pd.concat([best_dt_1, best_dt_2, best_dt_3]\n",
    "                        ).roc_auc_score.values * weighted_average)\n",
    "e_rf = np.sum(pd.concat([best_rf_1, best_rf_2, best_rf_3]\n",
    "                        ).roc_auc_score.values * weighted_average)\n",
    "e_gb = np.sum(pd.concat([best_gb_1, best_gb_2, best_gb_3]\n",
    "                        ).roc_auc_score.values * weighted_average)"
   ]
  },
  {
   "cell_type": "code",
   "execution_count": null,
   "metadata": {},
   "outputs": [],
   "source": [
    "# Results expert features\n",
    "# First row is Expert 1, second Expert 2, third Expert 3\n",
    "# display('logistic', pd.concat([best_log_1,best_log_2,best_log_3]))\n",
    "# display('lda', pd.concat([best_lda_1,best_lda_2,best_lda_3]))\n",
    "display('knn', pd.concat([best_knn_1, best_knn_2, best_knn_3]))\n",
    "# display('svc', pd.concat([best_svc_1,best_svc_2,best_svc_3]))\n",
    "# display('naive_bayes', pd.concat([best_nb_1,best_nb_2,best_nb_3]))\n",
    "# display('decision_tree', pd.concat([best_dt_1,best_dt_2,best_dt_3]))\n",
    "# display('random_forest', pd.concat([best_rf_1,best_rf_2,best_rf_3]))\n",
    "# display('gradient_boosting', pd.concat([best_gb_1,best_gb_2,best_gb_3]))"
   ]
  },
  {
   "cell_type": "code",
   "execution_count": null,
   "metadata": {},
   "outputs": [],
   "source": [
    "results = pd.DataFrame(data={'models': ['logistic', 'lda', 'knn', 'svc', 'naive_bayes', 'decision_tree',\n",
    "                                        'random_forest', 'gradient_boosting'],\n",
    "                             'auc_best': [best_log.roc_auc_score.values[0], best_lda.roc_auc_score.values[0],\n",
    "                                          best_knn.roc_auc_score.values[0], best_svc.roc_auc_score.values[0],\n",
    "                                          best_nb.roc_auc_score.values[0], best_dt.roc_auc_score.values[0],\n",
    "                                          best_rf.roc_auc_score.values[0], best_gb.roc_auc_score.values[0]],\n",
    "                             'auc_expert_weighted': [e_log, e_lda, e_knn, e_svc, e_nb, e_dt, e_rf, e_gb]})\n",
    "\n",
    "display(results)"
   ]
  },
  {
   "cell_type": "markdown",
   "metadata": {},
   "source": [
    "### Conclusions\n"
   ]
  },
  {
   "cell_type": "code",
   "execution_count": null,
   "metadata": {},
   "outputs": [],
   "source": [
    "# Save dataframe\n",
    "# results.to_pickle(\"results_coarse_metadata.pkl\")"
   ]
  },
  {
   "cell_type": "code",
   "execution_count": null,
   "metadata": {},
   "outputs": [],
   "source": [
    "results.mean(axis=0)"
   ]
  },
  {
   "cell_type": "code",
   "execution_count": null,
   "metadata": {},
   "outputs": [],
   "source": [
    "results.loc[results['auc_best'].argmax()]"
   ]
  },
  {
   "cell_type": "code",
   "execution_count": null,
   "metadata": {},
   "outputs": [],
   "source": [
    "results.loc[results['auc_expert_weighted'].argmax()]"
   ]
  },
  {
   "cell_type": "markdown",
   "metadata": {},
   "source": [
    "## ---------------------------------------"
   ]
  },
  {
   "cell_type": "code",
   "execution_count": null,
   "metadata": {
    "scrolled": true
   },
   "outputs": [],
   "source": [
    "results.mean(axis=0)"
   ]
  },
  {
   "cell_type": "code",
   "execution_count": null,
   "metadata": {
    "scrolled": true
   },
   "outputs": [],
   "source": [
    "results.loc[results['auc_best'].argmax()]"
   ]
  },
  {
   "cell_type": "code",
   "execution_count": null,
   "metadata": {},
   "outputs": [],
   "source": [
    "results.loc[results['auc_expert_weighted'].argmax()]"
   ]
  }
 ],
 "metadata": {
  "kernelspec": {
   "display_name": "PyCharm (cs-433-project-2-cough_classifier)",
   "language": "python",
   "name": "pycharm-97a0754f"
  },
  "language_info": {
   "codemirror_mode": {
    "name": "ipython",
    "version": 3
   },
   "file_extension": ".py",
   "mimetype": "text/x-python",
   "name": "python",
   "nbconvert_exporter": "python",
   "pygments_lexer": "ipython3",
   "version": "3.8.6"
  }
 },
 "nbformat": 4,
 "nbformat_minor": 4
}
