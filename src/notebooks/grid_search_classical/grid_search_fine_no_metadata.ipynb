{
 "cells": [
  {
   "cell_type": "markdown",
   "metadata": {},
   "source": [
    "### Import libraries"
   ]
  },
  {
   "cell_type": "code",
   "execution_count": 1,
   "metadata": {
    "scrolled": true
   },
   "outputs": [],
   "source": [
    "from IPython.core.display import display\n",
    "from src.utils.preprocessing import classic_preprocessing\n",
    "from src.utils.get_data import import_data, split_experts\n",
    "from src.utils.train import hyperparameter_tuning_cv\n",
    "from src.utils.config import *\n",
    "import pandas as pd\n",
    "import numpy as np"
   ]
  },
  {
   "cell_type": "code",
   "execution_count": 2,
   "metadata": {
    "pycharm": {
     "name": "#%%\n"
    }
   },
   "outputs": [],
   "source": [
    "%load_ext autoreload\n",
    "%autoreload 2"
   ]
  },
  {
   "cell_type": "markdown",
   "metadata": {},
   "source": [
    "### Load Data"
   ]
  },
  {
   "cell_type": "code",
   "execution_count": 3,
   "metadata": {},
   "outputs": [],
   "source": [
    "DATA_PATH = '../../../data'\n",
    "X_fine, y_fine = import_data(DATA_PATH, segmentation_type='fine',\n",
    "                             drop_user_features=True,\n",
    "                             drop_expert=True)"
   ]
  },
  {
   "cell_type": "code",
   "execution_count": 4,
   "metadata": {},
   "outputs": [],
   "source": [
    "# For each expert separately\n",
    "X_e, y_e = import_data(DATA_PATH, segmentation_type='fine',\n",
    "                       drop_user_features=True,\n",
    "                       drop_expert=False)"
   ]
  },
  {
   "cell_type": "code",
   "execution_count": 5,
   "metadata": {
    "pycharm": {
     "name": "#%%\n"
    }
   },
   "outputs": [
    {
     "data": {
      "text/plain": "                                              EEPD50_100  EEPD100_150  \\\nsubject                              file_id                            \n008ba489-31ad-44d8-856b-fcf72369dc46 0               6.0          6.0   \n                                     1               3.0          3.0   \n                                     2               4.0          4.0   \n                                     3               4.0          4.0   \n                                     4               4.0          4.0   \n\n                                              EEPD150_200  EEPD200_250  \\\nsubject                              file_id                             \n008ba489-31ad-44d8-856b-fcf72369dc46 0                5.0          4.0   \n                                     1                3.0          4.0   \n                                     2                3.0          4.0   \n                                     3                4.0          4.0   \n                                     4                5.0          4.0   \n\n                                              EEPD250_300  EEPD300_350  \\\nsubject                              file_id                             \n008ba489-31ad-44d8-856b-fcf72369dc46 0                5.0          5.0   \n                                     1                4.0          5.0   \n                                     2                3.0          3.0   \n                                     3                4.0          5.0   \n                                     4                4.0          5.0   \n\n                                              EEPD350_400  EEPD400_450  \\\nsubject                              file_id                             \n008ba489-31ad-44d8-856b-fcf72369dc46 0                6.0          6.0   \n                                     1                4.0          4.0   \n                                     2                4.0          4.0   \n                                     3                3.0          4.0   \n                                     4                3.0          4.0   \n\n                                              EEPD450_500  EEPD500_550  ...  \\\nsubject                              file_id                            ...   \n008ba489-31ad-44d8-856b-fcf72369dc46 0                5.0          6.0  ...   \n                                     1                4.0          3.0  ...   \n                                     2                4.0          4.0  ...   \n                                     3                4.0          3.0  ...   \n                                     4                4.0          3.0  ...   \n\n                                              MFCC_std11  MFCC_std12  \\\nsubject                              file_id                           \n008ba489-31ad-44d8-856b-fcf72369dc46 0         12.109140   11.702864   \n                                     1         10.000873    8.967152   \n                                     2          8.318832    8.688411   \n                                     3         13.294838    8.694027   \n                                     4         12.814457    8.501382   \n\n                                              Crest_Factor  Cough_Length  \\\nsubject                              file_id                               \n008ba489-31ad-44d8-856b-fcf72369dc46 0            7.649371      0.767250   \n                                     1            8.001334      0.568917   \n                                     2           11.189755      0.581667   \n                                     3            7.840153      0.540250   \n                                     4            7.869070      0.546333   \n\n                                              PSD_225-425  PSD_450-550  \\\nsubject                              file_id                             \n008ba489-31ad-44d8-856b-fcf72369dc46 0           0.398299     0.026407   \n                                     1           0.230052     0.086242   \n                                     2           0.105747     0.180344   \n                                     3           0.235517     0.121967   \n                                     4           0.230394     0.119689   \n\n                                              PSD_1325-1600  PSD_1600-1900  \\\nsubject                              file_id                                 \n008ba489-31ad-44d8-856b-fcf72369dc46 0             0.013356       0.033366   \n                                     1             0.023806       0.008824   \n                                     2             0.034701       0.006258   \n                                     3             0.061882       0.002742   \n                                     4             0.069418       0.002717   \n\n                                              PSD_2500-2900  PSD_3100-3700  \nsubject                              file_id                                \n008ba489-31ad-44d8-856b-fcf72369dc46 0             0.043195       0.010385  \n                                     1             0.056102       0.011429  \n                                     2             0.038410       0.005515  \n                                     3             0.030492       0.001584  \n                                     4             0.033935       0.001643  \n\n[5 rows x 66 columns]",
      "text/html": "<div>\n<style scoped>\n    .dataframe tbody tr th:only-of-type {\n        vertical-align: middle;\n    }\n\n    .dataframe tbody tr th {\n        vertical-align: top;\n    }\n\n    .dataframe thead th {\n        text-align: right;\n    }\n</style>\n<table border=\"1\" class=\"dataframe\">\n  <thead>\n    <tr style=\"text-align: right;\">\n      <th></th>\n      <th></th>\n      <th>EEPD50_100</th>\n      <th>EEPD100_150</th>\n      <th>EEPD150_200</th>\n      <th>EEPD200_250</th>\n      <th>EEPD250_300</th>\n      <th>EEPD300_350</th>\n      <th>EEPD350_400</th>\n      <th>EEPD400_450</th>\n      <th>EEPD450_500</th>\n      <th>EEPD500_550</th>\n      <th>...</th>\n      <th>MFCC_std11</th>\n      <th>MFCC_std12</th>\n      <th>Crest_Factor</th>\n      <th>Cough_Length</th>\n      <th>PSD_225-425</th>\n      <th>PSD_450-550</th>\n      <th>PSD_1325-1600</th>\n      <th>PSD_1600-1900</th>\n      <th>PSD_2500-2900</th>\n      <th>PSD_3100-3700</th>\n    </tr>\n    <tr>\n      <th>subject</th>\n      <th>file_id</th>\n      <th></th>\n      <th></th>\n      <th></th>\n      <th></th>\n      <th></th>\n      <th></th>\n      <th></th>\n      <th></th>\n      <th></th>\n      <th></th>\n      <th></th>\n      <th></th>\n      <th></th>\n      <th></th>\n      <th></th>\n      <th></th>\n      <th></th>\n      <th></th>\n      <th></th>\n      <th></th>\n      <th></th>\n    </tr>\n  </thead>\n  <tbody>\n    <tr>\n      <th rowspan=\"5\" valign=\"top\">008ba489-31ad-44d8-856b-fcf72369dc46</th>\n      <th>0</th>\n      <td>6.0</td>\n      <td>6.0</td>\n      <td>5.0</td>\n      <td>4.0</td>\n      <td>5.0</td>\n      <td>5.0</td>\n      <td>6.0</td>\n      <td>6.0</td>\n      <td>5.0</td>\n      <td>6.0</td>\n      <td>...</td>\n      <td>12.109140</td>\n      <td>11.702864</td>\n      <td>7.649371</td>\n      <td>0.767250</td>\n      <td>0.398299</td>\n      <td>0.026407</td>\n      <td>0.013356</td>\n      <td>0.033366</td>\n      <td>0.043195</td>\n      <td>0.010385</td>\n    </tr>\n    <tr>\n      <th>1</th>\n      <td>3.0</td>\n      <td>3.0</td>\n      <td>3.0</td>\n      <td>4.0</td>\n      <td>4.0</td>\n      <td>5.0</td>\n      <td>4.0</td>\n      <td>4.0</td>\n      <td>4.0</td>\n      <td>3.0</td>\n      <td>...</td>\n      <td>10.000873</td>\n      <td>8.967152</td>\n      <td>8.001334</td>\n      <td>0.568917</td>\n      <td>0.230052</td>\n      <td>0.086242</td>\n      <td>0.023806</td>\n      <td>0.008824</td>\n      <td>0.056102</td>\n      <td>0.011429</td>\n    </tr>\n    <tr>\n      <th>2</th>\n      <td>4.0</td>\n      <td>4.0</td>\n      <td>3.0</td>\n      <td>4.0</td>\n      <td>3.0</td>\n      <td>3.0</td>\n      <td>4.0</td>\n      <td>4.0</td>\n      <td>4.0</td>\n      <td>4.0</td>\n      <td>...</td>\n      <td>8.318832</td>\n      <td>8.688411</td>\n      <td>11.189755</td>\n      <td>0.581667</td>\n      <td>0.105747</td>\n      <td>0.180344</td>\n      <td>0.034701</td>\n      <td>0.006258</td>\n      <td>0.038410</td>\n      <td>0.005515</td>\n    </tr>\n    <tr>\n      <th>3</th>\n      <td>4.0</td>\n      <td>4.0</td>\n      <td>4.0</td>\n      <td>4.0</td>\n      <td>4.0</td>\n      <td>5.0</td>\n      <td>3.0</td>\n      <td>4.0</td>\n      <td>4.0</td>\n      <td>3.0</td>\n      <td>...</td>\n      <td>13.294838</td>\n      <td>8.694027</td>\n      <td>7.840153</td>\n      <td>0.540250</td>\n      <td>0.235517</td>\n      <td>0.121967</td>\n      <td>0.061882</td>\n      <td>0.002742</td>\n      <td>0.030492</td>\n      <td>0.001584</td>\n    </tr>\n    <tr>\n      <th>4</th>\n      <td>4.0</td>\n      <td>4.0</td>\n      <td>5.0</td>\n      <td>4.0</td>\n      <td>4.0</td>\n      <td>5.0</td>\n      <td>3.0</td>\n      <td>4.0</td>\n      <td>4.0</td>\n      <td>3.0</td>\n      <td>...</td>\n      <td>12.814457</td>\n      <td>8.501382</td>\n      <td>7.869070</td>\n      <td>0.546333</td>\n      <td>0.230394</td>\n      <td>0.119689</td>\n      <td>0.069418</td>\n      <td>0.002717</td>\n      <td>0.033935</td>\n      <td>0.001643</td>\n    </tr>\n  </tbody>\n</table>\n<p>5 rows × 66 columns</p>\n</div>"
     },
     "metadata": {},
     "output_type": "display_data"
    },
    {
     "data": {
      "text/plain": "                                              Label\nsubject                              file_id       \n008ba489-31ad-44d8-856b-fcf72369dc46 0          1.0\n                                     1          1.0\n                                     2          1.0\n                                     3          1.0\n                                     4          1.0",
      "text/html": "<div>\n<style scoped>\n    .dataframe tbody tr th:only-of-type {\n        vertical-align: middle;\n    }\n\n    .dataframe tbody tr th {\n        vertical-align: top;\n    }\n\n    .dataframe thead th {\n        text-align: right;\n    }\n</style>\n<table border=\"1\" class=\"dataframe\">\n  <thead>\n    <tr style=\"text-align: right;\">\n      <th></th>\n      <th></th>\n      <th>Label</th>\n    </tr>\n    <tr>\n      <th>subject</th>\n      <th>file_id</th>\n      <th></th>\n    </tr>\n  </thead>\n  <tbody>\n    <tr>\n      <th rowspan=\"5\" valign=\"top\">008ba489-31ad-44d8-856b-fcf72369dc46</th>\n      <th>0</th>\n      <td>1.0</td>\n    </tr>\n    <tr>\n      <th>1</th>\n      <td>1.0</td>\n    </tr>\n    <tr>\n      <th>2</th>\n      <td>1.0</td>\n    </tr>\n    <tr>\n      <th>3</th>\n      <td>1.0</td>\n    </tr>\n    <tr>\n      <th>4</th>\n      <td>1.0</td>\n    </tr>\n  </tbody>\n</table>\n</div>"
     },
     "metadata": {},
     "output_type": "display_data"
    }
   ],
   "source": [
    "display(X_fine.head())\n",
    "display(y_fine.head())"
   ]
  },
  {
   "cell_type": "markdown",
   "metadata": {},
   "source": [
    "### Preprocessing"
   ]
  },
  {
   "cell_type": "code",
   "execution_count": 6,
   "metadata": {},
   "outputs": [],
   "source": [
    "X_fine = classic_preprocessing(X_fine, stop=None, dummy=False)"
   ]
  },
  {
   "cell_type": "code",
   "execution_count": 7,
   "metadata": {},
   "outputs": [],
   "source": [
    "# Save the expert feature for split\n",
    "expert = X_e['Expert'].copy()\n",
    "X_e = classic_preprocessing(X_e, stop=None, dummy=False)\n",
    "X_e['Expert'] = expert.values"
   ]
  },
  {
   "cell_type": "markdown",
   "metadata": {},
   "source": [
    "### Split expert models"
   ]
  },
  {
   "cell_type": "code",
   "execution_count": 8,
   "metadata": {},
   "outputs": [],
   "source": [
    "X_e_1, y_e_1, X_e_2, y_e_2, X_e_3, y_e_3 = split_experts(X_e, y_e)"
   ]
  },
  {
   "cell_type": "markdown",
   "metadata": {},
   "source": [
    "### Grid search"
   ]
  },
  {
   "cell_type": "markdown",
   "metadata": {
    "pycharm": {
     "name": "#%% md\n"
    }
   },
   "source": [
    "#### 1. Logistic regression"
   ]
  },
  {
   "cell_type": "code",
   "execution_count": 9,
   "metadata": {
    "pycharm": {
     "name": "#%%\n"
    },
    "scrolled": true
   },
   "outputs": [
    {
     "data": {
      "text/plain": "                       f1_score  roc_auc_score  accuracy_score\nmax_iter oversampling                                         \n10000    True          0.424358       0.579228        0.583072\n         False         0.116406       0.522802        0.733619\n100000   True          0.424358       0.579228        0.583072\n         False         0.116406       0.522802        0.733619",
      "text/html": "<div>\n<style scoped>\n    .dataframe tbody tr th:only-of-type {\n        vertical-align: middle;\n    }\n\n    .dataframe tbody tr th {\n        vertical-align: top;\n    }\n\n    .dataframe thead th {\n        text-align: right;\n    }\n</style>\n<table border=\"1\" class=\"dataframe\">\n  <thead>\n    <tr style=\"text-align: right;\">\n      <th></th>\n      <th></th>\n      <th>f1_score</th>\n      <th>roc_auc_score</th>\n      <th>accuracy_score</th>\n    </tr>\n    <tr>\n      <th>max_iter</th>\n      <th>oversampling</th>\n      <th></th>\n      <th></th>\n      <th></th>\n    </tr>\n  </thead>\n  <tbody>\n    <tr>\n      <th rowspan=\"2\" valign=\"top\">10000</th>\n      <th>True</th>\n      <td>0.424358</td>\n      <td>0.579228</td>\n      <td>0.583072</td>\n    </tr>\n    <tr>\n      <th>False</th>\n      <td>0.116406</td>\n      <td>0.522802</td>\n      <td>0.733619</td>\n    </tr>\n    <tr>\n      <th rowspan=\"2\" valign=\"top\">100000</th>\n      <th>True</th>\n      <td>0.424358</td>\n      <td>0.579228</td>\n      <td>0.583072</td>\n    </tr>\n    <tr>\n      <th>False</th>\n      <td>0.116406</td>\n      <td>0.522802</td>\n      <td>0.733619</td>\n    </tr>\n  </tbody>\n</table>\n</div>"
     },
     "metadata": {},
     "output_type": "display_data"
    }
   ],
   "source": [
    "log_results = hyperparameter_tuning_cv(model='logistic', data=X_fine, labels=y_fine.Label, cv_k=5,\n",
    "                                       params=LOGISTIC_PARAMS)\n",
    "\n",
    "display(log_results)"
   ]
  },
  {
   "cell_type": "code",
   "execution_count": 10,
   "metadata": {
    "pycharm": {
     "name": "#%%\n"
    }
   },
   "outputs": [
    {
     "data": {
      "text/plain": "                       f1_score  roc_auc_score  accuracy_score\nmax_iter oversampling                                         \n10000    True          0.424358       0.579228        0.583072",
      "text/html": "<div>\n<style scoped>\n    .dataframe tbody tr th:only-of-type {\n        vertical-align: middle;\n    }\n\n    .dataframe tbody tr th {\n        vertical-align: top;\n    }\n\n    .dataframe thead th {\n        text-align: right;\n    }\n</style>\n<table border=\"1\" class=\"dataframe\">\n  <thead>\n    <tr style=\"text-align: right;\">\n      <th></th>\n      <th></th>\n      <th>f1_score</th>\n      <th>roc_auc_score</th>\n      <th>accuracy_score</th>\n    </tr>\n    <tr>\n      <th>max_iter</th>\n      <th>oversampling</th>\n      <th></th>\n      <th></th>\n      <th></th>\n    </tr>\n  </thead>\n  <tbody>\n    <tr>\n      <th>10000</th>\n      <th>True</th>\n      <td>0.424358</td>\n      <td>0.579228</td>\n      <td>0.583072</td>\n    </tr>\n  </tbody>\n</table>\n</div>"
     },
     "metadata": {},
     "output_type": "display_data"
    }
   ],
   "source": [
    "# Best model parameters\n",
    "\n",
    "best_log = log_results.iloc[[log_results.reset_index()['roc_auc_score'].idxmax()]]\n",
    "\n",
    "display(best_log)"
   ]
  },
  {
   "cell_type": "code",
   "execution_count": 11,
   "metadata": {},
   "outputs": [],
   "source": [
    "# for each expert\n",
    "log_results_1 = hyperparameter_tuning_cv(model='logistic', data=X_e_1, labels=y_e_1, cv_k=5,\n",
    "                                         params=LOGISTIC_PARAMS)\n",
    "log_results_2 = hyperparameter_tuning_cv(model='logistic', data=X_e_2, labels=y_e_2, cv_k=5,\n",
    "                                         params=LOGISTIC_PARAMS)\n",
    "log_results_3 = hyperparameter_tuning_cv(model='logistic', data=X_e_3, labels=y_e_3, cv_k=5,\n",
    "                                         params=LOGISTIC_PARAMS)"
   ]
  },
  {
   "cell_type": "code",
   "execution_count": 12,
   "metadata": {},
   "outputs": [
    {
     "data": {
      "text/plain": "                       f1_score  roc_auc_score  accuracy_score\nmax_iter oversampling                                         \n10000    True          0.365471       0.655199         0.69919",
      "text/html": "<div>\n<style scoped>\n    .dataframe tbody tr th:only-of-type {\n        vertical-align: middle;\n    }\n\n    .dataframe tbody tr th {\n        vertical-align: top;\n    }\n\n    .dataframe thead th {\n        text-align: right;\n    }\n</style>\n<table border=\"1\" class=\"dataframe\">\n  <thead>\n    <tr style=\"text-align: right;\">\n      <th></th>\n      <th></th>\n      <th>f1_score</th>\n      <th>roc_auc_score</th>\n      <th>accuracy_score</th>\n    </tr>\n    <tr>\n      <th>max_iter</th>\n      <th>oversampling</th>\n      <th></th>\n      <th></th>\n      <th></th>\n    </tr>\n  </thead>\n  <tbody>\n    <tr>\n      <th>10000</th>\n      <th>True</th>\n      <td>0.365471</td>\n      <td>0.655199</td>\n      <td>0.69919</td>\n    </tr>\n  </tbody>\n</table>\n</div>"
     },
     "metadata": {},
     "output_type": "display_data"
    },
    {
     "data": {
      "text/plain": "                       f1_score  roc_auc_score  accuracy_score\nmax_iter oversampling                                         \n10000    True          0.326309       0.571407        0.614173",
      "text/html": "<div>\n<style scoped>\n    .dataframe tbody tr th:only-of-type {\n        vertical-align: middle;\n    }\n\n    .dataframe tbody tr th {\n        vertical-align: top;\n    }\n\n    .dataframe thead th {\n        text-align: right;\n    }\n</style>\n<table border=\"1\" class=\"dataframe\">\n  <thead>\n    <tr style=\"text-align: right;\">\n      <th></th>\n      <th></th>\n      <th>f1_score</th>\n      <th>roc_auc_score</th>\n      <th>accuracy_score</th>\n    </tr>\n    <tr>\n      <th>max_iter</th>\n      <th>oversampling</th>\n      <th></th>\n      <th></th>\n      <th></th>\n    </tr>\n  </thead>\n  <tbody>\n    <tr>\n      <th>10000</th>\n      <th>True</th>\n      <td>0.326309</td>\n      <td>0.571407</td>\n      <td>0.614173</td>\n    </tr>\n  </tbody>\n</table>\n</div>"
     },
     "metadata": {},
     "output_type": "display_data"
    },
    {
     "data": {
      "text/plain": "                       f1_score  roc_auc_score  accuracy_score\nmax_iter oversampling                                         \n10000    False         0.611063       0.644425        0.647724",
      "text/html": "<div>\n<style scoped>\n    .dataframe tbody tr th:only-of-type {\n        vertical-align: middle;\n    }\n\n    .dataframe tbody tr th {\n        vertical-align: top;\n    }\n\n    .dataframe thead th {\n        text-align: right;\n    }\n</style>\n<table border=\"1\" class=\"dataframe\">\n  <thead>\n    <tr style=\"text-align: right;\">\n      <th></th>\n      <th></th>\n      <th>f1_score</th>\n      <th>roc_auc_score</th>\n      <th>accuracy_score</th>\n    </tr>\n    <tr>\n      <th>max_iter</th>\n      <th>oversampling</th>\n      <th></th>\n      <th></th>\n      <th></th>\n    </tr>\n  </thead>\n  <tbody>\n    <tr>\n      <th>10000</th>\n      <th>False</th>\n      <td>0.611063</td>\n      <td>0.644425</td>\n      <td>0.647724</td>\n    </tr>\n  </tbody>\n</table>\n</div>"
     },
     "metadata": {},
     "output_type": "display_data"
    }
   ],
   "source": [
    "# Best model parameters\n",
    "\n",
    "best_log_1 = log_results_1.iloc[[\n",
    "    log_results_1.reset_index()['roc_auc_score'].idxmax()]]\n",
    "best_log_2 = log_results_2.iloc[[\n",
    "    log_results_2.reset_index()['roc_auc_score'].idxmax()]]\n",
    "best_log_3 = log_results_3.iloc[[\n",
    "    log_results_3.reset_index()['roc_auc_score'].idxmax()]]\n",
    "\n",
    "display(best_log_1, best_log_2, best_log_3)"
   ]
  },
  {
   "cell_type": "markdown",
   "metadata": {
    "pycharm": {
     "name": "#%% md\n"
    }
   },
   "source": [
    "#### 2. Linear Discriminant Analysis"
   ]
  },
  {
   "cell_type": "code",
   "execution_count": 13,
   "metadata": {
    "pycharm": {
     "name": "#%%\n"
    }
   },
   "outputs": [
    {
     "data": {
      "text/plain": "              f1_score  roc_auc_score  accuracy_score\noversampling                                         \nTrue          0.427548       0.581468        0.582882\nFalse         0.122605       0.524261        0.733904",
      "text/html": "<div>\n<style scoped>\n    .dataframe tbody tr th:only-of-type {\n        vertical-align: middle;\n    }\n\n    .dataframe tbody tr th {\n        vertical-align: top;\n    }\n\n    .dataframe thead th {\n        text-align: right;\n    }\n</style>\n<table border=\"1\" class=\"dataframe\">\n  <thead>\n    <tr style=\"text-align: right;\">\n      <th></th>\n      <th>f1_score</th>\n      <th>roc_auc_score</th>\n      <th>accuracy_score</th>\n    </tr>\n    <tr>\n      <th>oversampling</th>\n      <th></th>\n      <th></th>\n      <th></th>\n    </tr>\n  </thead>\n  <tbody>\n    <tr>\n      <th>True</th>\n      <td>0.427548</td>\n      <td>0.581468</td>\n      <td>0.582882</td>\n    </tr>\n    <tr>\n      <th>False</th>\n      <td>0.122605</td>\n      <td>0.524261</td>\n      <td>0.733904</td>\n    </tr>\n  </tbody>\n</table>\n</div>"
     },
     "metadata": {},
     "output_type": "display_data"
    }
   ],
   "source": [
    "lda_results = hyperparameter_tuning_cv(model='lda', data=X_fine, labels=y_fine.Label, cv_k=5,\n",
    "                                       params=LDA_PARAMS)\n",
    "\n",
    "display(lda_results)"
   ]
  },
  {
   "cell_type": "code",
   "execution_count": 14,
   "metadata": {
    "pycharm": {
     "name": "#%%\n"
    },
    "scrolled": true
   },
   "outputs": [
    {
     "data": {
      "text/plain": "              f1_score  roc_auc_score  accuracy_score\noversampling                                         \nTrue          0.427548       0.581468        0.582882",
      "text/html": "<div>\n<style scoped>\n    .dataframe tbody tr th:only-of-type {\n        vertical-align: middle;\n    }\n\n    .dataframe tbody tr th {\n        vertical-align: top;\n    }\n\n    .dataframe thead th {\n        text-align: right;\n    }\n</style>\n<table border=\"1\" class=\"dataframe\">\n  <thead>\n    <tr style=\"text-align: right;\">\n      <th></th>\n      <th>f1_score</th>\n      <th>roc_auc_score</th>\n      <th>accuracy_score</th>\n    </tr>\n    <tr>\n      <th>oversampling</th>\n      <th></th>\n      <th></th>\n      <th></th>\n    </tr>\n  </thead>\n  <tbody>\n    <tr>\n      <th>True</th>\n      <td>0.427548</td>\n      <td>0.581468</td>\n      <td>0.582882</td>\n    </tr>\n  </tbody>\n</table>\n</div>"
     },
     "metadata": {},
     "output_type": "display_data"
    }
   ],
   "source": [
    "# Best model parameters\n",
    "\n",
    "best_lda = lda_results.iloc[[lda_results.reset_index()['roc_auc_score'].idxmax()]]\n",
    "\n",
    "display(best_lda)"
   ]
  },
  {
   "cell_type": "code",
   "execution_count": 15,
   "metadata": {},
   "outputs": [],
   "source": [
    "# For each expert\n",
    "lda_results_1 = hyperparameter_tuning_cv(model='lda', data=X_e_1, labels=y_e_1, cv_k=5,\n",
    "                                         params=LDA_PARAMS)\n",
    "lda_results_2 = hyperparameter_tuning_cv(model='lda', data=X_e_2, labels=y_e_2, cv_k=5,\n",
    "                                         params=LDA_PARAMS)\n",
    "lda_results_3 = hyperparameter_tuning_cv(model='lda', data=X_e_3, labels=y_e_3, cv_k=5,\n",
    "                                         params=LDA_PARAMS)"
   ]
  },
  {
   "cell_type": "code",
   "execution_count": 16,
   "metadata": {},
   "outputs": [
    {
     "data": {
      "text/plain": "              f1_score  roc_auc_score  accuracy_score\noversampling                                         \nTrue           0.37692       0.669532        0.692707",
      "text/html": "<div>\n<style scoped>\n    .dataframe tbody tr th:only-of-type {\n        vertical-align: middle;\n    }\n\n    .dataframe tbody tr th {\n        vertical-align: top;\n    }\n\n    .dataframe thead th {\n        text-align: right;\n    }\n</style>\n<table border=\"1\" class=\"dataframe\">\n  <thead>\n    <tr style=\"text-align: right;\">\n      <th></th>\n      <th>f1_score</th>\n      <th>roc_auc_score</th>\n      <th>accuracy_score</th>\n    </tr>\n    <tr>\n      <th>oversampling</th>\n      <th></th>\n      <th></th>\n      <th></th>\n    </tr>\n  </thead>\n  <tbody>\n    <tr>\n      <th>True</th>\n      <td>0.37692</td>\n      <td>0.669532</td>\n      <td>0.692707</td>\n    </tr>\n  </tbody>\n</table>\n</div>"
     },
     "metadata": {},
     "output_type": "display_data"
    },
    {
     "data": {
      "text/plain": "              f1_score  roc_auc_score  accuracy_score\noversampling                                         \nTrue          0.326972       0.571416        0.607874",
      "text/html": "<div>\n<style scoped>\n    .dataframe tbody tr th:only-of-type {\n        vertical-align: middle;\n    }\n\n    .dataframe tbody tr th {\n        vertical-align: top;\n    }\n\n    .dataframe thead th {\n        text-align: right;\n    }\n</style>\n<table border=\"1\" class=\"dataframe\">\n  <thead>\n    <tr style=\"text-align: right;\">\n      <th></th>\n      <th>f1_score</th>\n      <th>roc_auc_score</th>\n      <th>accuracy_score</th>\n    </tr>\n    <tr>\n      <th>oversampling</th>\n      <th></th>\n      <th></th>\n      <th></th>\n    </tr>\n  </thead>\n  <tbody>\n    <tr>\n      <th>True</th>\n      <td>0.326972</td>\n      <td>0.571416</td>\n      <td>0.607874</td>\n    </tr>\n  </tbody>\n</table>\n</div>"
     },
     "metadata": {},
     "output_type": "display_data"
    },
    {
     "data": {
      "text/plain": "              f1_score  roc_auc_score  accuracy_score\noversampling                                         \nFalse         0.610512       0.645963        0.649655",
      "text/html": "<div>\n<style scoped>\n    .dataframe tbody tr th:only-of-type {\n        vertical-align: middle;\n    }\n\n    .dataframe tbody tr th {\n        vertical-align: top;\n    }\n\n    .dataframe thead th {\n        text-align: right;\n    }\n</style>\n<table border=\"1\" class=\"dataframe\">\n  <thead>\n    <tr style=\"text-align: right;\">\n      <th></th>\n      <th>f1_score</th>\n      <th>roc_auc_score</th>\n      <th>accuracy_score</th>\n    </tr>\n    <tr>\n      <th>oversampling</th>\n      <th></th>\n      <th></th>\n      <th></th>\n    </tr>\n  </thead>\n  <tbody>\n    <tr>\n      <th>False</th>\n      <td>0.610512</td>\n      <td>0.645963</td>\n      <td>0.649655</td>\n    </tr>\n  </tbody>\n</table>\n</div>"
     },
     "metadata": {},
     "output_type": "display_data"
    }
   ],
   "source": [
    "best_lda_1 = lda_results_1.iloc[[\n",
    "    lda_results_1.reset_index()['roc_auc_score'].idxmax()]]\n",
    "best_lda_2 = lda_results_2.iloc[[\n",
    "    lda_results_2.reset_index()['roc_auc_score'].idxmax()]]\n",
    "best_lda_3 = lda_results_3.iloc[[\n",
    "    lda_results_3.reset_index()['roc_auc_score'].idxmax()]]\n",
    "\n",
    "display(best_lda_1, best_lda_2, best_lda_3)"
   ]
  },
  {
   "cell_type": "markdown",
   "metadata": {
    "pycharm": {
     "name": "#%% md\n"
    }
   },
   "source": [
    "#### 3. K-nearest Neighbors"
   ]
  },
  {
   "cell_type": "code",
   "execution_count": 17,
   "metadata": {
    "pycharm": {
     "name": "#%%\n"
    }
   },
   "outputs": [
    {
     "data": {
      "text/plain": "                          f1_score  roc_auc_score  accuracy_score\nn_neighbors oversampling                                         \n1           True          0.499423       0.646364        0.621113\n            False         0.468613       0.637330        0.719734\n2           True          0.492222       0.645516        0.668379\n            False         0.276739       0.566098        0.742748\n3           True          0.489337       0.629823        0.557775\n            False         0.405214       0.606831        0.728293\n4           True          0.485425       0.630811        0.594864\n            False         0.267270       0.562644        0.741227\n5           True          0.479726       0.614988        0.519829\n            False         0.355189       0.588455        0.734665\n6           True          0.479520       0.619738        0.553971\n            False         0.240226       0.555529        0.741797\n7           True          0.468249       0.598287        0.490062\n            False         0.304540       0.570866        0.734475\n8           True          0.471853       0.607622        0.524013\n            False         0.208849       0.546089        0.738849\n9           True          0.461607       0.587486        0.468759\n            False         0.264146       0.559017        0.735521\n10          True          0.466193       0.598067        0.501094\n            False         0.189225       0.541795        0.739515\n11          True          0.457860       0.580934        0.455445\n            False         0.240340       0.553373        0.737233\n12          True          0.460167       0.588289        0.481598\n            False         0.173324       0.537501        0.738374\n13          True          0.452522       0.572274        0.440323\n            False         0.217504       0.547510        0.737423\n14          True          0.455422       0.580389        0.465716\n            False         0.160209       0.535268        0.739515\n15          True          0.449291       0.566752        0.430433\n            False         0.196911       0.542955        0.738374",
      "text/html": "<div>\n<style scoped>\n    .dataframe tbody tr th:only-of-type {\n        vertical-align: middle;\n    }\n\n    .dataframe tbody tr th {\n        vertical-align: top;\n    }\n\n    .dataframe thead th {\n        text-align: right;\n    }\n</style>\n<table border=\"1\" class=\"dataframe\">\n  <thead>\n    <tr style=\"text-align: right;\">\n      <th></th>\n      <th></th>\n      <th>f1_score</th>\n      <th>roc_auc_score</th>\n      <th>accuracy_score</th>\n    </tr>\n    <tr>\n      <th>n_neighbors</th>\n      <th>oversampling</th>\n      <th></th>\n      <th></th>\n      <th></th>\n    </tr>\n  </thead>\n  <tbody>\n    <tr>\n      <th rowspan=\"2\" valign=\"top\">1</th>\n      <th>True</th>\n      <td>0.499423</td>\n      <td>0.646364</td>\n      <td>0.621113</td>\n    </tr>\n    <tr>\n      <th>False</th>\n      <td>0.468613</td>\n      <td>0.637330</td>\n      <td>0.719734</td>\n    </tr>\n    <tr>\n      <th rowspan=\"2\" valign=\"top\">2</th>\n      <th>True</th>\n      <td>0.492222</td>\n      <td>0.645516</td>\n      <td>0.668379</td>\n    </tr>\n    <tr>\n      <th>False</th>\n      <td>0.276739</td>\n      <td>0.566098</td>\n      <td>0.742748</td>\n    </tr>\n    <tr>\n      <th rowspan=\"2\" valign=\"top\">3</th>\n      <th>True</th>\n      <td>0.489337</td>\n      <td>0.629823</td>\n      <td>0.557775</td>\n    </tr>\n    <tr>\n      <th>False</th>\n      <td>0.405214</td>\n      <td>0.606831</td>\n      <td>0.728293</td>\n    </tr>\n    <tr>\n      <th rowspan=\"2\" valign=\"top\">4</th>\n      <th>True</th>\n      <td>0.485425</td>\n      <td>0.630811</td>\n      <td>0.594864</td>\n    </tr>\n    <tr>\n      <th>False</th>\n      <td>0.267270</td>\n      <td>0.562644</td>\n      <td>0.741227</td>\n    </tr>\n    <tr>\n      <th rowspan=\"2\" valign=\"top\">5</th>\n      <th>True</th>\n      <td>0.479726</td>\n      <td>0.614988</td>\n      <td>0.519829</td>\n    </tr>\n    <tr>\n      <th>False</th>\n      <td>0.355189</td>\n      <td>0.588455</td>\n      <td>0.734665</td>\n    </tr>\n    <tr>\n      <th rowspan=\"2\" valign=\"top\">6</th>\n      <th>True</th>\n      <td>0.479520</td>\n      <td>0.619738</td>\n      <td>0.553971</td>\n    </tr>\n    <tr>\n      <th>False</th>\n      <td>0.240226</td>\n      <td>0.555529</td>\n      <td>0.741797</td>\n    </tr>\n    <tr>\n      <th rowspan=\"2\" valign=\"top\">7</th>\n      <th>True</th>\n      <td>0.468249</td>\n      <td>0.598287</td>\n      <td>0.490062</td>\n    </tr>\n    <tr>\n      <th>False</th>\n      <td>0.304540</td>\n      <td>0.570866</td>\n      <td>0.734475</td>\n    </tr>\n    <tr>\n      <th rowspan=\"2\" valign=\"top\">8</th>\n      <th>True</th>\n      <td>0.471853</td>\n      <td>0.607622</td>\n      <td>0.524013</td>\n    </tr>\n    <tr>\n      <th>False</th>\n      <td>0.208849</td>\n      <td>0.546089</td>\n      <td>0.738849</td>\n    </tr>\n    <tr>\n      <th rowspan=\"2\" valign=\"top\">9</th>\n      <th>True</th>\n      <td>0.461607</td>\n      <td>0.587486</td>\n      <td>0.468759</td>\n    </tr>\n    <tr>\n      <th>False</th>\n      <td>0.264146</td>\n      <td>0.559017</td>\n      <td>0.735521</td>\n    </tr>\n    <tr>\n      <th rowspan=\"2\" valign=\"top\">10</th>\n      <th>True</th>\n      <td>0.466193</td>\n      <td>0.598067</td>\n      <td>0.501094</td>\n    </tr>\n    <tr>\n      <th>False</th>\n      <td>0.189225</td>\n      <td>0.541795</td>\n      <td>0.739515</td>\n    </tr>\n    <tr>\n      <th rowspan=\"2\" valign=\"top\">11</th>\n      <th>True</th>\n      <td>0.457860</td>\n      <td>0.580934</td>\n      <td>0.455445</td>\n    </tr>\n    <tr>\n      <th>False</th>\n      <td>0.240340</td>\n      <td>0.553373</td>\n      <td>0.737233</td>\n    </tr>\n    <tr>\n      <th rowspan=\"2\" valign=\"top\">12</th>\n      <th>True</th>\n      <td>0.460167</td>\n      <td>0.588289</td>\n      <td>0.481598</td>\n    </tr>\n    <tr>\n      <th>False</th>\n      <td>0.173324</td>\n      <td>0.537501</td>\n      <td>0.738374</td>\n    </tr>\n    <tr>\n      <th rowspan=\"2\" valign=\"top\">13</th>\n      <th>True</th>\n      <td>0.452522</td>\n      <td>0.572274</td>\n      <td>0.440323</td>\n    </tr>\n    <tr>\n      <th>False</th>\n      <td>0.217504</td>\n      <td>0.547510</td>\n      <td>0.737423</td>\n    </tr>\n    <tr>\n      <th rowspan=\"2\" valign=\"top\">14</th>\n      <th>True</th>\n      <td>0.455422</td>\n      <td>0.580389</td>\n      <td>0.465716</td>\n    </tr>\n    <tr>\n      <th>False</th>\n      <td>0.160209</td>\n      <td>0.535268</td>\n      <td>0.739515</td>\n    </tr>\n    <tr>\n      <th rowspan=\"2\" valign=\"top\">15</th>\n      <th>True</th>\n      <td>0.449291</td>\n      <td>0.566752</td>\n      <td>0.430433</td>\n    </tr>\n    <tr>\n      <th>False</th>\n      <td>0.196911</td>\n      <td>0.542955</td>\n      <td>0.738374</td>\n    </tr>\n  </tbody>\n</table>\n</div>"
     },
     "metadata": {},
     "output_type": "display_data"
    }
   ],
   "source": [
    "knn_results = hyperparameter_tuning_cv(model='knn', data=X_fine, labels=y_fine.Label, cv_k=5,\n",
    "                                       params=KNN_PARAMS)\n",
    "\n",
    "display(knn_results)"
   ]
  },
  {
   "cell_type": "code",
   "execution_count": 18,
   "metadata": {
    "pycharm": {
     "name": "#%%\n"
    },
    "scrolled": true
   },
   "outputs": [
    {
     "data": {
      "text/plain": "                          f1_score  roc_auc_score  accuracy_score\nn_neighbors oversampling                                         \n1           True          0.499423       0.646364        0.621113",
      "text/html": "<div>\n<style scoped>\n    .dataframe tbody tr th:only-of-type {\n        vertical-align: middle;\n    }\n\n    .dataframe tbody tr th {\n        vertical-align: top;\n    }\n\n    .dataframe thead th {\n        text-align: right;\n    }\n</style>\n<table border=\"1\" class=\"dataframe\">\n  <thead>\n    <tr style=\"text-align: right;\">\n      <th></th>\n      <th></th>\n      <th>f1_score</th>\n      <th>roc_auc_score</th>\n      <th>accuracy_score</th>\n    </tr>\n    <tr>\n      <th>n_neighbors</th>\n      <th>oversampling</th>\n      <th></th>\n      <th></th>\n      <th></th>\n    </tr>\n  </thead>\n  <tbody>\n    <tr>\n      <th>1</th>\n      <th>True</th>\n      <td>0.499423</td>\n      <td>0.646364</td>\n      <td>0.621113</td>\n    </tr>\n  </tbody>\n</table>\n</div>"
     },
     "metadata": {},
     "output_type": "display_data"
    }
   ],
   "source": [
    "# Best model parameters\n",
    "\n",
    "best_knn = knn_results.iloc[[knn_results.reset_index()['roc_auc_score'].idxmax()]]\n",
    "\n",
    "display(best_knn)"
   ]
  },
  {
   "cell_type": "code",
   "execution_count": 19,
   "metadata": {},
   "outputs": [],
   "source": [
    "knn_results_1 = hyperparameter_tuning_cv(\n",
    "    model='knn', data=X_e_1, labels=y_e_1, cv_k=5, params=KNN_PARAMS)\n",
    "knn_results_2 = hyperparameter_tuning_cv(\n",
    "    model='knn', data=X_e_2, labels=y_e_2, cv_k=5, params=KNN_PARAMS)\n",
    "knn_results_3 = hyperparameter_tuning_cv(\n",
    "    model='knn', data=X_e_3, labels=y_e_3, cv_k=5, params=KNN_PARAMS)"
   ]
  },
  {
   "cell_type": "code",
   "execution_count": 20,
   "metadata": {},
   "outputs": [
    {
     "data": {
      "text/plain": "                          f1_score  roc_auc_score  accuracy_score\nn_neighbors oversampling                                         \n1           True          0.429214       0.729216        0.703079",
      "text/html": "<div>\n<style scoped>\n    .dataframe tbody tr th:only-of-type {\n        vertical-align: middle;\n    }\n\n    .dataframe tbody tr th {\n        vertical-align: top;\n    }\n\n    .dataframe thead th {\n        text-align: right;\n    }\n</style>\n<table border=\"1\" class=\"dataframe\">\n  <thead>\n    <tr style=\"text-align: right;\">\n      <th></th>\n      <th></th>\n      <th>f1_score</th>\n      <th>roc_auc_score</th>\n      <th>accuracy_score</th>\n    </tr>\n    <tr>\n      <th>n_neighbors</th>\n      <th>oversampling</th>\n      <th></th>\n      <th></th>\n      <th></th>\n    </tr>\n  </thead>\n  <tbody>\n    <tr>\n      <th>1</th>\n      <th>True</th>\n      <td>0.429214</td>\n      <td>0.729216</td>\n      <td>0.703079</td>\n    </tr>\n  </tbody>\n</table>\n</div>"
     },
     "metadata": {},
     "output_type": "display_data"
    },
    {
     "data": {
      "text/plain": "                          f1_score  roc_auc_score  accuracy_score\nn_neighbors oversampling                                         \n1           True          0.434726       0.674297        0.674803",
      "text/html": "<div>\n<style scoped>\n    .dataframe tbody tr th:only-of-type {\n        vertical-align: middle;\n    }\n\n    .dataframe tbody tr th {\n        vertical-align: top;\n    }\n\n    .dataframe thead th {\n        text-align: right;\n    }\n</style>\n<table border=\"1\" class=\"dataframe\">\n  <thead>\n    <tr style=\"text-align: right;\">\n      <th></th>\n      <th></th>\n      <th>f1_score</th>\n      <th>roc_auc_score</th>\n      <th>accuracy_score</th>\n    </tr>\n    <tr>\n      <th>n_neighbors</th>\n      <th>oversampling</th>\n      <th></th>\n      <th></th>\n      <th></th>\n    </tr>\n  </thead>\n  <tbody>\n    <tr>\n      <th>1</th>\n      <th>True</th>\n      <td>0.434726</td>\n      <td>0.674297</td>\n      <td>0.674803</td>\n    </tr>\n  </tbody>\n</table>\n</div>"
     },
     "metadata": {},
     "output_type": "display_data"
    },
    {
     "data": {
      "text/plain": "                          f1_score  roc_auc_score  accuracy_score\nn_neighbors oversampling                                         \n1           True          0.689127       0.703541        0.703724",
      "text/html": "<div>\n<style scoped>\n    .dataframe tbody tr th:only-of-type {\n        vertical-align: middle;\n    }\n\n    .dataframe tbody tr th {\n        vertical-align: top;\n    }\n\n    .dataframe thead th {\n        text-align: right;\n    }\n</style>\n<table border=\"1\" class=\"dataframe\">\n  <thead>\n    <tr style=\"text-align: right;\">\n      <th></th>\n      <th></th>\n      <th>f1_score</th>\n      <th>roc_auc_score</th>\n      <th>accuracy_score</th>\n    </tr>\n    <tr>\n      <th>n_neighbors</th>\n      <th>oversampling</th>\n      <th></th>\n      <th></th>\n      <th></th>\n    </tr>\n  </thead>\n  <tbody>\n    <tr>\n      <th>1</th>\n      <th>True</th>\n      <td>0.689127</td>\n      <td>0.703541</td>\n      <td>0.703724</td>\n    </tr>\n  </tbody>\n</table>\n</div>"
     },
     "metadata": {},
     "output_type": "display_data"
    }
   ],
   "source": [
    "best_knn_1 = knn_results_1.iloc[[\n",
    "    knn_results_1.reset_index()['roc_auc_score'].idxmax()]]\n",
    "best_knn_2 = knn_results_2.iloc[[\n",
    "    knn_results_2.reset_index()['roc_auc_score'].idxmax()]]\n",
    "best_knn_3 = knn_results_3.iloc[[\n",
    "    knn_results_3.reset_index()['roc_auc_score'].idxmax()]]\n",
    "\n",
    "display(best_knn_1, best_knn_2, best_knn_3)"
   ]
  },
  {
   "cell_type": "markdown",
   "metadata": {},
   "source": [
    "#### 4. Support Vector Classifier"
   ]
  },
  {
   "cell_type": "code",
   "execution_count": 21,
   "metadata": {
    "pycharm": {
     "name": "#%%\n"
    }
   },
   "outputs": [
    {
     "data": {
      "text/plain": "                           f1_score  roc_auc_score  accuracy_score\nkernel gamma oversampling                                         \nlinear 0.10  True          0.428619       0.579581        0.571945\n             False         0.000000       0.500000        0.730480\nrbf    0.10  True          0.084634       0.519190        0.737803\n             False         0.029801       0.507509        0.734475\nlinear 0.01  True          0.428619       0.579581        0.571945\n             False         0.000000       0.500000        0.730480\nrbf    0.01  True          0.434135       0.602052        0.648407\n             False         0.050792       0.510803        0.734094",
      "text/html": "<div>\n<style scoped>\n    .dataframe tbody tr th:only-of-type {\n        vertical-align: middle;\n    }\n\n    .dataframe tbody tr th {\n        vertical-align: top;\n    }\n\n    .dataframe thead th {\n        text-align: right;\n    }\n</style>\n<table border=\"1\" class=\"dataframe\">\n  <thead>\n    <tr style=\"text-align: right;\">\n      <th></th>\n      <th></th>\n      <th></th>\n      <th>f1_score</th>\n      <th>roc_auc_score</th>\n      <th>accuracy_score</th>\n    </tr>\n    <tr>\n      <th>kernel</th>\n      <th>gamma</th>\n      <th>oversampling</th>\n      <th></th>\n      <th></th>\n      <th></th>\n    </tr>\n  </thead>\n  <tbody>\n    <tr>\n      <th rowspan=\"2\" valign=\"top\">linear</th>\n      <th rowspan=\"2\" valign=\"top\">0.10</th>\n      <th>True</th>\n      <td>0.428619</td>\n      <td>0.579581</td>\n      <td>0.571945</td>\n    </tr>\n    <tr>\n      <th>False</th>\n      <td>0.000000</td>\n      <td>0.500000</td>\n      <td>0.730480</td>\n    </tr>\n    <tr>\n      <th rowspan=\"2\" valign=\"top\">rbf</th>\n      <th rowspan=\"2\" valign=\"top\">0.10</th>\n      <th>True</th>\n      <td>0.084634</td>\n      <td>0.519190</td>\n      <td>0.737803</td>\n    </tr>\n    <tr>\n      <th>False</th>\n      <td>0.029801</td>\n      <td>0.507509</td>\n      <td>0.734475</td>\n    </tr>\n    <tr>\n      <th rowspan=\"2\" valign=\"top\">linear</th>\n      <th rowspan=\"2\" valign=\"top\">0.01</th>\n      <th>True</th>\n      <td>0.428619</td>\n      <td>0.579581</td>\n      <td>0.571945</td>\n    </tr>\n    <tr>\n      <th>False</th>\n      <td>0.000000</td>\n      <td>0.500000</td>\n      <td>0.730480</td>\n    </tr>\n    <tr>\n      <th rowspan=\"2\" valign=\"top\">rbf</th>\n      <th rowspan=\"2\" valign=\"top\">0.01</th>\n      <th>True</th>\n      <td>0.434135</td>\n      <td>0.602052</td>\n      <td>0.648407</td>\n    </tr>\n    <tr>\n      <th>False</th>\n      <td>0.050792</td>\n      <td>0.510803</td>\n      <td>0.734094</td>\n    </tr>\n  </tbody>\n</table>\n</div>"
     },
     "metadata": {},
     "output_type": "display_data"
    }
   ],
   "source": [
    "svc_results = hyperparameter_tuning_cv(model='svc', data=X_fine, labels=y_fine.Label, cv_k=5,\n",
    "                                       params=SVC_PARAMS)\n",
    "\n",
    "display(svc_results)"
   ]
  },
  {
   "cell_type": "code",
   "execution_count": 22,
   "metadata": {
    "pycharm": {
     "name": "#%%\n"
    }
   },
   "outputs": [
    {
     "data": {
      "text/plain": "                           f1_score  roc_auc_score  accuracy_score\nkernel gamma oversampling                                         \nrbf    0.01  True          0.434135       0.602052        0.648407",
      "text/html": "<div>\n<style scoped>\n    .dataframe tbody tr th:only-of-type {\n        vertical-align: middle;\n    }\n\n    .dataframe tbody tr th {\n        vertical-align: top;\n    }\n\n    .dataframe thead th {\n        text-align: right;\n    }\n</style>\n<table border=\"1\" class=\"dataframe\">\n  <thead>\n    <tr style=\"text-align: right;\">\n      <th></th>\n      <th></th>\n      <th></th>\n      <th>f1_score</th>\n      <th>roc_auc_score</th>\n      <th>accuracy_score</th>\n    </tr>\n    <tr>\n      <th>kernel</th>\n      <th>gamma</th>\n      <th>oversampling</th>\n      <th></th>\n      <th></th>\n      <th></th>\n    </tr>\n  </thead>\n  <tbody>\n    <tr>\n      <th>rbf</th>\n      <th>0.01</th>\n      <th>True</th>\n      <td>0.434135</td>\n      <td>0.602052</td>\n      <td>0.648407</td>\n    </tr>\n  </tbody>\n</table>\n</div>"
     },
     "metadata": {},
     "output_type": "display_data"
    }
   ],
   "source": [
    "# Best model parameters\n",
    "\n",
    "best_svc = svc_results.iloc[[svc_results.reset_index()['roc_auc_score'].idxmax()]]\n",
    "\n",
    "display(best_svc)"
   ]
  },
  {
   "cell_type": "code",
   "execution_count": 23,
   "metadata": {},
   "outputs": [],
   "source": [
    "svc_results_1 = hyperparameter_tuning_cv(\n",
    "    model='svc', data=X_e_1, labels=y_e_1, cv_k=5, params=SVC_PARAMS)\n",
    "svc_results_2 = hyperparameter_tuning_cv(\n",
    "    model='svc', data=X_e_2, labels=y_e_2, cv_k=5, params=SVC_PARAMS)\n",
    "svc_results_3 = hyperparameter_tuning_cv(\n",
    "    model='svc', data=X_e_3, labels=y_e_3, cv_k=5, params=SVC_PARAMS)"
   ]
  },
  {
   "cell_type": "code",
   "execution_count": 24,
   "metadata": {},
   "outputs": [
    {
     "data": {
      "text/plain": "                           f1_score  roc_auc_score  accuracy_score\nkernel gamma oversampling                                         \nrbf    0.01  True          0.414728        0.67027             0.8",
      "text/html": "<div>\n<style scoped>\n    .dataframe tbody tr th:only-of-type {\n        vertical-align: middle;\n    }\n\n    .dataframe tbody tr th {\n        vertical-align: top;\n    }\n\n    .dataframe thead th {\n        text-align: right;\n    }\n</style>\n<table border=\"1\" class=\"dataframe\">\n  <thead>\n    <tr style=\"text-align: right;\">\n      <th></th>\n      <th></th>\n      <th></th>\n      <th>f1_score</th>\n      <th>roc_auc_score</th>\n      <th>accuracy_score</th>\n    </tr>\n    <tr>\n      <th>kernel</th>\n      <th>gamma</th>\n      <th>oversampling</th>\n      <th></th>\n      <th></th>\n      <th></th>\n    </tr>\n  </thead>\n  <tbody>\n    <tr>\n      <th>rbf</th>\n      <th>0.01</th>\n      <th>True</th>\n      <td>0.414728</td>\n      <td>0.67027</td>\n      <td>0.8</td>\n    </tr>\n  </tbody>\n</table>\n</div>"
     },
     "metadata": {},
     "output_type": "display_data"
    },
    {
     "data": {
      "text/plain": "                           f1_score  roc_auc_score  accuracy_score\nkernel gamma oversampling                                         \nlinear 0.1   True          0.329036       0.571256        0.586877",
      "text/html": "<div>\n<style scoped>\n    .dataframe tbody tr th:only-of-type {\n        vertical-align: middle;\n    }\n\n    .dataframe tbody tr th {\n        vertical-align: top;\n    }\n\n    .dataframe thead th {\n        text-align: right;\n    }\n</style>\n<table border=\"1\" class=\"dataframe\">\n  <thead>\n    <tr style=\"text-align: right;\">\n      <th></th>\n      <th></th>\n      <th></th>\n      <th>f1_score</th>\n      <th>roc_auc_score</th>\n      <th>accuracy_score</th>\n    </tr>\n    <tr>\n      <th>kernel</th>\n      <th>gamma</th>\n      <th>oversampling</th>\n      <th></th>\n      <th></th>\n      <th></th>\n    </tr>\n  </thead>\n  <tbody>\n    <tr>\n      <th>linear</th>\n      <th>0.1</th>\n      <th>True</th>\n      <td>0.329036</td>\n      <td>0.571256</td>\n      <td>0.586877</td>\n    </tr>\n  </tbody>\n</table>\n</div>"
     },
     "metadata": {},
     "output_type": "display_data"
    },
    {
     "data": {
      "text/plain": "                           f1_score  roc_auc_score  accuracy_score\nkernel gamma oversampling                                         \nrbf    0.01  False         0.639119       0.675562        0.679448",
      "text/html": "<div>\n<style scoped>\n    .dataframe tbody tr th:only-of-type {\n        vertical-align: middle;\n    }\n\n    .dataframe tbody tr th {\n        vertical-align: top;\n    }\n\n    .dataframe thead th {\n        text-align: right;\n    }\n</style>\n<table border=\"1\" class=\"dataframe\">\n  <thead>\n    <tr style=\"text-align: right;\">\n      <th></th>\n      <th></th>\n      <th></th>\n      <th>f1_score</th>\n      <th>roc_auc_score</th>\n      <th>accuracy_score</th>\n    </tr>\n    <tr>\n      <th>kernel</th>\n      <th>gamma</th>\n      <th>oversampling</th>\n      <th></th>\n      <th></th>\n      <th></th>\n    </tr>\n  </thead>\n  <tbody>\n    <tr>\n      <th>rbf</th>\n      <th>0.01</th>\n      <th>False</th>\n      <td>0.639119</td>\n      <td>0.675562</td>\n      <td>0.679448</td>\n    </tr>\n  </tbody>\n</table>\n</div>"
     },
     "metadata": {},
     "output_type": "display_data"
    }
   ],
   "source": [
    "best_svc_1 = svc_results_1.iloc[[\n",
    "    svc_results_1.reset_index()['roc_auc_score'].idxmax()]]\n",
    "best_svc_2 = svc_results_2.iloc[[\n",
    "    svc_results_2.reset_index()['roc_auc_score'].idxmax()]]\n",
    "best_svc_3 = svc_results_3.iloc[[\n",
    "    svc_results_3.reset_index()['roc_auc_score'].idxmax()]]\n",
    "\n",
    "\n",
    "display(best_svc_1, best_svc_2, best_svc_3)"
   ]
  },
  {
   "cell_type": "markdown",
   "metadata": {},
   "source": [
    "#### 5. Naive Bayes Classifier"
   ]
  },
  {
   "cell_type": "code",
   "execution_count": 25,
   "metadata": {
    "pycharm": {
     "name": "#%%\n"
    }
   },
   "outputs": [
    {
     "data": {
      "text/plain": "              f1_score  roc_auc_score  accuracy_score\noversampling                                         \nTrue          0.373249       0.558792        0.624156\nFalse         0.335659       0.558044        0.674560",
      "text/html": "<div>\n<style scoped>\n    .dataframe tbody tr th:only-of-type {\n        vertical-align: middle;\n    }\n\n    .dataframe tbody tr th {\n        vertical-align: top;\n    }\n\n    .dataframe thead th {\n        text-align: right;\n    }\n</style>\n<table border=\"1\" class=\"dataframe\">\n  <thead>\n    <tr style=\"text-align: right;\">\n      <th></th>\n      <th>f1_score</th>\n      <th>roc_auc_score</th>\n      <th>accuracy_score</th>\n    </tr>\n    <tr>\n      <th>oversampling</th>\n      <th></th>\n      <th></th>\n      <th></th>\n    </tr>\n  </thead>\n  <tbody>\n    <tr>\n      <th>True</th>\n      <td>0.373249</td>\n      <td>0.558792</td>\n      <td>0.624156</td>\n    </tr>\n    <tr>\n      <th>False</th>\n      <td>0.335659</td>\n      <td>0.558044</td>\n      <td>0.674560</td>\n    </tr>\n  </tbody>\n</table>\n</div>"
     },
     "metadata": {},
     "output_type": "display_data"
    }
   ],
   "source": [
    "nb_results = hyperparameter_tuning_cv(model='naive_bayes', data=X_fine, labels=y_fine.Label, cv_k=5,\n",
    "                                      params=NAIVE_BAYES_PARAMS)\n",
    "\n",
    "display(nb_results)"
   ]
  },
  {
   "cell_type": "code",
   "execution_count": 26,
   "metadata": {
    "pycharm": {
     "name": "#%%\n"
    }
   },
   "outputs": [
    {
     "data": {
      "text/plain": "              f1_score  roc_auc_score  accuracy_score\noversampling                                         \nTrue          0.373249       0.558792        0.624156",
      "text/html": "<div>\n<style scoped>\n    .dataframe tbody tr th:only-of-type {\n        vertical-align: middle;\n    }\n\n    .dataframe tbody tr th {\n        vertical-align: top;\n    }\n\n    .dataframe thead th {\n        text-align: right;\n    }\n</style>\n<table border=\"1\" class=\"dataframe\">\n  <thead>\n    <tr style=\"text-align: right;\">\n      <th></th>\n      <th>f1_score</th>\n      <th>roc_auc_score</th>\n      <th>accuracy_score</th>\n    </tr>\n    <tr>\n      <th>oversampling</th>\n      <th></th>\n      <th></th>\n      <th></th>\n    </tr>\n  </thead>\n  <tbody>\n    <tr>\n      <th>True</th>\n      <td>0.373249</td>\n      <td>0.558792</td>\n      <td>0.624156</td>\n    </tr>\n  </tbody>\n</table>\n</div>"
     },
     "metadata": {},
     "output_type": "display_data"
    }
   ],
   "source": [
    "# Best model parameters\n",
    "\n",
    "best_nb = nb_results.iloc[[nb_results.reset_index()['roc_auc_score'].idxmax()]]\n",
    "\n",
    "display(best_nb)"
   ]
  },
  {
   "cell_type": "code",
   "execution_count": 27,
   "metadata": {},
   "outputs": [],
   "source": [
    "nb_results_1 = hyperparameter_tuning_cv(\n",
    "    model='naive_bayes', data=X_e_1, labels=y_e_1, cv_k=5, params=NAIVE_BAYES_PARAMS)\n",
    "nb_results_2 = hyperparameter_tuning_cv(\n",
    "    model='naive_bayes', data=X_e_2, labels=y_e_2, cv_k=5, params=NAIVE_BAYES_PARAMS)\n",
    "nb_results_3 = hyperparameter_tuning_cv(\n",
    "    model='naive_bayes', data=X_e_3, labels=y_e_3, cv_k=5, params=NAIVE_BAYES_PARAMS)"
   ]
  },
  {
   "cell_type": "code",
   "execution_count": 28,
   "metadata": {},
   "outputs": [
    {
     "data": {
      "text/plain": "              f1_score  roc_auc_score  accuracy_score\noversampling                                         \nTrue          0.330198       0.626599        0.645381",
      "text/html": "<div>\n<style scoped>\n    .dataframe tbody tr th:only-of-type {\n        vertical-align: middle;\n    }\n\n    .dataframe tbody tr th {\n        vertical-align: top;\n    }\n\n    .dataframe thead th {\n        text-align: right;\n    }\n</style>\n<table border=\"1\" class=\"dataframe\">\n  <thead>\n    <tr style=\"text-align: right;\">\n      <th></th>\n      <th>f1_score</th>\n      <th>roc_auc_score</th>\n      <th>accuracy_score</th>\n    </tr>\n    <tr>\n      <th>oversampling</th>\n      <th></th>\n      <th></th>\n      <th></th>\n    </tr>\n  </thead>\n  <tbody>\n    <tr>\n      <th>True</th>\n      <td>0.330198</td>\n      <td>0.626599</td>\n      <td>0.645381</td>\n    </tr>\n  </tbody>\n</table>\n</div>"
     },
     "metadata": {},
     "output_type": "display_data"
    },
    {
     "data": {
      "text/plain": "              f1_score  roc_auc_score  accuracy_score\noversampling                                         \nTrue          0.291533        0.53156        0.554068",
      "text/html": "<div>\n<style scoped>\n    .dataframe tbody tr th:only-of-type {\n        vertical-align: middle;\n    }\n\n    .dataframe tbody tr th {\n        vertical-align: top;\n    }\n\n    .dataframe thead th {\n        text-align: right;\n    }\n</style>\n<table border=\"1\" class=\"dataframe\">\n  <thead>\n    <tr style=\"text-align: right;\">\n      <th></th>\n      <th>f1_score</th>\n      <th>roc_auc_score</th>\n      <th>accuracy_score</th>\n    </tr>\n    <tr>\n      <th>oversampling</th>\n      <th></th>\n      <th></th>\n      <th></th>\n    </tr>\n  </thead>\n  <tbody>\n    <tr>\n      <th>True</th>\n      <td>0.291533</td>\n      <td>0.53156</td>\n      <td>0.554068</td>\n    </tr>\n  </tbody>\n</table>\n</div>"
     },
     "metadata": {},
     "output_type": "display_data"
    },
    {
     "data": {
      "text/plain": "              f1_score  roc_auc_score  accuracy_score\noversampling                                         \nTrue          0.467552       0.588102        0.601655",
      "text/html": "<div>\n<style scoped>\n    .dataframe tbody tr th:only-of-type {\n        vertical-align: middle;\n    }\n\n    .dataframe tbody tr th {\n        vertical-align: top;\n    }\n\n    .dataframe thead th {\n        text-align: right;\n    }\n</style>\n<table border=\"1\" class=\"dataframe\">\n  <thead>\n    <tr style=\"text-align: right;\">\n      <th></th>\n      <th>f1_score</th>\n      <th>roc_auc_score</th>\n      <th>accuracy_score</th>\n    </tr>\n    <tr>\n      <th>oversampling</th>\n      <th></th>\n      <th></th>\n      <th></th>\n    </tr>\n  </thead>\n  <tbody>\n    <tr>\n      <th>True</th>\n      <td>0.467552</td>\n      <td>0.588102</td>\n      <td>0.601655</td>\n    </tr>\n  </tbody>\n</table>\n</div>"
     },
     "metadata": {},
     "output_type": "display_data"
    }
   ],
   "source": [
    "best_nb_1 = nb_results_1.iloc[[\n",
    "    nb_results_1.reset_index()['roc_auc_score'].idxmax()]]\n",
    "best_nb_2 = nb_results_2.iloc[[\n",
    "    nb_results_2.reset_index()['roc_auc_score'].idxmax()]]\n",
    "best_nb_3 = nb_results_3.iloc[[\n",
    "    nb_results_3.reset_index()['roc_auc_score'].idxmax()]]\n",
    "\n",
    "display(best_nb_1, best_nb_2, best_nb_3)"
   ]
  },
  {
   "cell_type": "markdown",
   "metadata": {},
   "source": [
    "#### 6. Decision Tree"
   ]
  },
  {
   "cell_type": "code",
   "execution_count": 29,
   "metadata": {
    "pycharm": {
     "name": "#%%\n"
    }
   },
   "outputs": [
    {
     "data": {
      "text/plain": "                        f1_score  roc_auc_score  accuracy_score\nmax_depth oversampling                                         \n3         True          0.407376       0.548584        0.515264\n          False         0.090122       0.512900        0.725915\n5         True          0.340146       0.545595        0.625773\n          False         0.113746       0.517697        0.726201\n7         True          0.321666       0.540204        0.642796\n          False         0.206697       0.531217        0.710984",
      "text/html": "<div>\n<style scoped>\n    .dataframe tbody tr th:only-of-type {\n        vertical-align: middle;\n    }\n\n    .dataframe tbody tr th {\n        vertical-align: top;\n    }\n\n    .dataframe thead th {\n        text-align: right;\n    }\n</style>\n<table border=\"1\" class=\"dataframe\">\n  <thead>\n    <tr style=\"text-align: right;\">\n      <th></th>\n      <th></th>\n      <th>f1_score</th>\n      <th>roc_auc_score</th>\n      <th>accuracy_score</th>\n    </tr>\n    <tr>\n      <th>max_depth</th>\n      <th>oversampling</th>\n      <th></th>\n      <th></th>\n      <th></th>\n    </tr>\n  </thead>\n  <tbody>\n    <tr>\n      <th rowspan=\"2\" valign=\"top\">3</th>\n      <th>True</th>\n      <td>0.407376</td>\n      <td>0.548584</td>\n      <td>0.515264</td>\n    </tr>\n    <tr>\n      <th>False</th>\n      <td>0.090122</td>\n      <td>0.512900</td>\n      <td>0.725915</td>\n    </tr>\n    <tr>\n      <th rowspan=\"2\" valign=\"top\">5</th>\n      <th>True</th>\n      <td>0.340146</td>\n      <td>0.545595</td>\n      <td>0.625773</td>\n    </tr>\n    <tr>\n      <th>False</th>\n      <td>0.113746</td>\n      <td>0.517697</td>\n      <td>0.726201</td>\n    </tr>\n    <tr>\n      <th rowspan=\"2\" valign=\"top\">7</th>\n      <th>True</th>\n      <td>0.321666</td>\n      <td>0.540204</td>\n      <td>0.642796</td>\n    </tr>\n    <tr>\n      <th>False</th>\n      <td>0.206697</td>\n      <td>0.531217</td>\n      <td>0.710984</td>\n    </tr>\n  </tbody>\n</table>\n</div>"
     },
     "metadata": {},
     "output_type": "display_data"
    }
   ],
   "source": [
    "dt_results = hyperparameter_tuning_cv(model='decision_tree', data=X_fine, labels=y_fine.Label, cv_k=5,\n",
    "                                      params=DECISION_TREE_PARAMS)\n",
    "\n",
    "display(dt_results)"
   ]
  },
  {
   "cell_type": "code",
   "execution_count": 30,
   "metadata": {
    "pycharm": {
     "name": "#%%\n"
    }
   },
   "outputs": [
    {
     "data": {
      "text/plain": "                        f1_score  roc_auc_score  accuracy_score\nmax_depth oversampling                                         \n3         True          0.407376       0.548584        0.515264",
      "text/html": "<div>\n<style scoped>\n    .dataframe tbody tr th:only-of-type {\n        vertical-align: middle;\n    }\n\n    .dataframe tbody tr th {\n        vertical-align: top;\n    }\n\n    .dataframe thead th {\n        text-align: right;\n    }\n</style>\n<table border=\"1\" class=\"dataframe\">\n  <thead>\n    <tr style=\"text-align: right;\">\n      <th></th>\n      <th></th>\n      <th>f1_score</th>\n      <th>roc_auc_score</th>\n      <th>accuracy_score</th>\n    </tr>\n    <tr>\n      <th>max_depth</th>\n      <th>oversampling</th>\n      <th></th>\n      <th></th>\n      <th></th>\n    </tr>\n  </thead>\n  <tbody>\n    <tr>\n      <th>3</th>\n      <th>True</th>\n      <td>0.407376</td>\n      <td>0.548584</td>\n      <td>0.515264</td>\n    </tr>\n  </tbody>\n</table>\n</div>"
     },
     "metadata": {},
     "output_type": "display_data"
    }
   ],
   "source": [
    "# Best model parameters\n",
    "\n",
    "best_dt = dt_results.iloc[[dt_results.reset_index()['roc_auc_score'].idxmax()]]\n",
    "\n",
    "display(best_dt)"
   ]
  },
  {
   "cell_type": "code",
   "execution_count": 31,
   "metadata": {},
   "outputs": [],
   "source": [
    "dt_results_1 = hyperparameter_tuning_cv(\n",
    "    model='decision_tree', data=X_e_1, labels=y_e_1, cv_k=5, params=DECISION_TREE_PARAMS)\n",
    "dt_results_2 = hyperparameter_tuning_cv(\n",
    "    model='decision_tree', data=X_e_2, labels=y_e_2, cv_k=5, params=DECISION_TREE_PARAMS)\n",
    "dt_results_3 = hyperparameter_tuning_cv(\n",
    "    model='decision_tree', data=X_e_3, labels=y_e_3, cv_k=5, params=DECISION_TREE_PARAMS)"
   ]
  },
  {
   "cell_type": "code",
   "execution_count": 32,
   "metadata": {},
   "outputs": [
    {
     "data": {
      "text/plain": "                        f1_score  roc_auc_score  accuracy_score\nmax_depth oversampling                                         \n7         True           0.33903       0.628576        0.705997",
      "text/html": "<div>\n<style scoped>\n    .dataframe tbody tr th:only-of-type {\n        vertical-align: middle;\n    }\n\n    .dataframe tbody tr th {\n        vertical-align: top;\n    }\n\n    .dataframe thead th {\n        text-align: right;\n    }\n</style>\n<table border=\"1\" class=\"dataframe\">\n  <thead>\n    <tr style=\"text-align: right;\">\n      <th></th>\n      <th></th>\n      <th>f1_score</th>\n      <th>roc_auc_score</th>\n      <th>accuracy_score</th>\n    </tr>\n    <tr>\n      <th>max_depth</th>\n      <th>oversampling</th>\n      <th></th>\n      <th></th>\n      <th></th>\n    </tr>\n  </thead>\n  <tbody>\n    <tr>\n      <th>7</th>\n      <th>True</th>\n      <td>0.33903</td>\n      <td>0.628576</td>\n      <td>0.705997</td>\n    </tr>\n  </tbody>\n</table>\n</div>"
     },
     "metadata": {},
     "output_type": "display_data"
    },
    {
     "data": {
      "text/plain": "                        f1_score  roc_auc_score  accuracy_score\nmax_depth oversampling                                         \n7         True          0.278989       0.541102         0.64042",
      "text/html": "<div>\n<style scoped>\n    .dataframe tbody tr th:only-of-type {\n        vertical-align: middle;\n    }\n\n    .dataframe tbody tr th {\n        vertical-align: top;\n    }\n\n    .dataframe thead th {\n        text-align: right;\n    }\n</style>\n<table border=\"1\" class=\"dataframe\">\n  <thead>\n    <tr style=\"text-align: right;\">\n      <th></th>\n      <th></th>\n      <th>f1_score</th>\n      <th>roc_auc_score</th>\n      <th>accuracy_score</th>\n    </tr>\n    <tr>\n      <th>max_depth</th>\n      <th>oversampling</th>\n      <th></th>\n      <th></th>\n      <th></th>\n    </tr>\n  </thead>\n  <tbody>\n    <tr>\n      <th>7</th>\n      <th>True</th>\n      <td>0.278989</td>\n      <td>0.541102</td>\n      <td>0.64042</td>\n    </tr>\n  </tbody>\n</table>\n</div>"
     },
     "metadata": {},
     "output_type": "display_data"
    },
    {
     "data": {
      "text/plain": "                        f1_score  roc_auc_score  accuracy_score\nmax_depth oversampling                                         \n3         True          0.539619       0.600186        0.606897",
      "text/html": "<div>\n<style scoped>\n    .dataframe tbody tr th:only-of-type {\n        vertical-align: middle;\n    }\n\n    .dataframe tbody tr th {\n        vertical-align: top;\n    }\n\n    .dataframe thead th {\n        text-align: right;\n    }\n</style>\n<table border=\"1\" class=\"dataframe\">\n  <thead>\n    <tr style=\"text-align: right;\">\n      <th></th>\n      <th></th>\n      <th>f1_score</th>\n      <th>roc_auc_score</th>\n      <th>accuracy_score</th>\n    </tr>\n    <tr>\n      <th>max_depth</th>\n      <th>oversampling</th>\n      <th></th>\n      <th></th>\n      <th></th>\n    </tr>\n  </thead>\n  <tbody>\n    <tr>\n      <th>3</th>\n      <th>True</th>\n      <td>0.539619</td>\n      <td>0.600186</td>\n      <td>0.606897</td>\n    </tr>\n  </tbody>\n</table>\n</div>"
     },
     "metadata": {},
     "output_type": "display_data"
    }
   ],
   "source": [
    "best_dt_1 = dt_results_1.iloc[[\n",
    "    dt_results_1.reset_index()['roc_auc_score'].idxmax()]]\n",
    "best_dt_2 = dt_results_2.iloc[[\n",
    "    dt_results_2.reset_index()['roc_auc_score'].idxmax()]]\n",
    "best_dt_3 = dt_results_3.iloc[[\n",
    "    dt_results_3.reset_index()['roc_auc_score'].idxmax()]]\n",
    "\n",
    "display(best_dt_1, best_dt_2, best_dt_3)"
   ]
  },
  {
   "cell_type": "markdown",
   "metadata": {},
   "source": [
    "#### 7. Random Forest"
   ]
  },
  {
   "cell_type": "code",
   "execution_count": 33,
   "metadata": {
    "pycharm": {
     "name": "#%%\n"
    }
   },
   "outputs": [
    {
     "data": {
      "text/plain": "                                     f1_score  roc_auc_score  accuracy_score\nmax_depth n_estimators oversampling                                         \n3         3            True          0.377711       0.545160        0.574703\n                       False         0.028024       0.502972        0.728103\n          5            True          0.390667       0.556167        0.584593\n                       False         0.030939       0.504937        0.730290\n          7            True          0.387177       0.554017        0.584593\n                       False         0.023614       0.503744        0.730385\n5         3            True          0.359833       0.550120        0.618735\n                       False         0.100785       0.514546        0.725345\n          5            True          0.377097       0.557309        0.613885\n                       False         0.072420       0.512603        0.730956\n          7            True          0.383379       0.566733        0.630718\n                       False         0.053271       0.509597        0.731526\n7         3            True          0.365454       0.552389        0.619116\n                       False         0.150343       0.522784        0.721446\n          5            True          0.347968       0.552130        0.643272\n                       False         0.119606       0.521192        0.729815\n          7            True          0.352150       0.556221        0.648883\n                       False         0.082440       0.513735        0.729815",
      "text/html": "<div>\n<style scoped>\n    .dataframe tbody tr th:only-of-type {\n        vertical-align: middle;\n    }\n\n    .dataframe tbody tr th {\n        vertical-align: top;\n    }\n\n    .dataframe thead th {\n        text-align: right;\n    }\n</style>\n<table border=\"1\" class=\"dataframe\">\n  <thead>\n    <tr style=\"text-align: right;\">\n      <th></th>\n      <th></th>\n      <th></th>\n      <th>f1_score</th>\n      <th>roc_auc_score</th>\n      <th>accuracy_score</th>\n    </tr>\n    <tr>\n      <th>max_depth</th>\n      <th>n_estimators</th>\n      <th>oversampling</th>\n      <th></th>\n      <th></th>\n      <th></th>\n    </tr>\n  </thead>\n  <tbody>\n    <tr>\n      <th rowspan=\"6\" valign=\"top\">3</th>\n      <th rowspan=\"2\" valign=\"top\">3</th>\n      <th>True</th>\n      <td>0.377711</td>\n      <td>0.545160</td>\n      <td>0.574703</td>\n    </tr>\n    <tr>\n      <th>False</th>\n      <td>0.028024</td>\n      <td>0.502972</td>\n      <td>0.728103</td>\n    </tr>\n    <tr>\n      <th rowspan=\"2\" valign=\"top\">5</th>\n      <th>True</th>\n      <td>0.390667</td>\n      <td>0.556167</td>\n      <td>0.584593</td>\n    </tr>\n    <tr>\n      <th>False</th>\n      <td>0.030939</td>\n      <td>0.504937</td>\n      <td>0.730290</td>\n    </tr>\n    <tr>\n      <th rowspan=\"2\" valign=\"top\">7</th>\n      <th>True</th>\n      <td>0.387177</td>\n      <td>0.554017</td>\n      <td>0.584593</td>\n    </tr>\n    <tr>\n      <th>False</th>\n      <td>0.023614</td>\n      <td>0.503744</td>\n      <td>0.730385</td>\n    </tr>\n    <tr>\n      <th rowspan=\"6\" valign=\"top\">5</th>\n      <th rowspan=\"2\" valign=\"top\">3</th>\n      <th>True</th>\n      <td>0.359833</td>\n      <td>0.550120</td>\n      <td>0.618735</td>\n    </tr>\n    <tr>\n      <th>False</th>\n      <td>0.100785</td>\n      <td>0.514546</td>\n      <td>0.725345</td>\n    </tr>\n    <tr>\n      <th rowspan=\"2\" valign=\"top\">5</th>\n      <th>True</th>\n      <td>0.377097</td>\n      <td>0.557309</td>\n      <td>0.613885</td>\n    </tr>\n    <tr>\n      <th>False</th>\n      <td>0.072420</td>\n      <td>0.512603</td>\n      <td>0.730956</td>\n    </tr>\n    <tr>\n      <th rowspan=\"2\" valign=\"top\">7</th>\n      <th>True</th>\n      <td>0.383379</td>\n      <td>0.566733</td>\n      <td>0.630718</td>\n    </tr>\n    <tr>\n      <th>False</th>\n      <td>0.053271</td>\n      <td>0.509597</td>\n      <td>0.731526</td>\n    </tr>\n    <tr>\n      <th rowspan=\"6\" valign=\"top\">7</th>\n      <th rowspan=\"2\" valign=\"top\">3</th>\n      <th>True</th>\n      <td>0.365454</td>\n      <td>0.552389</td>\n      <td>0.619116</td>\n    </tr>\n    <tr>\n      <th>False</th>\n      <td>0.150343</td>\n      <td>0.522784</td>\n      <td>0.721446</td>\n    </tr>\n    <tr>\n      <th rowspan=\"2\" valign=\"top\">5</th>\n      <th>True</th>\n      <td>0.347968</td>\n      <td>0.552130</td>\n      <td>0.643272</td>\n    </tr>\n    <tr>\n      <th>False</th>\n      <td>0.119606</td>\n      <td>0.521192</td>\n      <td>0.729815</td>\n    </tr>\n    <tr>\n      <th rowspan=\"2\" valign=\"top\">7</th>\n      <th>True</th>\n      <td>0.352150</td>\n      <td>0.556221</td>\n      <td>0.648883</td>\n    </tr>\n    <tr>\n      <th>False</th>\n      <td>0.082440</td>\n      <td>0.513735</td>\n      <td>0.729815</td>\n    </tr>\n  </tbody>\n</table>\n</div>"
     },
     "metadata": {},
     "output_type": "display_data"
    }
   ],
   "source": [
    "rf_results = hyperparameter_tuning_cv(model='random_forest', data=X_fine, labels=y_fine.Label, cv_k=5,\n",
    "                                      params=RANDOM_FOREST_PARAMS)\n",
    "\n",
    "display(rf_results)"
   ]
  },
  {
   "cell_type": "code",
   "execution_count": 34,
   "metadata": {
    "pycharm": {
     "name": "#%%\n"
    },
    "scrolled": true
   },
   "outputs": [
    {
     "data": {
      "text/plain": "                                     f1_score  roc_auc_score  accuracy_score\nmax_depth n_estimators oversampling                                         \n5         7            True          0.383379       0.566733        0.630718",
      "text/html": "<div>\n<style scoped>\n    .dataframe tbody tr th:only-of-type {\n        vertical-align: middle;\n    }\n\n    .dataframe tbody tr th {\n        vertical-align: top;\n    }\n\n    .dataframe thead th {\n        text-align: right;\n    }\n</style>\n<table border=\"1\" class=\"dataframe\">\n  <thead>\n    <tr style=\"text-align: right;\">\n      <th></th>\n      <th></th>\n      <th></th>\n      <th>f1_score</th>\n      <th>roc_auc_score</th>\n      <th>accuracy_score</th>\n    </tr>\n    <tr>\n      <th>max_depth</th>\n      <th>n_estimators</th>\n      <th>oversampling</th>\n      <th></th>\n      <th></th>\n      <th></th>\n    </tr>\n  </thead>\n  <tbody>\n    <tr>\n      <th>5</th>\n      <th>7</th>\n      <th>True</th>\n      <td>0.383379</td>\n      <td>0.566733</td>\n      <td>0.630718</td>\n    </tr>\n  </tbody>\n</table>\n</div>"
     },
     "metadata": {},
     "output_type": "display_data"
    }
   ],
   "source": [
    "# Best model parameters\n",
    "\n",
    "best_rf = rf_results.iloc[[rf_results.reset_index()['roc_auc_score'].idxmax()]]\n",
    "\n",
    "display(best_rf)"
   ]
  },
  {
   "cell_type": "code",
   "execution_count": 35,
   "metadata": {},
   "outputs": [],
   "source": [
    "rf_results_1 = hyperparameter_tuning_cv(\n",
    "    model='random_forest', data=X_e_1, labels=y_e_1, cv_k=5, params=RANDOM_FOREST_PARAMS)\n",
    "rf_results_2 = hyperparameter_tuning_cv(\n",
    "    model='random_forest', data=X_e_2, labels=y_e_2, cv_k=5, params=RANDOM_FOREST_PARAMS)\n",
    "rf_results_3 = hyperparameter_tuning_cv(\n",
    "    model='random_forest', data=X_e_3, labels=y_e_3, cv_k=5, params=RANDOM_FOREST_PARAMS)"
   ]
  },
  {
   "cell_type": "code",
   "execution_count": 36,
   "metadata": {},
   "outputs": [
    {
     "data": {
      "text/plain": "                                     f1_score  roc_auc_score  accuracy_score\nmax_depth n_estimators oversampling                                         \n3         7            True          0.355743        0.64702        0.692058",
      "text/html": "<div>\n<style scoped>\n    .dataframe tbody tr th:only-of-type {\n        vertical-align: middle;\n    }\n\n    .dataframe tbody tr th {\n        vertical-align: top;\n    }\n\n    .dataframe thead th {\n        text-align: right;\n    }\n</style>\n<table border=\"1\" class=\"dataframe\">\n  <thead>\n    <tr style=\"text-align: right;\">\n      <th></th>\n      <th></th>\n      <th></th>\n      <th>f1_score</th>\n      <th>roc_auc_score</th>\n      <th>accuracy_score</th>\n    </tr>\n    <tr>\n      <th>max_depth</th>\n      <th>n_estimators</th>\n      <th>oversampling</th>\n      <th></th>\n      <th></th>\n      <th></th>\n    </tr>\n  </thead>\n  <tbody>\n    <tr>\n      <th>3</th>\n      <th>7</th>\n      <th>True</th>\n      <td>0.355743</td>\n      <td>0.64702</td>\n      <td>0.692058</td>\n    </tr>\n  </tbody>\n</table>\n</div>"
     },
     "metadata": {},
     "output_type": "display_data"
    },
    {
     "data": {
      "text/plain": "                                     f1_score  roc_auc_score  accuracy_score\nmax_depth n_estimators oversampling                                         \n5         7            True          0.282745       0.546703        0.669291",
      "text/html": "<div>\n<style scoped>\n    .dataframe tbody tr th:only-of-type {\n        vertical-align: middle;\n    }\n\n    .dataframe tbody tr th {\n        vertical-align: top;\n    }\n\n    .dataframe thead th {\n        text-align: right;\n    }\n</style>\n<table border=\"1\" class=\"dataframe\">\n  <thead>\n    <tr style=\"text-align: right;\">\n      <th></th>\n      <th></th>\n      <th></th>\n      <th>f1_score</th>\n      <th>roc_auc_score</th>\n      <th>accuracy_score</th>\n    </tr>\n    <tr>\n      <th>max_depth</th>\n      <th>n_estimators</th>\n      <th>oversampling</th>\n      <th></th>\n      <th></th>\n      <th></th>\n    </tr>\n  </thead>\n  <tbody>\n    <tr>\n      <th>5</th>\n      <th>7</th>\n      <th>True</th>\n      <td>0.282745</td>\n      <td>0.546703</td>\n      <td>0.669291</td>\n    </tr>\n  </tbody>\n</table>\n</div>"
     },
     "metadata": {},
     "output_type": "display_data"
    },
    {
     "data": {
      "text/plain": "                                     f1_score  roc_auc_score  accuracy_score\nmax_depth n_estimators oversampling                                         \n7         7            True          0.581136       0.613384        0.616276",
      "text/html": "<div>\n<style scoped>\n    .dataframe tbody tr th:only-of-type {\n        vertical-align: middle;\n    }\n\n    .dataframe tbody tr th {\n        vertical-align: top;\n    }\n\n    .dataframe thead th {\n        text-align: right;\n    }\n</style>\n<table border=\"1\" class=\"dataframe\">\n  <thead>\n    <tr style=\"text-align: right;\">\n      <th></th>\n      <th></th>\n      <th></th>\n      <th>f1_score</th>\n      <th>roc_auc_score</th>\n      <th>accuracy_score</th>\n    </tr>\n    <tr>\n      <th>max_depth</th>\n      <th>n_estimators</th>\n      <th>oversampling</th>\n      <th></th>\n      <th></th>\n      <th></th>\n    </tr>\n  </thead>\n  <tbody>\n    <tr>\n      <th>7</th>\n      <th>7</th>\n      <th>True</th>\n      <td>0.581136</td>\n      <td>0.613384</td>\n      <td>0.616276</td>\n    </tr>\n  </tbody>\n</table>\n</div>"
     },
     "metadata": {},
     "output_type": "display_data"
    }
   ],
   "source": [
    "best_rf_1 = rf_results_1.iloc[[\n",
    "    rf_results_1.reset_index()['roc_auc_score'].idxmax()]]\n",
    "best_rf_2 = rf_results_2.iloc[[\n",
    "    rf_results_2.reset_index()['roc_auc_score'].idxmax()]]\n",
    "best_rf_3 = rf_results_3.iloc[[\n",
    "    rf_results_3.reset_index()['roc_auc_score'].idxmax()]]\n",
    "\n",
    "display(best_rf_1, best_rf_2, best_rf_3)"
   ]
  },
  {
   "cell_type": "markdown",
   "metadata": {
    "pycharm": {
     "name": "#%% md\n"
    }
   },
   "source": [
    "#### 8. Gradient Boosting"
   ]
  },
  {
   "cell_type": "code",
   "execution_count": 37,
   "metadata": {
    "pycharm": {
     "name": "#%%\n"
    }
   },
   "outputs": [
    {
     "data": {
      "text/plain": "                                     f1_score  roc_auc_score  accuracy_score\nmax_depth n_estimators oversampling                                         \n3         3            True          0.353651       0.552765        0.630052\n                       False         0.000000       0.500000        0.730480\n          5            True          0.356908       0.555510        0.634237\n                       False         0.001408       0.500289        0.730575\n          7            True          0.364988       0.559862        0.641274\n                       False         0.004207       0.500862        0.730766\n5         3            True          0.322786       0.549411        0.664384\n                       False         0.001423       0.500227        0.730480\n          5            True          0.308005       0.549489        0.678554\n                       False         0.009757       0.501940        0.731051\n          7            True          0.316451       0.554360        0.682834\n                       False         0.018786       0.503734        0.731526\n7         3            True          0.312629       0.548094        0.673229\n                       False         0.001426       0.500163        0.730385\n          5            True          0.300993       0.549696        0.688065\n                       False         0.021883       0.503718        0.730766\n          7            True          0.289003       0.550665        0.700048\n                       False         0.043470       0.508996        0.733238",
      "text/html": "<div>\n<style scoped>\n    .dataframe tbody tr th:only-of-type {\n        vertical-align: middle;\n    }\n\n    .dataframe tbody tr th {\n        vertical-align: top;\n    }\n\n    .dataframe thead th {\n        text-align: right;\n    }\n</style>\n<table border=\"1\" class=\"dataframe\">\n  <thead>\n    <tr style=\"text-align: right;\">\n      <th></th>\n      <th></th>\n      <th></th>\n      <th>f1_score</th>\n      <th>roc_auc_score</th>\n      <th>accuracy_score</th>\n    </tr>\n    <tr>\n      <th>max_depth</th>\n      <th>n_estimators</th>\n      <th>oversampling</th>\n      <th></th>\n      <th></th>\n      <th></th>\n    </tr>\n  </thead>\n  <tbody>\n    <tr>\n      <th rowspan=\"6\" valign=\"top\">3</th>\n      <th rowspan=\"2\" valign=\"top\">3</th>\n      <th>True</th>\n      <td>0.353651</td>\n      <td>0.552765</td>\n      <td>0.630052</td>\n    </tr>\n    <tr>\n      <th>False</th>\n      <td>0.000000</td>\n      <td>0.500000</td>\n      <td>0.730480</td>\n    </tr>\n    <tr>\n      <th rowspan=\"2\" valign=\"top\">5</th>\n      <th>True</th>\n      <td>0.356908</td>\n      <td>0.555510</td>\n      <td>0.634237</td>\n    </tr>\n    <tr>\n      <th>False</th>\n      <td>0.001408</td>\n      <td>0.500289</td>\n      <td>0.730575</td>\n    </tr>\n    <tr>\n      <th rowspan=\"2\" valign=\"top\">7</th>\n      <th>True</th>\n      <td>0.364988</td>\n      <td>0.559862</td>\n      <td>0.641274</td>\n    </tr>\n    <tr>\n      <th>False</th>\n      <td>0.004207</td>\n      <td>0.500862</td>\n      <td>0.730766</td>\n    </tr>\n    <tr>\n      <th rowspan=\"6\" valign=\"top\">5</th>\n      <th rowspan=\"2\" valign=\"top\">3</th>\n      <th>True</th>\n      <td>0.322786</td>\n      <td>0.549411</td>\n      <td>0.664384</td>\n    </tr>\n    <tr>\n      <th>False</th>\n      <td>0.001423</td>\n      <td>0.500227</td>\n      <td>0.730480</td>\n    </tr>\n    <tr>\n      <th rowspan=\"2\" valign=\"top\">5</th>\n      <th>True</th>\n      <td>0.308005</td>\n      <td>0.549489</td>\n      <td>0.678554</td>\n    </tr>\n    <tr>\n      <th>False</th>\n      <td>0.009757</td>\n      <td>0.501940</td>\n      <td>0.731051</td>\n    </tr>\n    <tr>\n      <th rowspan=\"2\" valign=\"top\">7</th>\n      <th>True</th>\n      <td>0.316451</td>\n      <td>0.554360</td>\n      <td>0.682834</td>\n    </tr>\n    <tr>\n      <th>False</th>\n      <td>0.018786</td>\n      <td>0.503734</td>\n      <td>0.731526</td>\n    </tr>\n    <tr>\n      <th rowspan=\"6\" valign=\"top\">7</th>\n      <th rowspan=\"2\" valign=\"top\">3</th>\n      <th>True</th>\n      <td>0.312629</td>\n      <td>0.548094</td>\n      <td>0.673229</td>\n    </tr>\n    <tr>\n      <th>False</th>\n      <td>0.001426</td>\n      <td>0.500163</td>\n      <td>0.730385</td>\n    </tr>\n    <tr>\n      <th rowspan=\"2\" valign=\"top\">5</th>\n      <th>True</th>\n      <td>0.300993</td>\n      <td>0.549696</td>\n      <td>0.688065</td>\n    </tr>\n    <tr>\n      <th>False</th>\n      <td>0.021883</td>\n      <td>0.503718</td>\n      <td>0.730766</td>\n    </tr>\n    <tr>\n      <th rowspan=\"2\" valign=\"top\">7</th>\n      <th>True</th>\n      <td>0.289003</td>\n      <td>0.550665</td>\n      <td>0.700048</td>\n    </tr>\n    <tr>\n      <th>False</th>\n      <td>0.043470</td>\n      <td>0.508996</td>\n      <td>0.733238</td>\n    </tr>\n  </tbody>\n</table>\n</div>"
     },
     "metadata": {},
     "output_type": "display_data"
    }
   ],
   "source": [
    "gb_results = hyperparameter_tuning_cv(model='gradient_boosting', data=X_fine, labels=y_fine.Label, cv_k=5,\n",
    "                                      params=GRADIENT_BOOSTING_PARAMS)\n",
    "\n",
    "display(gb_results)"
   ]
  },
  {
   "cell_type": "code",
   "execution_count": 38,
   "metadata": {
    "pycharm": {
     "name": "#%%\n"
    },
    "scrolled": true
   },
   "outputs": [
    {
     "data": {
      "text/plain": "                                     f1_score  roc_auc_score  accuracy_score\nmax_depth n_estimators oversampling                                         \n3         7            True          0.364988       0.559862        0.641274",
      "text/html": "<div>\n<style scoped>\n    .dataframe tbody tr th:only-of-type {\n        vertical-align: middle;\n    }\n\n    .dataframe tbody tr th {\n        vertical-align: top;\n    }\n\n    .dataframe thead th {\n        text-align: right;\n    }\n</style>\n<table border=\"1\" class=\"dataframe\">\n  <thead>\n    <tr style=\"text-align: right;\">\n      <th></th>\n      <th></th>\n      <th></th>\n      <th>f1_score</th>\n      <th>roc_auc_score</th>\n      <th>accuracy_score</th>\n    </tr>\n    <tr>\n      <th>max_depth</th>\n      <th>n_estimators</th>\n      <th>oversampling</th>\n      <th></th>\n      <th></th>\n      <th></th>\n    </tr>\n  </thead>\n  <tbody>\n    <tr>\n      <th>3</th>\n      <th>7</th>\n      <th>True</th>\n      <td>0.364988</td>\n      <td>0.559862</td>\n      <td>0.641274</td>\n    </tr>\n  </tbody>\n</table>\n</div>"
     },
     "metadata": {},
     "output_type": "display_data"
    }
   ],
   "source": [
    "# Best model parameters\n",
    "\n",
    "best_gb = gb_results.iloc[[gb_results.reset_index()['roc_auc_score'].idxmax()]]\n",
    "\n",
    "display(best_gb)"
   ]
  },
  {
   "cell_type": "code",
   "execution_count": 39,
   "metadata": {},
   "outputs": [],
   "source": [
    "gb_results_1 = hyperparameter_tuning_cv(\n",
    "    model='gradient_boosting', data=X_e_1, labels=y_e_1, cv_k=5, params=GRADIENT_BOOSTING_PARAMS)\n",
    "gb_results_2 = hyperparameter_tuning_cv(\n",
    "    model='gradient_boosting', data=X_e_2, labels=y_e_2, cv_k=5, params=GRADIENT_BOOSTING_PARAMS)\n",
    "gb_results_3 = hyperparameter_tuning_cv(\n",
    "    model='gradient_boosting', data=X_e_3, labels=y_e_3, cv_k=5, params=GRADIENT_BOOSTING_PARAMS)"
   ]
  },
  {
   "cell_type": "code",
   "execution_count": 40,
   "metadata": {},
   "outputs": [
    {
     "data": {
      "text/plain": "                                     f1_score  roc_auc_score  accuracy_score\nmax_depth n_estimators oversampling                                         \n7         3            True          0.361354       0.644428        0.733874",
      "text/html": "<div>\n<style scoped>\n    .dataframe tbody tr th:only-of-type {\n        vertical-align: middle;\n    }\n\n    .dataframe tbody tr th {\n        vertical-align: top;\n    }\n\n    .dataframe thead th {\n        text-align: right;\n    }\n</style>\n<table border=\"1\" class=\"dataframe\">\n  <thead>\n    <tr style=\"text-align: right;\">\n      <th></th>\n      <th></th>\n      <th></th>\n      <th>f1_score</th>\n      <th>roc_auc_score</th>\n      <th>accuracy_score</th>\n    </tr>\n    <tr>\n      <th>max_depth</th>\n      <th>n_estimators</th>\n      <th>oversampling</th>\n      <th></th>\n      <th></th>\n      <th></th>\n    </tr>\n  </thead>\n  <tbody>\n    <tr>\n      <th>7</th>\n      <th>3</th>\n      <th>True</th>\n      <td>0.361354</td>\n      <td>0.644428</td>\n      <td>0.733874</td>\n    </tr>\n  </tbody>\n</table>\n</div>"
     },
     "metadata": {},
     "output_type": "display_data"
    },
    {
     "data": {
      "text/plain": "                                     f1_score  roc_auc_score  accuracy_score\nmax_depth n_estimators oversampling                                         \n3         7            True           0.30588        0.56181        0.661155",
      "text/html": "<div>\n<style scoped>\n    .dataframe tbody tr th:only-of-type {\n        vertical-align: middle;\n    }\n\n    .dataframe tbody tr th {\n        vertical-align: top;\n    }\n\n    .dataframe thead th {\n        text-align: right;\n    }\n</style>\n<table border=\"1\" class=\"dataframe\">\n  <thead>\n    <tr style=\"text-align: right;\">\n      <th></th>\n      <th></th>\n      <th></th>\n      <th>f1_score</th>\n      <th>roc_auc_score</th>\n      <th>accuracy_score</th>\n    </tr>\n    <tr>\n      <th>max_depth</th>\n      <th>n_estimators</th>\n      <th>oversampling</th>\n      <th></th>\n      <th></th>\n      <th></th>\n    </tr>\n  </thead>\n  <tbody>\n    <tr>\n      <th>3</th>\n      <th>7</th>\n      <th>True</th>\n      <td>0.30588</td>\n      <td>0.56181</td>\n      <td>0.661155</td>\n    </tr>\n  </tbody>\n</table>\n</div>"
     },
     "metadata": {},
     "output_type": "display_data"
    },
    {
     "data": {
      "text/plain": "                                     f1_score  roc_auc_score  accuracy_score\nmax_depth n_estimators oversampling                                         \n7         7            True          0.611766       0.639416        0.641931",
      "text/html": "<div>\n<style scoped>\n    .dataframe tbody tr th:only-of-type {\n        vertical-align: middle;\n    }\n\n    .dataframe tbody tr th {\n        vertical-align: top;\n    }\n\n    .dataframe thead th {\n        text-align: right;\n    }\n</style>\n<table border=\"1\" class=\"dataframe\">\n  <thead>\n    <tr style=\"text-align: right;\">\n      <th></th>\n      <th></th>\n      <th></th>\n      <th>f1_score</th>\n      <th>roc_auc_score</th>\n      <th>accuracy_score</th>\n    </tr>\n    <tr>\n      <th>max_depth</th>\n      <th>n_estimators</th>\n      <th>oversampling</th>\n      <th></th>\n      <th></th>\n      <th></th>\n    </tr>\n  </thead>\n  <tbody>\n    <tr>\n      <th>7</th>\n      <th>7</th>\n      <th>True</th>\n      <td>0.611766</td>\n      <td>0.639416</td>\n      <td>0.641931</td>\n    </tr>\n  </tbody>\n</table>\n</div>"
     },
     "metadata": {},
     "output_type": "display_data"
    }
   ],
   "source": [
    "best_gb_1 = gb_results_1.iloc[[\n",
    "    gb_results_1.reset_index()['roc_auc_score'].idxmax()]]\n",
    "best_gb_2 = gb_results_2.iloc[[\n",
    "    gb_results_2.reset_index()['roc_auc_score'].idxmax()]]\n",
    "best_gb_3 = gb_results_3.iloc[[\n",
    "    gb_results_3.reset_index()['roc_auc_score'].idxmax()]]\n",
    "display(best_gb_1, best_gb_2, best_gb_3)"
   ]
  },
  {
   "cell_type": "markdown",
   "metadata": {},
   "source": [
    "### Results"
   ]
  },
  {
   "cell_type": "code",
   "execution_count": 41,
   "metadata": {
    "pycharm": {
     "name": "#%%\n"
    }
   },
   "outputs": [],
   "source": [
    "#display('logistic', best_log)\n",
    "#display('lda', best_lda)\n",
    "#display('knn', best_knn)\n",
    "#display('svc', best_svc)\n",
    "#display('naive_bayes', best_nb)\n",
    "#display('decision_tree', best_dt)\n",
    "#display('random_forest', best_rf)\n",
    "#display('gradient_boosting', best_gb)"
   ]
  },
  {
   "cell_type": "code",
   "execution_count": 42,
   "metadata": {},
   "outputs": [],
   "source": [
    "weighted_average = (np.array([len(X_e_1), len(X_e_2), len(X_e_3)]) / len(X_e))\n",
    "\n",
    "e_log = np.sum(pd.concat([best_log_1, best_log_2, best_log_3]\n",
    "                         ).roc_auc_score.values * weighted_average)\n",
    "e_lda = np.sum(pd.concat([best_lda_1, best_lda_2, best_lda_3]\n",
    "                         ).roc_auc_score.values * weighted_average)\n",
    "e_knn = np.sum(pd.concat([best_knn_1, best_knn_2, best_knn_3]\n",
    "                         ).roc_auc_score.values * weighted_average)\n",
    "e_svc = np.sum(pd.concat([best_svc_1, best_svc_2, best_svc_3]\n",
    "                         ).roc_auc_score.values * weighted_average)\n",
    "e_nb = np.sum(pd.concat([best_nb_1, best_nb_2, best_nb_3]\n",
    "                        ).roc_auc_score.values * weighted_average)\n",
    "e_dt = np.sum(pd.concat([best_dt_1, best_dt_2, best_dt_3]\n",
    "                        ).roc_auc_score.values * weighted_average)\n",
    "e_rf = np.sum(pd.concat([best_rf_1, best_rf_2, best_rf_3]\n",
    "                        ).roc_auc_score.values * weighted_average)\n",
    "e_gb = np.sum(pd.concat([best_gb_1, best_gb_2, best_gb_3]\n",
    "                        ).roc_auc_score.values * weighted_average)"
   ]
  },
  {
   "cell_type": "code",
   "execution_count": 43,
   "metadata": {},
   "outputs": [
    {
     "data": {
      "text/plain": "'knn'"
     },
     "metadata": {},
     "output_type": "display_data"
    },
    {
     "data": {
      "text/plain": "                          f1_score  roc_auc_score  accuracy_score\nn_neighbors oversampling                                         \n1           True          0.429214       0.729216        0.703079\n            True          0.434726       0.674297        0.674803\n            True          0.689127       0.703541        0.703724",
      "text/html": "<div>\n<style scoped>\n    .dataframe tbody tr th:only-of-type {\n        vertical-align: middle;\n    }\n\n    .dataframe tbody tr th {\n        vertical-align: top;\n    }\n\n    .dataframe thead th {\n        text-align: right;\n    }\n</style>\n<table border=\"1\" class=\"dataframe\">\n  <thead>\n    <tr style=\"text-align: right;\">\n      <th></th>\n      <th></th>\n      <th>f1_score</th>\n      <th>roc_auc_score</th>\n      <th>accuracy_score</th>\n    </tr>\n    <tr>\n      <th>n_neighbors</th>\n      <th>oversampling</th>\n      <th></th>\n      <th></th>\n      <th></th>\n    </tr>\n  </thead>\n  <tbody>\n    <tr>\n      <th rowspan=\"3\" valign=\"top\">1</th>\n      <th>True</th>\n      <td>0.429214</td>\n      <td>0.729216</td>\n      <td>0.703079</td>\n    </tr>\n    <tr>\n      <th>True</th>\n      <td>0.434726</td>\n      <td>0.674297</td>\n      <td>0.674803</td>\n    </tr>\n    <tr>\n      <th>True</th>\n      <td>0.689127</td>\n      <td>0.703541</td>\n      <td>0.703724</td>\n    </tr>\n  </tbody>\n</table>\n</div>"
     },
     "metadata": {},
     "output_type": "display_data"
    }
   ],
   "source": [
    "# Results expert features\n",
    "# First row is Expert 1, second Expert 2, third Expert 3\n",
    "#display('logistic', pd.concat([best_log_1,best_log_2,best_log_3]))\n",
    "#display('lda', pd.concat([best_lda_1,best_lda_2,best_lda_3]))\n",
    "display('knn', pd.concat([best_knn_1, best_knn_2, best_knn_3]))\n",
    "#display('svc', pd.concat([best_svc_1,best_svc_2,best_svc_3]))\n",
    "#display('naive_bayes', pd.concat([best_nb_1,best_nb_2,best_nb_3]))\n",
    "#display('decision_tree', pd.concat([best_dt_1,best_dt_2,best_dt_3]))\n",
    "#display('random_forest', pd.concat([best_rf_1,best_rf_2,best_rf_3]))\n",
    "#display('gradient_boosting', pd.concat([best_gb_1,best_gb_2,best_gb_3]))"
   ]
  },
  {
   "cell_type": "code",
   "execution_count": 44,
   "metadata": {},
   "outputs": [
    {
     "data": {
      "text/plain": "              models  auc_best  auc_expert_weighted\n0           logistic  0.579228             0.621144\n1                lda  0.581468             0.625879\n2                knn  0.646364             0.700479\n3                svc  0.602052             0.636241\n4        naive_bayes  0.558792             0.578915\n5      decision_tree  0.548584             0.587115\n6      random_forest  0.566733             0.599100\n7  gradient_boosting  0.559862             0.612784",
      "text/html": "<div>\n<style scoped>\n    .dataframe tbody tr th:only-of-type {\n        vertical-align: middle;\n    }\n\n    .dataframe tbody tr th {\n        vertical-align: top;\n    }\n\n    .dataframe thead th {\n        text-align: right;\n    }\n</style>\n<table border=\"1\" class=\"dataframe\">\n  <thead>\n    <tr style=\"text-align: right;\">\n      <th></th>\n      <th>models</th>\n      <th>auc_best</th>\n      <th>auc_expert_weighted</th>\n    </tr>\n  </thead>\n  <tbody>\n    <tr>\n      <th>0</th>\n      <td>logistic</td>\n      <td>0.579228</td>\n      <td>0.621144</td>\n    </tr>\n    <tr>\n      <th>1</th>\n      <td>lda</td>\n      <td>0.581468</td>\n      <td>0.625879</td>\n    </tr>\n    <tr>\n      <th>2</th>\n      <td>knn</td>\n      <td>0.646364</td>\n      <td>0.700479</td>\n    </tr>\n    <tr>\n      <th>3</th>\n      <td>svc</td>\n      <td>0.602052</td>\n      <td>0.636241</td>\n    </tr>\n    <tr>\n      <th>4</th>\n      <td>naive_bayes</td>\n      <td>0.558792</td>\n      <td>0.578915</td>\n    </tr>\n    <tr>\n      <th>5</th>\n      <td>decision_tree</td>\n      <td>0.548584</td>\n      <td>0.587115</td>\n    </tr>\n    <tr>\n      <th>6</th>\n      <td>random_forest</td>\n      <td>0.566733</td>\n      <td>0.599100</td>\n    </tr>\n    <tr>\n      <th>7</th>\n      <td>gradient_boosting</td>\n      <td>0.559862</td>\n      <td>0.612784</td>\n    </tr>\n  </tbody>\n</table>\n</div>"
     },
     "metadata": {},
     "output_type": "display_data"
    }
   ],
   "source": [
    "results = pd.DataFrame(data={'models': ['logistic', 'lda', 'knn', 'svc', 'naive_bayes', 'decision_tree',\n",
    "                                        'random_forest', 'gradient_boosting'],\n",
    "                             'auc_best': [best_log.roc_auc_score.values[0], best_lda.roc_auc_score.values[0],\n",
    "                                          best_knn.roc_auc_score.values[0], best_svc.roc_auc_score.values[0],\n",
    "                                          best_nb.roc_auc_score.values[0], best_dt.roc_auc_score.values[0],\n",
    "                                          best_rf.roc_auc_score.values[0], best_gb.roc_auc_score.values[0]],\n",
    "                             'auc_expert_weighted': [e_log, e_lda, e_knn, e_svc, e_nb, e_dt, e_rf, e_gb]})\n",
    "\n",
    "display(results)"
   ]
  },
  {
   "cell_type": "markdown",
   "metadata": {
    "pycharm": {
     "name": "#%% md\n"
    }
   },
   "source": [
    "### Conclusions"
   ]
  },
  {
   "cell_type": "code",
   "execution_count": 45,
   "metadata": {},
   "outputs": [],
   "source": [
    "# Save dataframe\n",
    "# results.to_pickle(\"results_fine_no_metadata.pkl\")"
   ]
  },
  {
   "cell_type": "code",
   "execution_count": 46,
   "metadata": {},
   "outputs": [
    {
     "data": {
      "text/plain": "auc_best               0.580385\nauc_expert_weighted    0.620207\ndtype: float64"
     },
     "execution_count": 46,
     "metadata": {},
     "output_type": "execute_result"
    }
   ],
   "source": [
    "results.mean(axis=0)"
   ]
  },
  {
   "cell_type": "code",
   "execution_count": 47,
   "metadata": {},
   "outputs": [
    {
     "data": {
      "text/plain": "models                      knn\nauc_best               0.646364\nauc_expert_weighted    0.700479\nName: 2, dtype: object"
     },
     "execution_count": 47,
     "metadata": {},
     "output_type": "execute_result"
    }
   ],
   "source": [
    "results.loc[results['auc_best'].argmax()]"
   ]
  },
  {
   "cell_type": "code",
   "execution_count": 48,
   "metadata": {
    "pycharm": {
     "name": "#%%\n"
    }
   },
   "outputs": [
    {
     "data": {
      "text/plain": "models                      knn\nauc_best               0.646364\nauc_expert_weighted    0.700479\nName: 2, dtype: object"
     },
     "execution_count": 48,
     "metadata": {},
     "output_type": "execute_result"
    }
   ],
   "source": [
    "results.loc[results['auc_expert_weighted'].argmax()]"
   ]
  }
 ],
 "metadata": {
  "kernelspec": {
   "name": "pycharm-97a0754f",
   "language": "python",
   "display_name": "PyCharm (cs-433-project-2-cough_classifier)"
  },
  "language_info": {
   "codemirror_mode": {
    "name": "ipython",
    "version": 3
   },
   "file_extension": ".py",
   "mimetype": "text/x-python",
   "name": "python",
   "nbconvert_exporter": "python",
   "pygments_lexer": "ipython3",
   "version": "3.8.5"
  }
 },
 "nbformat": 4,
 "nbformat_minor": 4
}