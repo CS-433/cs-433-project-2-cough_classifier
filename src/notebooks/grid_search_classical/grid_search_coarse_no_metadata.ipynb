{
 "cells": [
  {
   "cell_type": "markdown",
   "metadata": {},
   "source": [
    "### Import libraries"
   ]
  },
  {
   "cell_type": "code",
   "execution_count": 22,
   "metadata": {
    "scrolled": true
   },
   "outputs": [],
   "source": [
    "from IPython.core.display import display\n",
    "from src.utils.preprocessing import classic_preprocessing\n",
    "from src.utils.get_data import import_data, split_experts\n",
    "from src.utils.train import hyperparameter_tuning_cv\n",
    "from src.utils.config import *\n",
    "import pandas as pd\n",
    "import numpy as np"
   ]
  },
  {
   "cell_type": "code",
   "execution_count": 23,
   "metadata": {
    "pycharm": {
     "name": "#%%\n"
    }
   },
   "outputs": [
    {
     "name": "stdout",
     "output_type": "stream",
     "text": [
      "The autoreload extension is already loaded. To reload it, use:\n",
      "  %reload_ext autoreload\n"
     ]
    }
   ],
   "source": [
    "%load_ext autoreload\n",
    "%autoreload 2"
   ]
  },
  {
   "cell_type": "markdown",
   "metadata": {},
   "source": [
    "### Load Data"
   ]
  },
  {
   "cell_type": "code",
   "execution_count": 24,
   "metadata": {},
   "outputs": [],
   "source": [
    "DATA_PATH = '../../../data'\n",
    "X_coarse, y_coarse = import_data(DATA_PATH, segmentation_type='coarse',\n",
    "                                 drop_user_features=True,\n",
    "                                 drop_expert=True)"
   ]
  },
  {
   "cell_type": "code",
   "execution_count": 25,
   "metadata": {},
   "outputs": [],
   "source": [
    "# For each expert separately\n",
    "X_e, y_e = import_data(DATA_PATH, segmentation_type='coarse',\n",
    "                       drop_user_features=True,\n",
    "                       drop_expert=False)"
   ]
  },
  {
   "cell_type": "code",
   "execution_count": 26,
   "metadata": {
    "collapsed": true,
    "jupyter": {
     "outputs_hidden": true
    },
    "pycharm": {
     "name": "#%%\n"
    }
   },
   "outputs": [
    {
     "data": {
      "text/plain": "                                              EEPD50_100  EEPD100_150  \\\nsubject                              file_id                            \n008ba489-31ad-44d8-856b-fcf72369dc46 0               8.0          8.0   \n                                     1               2.0          3.0   \n008c1c9e-aeef-40c5-846c-24f1b964f884 0               4.0          4.0   \n                                     1               3.0          5.0   \n00bf9f83-2e8f-47cf-a4f2-97f2beceebc1 0               6.0          6.0   \n\n                                              EEPD150_200  EEPD200_250  \\\nsubject                              file_id                             \n008ba489-31ad-44d8-856b-fcf72369dc46 0                7.0          6.0   \n                                     1                2.0          3.0   \n008c1c9e-aeef-40c5-846c-24f1b964f884 0                4.0          4.0   \n                                     1                5.0          6.0   \n00bf9f83-2e8f-47cf-a4f2-97f2beceebc1 0                6.0          7.0   \n\n                                              EEPD250_300  EEPD300_350  \\\nsubject                              file_id                             \n008ba489-31ad-44d8-856b-fcf72369dc46 0                7.0          9.0   \n                                     1                2.0          2.0   \n008c1c9e-aeef-40c5-846c-24f1b964f884 0                6.0          6.0   \n                                     1                4.0          5.0   \n00bf9f83-2e8f-47cf-a4f2-97f2beceebc1 0                6.0          7.0   \n\n                                              EEPD350_400  EEPD400_450  \\\nsubject                              file_id                             \n008ba489-31ad-44d8-856b-fcf72369dc46 0                7.0          7.0   \n                                     1                3.0          3.0   \n008c1c9e-aeef-40c5-846c-24f1b964f884 0                5.0          5.0   \n                                     1                6.0          5.0   \n00bf9f83-2e8f-47cf-a4f2-97f2beceebc1 0                6.0          6.0   \n\n                                              EEPD450_500  EEPD500_550  ...  \\\nsubject                              file_id                            ...   \n008ba489-31ad-44d8-856b-fcf72369dc46 0                7.0          8.0  ...   \n                                     1                3.0          3.0  ...   \n008c1c9e-aeef-40c5-846c-24f1b964f884 0                5.0          5.0  ...   \n                                     1                5.0          4.0  ...   \n00bf9f83-2e8f-47cf-a4f2-97f2beceebc1 0                8.0          6.0  ...   \n\n                                              MFCC_std11  MFCC_std12  \\\nsubject                              file_id                           \n008ba489-31ad-44d8-856b-fcf72369dc46 0         14.163379   10.952018   \n                                     1         11.684959    9.106066   \n008c1c9e-aeef-40c5-846c-24f1b964f884 0         13.539921    8.786539   \n                                     1         12.846291    7.035100   \n00bf9f83-2e8f-47cf-a4f2-97f2beceebc1 0         14.501091    9.551842   \n\n                                              Crest_Factor  Cough_Length  \\\nsubject                              file_id                               \n008ba489-31ad-44d8-856b-fcf72369dc46 0            8.365480      1.036563   \n                                     1            9.348207      0.378625   \n008c1c9e-aeef-40c5-846c-24f1b964f884 0            5.222938      0.765625   \n                                     1            4.402501      0.794125   \n00bf9f83-2e8f-47cf-a4f2-97f2beceebc1 0            4.234178      0.860250   \n\n                                              PSD_225-425  PSD_450-550  \\\nsubject                              file_id                             \n008ba489-31ad-44d8-856b-fcf72369dc46 0           0.314239     0.027049   \n                                     1           0.093550     0.107780   \n008c1c9e-aeef-40c5-846c-24f1b964f884 0           0.160032     0.034572   \n                                     1           0.050611     0.050448   \n00bf9f83-2e8f-47cf-a4f2-97f2beceebc1 0           0.264409     0.050780   \n\n                                              PSD_1325-1600  PSD_1600-2000  \\\nsubject                              file_id                                 \n008ba489-31ad-44d8-856b-fcf72369dc46 0             0.015518       0.030041   \n                                     1             0.013997       0.008304   \n008c1c9e-aeef-40c5-846c-24f1b964f884 0             0.017697       0.029626   \n                                     1             0.036759       0.036765   \n00bf9f83-2e8f-47cf-a4f2-97f2beceebc1 0             0.020884       0.008068   \n\n                                              PSD_2500-2900  PSD_3100-3700  \nsubject                              file_id                                \n008ba489-31ad-44d8-856b-fcf72369dc46 0             0.047090       0.009558  \n                                     1             0.045378       0.007341  \n008c1c9e-aeef-40c5-846c-24f1b964f884 0             0.027728       0.047036  \n                                     1             0.032501       0.050735  \n00bf9f83-2e8f-47cf-a4f2-97f2beceebc1 0             0.002585       0.004144  \n\n[5 rows x 66 columns]",
      "text/html": "<div>\n<style scoped>\n    .dataframe tbody tr th:only-of-type {\n        vertical-align: middle;\n    }\n\n    .dataframe tbody tr th {\n        vertical-align: top;\n    }\n\n    .dataframe thead th {\n        text-align: right;\n    }\n</style>\n<table border=\"1\" class=\"dataframe\">\n  <thead>\n    <tr style=\"text-align: right;\">\n      <th></th>\n      <th></th>\n      <th>EEPD50_100</th>\n      <th>EEPD100_150</th>\n      <th>EEPD150_200</th>\n      <th>EEPD200_250</th>\n      <th>EEPD250_300</th>\n      <th>EEPD300_350</th>\n      <th>EEPD350_400</th>\n      <th>EEPD400_450</th>\n      <th>EEPD450_500</th>\n      <th>EEPD500_550</th>\n      <th>...</th>\n      <th>MFCC_std11</th>\n      <th>MFCC_std12</th>\n      <th>Crest_Factor</th>\n      <th>Cough_Length</th>\n      <th>PSD_225-425</th>\n      <th>PSD_450-550</th>\n      <th>PSD_1325-1600</th>\n      <th>PSD_1600-2000</th>\n      <th>PSD_2500-2900</th>\n      <th>PSD_3100-3700</th>\n    </tr>\n    <tr>\n      <th>subject</th>\n      <th>file_id</th>\n      <th></th>\n      <th></th>\n      <th></th>\n      <th></th>\n      <th></th>\n      <th></th>\n      <th></th>\n      <th></th>\n      <th></th>\n      <th></th>\n      <th></th>\n      <th></th>\n      <th></th>\n      <th></th>\n      <th></th>\n      <th></th>\n      <th></th>\n      <th></th>\n      <th></th>\n      <th></th>\n      <th></th>\n    </tr>\n  </thead>\n  <tbody>\n    <tr>\n      <th rowspan=\"2\" valign=\"top\">008ba489-31ad-44d8-856b-fcf72369dc46</th>\n      <th>0</th>\n      <td>8.0</td>\n      <td>8.0</td>\n      <td>7.0</td>\n      <td>6.0</td>\n      <td>7.0</td>\n      <td>9.0</td>\n      <td>7.0</td>\n      <td>7.0</td>\n      <td>7.0</td>\n      <td>8.0</td>\n      <td>...</td>\n      <td>14.163379</td>\n      <td>10.952018</td>\n      <td>8.365480</td>\n      <td>1.036563</td>\n      <td>0.314239</td>\n      <td>0.027049</td>\n      <td>0.015518</td>\n      <td>0.030041</td>\n      <td>0.047090</td>\n      <td>0.009558</td>\n    </tr>\n    <tr>\n      <th>1</th>\n      <td>2.0</td>\n      <td>3.0</td>\n      <td>2.0</td>\n      <td>3.0</td>\n      <td>2.0</td>\n      <td>2.0</td>\n      <td>3.0</td>\n      <td>3.0</td>\n      <td>3.0</td>\n      <td>3.0</td>\n      <td>...</td>\n      <td>11.684959</td>\n      <td>9.106066</td>\n      <td>9.348207</td>\n      <td>0.378625</td>\n      <td>0.093550</td>\n      <td>0.107780</td>\n      <td>0.013997</td>\n      <td>0.008304</td>\n      <td>0.045378</td>\n      <td>0.007341</td>\n    </tr>\n    <tr>\n      <th rowspan=\"2\" valign=\"top\">008c1c9e-aeef-40c5-846c-24f1b964f884</th>\n      <th>0</th>\n      <td>4.0</td>\n      <td>4.0</td>\n      <td>4.0</td>\n      <td>4.0</td>\n      <td>6.0</td>\n      <td>6.0</td>\n      <td>5.0</td>\n      <td>5.0</td>\n      <td>5.0</td>\n      <td>5.0</td>\n      <td>...</td>\n      <td>13.539921</td>\n      <td>8.786539</td>\n      <td>5.222938</td>\n      <td>0.765625</td>\n      <td>0.160032</td>\n      <td>0.034572</td>\n      <td>0.017697</td>\n      <td>0.029626</td>\n      <td>0.027728</td>\n      <td>0.047036</td>\n    </tr>\n    <tr>\n      <th>1</th>\n      <td>3.0</td>\n      <td>5.0</td>\n      <td>5.0</td>\n      <td>6.0</td>\n      <td>4.0</td>\n      <td>5.0</td>\n      <td>6.0</td>\n      <td>5.0</td>\n      <td>5.0</td>\n      <td>4.0</td>\n      <td>...</td>\n      <td>12.846291</td>\n      <td>7.035100</td>\n      <td>4.402501</td>\n      <td>0.794125</td>\n      <td>0.050611</td>\n      <td>0.050448</td>\n      <td>0.036759</td>\n      <td>0.036765</td>\n      <td>0.032501</td>\n      <td>0.050735</td>\n    </tr>\n    <tr>\n      <th>00bf9f83-2e8f-47cf-a4f2-97f2beceebc1</th>\n      <th>0</th>\n      <td>6.0</td>\n      <td>6.0</td>\n      <td>6.0</td>\n      <td>7.0</td>\n      <td>6.0</td>\n      <td>7.0</td>\n      <td>6.0</td>\n      <td>6.0</td>\n      <td>8.0</td>\n      <td>6.0</td>\n      <td>...</td>\n      <td>14.501091</td>\n      <td>9.551842</td>\n      <td>4.234178</td>\n      <td>0.860250</td>\n      <td>0.264409</td>\n      <td>0.050780</td>\n      <td>0.020884</td>\n      <td>0.008068</td>\n      <td>0.002585</td>\n      <td>0.004144</td>\n    </tr>\n  </tbody>\n</table>\n<p>5 rows × 66 columns</p>\n</div>"
     },
     "metadata": {},
     "output_type": "display_data"
    },
    {
     "data": {
      "text/plain": "                                              Label\nsubject                              file_id       \n008ba489-31ad-44d8-856b-fcf72369dc46 0          1.0\n                                     1          1.0\n008c1c9e-aeef-40c5-846c-24f1b964f884 0          1.0\n                                     1          1.0\n00bf9f83-2e8f-47cf-a4f2-97f2beceebc1 0          1.0",
      "text/html": "<div>\n<style scoped>\n    .dataframe tbody tr th:only-of-type {\n        vertical-align: middle;\n    }\n\n    .dataframe tbody tr th {\n        vertical-align: top;\n    }\n\n    .dataframe thead th {\n        text-align: right;\n    }\n</style>\n<table border=\"1\" class=\"dataframe\">\n  <thead>\n    <tr style=\"text-align: right;\">\n      <th></th>\n      <th></th>\n      <th>Label</th>\n    </tr>\n    <tr>\n      <th>subject</th>\n      <th>file_id</th>\n      <th></th>\n    </tr>\n  </thead>\n  <tbody>\n    <tr>\n      <th rowspan=\"2\" valign=\"top\">008ba489-31ad-44d8-856b-fcf72369dc46</th>\n      <th>0</th>\n      <td>1.0</td>\n    </tr>\n    <tr>\n      <th>1</th>\n      <td>1.0</td>\n    </tr>\n    <tr>\n      <th rowspan=\"2\" valign=\"top\">008c1c9e-aeef-40c5-846c-24f1b964f884</th>\n      <th>0</th>\n      <td>1.0</td>\n    </tr>\n    <tr>\n      <th>1</th>\n      <td>1.0</td>\n    </tr>\n    <tr>\n      <th>00bf9f83-2e8f-47cf-a4f2-97f2beceebc1</th>\n      <th>0</th>\n      <td>1.0</td>\n    </tr>\n  </tbody>\n</table>\n</div>"
     },
     "metadata": {},
     "output_type": "display_data"
    }
   ],
   "source": [
    "display(X_coarse.head())\n",
    "display(y_coarse.head())"
   ]
  },
  {
   "cell_type": "markdown",
   "metadata": {},
   "source": [
    "### Preprocessing"
   ]
  },
  {
   "cell_type": "code",
   "execution_count": 27,
   "metadata": {},
   "outputs": [],
   "source": [
    "X_coarse = classic_preprocessing(X_coarse, stop=None, dummy=False)"
   ]
  },
  {
   "cell_type": "code",
   "execution_count": 28,
   "metadata": {},
   "outputs": [],
   "source": [
    "# Save the expert feature for split\n",
    "expert = X_e['Expert'].copy()\n",
    "X_e = classic_preprocessing(X_e, stop=None, dummy=False)\n",
    "X_e['Expert'] = expert.values"
   ]
  },
  {
   "cell_type": "markdown",
   "metadata": {},
   "source": [
    "### Split expert models"
   ]
  },
  {
   "cell_type": "code",
   "execution_count": 29,
   "metadata": {},
   "outputs": [],
   "source": [
    "X_e_1, y_e_1, X_e_2, y_e_2, X_e_3, y_e_3 = split_experts(X_e, y_e)"
   ]
  },
  {
   "cell_type": "markdown",
   "metadata": {},
   "source": [
    "### Grid search"
   ]
  },
  {
   "cell_type": "markdown",
   "metadata": {
    "pycharm": {
     "name": "#%% md\n"
    }
   },
   "source": [
    "#### 1. Logistic regression"
   ]
  },
  {
   "cell_type": "code",
   "execution_count": 30,
   "metadata": {
    "pycharm": {
     "name": "#%%\n"
    },
    "scrolled": true
   },
   "outputs": [
    {
     "data": {
      "text/plain": "                       f1_score  roc_auc_score  accuracy_score\nmax_iter oversampling                                         \n10000    True          0.441111       0.597721        0.601744\n         False         0.173302       0.530912        0.728295\n100000   True          0.441111       0.597721        0.601744\n         False         0.173302       0.530912        0.728295",
      "text/html": "<div>\n<style scoped>\n    .dataframe tbody tr th:only-of-type {\n        vertical-align: middle;\n    }\n\n    .dataframe tbody tr th {\n        vertical-align: top;\n    }\n\n    .dataframe thead th {\n        text-align: right;\n    }\n</style>\n<table border=\"1\" class=\"dataframe\">\n  <thead>\n    <tr style=\"text-align: right;\">\n      <th></th>\n      <th></th>\n      <th>f1_score</th>\n      <th>roc_auc_score</th>\n      <th>accuracy_score</th>\n    </tr>\n    <tr>\n      <th>max_iter</th>\n      <th>oversampling</th>\n      <th></th>\n      <th></th>\n      <th></th>\n    </tr>\n  </thead>\n  <tbody>\n    <tr>\n      <th rowspan=\"2\" valign=\"top\">10000</th>\n      <th>True</th>\n      <td>0.441111</td>\n      <td>0.597721</td>\n      <td>0.601744</td>\n    </tr>\n    <tr>\n      <th>False</th>\n      <td>0.173302</td>\n      <td>0.530912</td>\n      <td>0.728295</td>\n    </tr>\n    <tr>\n      <th rowspan=\"2\" valign=\"top\">100000</th>\n      <th>True</th>\n      <td>0.441111</td>\n      <td>0.597721</td>\n      <td>0.601744</td>\n    </tr>\n    <tr>\n      <th>False</th>\n      <td>0.173302</td>\n      <td>0.530912</td>\n      <td>0.728295</td>\n    </tr>\n  </tbody>\n</table>\n</div>"
     },
     "metadata": {},
     "output_type": "display_data"
    }
   ],
   "source": [
    "log_results = hyperparameter_tuning_cv(model='logistic', data=X_coarse, labels=y_coarse.Label, cv_k=5,\n",
    "                                       params=LOGISTIC_PARAMS)\n",
    "\n",
    "display(log_results)"
   ]
  },
  {
   "cell_type": "code",
   "execution_count": 31,
   "metadata": {
    "pycharm": {
     "name": "#%%\n"
    }
   },
   "outputs": [
    {
     "data": {
      "text/plain": "                       f1_score  roc_auc_score  accuracy_score\nmax_iter oversampling                                         \n10000    True          0.441111       0.597721        0.601744",
      "text/html": "<div>\n<style scoped>\n    .dataframe tbody tr th:only-of-type {\n        vertical-align: middle;\n    }\n\n    .dataframe tbody tr th {\n        vertical-align: top;\n    }\n\n    .dataframe thead th {\n        text-align: right;\n    }\n</style>\n<table border=\"1\" class=\"dataframe\">\n  <thead>\n    <tr style=\"text-align: right;\">\n      <th></th>\n      <th></th>\n      <th>f1_score</th>\n      <th>roc_auc_score</th>\n      <th>accuracy_score</th>\n    </tr>\n    <tr>\n      <th>max_iter</th>\n      <th>oversampling</th>\n      <th></th>\n      <th></th>\n      <th></th>\n    </tr>\n  </thead>\n  <tbody>\n    <tr>\n      <th>10000</th>\n      <th>True</th>\n      <td>0.441111</td>\n      <td>0.597721</td>\n      <td>0.601744</td>\n    </tr>\n  </tbody>\n</table>\n</div>"
     },
     "metadata": {},
     "output_type": "display_data"
    }
   ],
   "source": [
    "# Best model parameters\n",
    "\n",
    "best_log = log_results.iloc[[log_results.reset_index()['roc_auc_score'].idxmax()]]\n",
    "\n",
    "display(best_log)"
   ]
  },
  {
   "cell_type": "code",
   "execution_count": 32,
   "metadata": {},
   "outputs": [],
   "source": [
    "# for each expert\n",
    "log_results_1 = hyperparameter_tuning_cv(model='logistic', data=X_e_1, labels=y_e_1, cv_k=5,\n",
    "                                         params=LOGISTIC_PARAMS)\n",
    "log_results_2 = hyperparameter_tuning_cv(model='logistic', data=X_e_2, labels=y_e_2, cv_k=5,\n",
    "                                         params=LOGISTIC_PARAMS)\n",
    "log_results_3 = hyperparameter_tuning_cv(model='logistic', data=X_e_3, labels=y_e_3, cv_k=5,\n",
    "                                         params=LOGISTIC_PARAMS)"
   ]
  },
  {
   "cell_type": "code",
   "execution_count": 33,
   "metadata": {},
   "outputs": [
    {
     "data": {
      "text/plain": "                       f1_score  roc_auc_score  accuracy_score\nmax_iter oversampling                                         \n10000    True          0.383782       0.664399         0.73355",
      "text/html": "<div>\n<style scoped>\n    .dataframe tbody tr th:only-of-type {\n        vertical-align: middle;\n    }\n\n    .dataframe tbody tr th {\n        vertical-align: top;\n    }\n\n    .dataframe thead th {\n        text-align: right;\n    }\n</style>\n<table border=\"1\" class=\"dataframe\">\n  <thead>\n    <tr style=\"text-align: right;\">\n      <th></th>\n      <th></th>\n      <th>f1_score</th>\n      <th>roc_auc_score</th>\n      <th>accuracy_score</th>\n    </tr>\n    <tr>\n      <th>max_iter</th>\n      <th>oversampling</th>\n      <th></th>\n      <th></th>\n      <th></th>\n    </tr>\n  </thead>\n  <tbody>\n    <tr>\n      <th>10000</th>\n      <th>True</th>\n      <td>0.383782</td>\n      <td>0.664399</td>\n      <td>0.73355</td>\n    </tr>\n  </tbody>\n</table>\n</div>"
     },
     "metadata": {},
     "output_type": "display_data"
    },
    {
     "data": {
      "text/plain": "                       f1_score  roc_auc_score  accuracy_score\nmax_iter oversampling                                         \n10000    True          0.319093       0.564735        0.600532",
      "text/html": "<div>\n<style scoped>\n    .dataframe tbody tr th:only-of-type {\n        vertical-align: middle;\n    }\n\n    .dataframe tbody tr th {\n        vertical-align: top;\n    }\n\n    .dataframe thead th {\n        text-align: right;\n    }\n</style>\n<table border=\"1\" class=\"dataframe\">\n  <thead>\n    <tr style=\"text-align: right;\">\n      <th></th>\n      <th></th>\n      <th>f1_score</th>\n      <th>roc_auc_score</th>\n      <th>accuracy_score</th>\n    </tr>\n    <tr>\n      <th>max_iter</th>\n      <th>oversampling</th>\n      <th></th>\n      <th></th>\n      <th></th>\n    </tr>\n  </thead>\n  <tbody>\n    <tr>\n      <th>10000</th>\n      <th>True</th>\n      <td>0.319093</td>\n      <td>0.564735</td>\n      <td>0.600532</td>\n    </tr>\n  </tbody>\n</table>\n</div>"
     },
     "metadata": {},
     "output_type": "display_data"
    },
    {
     "data": {
      "text/plain": "                       f1_score  roc_auc_score  accuracy_score\nmax_iter oversampling                                         \n10000    False         0.630736       0.645493        0.644571",
      "text/html": "<div>\n<style scoped>\n    .dataframe tbody tr th:only-of-type {\n        vertical-align: middle;\n    }\n\n    .dataframe tbody tr th {\n        vertical-align: top;\n    }\n\n    .dataframe thead th {\n        text-align: right;\n    }\n</style>\n<table border=\"1\" class=\"dataframe\">\n  <thead>\n    <tr style=\"text-align: right;\">\n      <th></th>\n      <th></th>\n      <th>f1_score</th>\n      <th>roc_auc_score</th>\n      <th>accuracy_score</th>\n    </tr>\n    <tr>\n      <th>max_iter</th>\n      <th>oversampling</th>\n      <th></th>\n      <th></th>\n      <th></th>\n    </tr>\n  </thead>\n  <tbody>\n    <tr>\n      <th>10000</th>\n      <th>False</th>\n      <td>0.630736</td>\n      <td>0.645493</td>\n      <td>0.644571</td>\n    </tr>\n  </tbody>\n</table>\n</div>"
     },
     "metadata": {},
     "output_type": "display_data"
    }
   ],
   "source": [
    "# Best model parameters\n",
    "\n",
    "best_log_1 = log_results_1.iloc[[\n",
    "    log_results_1.reset_index()['roc_auc_score'].idxmax()]]\n",
    "best_log_2 = log_results_2.iloc[[\n",
    "    log_results_2.reset_index()['roc_auc_score'].idxmax()]]\n",
    "best_log_3 = log_results_3.iloc[[\n",
    "    log_results_3.reset_index()['roc_auc_score'].idxmax()]]\n",
    "\n",
    "display(best_log_1, best_log_2, best_log_3)"
   ]
  },
  {
   "cell_type": "markdown",
   "metadata": {
    "pycharm": {
     "name": "#%% md\n"
    }
   },
   "source": [
    "#### 2. Linear Discriminant Analysis"
   ]
  },
  {
   "cell_type": "code",
   "execution_count": 34,
   "metadata": {
    "pycharm": {
     "name": "#%%\n"
    }
   },
   "outputs": [
    {
     "data": {
      "text/plain": "              f1_score  roc_auc_score  accuracy_score\noversampling                                         \nTrue          0.442533       0.598766        0.601550\nFalse         0.174198       0.531034        0.728101",
      "text/html": "<div>\n<style scoped>\n    .dataframe tbody tr th:only-of-type {\n        vertical-align: middle;\n    }\n\n    .dataframe tbody tr th {\n        vertical-align: top;\n    }\n\n    .dataframe thead th {\n        text-align: right;\n    }\n</style>\n<table border=\"1\" class=\"dataframe\">\n  <thead>\n    <tr style=\"text-align: right;\">\n      <th></th>\n      <th>f1_score</th>\n      <th>roc_auc_score</th>\n      <th>accuracy_score</th>\n    </tr>\n    <tr>\n      <th>oversampling</th>\n      <th></th>\n      <th></th>\n      <th></th>\n    </tr>\n  </thead>\n  <tbody>\n    <tr>\n      <th>True</th>\n      <td>0.442533</td>\n      <td>0.598766</td>\n      <td>0.601550</td>\n    </tr>\n    <tr>\n      <th>False</th>\n      <td>0.174198</td>\n      <td>0.531034</td>\n      <td>0.728101</td>\n    </tr>\n  </tbody>\n</table>\n</div>"
     },
     "metadata": {},
     "output_type": "display_data"
    }
   ],
   "source": [
    "lda_results = hyperparameter_tuning_cv(model='lda', data=X_coarse, labels=y_coarse.Label, cv_k=5,\n",
    "                                       params=LDA_PARAMS)\n",
    "\n",
    "display(lda_results)"
   ]
  },
  {
   "cell_type": "code",
   "execution_count": 35,
   "metadata": {
    "pycharm": {
     "name": "#%%\n"
    }
   },
   "outputs": [
    {
     "data": {
      "text/plain": "              f1_score  roc_auc_score  accuracy_score\noversampling                                         \nTrue          0.442533       0.598766         0.60155",
      "text/html": "<div>\n<style scoped>\n    .dataframe tbody tr th:only-of-type {\n        vertical-align: middle;\n    }\n\n    .dataframe tbody tr th {\n        vertical-align: top;\n    }\n\n    .dataframe thead th {\n        text-align: right;\n    }\n</style>\n<table border=\"1\" class=\"dataframe\">\n  <thead>\n    <tr style=\"text-align: right;\">\n      <th></th>\n      <th>f1_score</th>\n      <th>roc_auc_score</th>\n      <th>accuracy_score</th>\n    </tr>\n    <tr>\n      <th>oversampling</th>\n      <th></th>\n      <th></th>\n      <th></th>\n    </tr>\n  </thead>\n  <tbody>\n    <tr>\n      <th>True</th>\n      <td>0.442533</td>\n      <td>0.598766</td>\n      <td>0.60155</td>\n    </tr>\n  </tbody>\n</table>\n</div>"
     },
     "metadata": {},
     "output_type": "display_data"
    }
   ],
   "source": [
    "# Best model parameters\n",
    "\n",
    "best_lda = lda_results.iloc[[lda_results.reset_index()['roc_auc_score'].idxmax()]]\n",
    "\n",
    "display(best_lda)"
   ]
  },
  {
   "cell_type": "code",
   "execution_count": 36,
   "metadata": {},
   "outputs": [],
   "source": [
    "# For each expert\n",
    "lda_results_1 = hyperparameter_tuning_cv(model='lda', data=X_e_1, labels=y_e_1, cv_k=5,\n",
    "                                         params=LDA_PARAMS)\n",
    "lda_results_2 = hyperparameter_tuning_cv(model='lda', data=X_e_2, labels=y_e_2, cv_k=5,\n",
    "                                         params=LDA_PARAMS)\n",
    "lda_results_3 = hyperparameter_tuning_cv(model='lda', data=X_e_3, labels=y_e_3, cv_k=5,\n",
    "                                         params=LDA_PARAMS)"
   ]
  },
  {
   "cell_type": "code",
   "execution_count": 37,
   "metadata": {},
   "outputs": [
    {
     "data": {
      "text/plain": "              f1_score  roc_auc_score  accuracy_score\noversampling                                         \nTrue          0.399307       0.685658        0.719218",
      "text/html": "<div>\n<style scoped>\n    .dataframe tbody tr th:only-of-type {\n        vertical-align: middle;\n    }\n\n    .dataframe tbody tr th {\n        vertical-align: top;\n    }\n\n    .dataframe thead th {\n        text-align: right;\n    }\n</style>\n<table border=\"1\" class=\"dataframe\">\n  <thead>\n    <tr style=\"text-align: right;\">\n      <th></th>\n      <th>f1_score</th>\n      <th>roc_auc_score</th>\n      <th>accuracy_score</th>\n    </tr>\n    <tr>\n      <th>oversampling</th>\n      <th></th>\n      <th></th>\n      <th></th>\n    </tr>\n  </thead>\n  <tbody>\n    <tr>\n      <th>True</th>\n      <td>0.399307</td>\n      <td>0.685658</td>\n      <td>0.719218</td>\n    </tr>\n  </tbody>\n</table>\n</div>"
     },
     "metadata": {},
     "output_type": "display_data"
    },
    {
     "data": {
      "text/plain": "              f1_score  roc_auc_score  accuracy_score\noversampling                                         \nTrue           0.31335       0.557742        0.587766",
      "text/html": "<div>\n<style scoped>\n    .dataframe tbody tr th:only-of-type {\n        vertical-align: middle;\n    }\n\n    .dataframe tbody tr th {\n        vertical-align: top;\n    }\n\n    .dataframe thead th {\n        text-align: right;\n    }\n</style>\n<table border=\"1\" class=\"dataframe\">\n  <thead>\n    <tr style=\"text-align: right;\">\n      <th></th>\n      <th>f1_score</th>\n      <th>roc_auc_score</th>\n      <th>accuracy_score</th>\n    </tr>\n    <tr>\n      <th>oversampling</th>\n      <th></th>\n      <th></th>\n      <th></th>\n    </tr>\n  </thead>\n  <tbody>\n    <tr>\n      <th>True</th>\n      <td>0.31335</td>\n      <td>0.557742</td>\n      <td>0.587766</td>\n    </tr>\n  </tbody>\n</table>\n</div>"
     },
     "metadata": {},
     "output_type": "display_data"
    },
    {
     "data": {
      "text/plain": "              f1_score  roc_auc_score  accuracy_score\noversampling                                         \nFalse         0.621571       0.638918        0.638286",
      "text/html": "<div>\n<style scoped>\n    .dataframe tbody tr th:only-of-type {\n        vertical-align: middle;\n    }\n\n    .dataframe tbody tr th {\n        vertical-align: top;\n    }\n\n    .dataframe thead th {\n        text-align: right;\n    }\n</style>\n<table border=\"1\" class=\"dataframe\">\n  <thead>\n    <tr style=\"text-align: right;\">\n      <th></th>\n      <th>f1_score</th>\n      <th>roc_auc_score</th>\n      <th>accuracy_score</th>\n    </tr>\n    <tr>\n      <th>oversampling</th>\n      <th></th>\n      <th></th>\n      <th></th>\n    </tr>\n  </thead>\n  <tbody>\n    <tr>\n      <th>False</th>\n      <td>0.621571</td>\n      <td>0.638918</td>\n      <td>0.638286</td>\n    </tr>\n  </tbody>\n</table>\n</div>"
     },
     "metadata": {},
     "output_type": "display_data"
    }
   ],
   "source": [
    "best_lda_1 = lda_results_1.iloc[[\n",
    "    lda_results_1.reset_index()['roc_auc_score'].idxmax()]]\n",
    "best_lda_2 = lda_results_2.iloc[[\n",
    "    lda_results_2.reset_index()['roc_auc_score'].idxmax()]]\n",
    "best_lda_3 = lda_results_3.iloc[[\n",
    "    lda_results_3.reset_index()['roc_auc_score'].idxmax()]]\n",
    "\n",
    "display(best_lda_1, best_lda_2, best_lda_3)"
   ]
  },
  {
   "cell_type": "markdown",
   "metadata": {
    "pycharm": {
     "name": "#%% md\n"
    }
   },
   "source": [
    "#### 3. K-nearest Neighbors"
   ]
  },
  {
   "cell_type": "code",
   "execution_count": 38,
   "metadata": {
    "pycharm": {
     "name": "#%%\n"
    }
   },
   "outputs": [
    {
     "data": {
      "text/plain": "                          f1_score  roc_auc_score  accuracy_score\nn_neighbors oversampling                                         \n1           True          0.441204       0.596747        0.593411\n            False         0.400194       0.590123        0.675194\n2           True          0.418408       0.591236        0.638566\n            False         0.222911       0.542174        0.726163\n3           True          0.443599       0.585158        0.530039\n            False         0.348454       0.572943        0.698643\n4           True          0.434848       0.587257        0.574612\n            False         0.206883       0.537963        0.725581\n5           True          0.437869       0.571699        0.492636\n            False         0.282748       0.550141        0.704457\n6           True          0.430461       0.573060        0.529070\n            False         0.190812       0.533693        0.725000\n7           True          0.435825       0.565174        0.472481\n            False         0.235355       0.535360        0.704651\n8           True          0.428693       0.565163        0.501744\n            False         0.149075       0.521909        0.722093\n9           True          0.437859       0.564727        0.460853\n            False         0.209546       0.529969        0.708721\n10          True          0.435427       0.568772        0.489729\n            False         0.147613       0.522418        0.724031\n11          True          0.435436       0.559032        0.446512\n            False         0.190946       0.527412        0.713953\n12          True          0.434967       0.564994        0.475194\n            False         0.132800       0.519324        0.724225\n13          True          0.435533       0.557429        0.438760\n            False         0.174064       0.525617        0.718411\n14          True          0.430587       0.556815        0.457558\n            False         0.120255       0.516868        0.724612\n15          True          0.433677       0.553826        0.430814\n            False         0.150617       0.520941        0.720155",
      "text/html": "<div>\n<style scoped>\n    .dataframe tbody tr th:only-of-type {\n        vertical-align: middle;\n    }\n\n    .dataframe tbody tr th {\n        vertical-align: top;\n    }\n\n    .dataframe thead th {\n        text-align: right;\n    }\n</style>\n<table border=\"1\" class=\"dataframe\">\n  <thead>\n    <tr style=\"text-align: right;\">\n      <th></th>\n      <th></th>\n      <th>f1_score</th>\n      <th>roc_auc_score</th>\n      <th>accuracy_score</th>\n    </tr>\n    <tr>\n      <th>n_neighbors</th>\n      <th>oversampling</th>\n      <th></th>\n      <th></th>\n      <th></th>\n    </tr>\n  </thead>\n  <tbody>\n    <tr>\n      <th rowspan=\"2\" valign=\"top\">1</th>\n      <th>True</th>\n      <td>0.441204</td>\n      <td>0.596747</td>\n      <td>0.593411</td>\n    </tr>\n    <tr>\n      <th>False</th>\n      <td>0.400194</td>\n      <td>0.590123</td>\n      <td>0.675194</td>\n    </tr>\n    <tr>\n      <th rowspan=\"2\" valign=\"top\">2</th>\n      <th>True</th>\n      <td>0.418408</td>\n      <td>0.591236</td>\n      <td>0.638566</td>\n    </tr>\n    <tr>\n      <th>False</th>\n      <td>0.222911</td>\n      <td>0.542174</td>\n      <td>0.726163</td>\n    </tr>\n    <tr>\n      <th rowspan=\"2\" valign=\"top\">3</th>\n      <th>True</th>\n      <td>0.443599</td>\n      <td>0.585158</td>\n      <td>0.530039</td>\n    </tr>\n    <tr>\n      <th>False</th>\n      <td>0.348454</td>\n      <td>0.572943</td>\n      <td>0.698643</td>\n    </tr>\n    <tr>\n      <th rowspan=\"2\" valign=\"top\">4</th>\n      <th>True</th>\n      <td>0.434848</td>\n      <td>0.587257</td>\n      <td>0.574612</td>\n    </tr>\n    <tr>\n      <th>False</th>\n      <td>0.206883</td>\n      <td>0.537963</td>\n      <td>0.725581</td>\n    </tr>\n    <tr>\n      <th rowspan=\"2\" valign=\"top\">5</th>\n      <th>True</th>\n      <td>0.437869</td>\n      <td>0.571699</td>\n      <td>0.492636</td>\n    </tr>\n    <tr>\n      <th>False</th>\n      <td>0.282748</td>\n      <td>0.550141</td>\n      <td>0.704457</td>\n    </tr>\n    <tr>\n      <th rowspan=\"2\" valign=\"top\">6</th>\n      <th>True</th>\n      <td>0.430461</td>\n      <td>0.573060</td>\n      <td>0.529070</td>\n    </tr>\n    <tr>\n      <th>False</th>\n      <td>0.190812</td>\n      <td>0.533693</td>\n      <td>0.725000</td>\n    </tr>\n    <tr>\n      <th rowspan=\"2\" valign=\"top\">7</th>\n      <th>True</th>\n      <td>0.435825</td>\n      <td>0.565174</td>\n      <td>0.472481</td>\n    </tr>\n    <tr>\n      <th>False</th>\n      <td>0.235355</td>\n      <td>0.535360</td>\n      <td>0.704651</td>\n    </tr>\n    <tr>\n      <th rowspan=\"2\" valign=\"top\">8</th>\n      <th>True</th>\n      <td>0.428693</td>\n      <td>0.565163</td>\n      <td>0.501744</td>\n    </tr>\n    <tr>\n      <th>False</th>\n      <td>0.149075</td>\n      <td>0.521909</td>\n      <td>0.722093</td>\n    </tr>\n    <tr>\n      <th rowspan=\"2\" valign=\"top\">9</th>\n      <th>True</th>\n      <td>0.437859</td>\n      <td>0.564727</td>\n      <td>0.460853</td>\n    </tr>\n    <tr>\n      <th>False</th>\n      <td>0.209546</td>\n      <td>0.529969</td>\n      <td>0.708721</td>\n    </tr>\n    <tr>\n      <th rowspan=\"2\" valign=\"top\">10</th>\n      <th>True</th>\n      <td>0.435427</td>\n      <td>0.568772</td>\n      <td>0.489729</td>\n    </tr>\n    <tr>\n      <th>False</th>\n      <td>0.147613</td>\n      <td>0.522418</td>\n      <td>0.724031</td>\n    </tr>\n    <tr>\n      <th rowspan=\"2\" valign=\"top\">11</th>\n      <th>True</th>\n      <td>0.435436</td>\n      <td>0.559032</td>\n      <td>0.446512</td>\n    </tr>\n    <tr>\n      <th>False</th>\n      <td>0.190946</td>\n      <td>0.527412</td>\n      <td>0.713953</td>\n    </tr>\n    <tr>\n      <th rowspan=\"2\" valign=\"top\">12</th>\n      <th>True</th>\n      <td>0.434967</td>\n      <td>0.564994</td>\n      <td>0.475194</td>\n    </tr>\n    <tr>\n      <th>False</th>\n      <td>0.132800</td>\n      <td>0.519324</td>\n      <td>0.724225</td>\n    </tr>\n    <tr>\n      <th rowspan=\"2\" valign=\"top\">13</th>\n      <th>True</th>\n      <td>0.435533</td>\n      <td>0.557429</td>\n      <td>0.438760</td>\n    </tr>\n    <tr>\n      <th>False</th>\n      <td>0.174064</td>\n      <td>0.525617</td>\n      <td>0.718411</td>\n    </tr>\n    <tr>\n      <th rowspan=\"2\" valign=\"top\">14</th>\n      <th>True</th>\n      <td>0.430587</td>\n      <td>0.556815</td>\n      <td>0.457558</td>\n    </tr>\n    <tr>\n      <th>False</th>\n      <td>0.120255</td>\n      <td>0.516868</td>\n      <td>0.724612</td>\n    </tr>\n    <tr>\n      <th rowspan=\"2\" valign=\"top\">15</th>\n      <th>True</th>\n      <td>0.433677</td>\n      <td>0.553826</td>\n      <td>0.430814</td>\n    </tr>\n    <tr>\n      <th>False</th>\n      <td>0.150617</td>\n      <td>0.520941</td>\n      <td>0.720155</td>\n    </tr>\n  </tbody>\n</table>\n</div>"
     },
     "metadata": {},
     "output_type": "display_data"
    }
   ],
   "source": [
    "knn_results = hyperparameter_tuning_cv(model='knn', data=X_coarse, labels=y_coarse.Label, cv_k=5,\n",
    "                                       params=KNN_PARAMS)\n",
    "\n",
    "display(knn_results)"
   ]
  },
  {
   "cell_type": "code",
   "execution_count": 39,
   "metadata": {
    "pycharm": {
     "name": "#%%\n"
    }
   },
   "outputs": [
    {
     "data": {
      "text/plain": "                          f1_score  roc_auc_score  accuracy_score\nn_neighbors oversampling                                         \n1           True          0.441204       0.596747        0.593411",
      "text/html": "<div>\n<style scoped>\n    .dataframe tbody tr th:only-of-type {\n        vertical-align: middle;\n    }\n\n    .dataframe tbody tr th {\n        vertical-align: top;\n    }\n\n    .dataframe thead th {\n        text-align: right;\n    }\n</style>\n<table border=\"1\" class=\"dataframe\">\n  <thead>\n    <tr style=\"text-align: right;\">\n      <th></th>\n      <th></th>\n      <th>f1_score</th>\n      <th>roc_auc_score</th>\n      <th>accuracy_score</th>\n    </tr>\n    <tr>\n      <th>n_neighbors</th>\n      <th>oversampling</th>\n      <th></th>\n      <th></th>\n      <th></th>\n    </tr>\n  </thead>\n  <tbody>\n    <tr>\n      <th>1</th>\n      <th>True</th>\n      <td>0.441204</td>\n      <td>0.596747</td>\n      <td>0.593411</td>\n    </tr>\n  </tbody>\n</table>\n</div>"
     },
     "metadata": {},
     "output_type": "display_data"
    }
   ],
   "source": [
    "# Best model parameters\n",
    "\n",
    "best_knn = knn_results.iloc[[knn_results.reset_index()['roc_auc_score'].idxmax()]]\n",
    "\n",
    "display(best_knn)"
   ]
  },
  {
   "cell_type": "code",
   "execution_count": 40,
   "metadata": {},
   "outputs": [],
   "source": [
    "knn_results_1 = hyperparameter_tuning_cv(\n",
    "    model='knn', data=X_e_1, labels=y_e_1, cv_k=5, params=KNN_PARAMS)\n",
    "knn_results_2 = hyperparameter_tuning_cv(\n",
    "    model='knn', data=X_e_2, labels=y_e_2, cv_k=5, params=KNN_PARAMS)\n",
    "knn_results_3 = hyperparameter_tuning_cv(\n",
    "    model='knn', data=X_e_3, labels=y_e_3, cv_k=5, params=KNN_PARAMS)"
   ]
  },
  {
   "cell_type": "code",
   "execution_count": 41,
   "metadata": {},
   "outputs": [
    {
     "data": {
      "text/plain": "                          f1_score  roc_auc_score  accuracy_score\nn_neighbors oversampling                                         \n2           True          0.369292       0.653015        0.728339",
      "text/html": "<div>\n<style scoped>\n    .dataframe tbody tr th:only-of-type {\n        vertical-align: middle;\n    }\n\n    .dataframe tbody tr th {\n        vertical-align: top;\n    }\n\n    .dataframe thead th {\n        text-align: right;\n    }\n</style>\n<table border=\"1\" class=\"dataframe\">\n  <thead>\n    <tr style=\"text-align: right;\">\n      <th></th>\n      <th></th>\n      <th>f1_score</th>\n      <th>roc_auc_score</th>\n      <th>accuracy_score</th>\n    </tr>\n    <tr>\n      <th>n_neighbors</th>\n      <th>oversampling</th>\n      <th></th>\n      <th></th>\n      <th></th>\n    </tr>\n  </thead>\n  <tbody>\n    <tr>\n      <th>2</th>\n      <th>True</th>\n      <td>0.369292</td>\n      <td>0.653015</td>\n      <td>0.728339</td>\n    </tr>\n  </tbody>\n</table>\n</div>"
     },
     "metadata": {},
     "output_type": "display_data"
    },
    {
     "data": {
      "text/plain": "                          f1_score  roc_auc_score  accuracy_score\nn_neighbors oversampling                                         \n2           True          0.319354       0.573739        0.670213",
      "text/html": "<div>\n<style scoped>\n    .dataframe tbody tr th:only-of-type {\n        vertical-align: middle;\n    }\n\n    .dataframe tbody tr th {\n        vertical-align: top;\n    }\n\n    .dataframe thead th {\n        text-align: right;\n    }\n</style>\n<table border=\"1\" class=\"dataframe\">\n  <thead>\n    <tr style=\"text-align: right;\">\n      <th></th>\n      <th></th>\n      <th>f1_score</th>\n      <th>roc_auc_score</th>\n      <th>accuracy_score</th>\n    </tr>\n    <tr>\n      <th>n_neighbors</th>\n      <th>oversampling</th>\n      <th></th>\n      <th></th>\n      <th></th>\n    </tr>\n  </thead>\n  <tbody>\n    <tr>\n      <th>2</th>\n      <th>True</th>\n      <td>0.319354</td>\n      <td>0.573739</td>\n      <td>0.670213</td>\n    </tr>\n  </tbody>\n</table>\n</div>"
     },
     "metadata": {},
     "output_type": "display_data"
    },
    {
     "data": {
      "text/plain": "                          f1_score  roc_auc_score  accuracy_score\nn_neighbors oversampling                                         \n3           False         0.626356       0.651425        0.651429",
      "text/html": "<div>\n<style scoped>\n    .dataframe tbody tr th:only-of-type {\n        vertical-align: middle;\n    }\n\n    .dataframe tbody tr th {\n        vertical-align: top;\n    }\n\n    .dataframe thead th {\n        text-align: right;\n    }\n</style>\n<table border=\"1\" class=\"dataframe\">\n  <thead>\n    <tr style=\"text-align: right;\">\n      <th></th>\n      <th></th>\n      <th>f1_score</th>\n      <th>roc_auc_score</th>\n      <th>accuracy_score</th>\n    </tr>\n    <tr>\n      <th>n_neighbors</th>\n      <th>oversampling</th>\n      <th></th>\n      <th></th>\n      <th></th>\n    </tr>\n  </thead>\n  <tbody>\n    <tr>\n      <th>3</th>\n      <th>False</th>\n      <td>0.626356</td>\n      <td>0.651425</td>\n      <td>0.651429</td>\n    </tr>\n  </tbody>\n</table>\n</div>"
     },
     "metadata": {},
     "output_type": "display_data"
    }
   ],
   "source": [
    "best_knn_1 = knn_results_1.iloc[[\n",
    "    knn_results_1.reset_index()['roc_auc_score'].idxmax()]]\n",
    "best_knn_2 = knn_results_2.iloc[[\n",
    "    knn_results_2.reset_index()['roc_auc_score'].idxmax()]]\n",
    "best_knn_3 = knn_results_3.iloc[[\n",
    "    knn_results_3.reset_index()['roc_auc_score'].idxmax()]]\n",
    "\n",
    "display(best_knn_1, best_knn_2, best_knn_3)"
   ]
  },
  {
   "cell_type": "markdown",
   "metadata": {},
   "source": [
    "#### 4. Support Vector Classifier"
   ]
  },
  {
   "cell_type": "code",
   "execution_count": 42,
   "metadata": {
    "pycharm": {
     "name": "#%%\n"
    }
   },
   "outputs": [
    {
     "data": {
      "text/plain": "                           f1_score  roc_auc_score  accuracy_score\nkernel gamma oversampling                                         \nlinear 0.10  True          0.444824       0.598347        0.590698\n             False         0.000000       0.500000        0.733140\nrbf    0.10  True          0.148567       0.530659        0.737791\n             False         0.025850       0.505557        0.735078\nlinear 0.01  True          0.444824       0.598347        0.590698\n             False         0.000000       0.500000        0.733140\nrbf    0.01  True          0.433707       0.598158        0.626550\n             False         0.004429       0.500978        0.733527",
      "text/html": "<div>\n<style scoped>\n    .dataframe tbody tr th:only-of-type {\n        vertical-align: middle;\n    }\n\n    .dataframe tbody tr th {\n        vertical-align: top;\n    }\n\n    .dataframe thead th {\n        text-align: right;\n    }\n</style>\n<table border=\"1\" class=\"dataframe\">\n  <thead>\n    <tr style=\"text-align: right;\">\n      <th></th>\n      <th></th>\n      <th></th>\n      <th>f1_score</th>\n      <th>roc_auc_score</th>\n      <th>accuracy_score</th>\n    </tr>\n    <tr>\n      <th>kernel</th>\n      <th>gamma</th>\n      <th>oversampling</th>\n      <th></th>\n      <th></th>\n      <th></th>\n    </tr>\n  </thead>\n  <tbody>\n    <tr>\n      <th rowspan=\"2\" valign=\"top\">linear</th>\n      <th rowspan=\"2\" valign=\"top\">0.10</th>\n      <th>True</th>\n      <td>0.444824</td>\n      <td>0.598347</td>\n      <td>0.590698</td>\n    </tr>\n    <tr>\n      <th>False</th>\n      <td>0.000000</td>\n      <td>0.500000</td>\n      <td>0.733140</td>\n    </tr>\n    <tr>\n      <th rowspan=\"2\" valign=\"top\">rbf</th>\n      <th rowspan=\"2\" valign=\"top\">0.10</th>\n      <th>True</th>\n      <td>0.148567</td>\n      <td>0.530659</td>\n      <td>0.737791</td>\n    </tr>\n    <tr>\n      <th>False</th>\n      <td>0.025850</td>\n      <td>0.505557</td>\n      <td>0.735078</td>\n    </tr>\n    <tr>\n      <th rowspan=\"2\" valign=\"top\">linear</th>\n      <th rowspan=\"2\" valign=\"top\">0.01</th>\n      <th>True</th>\n      <td>0.444824</td>\n      <td>0.598347</td>\n      <td>0.590698</td>\n    </tr>\n    <tr>\n      <th>False</th>\n      <td>0.000000</td>\n      <td>0.500000</td>\n      <td>0.733140</td>\n    </tr>\n    <tr>\n      <th rowspan=\"2\" valign=\"top\">rbf</th>\n      <th rowspan=\"2\" valign=\"top\">0.01</th>\n      <th>True</th>\n      <td>0.433707</td>\n      <td>0.598158</td>\n      <td>0.626550</td>\n    </tr>\n    <tr>\n      <th>False</th>\n      <td>0.004429</td>\n      <td>0.500978</td>\n      <td>0.733527</td>\n    </tr>\n  </tbody>\n</table>\n</div>"
     },
     "metadata": {},
     "output_type": "display_data"
    }
   ],
   "source": [
    "svc_results = hyperparameter_tuning_cv(model='svc', data=X_coarse, labels=y_coarse.Label, cv_k=5,\n",
    "                                       params=SVC_PARAMS)\n",
    "\n",
    "display(svc_results)"
   ]
  },
  {
   "cell_type": "code",
   "execution_count": 43,
   "metadata": {
    "pycharm": {
     "name": "#%%\n"
    },
    "scrolled": true
   },
   "outputs": [
    {
     "data": {
      "text/plain": "                           f1_score  roc_auc_score  accuracy_score\nkernel gamma oversampling                                         \nlinear 0.1   True          0.444824       0.598347        0.590698",
      "text/html": "<div>\n<style scoped>\n    .dataframe tbody tr th:only-of-type {\n        vertical-align: middle;\n    }\n\n    .dataframe tbody tr th {\n        vertical-align: top;\n    }\n\n    .dataframe thead th {\n        text-align: right;\n    }\n</style>\n<table border=\"1\" class=\"dataframe\">\n  <thead>\n    <tr style=\"text-align: right;\">\n      <th></th>\n      <th></th>\n      <th></th>\n      <th>f1_score</th>\n      <th>roc_auc_score</th>\n      <th>accuracy_score</th>\n    </tr>\n    <tr>\n      <th>kernel</th>\n      <th>gamma</th>\n      <th>oversampling</th>\n      <th></th>\n      <th></th>\n      <th></th>\n    </tr>\n  </thead>\n  <tbody>\n    <tr>\n      <th>linear</th>\n      <th>0.1</th>\n      <th>True</th>\n      <td>0.444824</td>\n      <td>0.598347</td>\n      <td>0.590698</td>\n    </tr>\n  </tbody>\n</table>\n</div>"
     },
     "metadata": {},
     "output_type": "display_data"
    }
   ],
   "source": [
    "# Best model parameters\n",
    "\n",
    "best_svc = svc_results.iloc[[svc_results.reset_index()['roc_auc_score'].idxmax()]]\n",
    "\n",
    "display(best_svc)"
   ]
  },
  {
   "cell_type": "code",
   "execution_count": 44,
   "metadata": {},
   "outputs": [],
   "source": [
    "svc_results_1 = hyperparameter_tuning_cv(\n",
    "    model='svc', data=X_e_1, labels=y_e_1, cv_k=5, params=SVC_PARAMS)\n",
    "svc_results_2 = hyperparameter_tuning_cv(\n",
    "    model='svc', data=X_e_2, labels=y_e_2, cv_k=5, params=SVC_PARAMS)\n",
    "svc_results_3 = hyperparameter_tuning_cv(\n",
    "    model='svc', data=X_e_3, labels=y_e_3, cv_k=5, params=SVC_PARAMS)"
   ]
  },
  {
   "cell_type": "code",
   "execution_count": 45,
   "metadata": {},
   "outputs": [
    {
     "data": {
      "text/plain": "                           f1_score  roc_auc_score  accuracy_score\nkernel gamma oversampling                                         \nlinear 0.1   True          0.385733       0.667996        0.726384",
      "text/html": "<div>\n<style scoped>\n    .dataframe tbody tr th:only-of-type {\n        vertical-align: middle;\n    }\n\n    .dataframe tbody tr th {\n        vertical-align: top;\n    }\n\n    .dataframe thead th {\n        text-align: right;\n    }\n</style>\n<table border=\"1\" class=\"dataframe\">\n  <thead>\n    <tr style=\"text-align: right;\">\n      <th></th>\n      <th></th>\n      <th></th>\n      <th>f1_score</th>\n      <th>roc_auc_score</th>\n      <th>accuracy_score</th>\n    </tr>\n    <tr>\n      <th>kernel</th>\n      <th>gamma</th>\n      <th>oversampling</th>\n      <th></th>\n      <th></th>\n      <th></th>\n    </tr>\n  </thead>\n  <tbody>\n    <tr>\n      <th>linear</th>\n      <th>0.1</th>\n      <th>True</th>\n      <td>0.385733</td>\n      <td>0.667996</td>\n      <td>0.726384</td>\n    </tr>\n  </tbody>\n</table>\n</div>"
     },
     "metadata": {},
     "output_type": "display_data"
    },
    {
     "data": {
      "text/plain": "                           f1_score  roc_auc_score  accuracy_score\nkernel gamma oversampling                                         \nrbf    0.01  True          0.305217       0.562734        0.665426",
      "text/html": "<div>\n<style scoped>\n    .dataframe tbody tr th:only-of-type {\n        vertical-align: middle;\n    }\n\n    .dataframe tbody tr th {\n        vertical-align: top;\n    }\n\n    .dataframe thead th {\n        text-align: right;\n    }\n</style>\n<table border=\"1\" class=\"dataframe\">\n  <thead>\n    <tr style=\"text-align: right;\">\n      <th></th>\n      <th></th>\n      <th></th>\n      <th>f1_score</th>\n      <th>roc_auc_score</th>\n      <th>accuracy_score</th>\n    </tr>\n    <tr>\n      <th>kernel</th>\n      <th>gamma</th>\n      <th>oversampling</th>\n      <th></th>\n      <th></th>\n      <th></th>\n    </tr>\n  </thead>\n  <tbody>\n    <tr>\n      <th>rbf</th>\n      <th>0.01</th>\n      <th>True</th>\n      <td>0.305217</td>\n      <td>0.562734</td>\n      <td>0.665426</td>\n    </tr>\n  </tbody>\n</table>\n</div>"
     },
     "metadata": {},
     "output_type": "display_data"
    },
    {
     "data": {
      "text/plain": "                           f1_score  roc_auc_score  accuracy_score\nkernel gamma oversampling                                         \nrbf    0.01  False         0.635175       0.657252        0.656571",
      "text/html": "<div>\n<style scoped>\n    .dataframe tbody tr th:only-of-type {\n        vertical-align: middle;\n    }\n\n    .dataframe tbody tr th {\n        vertical-align: top;\n    }\n\n    .dataframe thead th {\n        text-align: right;\n    }\n</style>\n<table border=\"1\" class=\"dataframe\">\n  <thead>\n    <tr style=\"text-align: right;\">\n      <th></th>\n      <th></th>\n      <th></th>\n      <th>f1_score</th>\n      <th>roc_auc_score</th>\n      <th>accuracy_score</th>\n    </tr>\n    <tr>\n      <th>kernel</th>\n      <th>gamma</th>\n      <th>oversampling</th>\n      <th></th>\n      <th></th>\n      <th></th>\n    </tr>\n  </thead>\n  <tbody>\n    <tr>\n      <th>rbf</th>\n      <th>0.01</th>\n      <th>False</th>\n      <td>0.635175</td>\n      <td>0.657252</td>\n      <td>0.656571</td>\n    </tr>\n  </tbody>\n</table>\n</div>"
     },
     "metadata": {},
     "output_type": "display_data"
    }
   ],
   "source": [
    "best_svc_1 = svc_results_1.iloc[[\n",
    "    svc_results_1.reset_index()['roc_auc_score'].idxmax()]]\n",
    "best_svc_2 = svc_results_2.iloc[[\n",
    "    svc_results_2.reset_index()['roc_auc_score'].idxmax()]]\n",
    "best_svc_3 = svc_results_3.iloc[[\n",
    "    svc_results_3.reset_index()['roc_auc_score'].idxmax()]]\n",
    "\n",
    "\n",
    "display(best_svc_1, best_svc_2, best_svc_3)"
   ]
  },
  {
   "cell_type": "markdown",
   "metadata": {},
   "source": [
    "#### 5. Naive Bayes Classifier"
   ]
  },
  {
   "cell_type": "code",
   "execution_count": 46,
   "metadata": {
    "pycharm": {
     "name": "#%%\n"
    }
   },
   "outputs": [
    {
     "data": {
      "text/plain": "              f1_score  roc_auc_score  accuracy_score\noversampling                                         \nTrue          0.015508       0.499562        0.728682\nFalse         0.019639       0.499352        0.727326",
      "text/html": "<div>\n<style scoped>\n    .dataframe tbody tr th:only-of-type {\n        vertical-align: middle;\n    }\n\n    .dataframe tbody tr th {\n        vertical-align: top;\n    }\n\n    .dataframe thead th {\n        text-align: right;\n    }\n</style>\n<table border=\"1\" class=\"dataframe\">\n  <thead>\n    <tr style=\"text-align: right;\">\n      <th></th>\n      <th>f1_score</th>\n      <th>roc_auc_score</th>\n      <th>accuracy_score</th>\n    </tr>\n    <tr>\n      <th>oversampling</th>\n      <th></th>\n      <th></th>\n      <th></th>\n    </tr>\n  </thead>\n  <tbody>\n    <tr>\n      <th>True</th>\n      <td>0.015508</td>\n      <td>0.499562</td>\n      <td>0.728682</td>\n    </tr>\n    <tr>\n      <th>False</th>\n      <td>0.019639</td>\n      <td>0.499352</td>\n      <td>0.727326</td>\n    </tr>\n  </tbody>\n</table>\n</div>"
     },
     "metadata": {},
     "output_type": "display_data"
    }
   ],
   "source": [
    "nb_results = hyperparameter_tuning_cv(model='naive_bayes', data=X_coarse, labels=y_coarse.Label, cv_k=5,\n",
    "                                      params=NAIVE_BAYES_PARAMS)\n",
    "\n",
    "display(nb_results)"
   ]
  },
  {
   "cell_type": "code",
   "execution_count": 47,
   "metadata": {
    "pycharm": {
     "name": "#%%\n"
    },
    "scrolled": true
   },
   "outputs": [
    {
     "data": {
      "text/plain": "              f1_score  roc_auc_score  accuracy_score\noversampling                                         \nTrue          0.015508       0.499562        0.728682",
      "text/html": "<div>\n<style scoped>\n    .dataframe tbody tr th:only-of-type {\n        vertical-align: middle;\n    }\n\n    .dataframe tbody tr th {\n        vertical-align: top;\n    }\n\n    .dataframe thead th {\n        text-align: right;\n    }\n</style>\n<table border=\"1\" class=\"dataframe\">\n  <thead>\n    <tr style=\"text-align: right;\">\n      <th></th>\n      <th>f1_score</th>\n      <th>roc_auc_score</th>\n      <th>accuracy_score</th>\n    </tr>\n    <tr>\n      <th>oversampling</th>\n      <th></th>\n      <th></th>\n      <th></th>\n    </tr>\n  </thead>\n  <tbody>\n    <tr>\n      <th>True</th>\n      <td>0.015508</td>\n      <td>0.499562</td>\n      <td>0.728682</td>\n    </tr>\n  </tbody>\n</table>\n</div>"
     },
     "metadata": {},
     "output_type": "display_data"
    }
   ],
   "source": [
    "# Best model parameters\n",
    "\n",
    "best_nb = nb_results.iloc[[nb_results.reset_index()['roc_auc_score'].idxmax()]]\n",
    "\n",
    "display(best_nb)"
   ]
  },
  {
   "cell_type": "code",
   "execution_count": 48,
   "metadata": {},
   "outputs": [],
   "source": [
    "nb_results_1 = hyperparameter_tuning_cv(\n",
    "    model='naive_bayes', data=X_e_1, labels=y_e_1, cv_k=5, params=NAIVE_BAYES_PARAMS)\n",
    "nb_results_2 = hyperparameter_tuning_cv(\n",
    "    model='naive_bayes', data=X_e_2, labels=y_e_2, cv_k=5, params=NAIVE_BAYES_PARAMS)\n",
    "nb_results_3 = hyperparameter_tuning_cv(\n",
    "    model='naive_bayes', data=X_e_3, labels=y_e_3, cv_k=5, params=NAIVE_BAYES_PARAMS)"
   ]
  },
  {
   "cell_type": "code",
   "execution_count": 49,
   "metadata": {},
   "outputs": [
    {
     "data": {
      "text/plain": "              f1_score  roc_auc_score  accuracy_score\noversampling                                         \nTrue          0.317933       0.606387        0.689251",
      "text/html": "<div>\n<style scoped>\n    .dataframe tbody tr th:only-of-type {\n        vertical-align: middle;\n    }\n\n    .dataframe tbody tr th {\n        vertical-align: top;\n    }\n\n    .dataframe thead th {\n        text-align: right;\n    }\n</style>\n<table border=\"1\" class=\"dataframe\">\n  <thead>\n    <tr style=\"text-align: right;\">\n      <th></th>\n      <th>f1_score</th>\n      <th>roc_auc_score</th>\n      <th>accuracy_score</th>\n    </tr>\n    <tr>\n      <th>oversampling</th>\n      <th></th>\n      <th></th>\n      <th></th>\n    </tr>\n  </thead>\n  <tbody>\n    <tr>\n      <th>True</th>\n      <td>0.317933</td>\n      <td>0.606387</td>\n      <td>0.689251</td>\n    </tr>\n  </tbody>\n</table>\n</div>"
     },
     "metadata": {},
     "output_type": "display_data"
    },
    {
     "data": {
      "text/plain": "              f1_score  roc_auc_score  accuracy_score\noversampling                                         \nFalse          0.29969       0.531334        0.504787",
      "text/html": "<div>\n<style scoped>\n    .dataframe tbody tr th:only-of-type {\n        vertical-align: middle;\n    }\n\n    .dataframe tbody tr th {\n        vertical-align: top;\n    }\n\n    .dataframe thead th {\n        text-align: right;\n    }\n</style>\n<table border=\"1\" class=\"dataframe\">\n  <thead>\n    <tr style=\"text-align: right;\">\n      <th></th>\n      <th>f1_score</th>\n      <th>roc_auc_score</th>\n      <th>accuracy_score</th>\n    </tr>\n    <tr>\n      <th>oversampling</th>\n      <th></th>\n      <th></th>\n      <th></th>\n    </tr>\n  </thead>\n  <tbody>\n    <tr>\n      <th>False</th>\n      <td>0.29969</td>\n      <td>0.531334</td>\n      <td>0.504787</td>\n    </tr>\n  </tbody>\n</table>\n</div>"
     },
     "metadata": {},
     "output_type": "display_data"
    },
    {
     "data": {
      "text/plain": "              f1_score  roc_auc_score  accuracy_score\noversampling                                         \nFalse         0.258991       0.530763        0.544571",
      "text/html": "<div>\n<style scoped>\n    .dataframe tbody tr th:only-of-type {\n        vertical-align: middle;\n    }\n\n    .dataframe tbody tr th {\n        vertical-align: top;\n    }\n\n    .dataframe thead th {\n        text-align: right;\n    }\n</style>\n<table border=\"1\" class=\"dataframe\">\n  <thead>\n    <tr style=\"text-align: right;\">\n      <th></th>\n      <th>f1_score</th>\n      <th>roc_auc_score</th>\n      <th>accuracy_score</th>\n    </tr>\n    <tr>\n      <th>oversampling</th>\n      <th></th>\n      <th></th>\n      <th></th>\n    </tr>\n  </thead>\n  <tbody>\n    <tr>\n      <th>False</th>\n      <td>0.258991</td>\n      <td>0.530763</td>\n      <td>0.544571</td>\n    </tr>\n  </tbody>\n</table>\n</div>"
     },
     "metadata": {},
     "output_type": "display_data"
    }
   ],
   "source": [
    "best_nb_1 = nb_results_1.iloc[[\n",
    "    nb_results_1.reset_index()['roc_auc_score'].idxmax()]]\n",
    "best_nb_2 = nb_results_2.iloc[[\n",
    "    nb_results_2.reset_index()['roc_auc_score'].idxmax()]]\n",
    "best_nb_3 = nb_results_3.iloc[[\n",
    "    nb_results_3.reset_index()['roc_auc_score'].idxmax()]]\n",
    "\n",
    "display(best_nb_1, best_nb_2, best_nb_3)"
   ]
  },
  {
   "cell_type": "markdown",
   "metadata": {},
   "source": [
    "#### 6. Decision Tree"
   ]
  },
  {
   "cell_type": "code",
   "execution_count": 50,
   "metadata": {
    "pycharm": {
     "name": "#%%\n"
    }
   },
   "outputs": [
    {
     "data": {
      "text/plain": "                        f1_score  roc_auc_score  accuracy_score\nmax_depth oversampling                                         \n3         True          0.393149       0.544657        0.522481\n          False         0.083805       0.509947        0.724419\n5         True          0.404663       0.551233        0.524031\n          False         0.235914       0.537033        0.705620\n7         True          0.400694       0.554414        0.550194\n          False         0.249376       0.533036        0.688566",
      "text/html": "<div>\n<style scoped>\n    .dataframe tbody tr th:only-of-type {\n        vertical-align: middle;\n    }\n\n    .dataframe tbody tr th {\n        vertical-align: top;\n    }\n\n    .dataframe thead th {\n        text-align: right;\n    }\n</style>\n<table border=\"1\" class=\"dataframe\">\n  <thead>\n    <tr style=\"text-align: right;\">\n      <th></th>\n      <th></th>\n      <th>f1_score</th>\n      <th>roc_auc_score</th>\n      <th>accuracy_score</th>\n    </tr>\n    <tr>\n      <th>max_depth</th>\n      <th>oversampling</th>\n      <th></th>\n      <th></th>\n      <th></th>\n    </tr>\n  </thead>\n  <tbody>\n    <tr>\n      <th rowspan=\"2\" valign=\"top\">3</th>\n      <th>True</th>\n      <td>0.393149</td>\n      <td>0.544657</td>\n      <td>0.522481</td>\n    </tr>\n    <tr>\n      <th>False</th>\n      <td>0.083805</td>\n      <td>0.509947</td>\n      <td>0.724419</td>\n    </tr>\n    <tr>\n      <th rowspan=\"2\" valign=\"top\">5</th>\n      <th>True</th>\n      <td>0.404663</td>\n      <td>0.551233</td>\n      <td>0.524031</td>\n    </tr>\n    <tr>\n      <th>False</th>\n      <td>0.235914</td>\n      <td>0.537033</td>\n      <td>0.705620</td>\n    </tr>\n    <tr>\n      <th rowspan=\"2\" valign=\"top\">7</th>\n      <th>True</th>\n      <td>0.400694</td>\n      <td>0.554414</td>\n      <td>0.550194</td>\n    </tr>\n    <tr>\n      <th>False</th>\n      <td>0.249376</td>\n      <td>0.533036</td>\n      <td>0.688566</td>\n    </tr>\n  </tbody>\n</table>\n</div>"
     },
     "metadata": {},
     "output_type": "display_data"
    }
   ],
   "source": [
    "dt_results = hyperparameter_tuning_cv(model='decision_tree', data=X_coarse, labels=y_coarse.Label, cv_k=5,\n",
    "                                      params=DECISION_TREE_PARAMS)\n",
    "\n",
    "display(dt_results)"
   ]
  },
  {
   "cell_type": "code",
   "execution_count": 51,
   "metadata": {
    "pycharm": {
     "name": "#%%\n"
    }
   },
   "outputs": [
    {
     "data": {
      "text/plain": "                        f1_score  roc_auc_score  accuracy_score\nmax_depth oversampling                                         \n7         True          0.400694       0.554414        0.550194",
      "text/html": "<div>\n<style scoped>\n    .dataframe tbody tr th:only-of-type {\n        vertical-align: middle;\n    }\n\n    .dataframe tbody tr th {\n        vertical-align: top;\n    }\n\n    .dataframe thead th {\n        text-align: right;\n    }\n</style>\n<table border=\"1\" class=\"dataframe\">\n  <thead>\n    <tr style=\"text-align: right;\">\n      <th></th>\n      <th></th>\n      <th>f1_score</th>\n      <th>roc_auc_score</th>\n      <th>accuracy_score</th>\n    </tr>\n    <tr>\n      <th>max_depth</th>\n      <th>oversampling</th>\n      <th></th>\n      <th></th>\n      <th></th>\n    </tr>\n  </thead>\n  <tbody>\n    <tr>\n      <th>7</th>\n      <th>True</th>\n      <td>0.400694</td>\n      <td>0.554414</td>\n      <td>0.550194</td>\n    </tr>\n  </tbody>\n</table>\n</div>"
     },
     "metadata": {},
     "output_type": "display_data"
    }
   ],
   "source": [
    "# Best model parameters\n",
    "\n",
    "best_dt = dt_results.iloc[[dt_results.reset_index()['roc_auc_score'].idxmax()]]\n",
    "\n",
    "display(best_dt)"
   ]
  },
  {
   "cell_type": "code",
   "execution_count": 52,
   "metadata": {},
   "outputs": [],
   "source": [
    "dt_results_1 = hyperparameter_tuning_cv(\n",
    "    model='decision_tree', data=X_e_1, labels=y_e_1, cv_k=5, params=DECISION_TREE_PARAMS)\n",
    "dt_results_2 = hyperparameter_tuning_cv(\n",
    "    model='decision_tree', data=X_e_2, labels=y_e_2, cv_k=5, params=DECISION_TREE_PARAMS)\n",
    "dt_results_3 = hyperparameter_tuning_cv(\n",
    "    model='decision_tree', data=X_e_3, labels=y_e_3, cv_k=5, params=DECISION_TREE_PARAMS)"
   ]
  },
  {
   "cell_type": "code",
   "execution_count": 53,
   "metadata": {},
   "outputs": [
    {
     "data": {
      "text/plain": "                        f1_score  roc_auc_score  accuracy_score\nmax_depth oversampling                                         \n5         True           0.34062       0.627875        0.710098",
      "text/html": "<div>\n<style scoped>\n    .dataframe tbody tr th:only-of-type {\n        vertical-align: middle;\n    }\n\n    .dataframe tbody tr th {\n        vertical-align: top;\n    }\n\n    .dataframe thead th {\n        text-align: right;\n    }\n</style>\n<table border=\"1\" class=\"dataframe\">\n  <thead>\n    <tr style=\"text-align: right;\">\n      <th></th>\n      <th></th>\n      <th>f1_score</th>\n      <th>roc_auc_score</th>\n      <th>accuracy_score</th>\n    </tr>\n    <tr>\n      <th>max_depth</th>\n      <th>oversampling</th>\n      <th></th>\n      <th></th>\n      <th></th>\n    </tr>\n  </thead>\n  <tbody>\n    <tr>\n      <th>5</th>\n      <th>True</th>\n      <td>0.34062</td>\n      <td>0.627875</td>\n      <td>0.710098</td>\n    </tr>\n  </tbody>\n</table>\n</div>"
     },
     "metadata": {},
     "output_type": "display_data"
    },
    {
     "data": {
      "text/plain": "                        f1_score  roc_auc_score  accuracy_score\nmax_depth oversampling                                         \n3         True          0.295198       0.525743        0.481383",
      "text/html": "<div>\n<style scoped>\n    .dataframe tbody tr th:only-of-type {\n        vertical-align: middle;\n    }\n\n    .dataframe tbody tr th {\n        vertical-align: top;\n    }\n\n    .dataframe thead th {\n        text-align: right;\n    }\n</style>\n<table border=\"1\" class=\"dataframe\">\n  <thead>\n    <tr style=\"text-align: right;\">\n      <th></th>\n      <th></th>\n      <th>f1_score</th>\n      <th>roc_auc_score</th>\n      <th>accuracy_score</th>\n    </tr>\n    <tr>\n      <th>max_depth</th>\n      <th>oversampling</th>\n      <th></th>\n      <th></th>\n      <th></th>\n    </tr>\n  </thead>\n  <tbody>\n    <tr>\n      <th>3</th>\n      <th>True</th>\n      <td>0.295198</td>\n      <td>0.525743</td>\n      <td>0.481383</td>\n    </tr>\n  </tbody>\n</table>\n</div>"
     },
     "metadata": {},
     "output_type": "display_data"
    },
    {
     "data": {
      "text/plain": "                        f1_score  roc_auc_score  accuracy_score\nmax_depth oversampling                                         \n3         True          0.555246       0.602812        0.605714",
      "text/html": "<div>\n<style scoped>\n    .dataframe tbody tr th:only-of-type {\n        vertical-align: middle;\n    }\n\n    .dataframe tbody tr th {\n        vertical-align: top;\n    }\n\n    .dataframe thead th {\n        text-align: right;\n    }\n</style>\n<table border=\"1\" class=\"dataframe\">\n  <thead>\n    <tr style=\"text-align: right;\">\n      <th></th>\n      <th></th>\n      <th>f1_score</th>\n      <th>roc_auc_score</th>\n      <th>accuracy_score</th>\n    </tr>\n    <tr>\n      <th>max_depth</th>\n      <th>oversampling</th>\n      <th></th>\n      <th></th>\n      <th></th>\n    </tr>\n  </thead>\n  <tbody>\n    <tr>\n      <th>3</th>\n      <th>True</th>\n      <td>0.555246</td>\n      <td>0.602812</td>\n      <td>0.605714</td>\n    </tr>\n  </tbody>\n</table>\n</div>"
     },
     "metadata": {},
     "output_type": "display_data"
    }
   ],
   "source": [
    "best_dt_1 = dt_results_1.iloc[[\n",
    "    dt_results_1.reset_index()['roc_auc_score'].idxmax()]]\n",
    "best_dt_2 = dt_results_2.iloc[[\n",
    "    dt_results_2.reset_index()['roc_auc_score'].idxmax()]]\n",
    "best_dt_3 = dt_results_3.iloc[[\n",
    "    dt_results_3.reset_index()['roc_auc_score'].idxmax()]]\n",
    "\n",
    "display(best_dt_1, best_dt_2, best_dt_3)"
   ]
  },
  {
   "cell_type": "markdown",
   "metadata": {},
   "source": [
    "#### 7. Random Forest"
   ]
  },
  {
   "cell_type": "code",
   "execution_count": 54,
   "metadata": {
    "pycharm": {
     "name": "#%%\n"
    }
   },
   "outputs": [
    {
     "data": {
      "text/plain": "                                     f1_score  roc_auc_score  accuracy_score\nmax_depth n_estimators oversampling                                         \n3         3            True          0.398811       0.553846        0.552326\n                       False         0.038322       0.504437        0.730233\n          5            True          0.411632       0.569956        0.577132\n                       False         0.015369       0.502995        0.733915\n          7            True          0.413424       0.572887        0.583915\n                       False         0.005776       0.499997        0.731783\n5         3            True          0.389507       0.551505        0.566667\n                       False         0.108584       0.512491        0.721318\n          5            True          0.403456       0.566802        0.585271\n                       False         0.092169       0.514070        0.729457\n          7            True          0.401931       0.570920        0.604845\n                       False         0.055791       0.509571        0.733140\n7         3            True          0.377376       0.549870        0.586822\n                       False         0.191108       0.528264        0.714922\n          5            True          0.394439       0.568181        0.609690\n                       False         0.140153       0.518980        0.720736\n          7            True          0.396024       0.568350        0.608915\n                       False         0.125577       0.521231        0.730233",
      "text/html": "<div>\n<style scoped>\n    .dataframe tbody tr th:only-of-type {\n        vertical-align: middle;\n    }\n\n    .dataframe tbody tr th {\n        vertical-align: top;\n    }\n\n    .dataframe thead th {\n        text-align: right;\n    }\n</style>\n<table border=\"1\" class=\"dataframe\">\n  <thead>\n    <tr style=\"text-align: right;\">\n      <th></th>\n      <th></th>\n      <th></th>\n      <th>f1_score</th>\n      <th>roc_auc_score</th>\n      <th>accuracy_score</th>\n    </tr>\n    <tr>\n      <th>max_depth</th>\n      <th>n_estimators</th>\n      <th>oversampling</th>\n      <th></th>\n      <th></th>\n      <th></th>\n    </tr>\n  </thead>\n  <tbody>\n    <tr>\n      <th rowspan=\"6\" valign=\"top\">3</th>\n      <th rowspan=\"2\" valign=\"top\">3</th>\n      <th>True</th>\n      <td>0.398811</td>\n      <td>0.553846</td>\n      <td>0.552326</td>\n    </tr>\n    <tr>\n      <th>False</th>\n      <td>0.038322</td>\n      <td>0.504437</td>\n      <td>0.730233</td>\n    </tr>\n    <tr>\n      <th rowspan=\"2\" valign=\"top\">5</th>\n      <th>True</th>\n      <td>0.411632</td>\n      <td>0.569956</td>\n      <td>0.577132</td>\n    </tr>\n    <tr>\n      <th>False</th>\n      <td>0.015369</td>\n      <td>0.502995</td>\n      <td>0.733915</td>\n    </tr>\n    <tr>\n      <th rowspan=\"2\" valign=\"top\">7</th>\n      <th>True</th>\n      <td>0.413424</td>\n      <td>0.572887</td>\n      <td>0.583915</td>\n    </tr>\n    <tr>\n      <th>False</th>\n      <td>0.005776</td>\n      <td>0.499997</td>\n      <td>0.731783</td>\n    </tr>\n    <tr>\n      <th rowspan=\"6\" valign=\"top\">5</th>\n      <th rowspan=\"2\" valign=\"top\">3</th>\n      <th>True</th>\n      <td>0.389507</td>\n      <td>0.551505</td>\n      <td>0.566667</td>\n    </tr>\n    <tr>\n      <th>False</th>\n      <td>0.108584</td>\n      <td>0.512491</td>\n      <td>0.721318</td>\n    </tr>\n    <tr>\n      <th rowspan=\"2\" valign=\"top\">5</th>\n      <th>True</th>\n      <td>0.403456</td>\n      <td>0.566802</td>\n      <td>0.585271</td>\n    </tr>\n    <tr>\n      <th>False</th>\n      <td>0.092169</td>\n      <td>0.514070</td>\n      <td>0.729457</td>\n    </tr>\n    <tr>\n      <th rowspan=\"2\" valign=\"top\">7</th>\n      <th>True</th>\n      <td>0.401931</td>\n      <td>0.570920</td>\n      <td>0.604845</td>\n    </tr>\n    <tr>\n      <th>False</th>\n      <td>0.055791</td>\n      <td>0.509571</td>\n      <td>0.733140</td>\n    </tr>\n    <tr>\n      <th rowspan=\"6\" valign=\"top\">7</th>\n      <th rowspan=\"2\" valign=\"top\">3</th>\n      <th>True</th>\n      <td>0.377376</td>\n      <td>0.549870</td>\n      <td>0.586822</td>\n    </tr>\n    <tr>\n      <th>False</th>\n      <td>0.191108</td>\n      <td>0.528264</td>\n      <td>0.714922</td>\n    </tr>\n    <tr>\n      <th rowspan=\"2\" valign=\"top\">5</th>\n      <th>True</th>\n      <td>0.394439</td>\n      <td>0.568181</td>\n      <td>0.609690</td>\n    </tr>\n    <tr>\n      <th>False</th>\n      <td>0.140153</td>\n      <td>0.518980</td>\n      <td>0.720736</td>\n    </tr>\n    <tr>\n      <th rowspan=\"2\" valign=\"top\">7</th>\n      <th>True</th>\n      <td>0.396024</td>\n      <td>0.568350</td>\n      <td>0.608915</td>\n    </tr>\n    <tr>\n      <th>False</th>\n      <td>0.125577</td>\n      <td>0.521231</td>\n      <td>0.730233</td>\n    </tr>\n  </tbody>\n</table>\n</div>"
     },
     "metadata": {},
     "output_type": "display_data"
    }
   ],
   "source": [
    "rf_results = hyperparameter_tuning_cv(model='random_forest', data=X_coarse, labels=y_coarse.Label, cv_k=5,\n",
    "                                      params=RANDOM_FOREST_PARAMS)\n",
    "\n",
    "display(rf_results)"
   ]
  },
  {
   "cell_type": "code",
   "execution_count": 55,
   "metadata": {
    "pycharm": {
     "name": "#%%\n"
    }
   },
   "outputs": [
    {
     "data": {
      "text/plain": "                                     f1_score  roc_auc_score  accuracy_score\nmax_depth n_estimators oversampling                                         \n3         7            True          0.413424       0.572887        0.583915",
      "text/html": "<div>\n<style scoped>\n    .dataframe tbody tr th:only-of-type {\n        vertical-align: middle;\n    }\n\n    .dataframe tbody tr th {\n        vertical-align: top;\n    }\n\n    .dataframe thead th {\n        text-align: right;\n    }\n</style>\n<table border=\"1\" class=\"dataframe\">\n  <thead>\n    <tr style=\"text-align: right;\">\n      <th></th>\n      <th></th>\n      <th></th>\n      <th>f1_score</th>\n      <th>roc_auc_score</th>\n      <th>accuracy_score</th>\n    </tr>\n    <tr>\n      <th>max_depth</th>\n      <th>n_estimators</th>\n      <th>oversampling</th>\n      <th></th>\n      <th></th>\n      <th></th>\n    </tr>\n  </thead>\n  <tbody>\n    <tr>\n      <th>3</th>\n      <th>7</th>\n      <th>True</th>\n      <td>0.413424</td>\n      <td>0.572887</td>\n      <td>0.583915</td>\n    </tr>\n  </tbody>\n</table>\n</div>"
     },
     "metadata": {},
     "output_type": "display_data"
    }
   ],
   "source": [
    "# Best model parameters\n",
    "\n",
    "best_rf = rf_results.iloc[[rf_results.reset_index()['roc_auc_score'].idxmax()]]\n",
    "\n",
    "display(best_rf)"
   ]
  },
  {
   "cell_type": "code",
   "execution_count": 56,
   "metadata": {},
   "outputs": [],
   "source": [
    "rf_results_1 = hyperparameter_tuning_cv(\n",
    "    model='random_forest', data=X_e_1, labels=y_e_1, cv_k=5, params=RANDOM_FOREST_PARAMS)\n",
    "rf_results_2 = hyperparameter_tuning_cv(\n",
    "    model='random_forest', data=X_e_2, labels=y_e_2, cv_k=5, params=RANDOM_FOREST_PARAMS)\n",
    "rf_results_3 = hyperparameter_tuning_cv(\n",
    "    model='random_forest', data=X_e_3, labels=y_e_3, cv_k=5, params=RANDOM_FOREST_PARAMS)"
   ]
  },
  {
   "cell_type": "code",
   "execution_count": 57,
   "metadata": {},
   "outputs": [
    {
     "data": {
      "text/plain": "                                     f1_score  roc_auc_score  accuracy_score\nmax_depth n_estimators oversampling                                         \n3         5            True          0.377011        0.66056        0.722476",
      "text/html": "<div>\n<style scoped>\n    .dataframe tbody tr th:only-of-type {\n        vertical-align: middle;\n    }\n\n    .dataframe tbody tr th {\n        vertical-align: top;\n    }\n\n    .dataframe thead th {\n        text-align: right;\n    }\n</style>\n<table border=\"1\" class=\"dataframe\">\n  <thead>\n    <tr style=\"text-align: right;\">\n      <th></th>\n      <th></th>\n      <th></th>\n      <th>f1_score</th>\n      <th>roc_auc_score</th>\n      <th>accuracy_score</th>\n    </tr>\n    <tr>\n      <th>max_depth</th>\n      <th>n_estimators</th>\n      <th>oversampling</th>\n      <th></th>\n      <th></th>\n      <th></th>\n    </tr>\n  </thead>\n  <tbody>\n    <tr>\n      <th>3</th>\n      <th>5</th>\n      <th>True</th>\n      <td>0.377011</td>\n      <td>0.66056</td>\n      <td>0.722476</td>\n    </tr>\n  </tbody>\n</table>\n</div>"
     },
     "metadata": {},
     "output_type": "display_data"
    },
    {
     "data": {
      "text/plain": "                                     f1_score  roc_auc_score  accuracy_score\nmax_depth n_estimators oversampling                                         \n7         5            True          0.297491       0.555652        0.660106",
      "text/html": "<div>\n<style scoped>\n    .dataframe tbody tr th:only-of-type {\n        vertical-align: middle;\n    }\n\n    .dataframe tbody tr th {\n        vertical-align: top;\n    }\n\n    .dataframe thead th {\n        text-align: right;\n    }\n</style>\n<table border=\"1\" class=\"dataframe\">\n  <thead>\n    <tr style=\"text-align: right;\">\n      <th></th>\n      <th></th>\n      <th></th>\n      <th>f1_score</th>\n      <th>roc_auc_score</th>\n      <th>accuracy_score</th>\n    </tr>\n    <tr>\n      <th>max_depth</th>\n      <th>n_estimators</th>\n      <th>oversampling</th>\n      <th></th>\n      <th></th>\n      <th></th>\n    </tr>\n  </thead>\n  <tbody>\n    <tr>\n      <th>7</th>\n      <th>5</th>\n      <th>True</th>\n      <td>0.297491</td>\n      <td>0.555652</td>\n      <td>0.660106</td>\n    </tr>\n  </tbody>\n</table>\n</div>"
     },
     "metadata": {},
     "output_type": "display_data"
    },
    {
     "data": {
      "text/plain": "                                     f1_score  roc_auc_score  accuracy_score\nmax_depth n_estimators oversampling                                         \n7         7            True          0.616167       0.630821        0.630857",
      "text/html": "<div>\n<style scoped>\n    .dataframe tbody tr th:only-of-type {\n        vertical-align: middle;\n    }\n\n    .dataframe tbody tr th {\n        vertical-align: top;\n    }\n\n    .dataframe thead th {\n        text-align: right;\n    }\n</style>\n<table border=\"1\" class=\"dataframe\">\n  <thead>\n    <tr style=\"text-align: right;\">\n      <th></th>\n      <th></th>\n      <th></th>\n      <th>f1_score</th>\n      <th>roc_auc_score</th>\n      <th>accuracy_score</th>\n    </tr>\n    <tr>\n      <th>max_depth</th>\n      <th>n_estimators</th>\n      <th>oversampling</th>\n      <th></th>\n      <th></th>\n      <th></th>\n    </tr>\n  </thead>\n  <tbody>\n    <tr>\n      <th>7</th>\n      <th>7</th>\n      <th>True</th>\n      <td>0.616167</td>\n      <td>0.630821</td>\n      <td>0.630857</td>\n    </tr>\n  </tbody>\n</table>\n</div>"
     },
     "metadata": {},
     "output_type": "display_data"
    }
   ],
   "source": [
    "best_rf_1 = rf_results_1.iloc[[\n",
    "    rf_results_1.reset_index()['roc_auc_score'].idxmax()]]\n",
    "best_rf_2 = rf_results_2.iloc[[\n",
    "    rf_results_2.reset_index()['roc_auc_score'].idxmax()]]\n",
    "best_rf_3 = rf_results_3.iloc[[\n",
    "    rf_results_3.reset_index()['roc_auc_score'].idxmax()]]\n",
    "\n",
    "display(best_rf_1, best_rf_2, best_rf_3)"
   ]
  },
  {
   "cell_type": "markdown",
   "metadata": {
    "pycharm": {
     "name": "#%% md\n"
    }
   },
   "source": [
    "#### 8. Gradient Boosting"
   ]
  },
  {
   "cell_type": "code",
   "execution_count": 58,
   "metadata": {
    "pycharm": {
     "name": "#%%\n"
    },
    "scrolled": true
   },
   "outputs": [
    {
     "data": {
      "text/plain": "                                     f1_score  roc_auc_score  accuracy_score\nmax_depth n_estimators oversampling                                         \n3         3            True          0.401801       0.557102        0.554264\n                       False         0.000000       0.500000        0.733140\n          5            True          0.412778       0.567826        0.565310\n                       False         0.000000       0.500000        0.733140\n          7            True          0.414286       0.574660        0.587791\n                       False         0.000000       0.500000        0.733140\n5         3            True          0.404909       0.565183        0.576938\n                       False         0.000000       0.500000        0.733140\n          5            True          0.407283       0.571379        0.593411\n                       False         0.011341       0.502221        0.733721\n          7            True          0.402172       0.569235        0.597868\n                       False         0.029883       0.506220        0.735078\n7         3            True          0.399905       0.567004        0.595349\n                       False         0.001550       0.500262        0.733140\n          5            True          0.407131       0.576610        0.611628\n                       False         0.041845       0.506507        0.732171\n          7            True          0.408496       0.580569        0.624225\n                       False         0.086817       0.516214        0.734690",
      "text/html": "<div>\n<style scoped>\n    .dataframe tbody tr th:only-of-type {\n        vertical-align: middle;\n    }\n\n    .dataframe tbody tr th {\n        vertical-align: top;\n    }\n\n    .dataframe thead th {\n        text-align: right;\n    }\n</style>\n<table border=\"1\" class=\"dataframe\">\n  <thead>\n    <tr style=\"text-align: right;\">\n      <th></th>\n      <th></th>\n      <th></th>\n      <th>f1_score</th>\n      <th>roc_auc_score</th>\n      <th>accuracy_score</th>\n    </tr>\n    <tr>\n      <th>max_depth</th>\n      <th>n_estimators</th>\n      <th>oversampling</th>\n      <th></th>\n      <th></th>\n      <th></th>\n    </tr>\n  </thead>\n  <tbody>\n    <tr>\n      <th rowspan=\"6\" valign=\"top\">3</th>\n      <th rowspan=\"2\" valign=\"top\">3</th>\n      <th>True</th>\n      <td>0.401801</td>\n      <td>0.557102</td>\n      <td>0.554264</td>\n    </tr>\n    <tr>\n      <th>False</th>\n      <td>0.000000</td>\n      <td>0.500000</td>\n      <td>0.733140</td>\n    </tr>\n    <tr>\n      <th rowspan=\"2\" valign=\"top\">5</th>\n      <th>True</th>\n      <td>0.412778</td>\n      <td>0.567826</td>\n      <td>0.565310</td>\n    </tr>\n    <tr>\n      <th>False</th>\n      <td>0.000000</td>\n      <td>0.500000</td>\n      <td>0.733140</td>\n    </tr>\n    <tr>\n      <th rowspan=\"2\" valign=\"top\">7</th>\n      <th>True</th>\n      <td>0.414286</td>\n      <td>0.574660</td>\n      <td>0.587791</td>\n    </tr>\n    <tr>\n      <th>False</th>\n      <td>0.000000</td>\n      <td>0.500000</td>\n      <td>0.733140</td>\n    </tr>\n    <tr>\n      <th rowspan=\"6\" valign=\"top\">5</th>\n      <th rowspan=\"2\" valign=\"top\">3</th>\n      <th>True</th>\n      <td>0.404909</td>\n      <td>0.565183</td>\n      <td>0.576938</td>\n    </tr>\n    <tr>\n      <th>False</th>\n      <td>0.000000</td>\n      <td>0.500000</td>\n      <td>0.733140</td>\n    </tr>\n    <tr>\n      <th rowspan=\"2\" valign=\"top\">5</th>\n      <th>True</th>\n      <td>0.407283</td>\n      <td>0.571379</td>\n      <td>0.593411</td>\n    </tr>\n    <tr>\n      <th>False</th>\n      <td>0.011341</td>\n      <td>0.502221</td>\n      <td>0.733721</td>\n    </tr>\n    <tr>\n      <th rowspan=\"2\" valign=\"top\">7</th>\n      <th>True</th>\n      <td>0.402172</td>\n      <td>0.569235</td>\n      <td>0.597868</td>\n    </tr>\n    <tr>\n      <th>False</th>\n      <td>0.029883</td>\n      <td>0.506220</td>\n      <td>0.735078</td>\n    </tr>\n    <tr>\n      <th rowspan=\"6\" valign=\"top\">7</th>\n      <th rowspan=\"2\" valign=\"top\">3</th>\n      <th>True</th>\n      <td>0.399905</td>\n      <td>0.567004</td>\n      <td>0.595349</td>\n    </tr>\n    <tr>\n      <th>False</th>\n      <td>0.001550</td>\n      <td>0.500262</td>\n      <td>0.733140</td>\n    </tr>\n    <tr>\n      <th rowspan=\"2\" valign=\"top\">5</th>\n      <th>True</th>\n      <td>0.407131</td>\n      <td>0.576610</td>\n      <td>0.611628</td>\n    </tr>\n    <tr>\n      <th>False</th>\n      <td>0.041845</td>\n      <td>0.506507</td>\n      <td>0.732171</td>\n    </tr>\n    <tr>\n      <th rowspan=\"2\" valign=\"top\">7</th>\n      <th>True</th>\n      <td>0.408496</td>\n      <td>0.580569</td>\n      <td>0.624225</td>\n    </tr>\n    <tr>\n      <th>False</th>\n      <td>0.086817</td>\n      <td>0.516214</td>\n      <td>0.734690</td>\n    </tr>\n  </tbody>\n</table>\n</div>"
     },
     "metadata": {},
     "output_type": "display_data"
    }
   ],
   "source": [
    "gb_results = hyperparameter_tuning_cv(model='gradient_boosting', data=X_coarse,\n",
    "                                      labels=y_coarse.Label, cv_k=5,\n",
    "                                      params=GRADIENT_BOOSTING_PARAMS)\n",
    "\n",
    "display(gb_results)"
   ]
  },
  {
   "cell_type": "code",
   "execution_count": 59,
   "metadata": {
    "pycharm": {
     "name": "#%%\n"
    }
   },
   "outputs": [
    {
     "data": {
      "text/plain": "                                     f1_score  roc_auc_score  accuracy_score\nmax_depth n_estimators oversampling                                         \n7         7            True          0.408496       0.580569        0.624225",
      "text/html": "<div>\n<style scoped>\n    .dataframe tbody tr th:only-of-type {\n        vertical-align: middle;\n    }\n\n    .dataframe tbody tr th {\n        vertical-align: top;\n    }\n\n    .dataframe thead th {\n        text-align: right;\n    }\n</style>\n<table border=\"1\" class=\"dataframe\">\n  <thead>\n    <tr style=\"text-align: right;\">\n      <th></th>\n      <th></th>\n      <th></th>\n      <th>f1_score</th>\n      <th>roc_auc_score</th>\n      <th>accuracy_score</th>\n    </tr>\n    <tr>\n      <th>max_depth</th>\n      <th>n_estimators</th>\n      <th>oversampling</th>\n      <th></th>\n      <th></th>\n      <th></th>\n    </tr>\n  </thead>\n  <tbody>\n    <tr>\n      <th>7</th>\n      <th>7</th>\n      <th>True</th>\n      <td>0.408496</td>\n      <td>0.580569</td>\n      <td>0.624225</td>\n    </tr>\n  </tbody>\n</table>\n</div>"
     },
     "metadata": {},
     "output_type": "display_data"
    }
   ],
   "source": [
    "# Best model parameters\n",
    "\n",
    "best_gb = gb_results.iloc[[gb_results.reset_index()['roc_auc_score'].idxmax()]]\n",
    "\n",
    "display(best_gb)"
   ]
  },
  {
   "cell_type": "code",
   "execution_count": 60,
   "metadata": {},
   "outputs": [],
   "source": [
    "gb_results_1 = hyperparameter_tuning_cv(\n",
    "    model='gradient_boosting', data=X_e_1, labels=y_e_1, cv_k=5,\n",
    "    params=GRADIENT_BOOSTING_PARAMS)\n",
    "gb_results_2 = hyperparameter_tuning_cv(\n",
    "    model='gradient_boosting', data=X_e_2, labels=y_e_2, cv_k=5,\n",
    "    params=GRADIENT_BOOSTING_PARAMS)\n",
    "gb_results_3 = hyperparameter_tuning_cv(\n",
    "    model='gradient_boosting', data=X_e_3, labels=y_e_3, cv_k=5,\n",
    "    params=GRADIENT_BOOSTING_PARAMS)"
   ]
  },
  {
   "cell_type": "code",
   "execution_count": 61,
   "metadata": {},
   "outputs": [
    {
     "data": {
      "text/plain": "                                     f1_score  roc_auc_score  accuracy_score\nmax_depth n_estimators oversampling                                         \n3         5            True           0.36284        0.64941        0.712052",
      "text/html": "<div>\n<style scoped>\n    .dataframe tbody tr th:only-of-type {\n        vertical-align: middle;\n    }\n\n    .dataframe tbody tr th {\n        vertical-align: top;\n    }\n\n    .dataframe thead th {\n        text-align: right;\n    }\n</style>\n<table border=\"1\" class=\"dataframe\">\n  <thead>\n    <tr style=\"text-align: right;\">\n      <th></th>\n      <th></th>\n      <th></th>\n      <th>f1_score</th>\n      <th>roc_auc_score</th>\n      <th>accuracy_score</th>\n    </tr>\n    <tr>\n      <th>max_depth</th>\n      <th>n_estimators</th>\n      <th>oversampling</th>\n      <th></th>\n      <th></th>\n      <th></th>\n    </tr>\n  </thead>\n  <tbody>\n    <tr>\n      <th>3</th>\n      <th>5</th>\n      <th>True</th>\n      <td>0.36284</td>\n      <td>0.64941</td>\n      <td>0.712052</td>\n    </tr>\n  </tbody>\n</table>\n</div>"
     },
     "metadata": {},
     "output_type": "display_data"
    },
    {
     "data": {
      "text/plain": "                                     f1_score  roc_auc_score  accuracy_score\nmax_depth n_estimators oversampling                                         \n3         7            True          0.310685       0.558467        0.601596",
      "text/html": "<div>\n<style scoped>\n    .dataframe tbody tr th:only-of-type {\n        vertical-align: middle;\n    }\n\n    .dataframe tbody tr th {\n        vertical-align: top;\n    }\n\n    .dataframe thead th {\n        text-align: right;\n    }\n</style>\n<table border=\"1\" class=\"dataframe\">\n  <thead>\n    <tr style=\"text-align: right;\">\n      <th></th>\n      <th></th>\n      <th></th>\n      <th>f1_score</th>\n      <th>roc_auc_score</th>\n      <th>accuracy_score</th>\n    </tr>\n    <tr>\n      <th>max_depth</th>\n      <th>n_estimators</th>\n      <th>oversampling</th>\n      <th></th>\n      <th></th>\n      <th></th>\n    </tr>\n  </thead>\n  <tbody>\n    <tr>\n      <th>3</th>\n      <th>7</th>\n      <th>True</th>\n      <td>0.310685</td>\n      <td>0.558467</td>\n      <td>0.601596</td>\n    </tr>\n  </tbody>\n</table>\n</div>"
     },
     "metadata": {},
     "output_type": "display_data"
    },
    {
     "data": {
      "text/plain": "                                     f1_score  roc_auc_score  accuracy_score\nmax_depth n_estimators oversampling                                         \n5         7            True          0.595377       0.625716        0.626857",
      "text/html": "<div>\n<style scoped>\n    .dataframe tbody tr th:only-of-type {\n        vertical-align: middle;\n    }\n\n    .dataframe tbody tr th {\n        vertical-align: top;\n    }\n\n    .dataframe thead th {\n        text-align: right;\n    }\n</style>\n<table border=\"1\" class=\"dataframe\">\n  <thead>\n    <tr style=\"text-align: right;\">\n      <th></th>\n      <th></th>\n      <th></th>\n      <th>f1_score</th>\n      <th>roc_auc_score</th>\n      <th>accuracy_score</th>\n    </tr>\n    <tr>\n      <th>max_depth</th>\n      <th>n_estimators</th>\n      <th>oversampling</th>\n      <th></th>\n      <th></th>\n      <th></th>\n    </tr>\n  </thead>\n  <tbody>\n    <tr>\n      <th>5</th>\n      <th>7</th>\n      <th>True</th>\n      <td>0.595377</td>\n      <td>0.625716</td>\n      <td>0.626857</td>\n    </tr>\n  </tbody>\n</table>\n</div>"
     },
     "metadata": {},
     "output_type": "display_data"
    }
   ],
   "source": [
    "best_gb_1 = gb_results_1.iloc[[\n",
    "    gb_results_1.reset_index()['roc_auc_score'].idxmax()]]\n",
    "best_gb_2 = gb_results_2.iloc[[\n",
    "    gb_results_2.reset_index()['roc_auc_score'].idxmax()]]\n",
    "best_gb_3 = gb_results_3.iloc[[\n",
    "    gb_results_3.reset_index()['roc_auc_score'].idxmax()]]\n",
    "display(best_gb_1, best_gb_2, best_gb_3)"
   ]
  },
  {
   "cell_type": "markdown",
   "metadata": {},
   "source": [
    "### Results"
   ]
  },
  {
   "cell_type": "code",
   "execution_count": 62,
   "metadata": {
    "pycharm": {
     "name": "#%%\n"
    },
    "scrolled": true
   },
   "outputs": [],
   "source": [
    "# display('logistic', best_log)\n",
    "# display('lda', best_lda)\n",
    "# display('knn', best_knn)\n",
    "# display('svc', best_svc)\n",
    "# display('naive_bayes', best_nb)\n",
    "# display('decision_tree', best_dt)\n",
    "# display('random_forest', best_rf)\n",
    "# display('gradient_boosting', best_gb)"
   ]
  },
  {
   "cell_type": "code",
   "execution_count": 63,
   "metadata": {},
   "outputs": [],
   "source": [
    "weighted_average = (np.array([len(X_e_1), len(X_e_2), len(X_e_3)]) / len(X_e))\n",
    "\n",
    "e_log = np.sum(pd.concat([best_log_1, best_log_2, best_log_3]\n",
    "                         ).roc_auc_score.values * weighted_average)\n",
    "e_lda = np.sum(pd.concat([best_lda_1, best_lda_2, best_lda_3]\n",
    "                         ).roc_auc_score.values * weighted_average)\n",
    "e_knn = np.sum(pd.concat([best_knn_1, best_knn_2, best_knn_3]\n",
    "                         ).roc_auc_score.values * weighted_average)\n",
    "e_svc = np.sum(pd.concat([best_svc_1, best_svc_2, best_svc_3]\n",
    "                         ).roc_auc_score.values * weighted_average)\n",
    "e_nb = np.sum(pd.concat([best_nb_1, best_nb_2, best_nb_3]\n",
    "                        ).roc_auc_score.values * weighted_average)\n",
    "e_dt = np.sum(pd.concat([best_dt_1, best_dt_2, best_dt_3]\n",
    "                        ).roc_auc_score.values * weighted_average)\n",
    "e_rf = np.sum(pd.concat([best_rf_1, best_rf_2, best_rf_3]\n",
    "                        ).roc_auc_score.values * weighted_average)\n",
    "e_gb = np.sum(pd.concat([best_gb_1, best_gb_2, best_gb_3]\n",
    "                        ).roc_auc_score.values * weighted_average)"
   ]
  },
  {
   "cell_type": "code",
   "execution_count": 64,
   "metadata": {},
   "outputs": [
    {
     "data": {
      "text/plain": "'svc'"
     },
     "metadata": {},
     "output_type": "display_data"
    },
    {
     "data": {
      "text/plain": "                           f1_score  roc_auc_score  accuracy_score\nkernel gamma oversampling                                         \nlinear 0.10  True          0.385733       0.667996        0.726384\nrbf    0.01  True          0.305217       0.562734        0.665426\n             False         0.635175       0.657252        0.656571",
      "text/html": "<div>\n<style scoped>\n    .dataframe tbody tr th:only-of-type {\n        vertical-align: middle;\n    }\n\n    .dataframe tbody tr th {\n        vertical-align: top;\n    }\n\n    .dataframe thead th {\n        text-align: right;\n    }\n</style>\n<table border=\"1\" class=\"dataframe\">\n  <thead>\n    <tr style=\"text-align: right;\">\n      <th></th>\n      <th></th>\n      <th></th>\n      <th>f1_score</th>\n      <th>roc_auc_score</th>\n      <th>accuracy_score</th>\n    </tr>\n    <tr>\n      <th>kernel</th>\n      <th>gamma</th>\n      <th>oversampling</th>\n      <th></th>\n      <th></th>\n      <th></th>\n    </tr>\n  </thead>\n  <tbody>\n    <tr>\n      <th>linear</th>\n      <th>0.10</th>\n      <th>True</th>\n      <td>0.385733</td>\n      <td>0.667996</td>\n      <td>0.726384</td>\n    </tr>\n    <tr>\n      <th rowspan=\"2\" valign=\"top\">rbf</th>\n      <th rowspan=\"2\" valign=\"top\">0.01</th>\n      <th>True</th>\n      <td>0.305217</td>\n      <td>0.562734</td>\n      <td>0.665426</td>\n    </tr>\n    <tr>\n      <th>False</th>\n      <td>0.635175</td>\n      <td>0.657252</td>\n      <td>0.656571</td>\n    </tr>\n  </tbody>\n</table>\n</div>"
     },
     "metadata": {},
     "output_type": "display_data"
    }
   ],
   "source": [
    "# Results expert features\n",
    "# First row is Expert 1, second Expert 2, third Expert 3\n",
    "# display('logistic', pd.concat([best_log_1,best_log_2,best_log_3]))\n",
    "# display('lda', pd.concat([best_lda_1,best_lda_2,best_lda_3]))\n",
    "# display('knn', pd.concat([best_knn_1,best_knn_2,best_knn_3]))\n",
    "display('svc', pd.concat([best_svc_1, best_svc_2, best_svc_3]))\n",
    "# display('naive_bayes', pd.concat([best_nb_1,best_nb_2,best_nb_3]))\n",
    "# display('decision_tree', pd.concat([best_dt_1,best_dt_2,best_dt_3]))\n",
    "# display('random_forest', pd.concat([best_rf_1,best_rf_2,best_rf_3]))\n",
    "# display('gradient_boosting', pd.concat([best_gb_1,best_gb_2,best_gb_3]))"
   ]
  },
  {
   "cell_type": "code",
   "execution_count": 65,
   "metadata": {},
   "outputs": [
    {
     "data": {
      "text/plain": "              models  auc_best  auc_expert_weighted\n0           logistic  0.597721             0.621718\n1                lda  0.598766             0.623260\n2                knn  0.596747             0.623623\n3                svc  0.598347             0.626044\n4        naive_bayes  0.499562             0.553438\n5      decision_tree  0.554414             0.582209\n6      random_forest  0.572887             0.612298\n7  gradient_boosting  0.580569             0.608280",
      "text/html": "<div>\n<style scoped>\n    .dataframe tbody tr th:only-of-type {\n        vertical-align: middle;\n    }\n\n    .dataframe tbody tr th {\n        vertical-align: top;\n    }\n\n    .dataframe thead th {\n        text-align: right;\n    }\n</style>\n<table border=\"1\" class=\"dataframe\">\n  <thead>\n    <tr style=\"text-align: right;\">\n      <th></th>\n      <th>models</th>\n      <th>auc_best</th>\n      <th>auc_expert_weighted</th>\n    </tr>\n  </thead>\n  <tbody>\n    <tr>\n      <th>0</th>\n      <td>logistic</td>\n      <td>0.597721</td>\n      <td>0.621718</td>\n    </tr>\n    <tr>\n      <th>1</th>\n      <td>lda</td>\n      <td>0.598766</td>\n      <td>0.623260</td>\n    </tr>\n    <tr>\n      <th>2</th>\n      <td>knn</td>\n      <td>0.596747</td>\n      <td>0.623623</td>\n    </tr>\n    <tr>\n      <th>3</th>\n      <td>svc</td>\n      <td>0.598347</td>\n      <td>0.626044</td>\n    </tr>\n    <tr>\n      <th>4</th>\n      <td>naive_bayes</td>\n      <td>0.499562</td>\n      <td>0.553438</td>\n    </tr>\n    <tr>\n      <th>5</th>\n      <td>decision_tree</td>\n      <td>0.554414</td>\n      <td>0.582209</td>\n    </tr>\n    <tr>\n      <th>6</th>\n      <td>random_forest</td>\n      <td>0.572887</td>\n      <td>0.612298</td>\n    </tr>\n    <tr>\n      <th>7</th>\n      <td>gradient_boosting</td>\n      <td>0.580569</td>\n      <td>0.608280</td>\n    </tr>\n  </tbody>\n</table>\n</div>"
     },
     "metadata": {},
     "output_type": "display_data"
    }
   ],
   "source": [
    "results = pd.DataFrame(data={'models': ['logistic', 'lda', 'knn', 'svc', 'naive_bayes', 'decision_tree',\n",
    "                                        'random_forest', 'gradient_boosting'],\n",
    "                             'auc_best': [best_log.roc_auc_score.values[0], best_lda.roc_auc_score.values[0],\n",
    "                                          best_knn.roc_auc_score.values[0], best_svc.roc_auc_score.values[0],\n",
    "                                          best_nb.roc_auc_score.values[0], best_dt.roc_auc_score.values[0],\n",
    "                                          best_rf.roc_auc_score.values[0], best_gb.roc_auc_score.values[0]],\n",
    "                             'auc_expert_weighted': [e_log, e_lda, e_knn, e_svc, e_nb, e_dt, e_rf, e_gb]})\n",
    "\n",
    "display(results)"
   ]
  },
  {
   "cell_type": "markdown",
   "metadata": {},
   "source": [
    "### Conclusions\n"
   ]
  },
  {
   "cell_type": "code",
   "execution_count": 66,
   "metadata": {},
   "outputs": [],
   "source": [
    "# Save dataframe\n",
    "# results.to_pickle(\"results_coarse_no_metadata.pkl\")"
   ]
  },
  {
   "cell_type": "code",
   "execution_count": 67,
   "metadata": {
    "scrolled": true
   },
   "outputs": [
    {
     "data": {
      "text/plain": "auc_best               0.574877\nauc_expert_weighted    0.606359\ndtype: float64"
     },
     "execution_count": 67,
     "metadata": {},
     "output_type": "execute_result"
    }
   ],
   "source": [
    "results.mean(axis=0)"
   ]
  },
  {
   "cell_type": "code",
   "execution_count": 68,
   "metadata": {
    "scrolled": true
   },
   "outputs": [
    {
     "data": {
      "text/plain": "models                      lda\nauc_best               0.598766\nauc_expert_weighted     0.62326\nName: 1, dtype: object"
     },
     "execution_count": 68,
     "metadata": {},
     "output_type": "execute_result"
    }
   ],
   "source": [
    "results.loc[results['auc_best'].argmax()]"
   ]
  },
  {
   "cell_type": "code",
   "execution_count": 69,
   "metadata": {},
   "outputs": [
    {
     "data": {
      "text/plain": "models                      svc\nauc_best               0.598347\nauc_expert_weighted    0.626044\nName: 3, dtype: object"
     },
     "execution_count": 69,
     "metadata": {},
     "output_type": "execute_result"
    }
   ],
   "source": [
    "results.loc[results['auc_expert_weighted'].argmax()]"
   ]
  }
 ],
 "metadata": {
  "kernelspec": {
   "name": "pycharm-97a0754f",
   "language": "python",
   "display_name": "PyCharm (cs-433-project-2-cough_classifier)"
  },
  "language_info": {
   "codemirror_mode": {
    "name": "ipython",
    "version": 3
   },
   "file_extension": ".py",
   "mimetype": "text/x-python",
   "name": "python",
   "nbconvert_exporter": "python",
   "pygments_lexer": "ipython3",
   "version": "3.8.6"
  }
 },
 "nbformat": 4,
 "nbformat_minor": 4
}