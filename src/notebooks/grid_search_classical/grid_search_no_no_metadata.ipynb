{
 "cells": [
  {
   "cell_type": "markdown",
   "metadata": {},
   "source": [
    "### Import libraries"
   ]
  },
  {
   "cell_type": "code",
   "execution_count": 1,
   "metadata": {
    "scrolled": true
   },
   "outputs": [],
   "source": [
    "from IPython.core.display import display\n",
    "from src.utils.preprocessing import classic_preprocessing\n",
    "from src.utils.get_data import import_data, split_experts\n",
    "from src.utils.train import hyperparameter_tuning_cv\n",
    "from src.utils.config import *\n",
    "import pandas as pd\n",
    "import numpy as np"
   ]
  },
  {
   "cell_type": "code",
   "execution_count": 2,
   "metadata": {
    "pycharm": {
     "name": "#%%\n"
    }
   },
   "outputs": [],
   "source": [
    "%load_ext autoreload\n",
    "%autoreload 2"
   ]
  },
  {
   "cell_type": "markdown",
   "metadata": {},
   "source": [
    "### Load Data"
   ]
  },
  {
   "cell_type": "code",
   "execution_count": 3,
   "metadata": {},
   "outputs": [],
   "source": [
    "DATA_PATH = '../../../data'\n",
    "X_no, y_no = import_data(DATA_PATH, segmentation_type='no',\n",
    "                         drop_user_features=True,\n",
    "                         drop_expert=True)"
   ]
  },
  {
   "cell_type": "code",
   "execution_count": 4,
   "metadata": {},
   "outputs": [],
   "source": [
    "# For each expert separately\n",
    "X_no_e, y_no_e = import_data(DATA_PATH, segmentation_type='no',\n",
    "                             drop_user_features=True,\n",
    "                             drop_expert=False)"
   ]
  },
  {
   "cell_type": "code",
   "execution_count": 5,
   "metadata": {
    "pycharm": {
     "name": "#%%\n"
    }
   },
   "outputs": [
    {
     "data": {
      "text/plain": "                                      EEPD50_100  EEPD100_150  EEPD150_200  \\\nsubject                                                                      \n008ba489-31ad-44d8-856b-fcf72369dc46        72.0         73.0         71.0   \n008c1c9e-aeef-40c5-846c-24f1b964f884        86.0         87.0         86.0   \n00bf9f83-2e8f-47cf-a4f2-97f2beceebc1        17.0         17.0         17.0   \n018b40a1-c109-459a-9e31-86cbd2cb3918        72.0         73.0         64.0   \n01bf156f-a8ff-48f6-9335-8a1f5bb4c1b7        64.0         65.0         66.0   \n\n                                      EEPD200_250  EEPD250_300  EEPD300_350  \\\nsubject                                                                       \n008ba489-31ad-44d8-856b-fcf72369dc46         70.0         69.0         71.0   \n008c1c9e-aeef-40c5-846c-24f1b964f884         83.0         82.0         80.0   \n00bf9f83-2e8f-47cf-a4f2-97f2beceebc1         19.0         19.0         20.0   \n018b40a1-c109-459a-9e31-86cbd2cb3918         66.0         70.0         66.0   \n01bf156f-a8ff-48f6-9335-8a1f5bb4c1b7         69.0         67.0         70.0   \n\n                                      EEPD350_400  EEPD400_450  EEPD450_500  \\\nsubject                                                                       \n008ba489-31ad-44d8-856b-fcf72369dc46         70.0         72.0         71.0   \n008c1c9e-aeef-40c5-846c-24f1b964f884         82.0         79.0         74.0   \n00bf9f83-2e8f-47cf-a4f2-97f2beceebc1         19.0         20.0         21.0   \n018b40a1-c109-459a-9e31-86cbd2cb3918         65.0         65.0         70.0   \n01bf156f-a8ff-48f6-9335-8a1f5bb4c1b7         64.0         69.0         66.0   \n\n                                      EEPD500_550  ...  MFCC_std12  \\\nsubject                                            ...               \n008ba489-31ad-44d8-856b-fcf72369dc46         72.0  ...    9.644575   \n008c1c9e-aeef-40c5-846c-24f1b964f884         78.0  ...    8.110090   \n00bf9f83-2e8f-47cf-a4f2-97f2beceebc1         17.0  ...    9.753122   \n018b40a1-c109-459a-9e31-86cbd2cb3918         68.0  ...   10.005029   \n01bf156f-a8ff-48f6-9335-8a1f5bb4c1b7         65.0  ...   15.789141   \n\n                                      Crest_Factor  Cough_Length        SNR  \\\nsubject                                                                       \n008ba489-31ad-44d8-856b-fcf72369dc46     21.396543          9.78  17.331636   \n008c1c9e-aeef-40c5-846c-24f1b964f884     11.509653          9.96  48.925328   \n00bf9f83-2e8f-47cf-a4f2-97f2beceebc1      7.536316          2.76  39.487579   \n018b40a1-c109-459a-9e31-86cbd2cb3918     14.964056          9.78  17.963939   \n01bf156f-a8ff-48f6-9335-8a1f5bb4c1b7      8.150607          9.78  21.886511   \n\n                                      PSD_225-425  PSD_450-550  PSD_1325-1600  \\\nsubject                                                                         \n008ba489-31ad-44d8-856b-fcf72369dc46     0.274024     0.072153       0.017824   \n008c1c9e-aeef-40c5-846c-24f1b964f884     0.102350     0.054859       0.037391   \n00bf9f83-2e8f-47cf-a4f2-97f2beceebc1     0.302548     0.069098       0.021297   \n018b40a1-c109-459a-9e31-86cbd2cb3918     0.273720     0.067828       0.073858   \n01bf156f-a8ff-48f6-9335-8a1f5bb4c1b7     0.334480     0.031282       0.054040   \n\n                                      PSD_1600-2000  PSD_2500-2900  \\\nsubject                                                              \n008ba489-31ad-44d8-856b-fcf72369dc46       0.024982       0.041253   \n008c1c9e-aeef-40c5-846c-24f1b964f884       0.036934       0.032164   \n00bf9f83-2e8f-47cf-a4f2-97f2beceebc1       0.008322       0.002345   \n018b40a1-c109-459a-9e31-86cbd2cb3918       0.057807       0.022392   \n01bf156f-a8ff-48f6-9335-8a1f5bb4c1b7       0.087913       0.011978   \n\n                                      PSD_3100-3700  \nsubject                                              \n008ba489-31ad-44d8-856b-fcf72369dc46       0.008166  \n008c1c9e-aeef-40c5-846c-24f1b964f884       0.044875  \n00bf9f83-2e8f-47cf-a4f2-97f2beceebc1       0.003803  \n018b40a1-c109-459a-9e31-86cbd2cb3918       0.028218  \n01bf156f-a8ff-48f6-9335-8a1f5bb4c1b7       0.012351  \n\n[5 rows x 67 columns]",
      "text/html": "<div>\n<style scoped>\n    .dataframe tbody tr th:only-of-type {\n        vertical-align: middle;\n    }\n\n    .dataframe tbody tr th {\n        vertical-align: top;\n    }\n\n    .dataframe thead th {\n        text-align: right;\n    }\n</style>\n<table border=\"1\" class=\"dataframe\">\n  <thead>\n    <tr style=\"text-align: right;\">\n      <th></th>\n      <th>EEPD50_100</th>\n      <th>EEPD100_150</th>\n      <th>EEPD150_200</th>\n      <th>EEPD200_250</th>\n      <th>EEPD250_300</th>\n      <th>EEPD300_350</th>\n      <th>EEPD350_400</th>\n      <th>EEPD400_450</th>\n      <th>EEPD450_500</th>\n      <th>EEPD500_550</th>\n      <th>...</th>\n      <th>MFCC_std12</th>\n      <th>Crest_Factor</th>\n      <th>Cough_Length</th>\n      <th>SNR</th>\n      <th>PSD_225-425</th>\n      <th>PSD_450-550</th>\n      <th>PSD_1325-1600</th>\n      <th>PSD_1600-2000</th>\n      <th>PSD_2500-2900</th>\n      <th>PSD_3100-3700</th>\n    </tr>\n    <tr>\n      <th>subject</th>\n      <th></th>\n      <th></th>\n      <th></th>\n      <th></th>\n      <th></th>\n      <th></th>\n      <th></th>\n      <th></th>\n      <th></th>\n      <th></th>\n      <th></th>\n      <th></th>\n      <th></th>\n      <th></th>\n      <th></th>\n      <th></th>\n      <th></th>\n      <th></th>\n      <th></th>\n      <th></th>\n      <th></th>\n    </tr>\n  </thead>\n  <tbody>\n    <tr>\n      <th>008ba489-31ad-44d8-856b-fcf72369dc46</th>\n      <td>72.0</td>\n      <td>73.0</td>\n      <td>71.0</td>\n      <td>70.0</td>\n      <td>69.0</td>\n      <td>71.0</td>\n      <td>70.0</td>\n      <td>72.0</td>\n      <td>71.0</td>\n      <td>72.0</td>\n      <td>...</td>\n      <td>9.644575</td>\n      <td>21.396543</td>\n      <td>9.78</td>\n      <td>17.331636</td>\n      <td>0.274024</td>\n      <td>0.072153</td>\n      <td>0.017824</td>\n      <td>0.024982</td>\n      <td>0.041253</td>\n      <td>0.008166</td>\n    </tr>\n    <tr>\n      <th>008c1c9e-aeef-40c5-846c-24f1b964f884</th>\n      <td>86.0</td>\n      <td>87.0</td>\n      <td>86.0</td>\n      <td>83.0</td>\n      <td>82.0</td>\n      <td>80.0</td>\n      <td>82.0</td>\n      <td>79.0</td>\n      <td>74.0</td>\n      <td>78.0</td>\n      <td>...</td>\n      <td>8.110090</td>\n      <td>11.509653</td>\n      <td>9.96</td>\n      <td>48.925328</td>\n      <td>0.102350</td>\n      <td>0.054859</td>\n      <td>0.037391</td>\n      <td>0.036934</td>\n      <td>0.032164</td>\n      <td>0.044875</td>\n    </tr>\n    <tr>\n      <th>00bf9f83-2e8f-47cf-a4f2-97f2beceebc1</th>\n      <td>17.0</td>\n      <td>17.0</td>\n      <td>17.0</td>\n      <td>19.0</td>\n      <td>19.0</td>\n      <td>20.0</td>\n      <td>19.0</td>\n      <td>20.0</td>\n      <td>21.0</td>\n      <td>17.0</td>\n      <td>...</td>\n      <td>9.753122</td>\n      <td>7.536316</td>\n      <td>2.76</td>\n      <td>39.487579</td>\n      <td>0.302548</td>\n      <td>0.069098</td>\n      <td>0.021297</td>\n      <td>0.008322</td>\n      <td>0.002345</td>\n      <td>0.003803</td>\n    </tr>\n    <tr>\n      <th>018b40a1-c109-459a-9e31-86cbd2cb3918</th>\n      <td>72.0</td>\n      <td>73.0</td>\n      <td>64.0</td>\n      <td>66.0</td>\n      <td>70.0</td>\n      <td>66.0</td>\n      <td>65.0</td>\n      <td>65.0</td>\n      <td>70.0</td>\n      <td>68.0</td>\n      <td>...</td>\n      <td>10.005029</td>\n      <td>14.964056</td>\n      <td>9.78</td>\n      <td>17.963939</td>\n      <td>0.273720</td>\n      <td>0.067828</td>\n      <td>0.073858</td>\n      <td>0.057807</td>\n      <td>0.022392</td>\n      <td>0.028218</td>\n    </tr>\n    <tr>\n      <th>01bf156f-a8ff-48f6-9335-8a1f5bb4c1b7</th>\n      <td>64.0</td>\n      <td>65.0</td>\n      <td>66.0</td>\n      <td>69.0</td>\n      <td>67.0</td>\n      <td>70.0</td>\n      <td>64.0</td>\n      <td>69.0</td>\n      <td>66.0</td>\n      <td>65.0</td>\n      <td>...</td>\n      <td>15.789141</td>\n      <td>8.150607</td>\n      <td>9.78</td>\n      <td>21.886511</td>\n      <td>0.334480</td>\n      <td>0.031282</td>\n      <td>0.054040</td>\n      <td>0.087913</td>\n      <td>0.011978</td>\n      <td>0.012351</td>\n    </tr>\n  </tbody>\n</table>\n<p>5 rows × 67 columns</p>\n</div>"
     },
     "metadata": {},
     "output_type": "display_data"
    },
    {
     "data": {
      "text/plain": "                                      Label\nsubject                                    \n008ba489-31ad-44d8-856b-fcf72369dc46    1.0\n008c1c9e-aeef-40c5-846c-24f1b964f884    1.0\n00bf9f83-2e8f-47cf-a4f2-97f2beceebc1    1.0\n018b40a1-c109-459a-9e31-86cbd2cb3918    1.0\n01bf156f-a8ff-48f6-9335-8a1f5bb4c1b7    1.0",
      "text/html": "<div>\n<style scoped>\n    .dataframe tbody tr th:only-of-type {\n        vertical-align: middle;\n    }\n\n    .dataframe tbody tr th {\n        vertical-align: top;\n    }\n\n    .dataframe thead th {\n        text-align: right;\n    }\n</style>\n<table border=\"1\" class=\"dataframe\">\n  <thead>\n    <tr style=\"text-align: right;\">\n      <th></th>\n      <th>Label</th>\n    </tr>\n    <tr>\n      <th>subject</th>\n      <th></th>\n    </tr>\n  </thead>\n  <tbody>\n    <tr>\n      <th>008ba489-31ad-44d8-856b-fcf72369dc46</th>\n      <td>1.0</td>\n    </tr>\n    <tr>\n      <th>008c1c9e-aeef-40c5-846c-24f1b964f884</th>\n      <td>1.0</td>\n    </tr>\n    <tr>\n      <th>00bf9f83-2e8f-47cf-a4f2-97f2beceebc1</th>\n      <td>1.0</td>\n    </tr>\n    <tr>\n      <th>018b40a1-c109-459a-9e31-86cbd2cb3918</th>\n      <td>1.0</td>\n    </tr>\n    <tr>\n      <th>01bf156f-a8ff-48f6-9335-8a1f5bb4c1b7</th>\n      <td>1.0</td>\n    </tr>\n  </tbody>\n</table>\n</div>"
     },
     "metadata": {},
     "output_type": "display_data"
    }
   ],
   "source": [
    "display(X_no.head())\n",
    "display(y_no.head())"
   ]
  },
  {
   "cell_type": "markdown",
   "metadata": {},
   "source": [
    "### Preprocessing"
   ]
  },
  {
   "cell_type": "code",
   "execution_count": 6,
   "metadata": {},
   "outputs": [],
   "source": [
    "X_no = classic_preprocessing(X_no, stop=None, dummy=False)"
   ]
  },
  {
   "cell_type": "code",
   "execution_count": 7,
   "metadata": {},
   "outputs": [],
   "source": [
    "# Save the expert feature for split\n",
    "expert = X_no_e['Expert'].copy()\n",
    "X_no_e = classic_preprocessing(X_no_e, stop=None, dummy=False)\n",
    "X_no_e['Expert'] = expert.values"
   ]
  },
  {
   "cell_type": "markdown",
   "metadata": {},
   "source": [
    "### Split expert models"
   ]
  },
  {
   "cell_type": "code",
   "execution_count": 8,
   "metadata": {},
   "outputs": [],
   "source": [
    "X_no_e_1, y_no_e_1, X_no_e_2, y_no_e_2, X_no_e_3, y_no_e_3 = split_experts(\n",
    "    X_no_e, y_no_e)"
   ]
  },
  {
   "cell_type": "markdown",
   "metadata": {},
   "source": [
    "### Grid search one model for all"
   ]
  },
  {
   "cell_type": "markdown",
   "metadata": {
    "pycharm": {
     "name": "#%% md\n"
    }
   },
   "source": [
    "#### 1. Logistic regression"
   ]
  },
  {
   "cell_type": "code",
   "execution_count": 9,
   "metadata": {
    "pycharm": {
     "name": "#%%\n"
    },
    "scrolled": true
   },
   "outputs": [
    {
     "data": {
      "text/plain": "                       f1_score  roc_auc_score  accuracy_score\nmax_iter oversampling                                         \n10000    True          0.432504       0.593197        0.591165\n         False         0.131506       0.517325        0.726908\n100000   True          0.432504       0.593197        0.591165\n         False         0.131506       0.517325        0.726908",
      "text/html": "<div>\n<style scoped>\n    .dataframe tbody tr th:only-of-type {\n        vertical-align: middle;\n    }\n\n    .dataframe tbody tr th {\n        vertical-align: top;\n    }\n\n    .dataframe thead th {\n        text-align: right;\n    }\n</style>\n<table border=\"1\" class=\"dataframe\">\n  <thead>\n    <tr style=\"text-align: right;\">\n      <th></th>\n      <th></th>\n      <th>f1_score</th>\n      <th>roc_auc_score</th>\n      <th>accuracy_score</th>\n    </tr>\n    <tr>\n      <th>max_iter</th>\n      <th>oversampling</th>\n      <th></th>\n      <th></th>\n      <th></th>\n    </tr>\n  </thead>\n  <tbody>\n    <tr>\n      <th rowspan=\"2\" valign=\"top\">10000</th>\n      <th>True</th>\n      <td>0.432504</td>\n      <td>0.593197</td>\n      <td>0.591165</td>\n    </tr>\n    <tr>\n      <th>False</th>\n      <td>0.131506</td>\n      <td>0.517325</td>\n      <td>0.726908</td>\n    </tr>\n    <tr>\n      <th rowspan=\"2\" valign=\"top\">100000</th>\n      <th>True</th>\n      <td>0.432504</td>\n      <td>0.593197</td>\n      <td>0.591165</td>\n    </tr>\n    <tr>\n      <th>False</th>\n      <td>0.131506</td>\n      <td>0.517325</td>\n      <td>0.726908</td>\n    </tr>\n  </tbody>\n</table>\n</div>"
     },
     "metadata": {},
     "output_type": "display_data"
    }
   ],
   "source": [
    "log_results = hyperparameter_tuning_cv(model='logistic', data=X_no, labels=y_no.Label, cv_k=5,\n",
    "                                       params=LOGISTIC_PARAMS)\n",
    "\n",
    "display(log_results)"
   ]
  },
  {
   "cell_type": "code",
   "execution_count": 10,
   "metadata": {
    "pycharm": {
     "name": "#%%\n"
    }
   },
   "outputs": [
    {
     "data": {
      "text/plain": "                       f1_score  roc_auc_score  accuracy_score\nmax_iter oversampling                                         \n10000    True          0.432504       0.593197        0.591165",
      "text/html": "<div>\n<style scoped>\n    .dataframe tbody tr th:only-of-type {\n        vertical-align: middle;\n    }\n\n    .dataframe tbody tr th {\n        vertical-align: top;\n    }\n\n    .dataframe thead th {\n        text-align: right;\n    }\n</style>\n<table border=\"1\" class=\"dataframe\">\n  <thead>\n    <tr style=\"text-align: right;\">\n      <th></th>\n      <th></th>\n      <th>f1_score</th>\n      <th>roc_auc_score</th>\n      <th>accuracy_score</th>\n    </tr>\n    <tr>\n      <th>max_iter</th>\n      <th>oversampling</th>\n      <th></th>\n      <th></th>\n      <th></th>\n    </tr>\n  </thead>\n  <tbody>\n    <tr>\n      <th>10000</th>\n      <th>True</th>\n      <td>0.432504</td>\n      <td>0.593197</td>\n      <td>0.591165</td>\n    </tr>\n  </tbody>\n</table>\n</div>"
     },
     "metadata": {},
     "output_type": "display_data"
    }
   ],
   "source": [
    "# Best model parameters\n",
    "\n",
    "best_log = log_results.iloc[[\n",
    "    log_results.reset_index()['roc_auc_score'].idxmax()]]\n",
    "\n",
    "display(best_log)"
   ]
  },
  {
   "cell_type": "code",
   "execution_count": 11,
   "metadata": {},
   "outputs": [],
   "source": [
    "# for each expert\n",
    "log_results_1 = hyperparameter_tuning_cv(model='logistic', data=X_no_e_1, labels=y_no_e_1, cv_k=5,\n",
    "                                         params=LOGISTIC_PARAMS)\n",
    "log_results_2 = hyperparameter_tuning_cv(model='logistic', data=X_no_e_2, labels=y_no_e_2, cv_k=5,\n",
    "                                         params=LOGISTIC_PARAMS)\n",
    "log_results_3 = hyperparameter_tuning_cv(model='logistic', data=X_no_e_3, labels=y_no_e_3, cv_k=5,\n",
    "                                         params=LOGISTIC_PARAMS)"
   ]
  },
  {
   "cell_type": "code",
   "execution_count": 12,
   "metadata": {},
   "outputs": [
    {
     "data": {
      "text/plain": "                       f1_score  roc_auc_score  accuracy_score\nmax_iter oversampling                                         \n10000    True            0.3574       0.649556           0.748",
      "text/html": "<div>\n<style scoped>\n    .dataframe tbody tr th:only-of-type {\n        vertical-align: middle;\n    }\n\n    .dataframe tbody tr th {\n        vertical-align: top;\n    }\n\n    .dataframe thead th {\n        text-align: right;\n    }\n</style>\n<table border=\"1\" class=\"dataframe\">\n  <thead>\n    <tr style=\"text-align: right;\">\n      <th></th>\n      <th></th>\n      <th>f1_score</th>\n      <th>roc_auc_score</th>\n      <th>accuracy_score</th>\n    </tr>\n    <tr>\n      <th>max_iter</th>\n      <th>oversampling</th>\n      <th></th>\n      <th></th>\n      <th></th>\n    </tr>\n  </thead>\n  <tbody>\n    <tr>\n      <th>10000</th>\n      <th>True</th>\n      <td>0.3574</td>\n      <td>0.649556</td>\n      <td>0.748</td>\n    </tr>\n  </tbody>\n</table>\n</div>"
     },
     "metadata": {},
     "output_type": "display_data"
    },
    {
     "data": {
      "text/plain": "                       f1_score  roc_auc_score  accuracy_score\nmax_iter oversampling                                         \n10000    True          0.250009       0.502218        0.575269",
      "text/html": "<div>\n<style scoped>\n    .dataframe tbody tr th:only-of-type {\n        vertical-align: middle;\n    }\n\n    .dataframe tbody tr th {\n        vertical-align: top;\n    }\n\n    .dataframe thead th {\n        text-align: right;\n    }\n</style>\n<table border=\"1\" class=\"dataframe\">\n  <thead>\n    <tr style=\"text-align: right;\">\n      <th></th>\n      <th></th>\n      <th>f1_score</th>\n      <th>roc_auc_score</th>\n      <th>accuracy_score</th>\n    </tr>\n    <tr>\n      <th>max_iter</th>\n      <th>oversampling</th>\n      <th></th>\n      <th></th>\n      <th></th>\n    </tr>\n  </thead>\n  <tbody>\n    <tr>\n      <th>10000</th>\n      <th>True</th>\n      <td>0.250009</td>\n      <td>0.502218</td>\n      <td>0.575269</td>\n    </tr>\n  </tbody>\n</table>\n</div>"
     },
     "metadata": {},
     "output_type": "display_data"
    },
    {
     "data": {
      "text/plain": "                       f1_score  roc_auc_score  accuracy_score\nmax_iter oversampling                                         \n10000    False         0.536873       0.593783         0.60122",
      "text/html": "<div>\n<style scoped>\n    .dataframe tbody tr th:only-of-type {\n        vertical-align: middle;\n    }\n\n    .dataframe tbody tr th {\n        vertical-align: top;\n    }\n\n    .dataframe thead th {\n        text-align: right;\n    }\n</style>\n<table border=\"1\" class=\"dataframe\">\n  <thead>\n    <tr style=\"text-align: right;\">\n      <th></th>\n      <th></th>\n      <th>f1_score</th>\n      <th>roc_auc_score</th>\n      <th>accuracy_score</th>\n    </tr>\n    <tr>\n      <th>max_iter</th>\n      <th>oversampling</th>\n      <th></th>\n      <th></th>\n      <th></th>\n    </tr>\n  </thead>\n  <tbody>\n    <tr>\n      <th>10000</th>\n      <th>False</th>\n      <td>0.536873</td>\n      <td>0.593783</td>\n      <td>0.60122</td>\n    </tr>\n  </tbody>\n</table>\n</div>"
     },
     "metadata": {},
     "output_type": "display_data"
    }
   ],
   "source": [
    "# Best model parameters\n",
    "\n",
    "best_log_1 = log_results_1.iloc[[\n",
    "    log_results_1.reset_index()['roc_auc_score'].idxmax()]]\n",
    "best_log_2 = log_results_2.iloc[[\n",
    "    log_results_2.reset_index()['roc_auc_score'].idxmax()]]\n",
    "best_log_3 = log_results_3.iloc[[\n",
    "    log_results_3.reset_index()['roc_auc_score'].idxmax()]]\n",
    "\n",
    "display(best_log_1, best_log_2, best_log_3)"
   ]
  },
  {
   "cell_type": "markdown",
   "metadata": {
    "pycharm": {
     "name": "#%% md\n"
    }
   },
   "source": [
    "#### 2. Linear Discriminant Analysis"
   ]
  },
  {
   "cell_type": "code",
   "execution_count": 13,
   "metadata": {
    "pycharm": {
     "name": "#%%\n"
    }
   },
   "outputs": [
    {
     "data": {
      "text/plain": "              f1_score  roc_auc_score  accuracy_score\noversampling                                         \nTrue          0.429830       0.589683        0.583534\nFalse         0.131075       0.517813        0.727711",
      "text/html": "<div>\n<style scoped>\n    .dataframe tbody tr th:only-of-type {\n        vertical-align: middle;\n    }\n\n    .dataframe tbody tr th {\n        vertical-align: top;\n    }\n\n    .dataframe thead th {\n        text-align: right;\n    }\n</style>\n<table border=\"1\" class=\"dataframe\">\n  <thead>\n    <tr style=\"text-align: right;\">\n      <th></th>\n      <th>f1_score</th>\n      <th>roc_auc_score</th>\n      <th>accuracy_score</th>\n    </tr>\n    <tr>\n      <th>oversampling</th>\n      <th></th>\n      <th></th>\n      <th></th>\n    </tr>\n  </thead>\n  <tbody>\n    <tr>\n      <th>True</th>\n      <td>0.429830</td>\n      <td>0.589683</td>\n      <td>0.583534</td>\n    </tr>\n    <tr>\n      <th>False</th>\n      <td>0.131075</td>\n      <td>0.517813</td>\n      <td>0.727711</td>\n    </tr>\n  </tbody>\n</table>\n</div>"
     },
     "metadata": {},
     "output_type": "display_data"
    }
   ],
   "source": [
    "lda_results = hyperparameter_tuning_cv(model='lda', data=X_no, labels=y_no.Label, cv_k=5,\n",
    "                                       params=LDA_PARAMS)\n",
    "\n",
    "display(lda_results)"
   ]
  },
  {
   "cell_type": "code",
   "execution_count": 14,
   "metadata": {
    "pycharm": {
     "name": "#%%\n"
    },
    "scrolled": true
   },
   "outputs": [
    {
     "data": {
      "text/plain": "              f1_score  roc_auc_score  accuracy_score\noversampling                                         \nTrue           0.42983       0.589683        0.583534",
      "text/html": "<div>\n<style scoped>\n    .dataframe tbody tr th:only-of-type {\n        vertical-align: middle;\n    }\n\n    .dataframe tbody tr th {\n        vertical-align: top;\n    }\n\n    .dataframe thead th {\n        text-align: right;\n    }\n</style>\n<table border=\"1\" class=\"dataframe\">\n  <thead>\n    <tr style=\"text-align: right;\">\n      <th></th>\n      <th>f1_score</th>\n      <th>roc_auc_score</th>\n      <th>accuracy_score</th>\n    </tr>\n    <tr>\n      <th>oversampling</th>\n      <th></th>\n      <th></th>\n      <th></th>\n    </tr>\n  </thead>\n  <tbody>\n    <tr>\n      <th>True</th>\n      <td>0.42983</td>\n      <td>0.589683</td>\n      <td>0.583534</td>\n    </tr>\n  </tbody>\n</table>\n</div>"
     },
     "metadata": {},
     "output_type": "display_data"
    }
   ],
   "source": [
    "# Best model parameters\n",
    "\n",
    "best_lda = lda_results.iloc[[\n",
    "    lda_results.reset_index()['roc_auc_score'].idxmax()]]\n",
    "\n",
    "display(best_lda)"
   ]
  },
  {
   "cell_type": "code",
   "execution_count": 15,
   "metadata": {},
   "outputs": [],
   "source": [
    "# For each expert\n",
    "lda_results_1 = hyperparameter_tuning_cv(model='lda', data=X_no_e_1, labels=y_no_e_1, cv_k=5,\n",
    "                                         params=LDA_PARAMS)\n",
    "lda_results_2 = hyperparameter_tuning_cv(model='lda', data=X_no_e_2, labels=y_no_e_2, cv_k=5,\n",
    "                                         params=LDA_PARAMS)\n",
    "lda_results_3 = hyperparameter_tuning_cv(model='lda', data=X_no_e_3, labels=y_no_e_3, cv_k=5,\n",
    "                                         params=LDA_PARAMS)"
   ]
  },
  {
   "cell_type": "code",
   "execution_count": 16,
   "metadata": {},
   "outputs": [
    {
     "data": {
      "text/plain": "              f1_score  roc_auc_score  accuracy_score\noversampling                                         \nTrue          0.367055       0.666806        0.717333",
      "text/html": "<div>\n<style scoped>\n    .dataframe tbody tr th:only-of-type {\n        vertical-align: middle;\n    }\n\n    .dataframe tbody tr th {\n        vertical-align: top;\n    }\n\n    .dataframe thead th {\n        text-align: right;\n    }\n</style>\n<table border=\"1\" class=\"dataframe\">\n  <thead>\n    <tr style=\"text-align: right;\">\n      <th></th>\n      <th>f1_score</th>\n      <th>roc_auc_score</th>\n      <th>accuracy_score</th>\n    </tr>\n    <tr>\n      <th>oversampling</th>\n      <th></th>\n      <th></th>\n      <th></th>\n    </tr>\n  </thead>\n  <tbody>\n    <tr>\n      <th>True</th>\n      <td>0.367055</td>\n      <td>0.666806</td>\n      <td>0.717333</td>\n    </tr>\n  </tbody>\n</table>\n</div>"
     },
     "metadata": {},
     "output_type": "display_data"
    },
    {
     "data": {
      "text/plain": "              f1_score  roc_auc_score  accuracy_score\noversampling                                         \nFalse         0.048218       0.494786        0.788172",
      "text/html": "<div>\n<style scoped>\n    .dataframe tbody tr th:only-of-type {\n        vertical-align: middle;\n    }\n\n    .dataframe tbody tr th {\n        vertical-align: top;\n    }\n\n    .dataframe thead th {\n        text-align: right;\n    }\n</style>\n<table border=\"1\" class=\"dataframe\">\n  <thead>\n    <tr style=\"text-align: right;\">\n      <th></th>\n      <th>f1_score</th>\n      <th>roc_auc_score</th>\n      <th>accuracy_score</th>\n    </tr>\n    <tr>\n      <th>oversampling</th>\n      <th></th>\n      <th></th>\n      <th></th>\n    </tr>\n  </thead>\n  <tbody>\n    <tr>\n      <th>False</th>\n      <td>0.048218</td>\n      <td>0.494786</td>\n      <td>0.788172</td>\n    </tr>\n  </tbody>\n</table>\n</div>"
     },
     "metadata": {},
     "output_type": "display_data"
    },
    {
     "data": {
      "text/plain": "              f1_score  roc_auc_score  accuracy_score\noversampling                                         \nTrue          0.565583       0.590218        0.590244",
      "text/html": "<div>\n<style scoped>\n    .dataframe tbody tr th:only-of-type {\n        vertical-align: middle;\n    }\n\n    .dataframe tbody tr th {\n        vertical-align: top;\n    }\n\n    .dataframe thead th {\n        text-align: right;\n    }\n</style>\n<table border=\"1\" class=\"dataframe\">\n  <thead>\n    <tr style=\"text-align: right;\">\n      <th></th>\n      <th>f1_score</th>\n      <th>roc_auc_score</th>\n      <th>accuracy_score</th>\n    </tr>\n    <tr>\n      <th>oversampling</th>\n      <th></th>\n      <th></th>\n      <th></th>\n    </tr>\n  </thead>\n  <tbody>\n    <tr>\n      <th>True</th>\n      <td>0.565583</td>\n      <td>0.590218</td>\n      <td>0.590244</td>\n    </tr>\n  </tbody>\n</table>\n</div>"
     },
     "metadata": {},
     "output_type": "display_data"
    }
   ],
   "source": [
    "best_lda_1 = lda_results_1.iloc[[\n",
    "    lda_results_1.reset_index()['roc_auc_score'].idxmax()]]\n",
    "best_lda_2 = lda_results_2.iloc[[\n",
    "    lda_results_2.reset_index()['roc_auc_score'].idxmax()]]\n",
    "best_lda_3 = lda_results_3.iloc[[\n",
    "    lda_results_3.reset_index()['roc_auc_score'].idxmax()]]\n",
    "\n",
    "display(best_lda_1, best_lda_2, best_lda_3)"
   ]
  },
  {
   "cell_type": "markdown",
   "metadata": {
    "pycharm": {
     "name": "#%% md\n"
    }
   },
   "source": [
    "#### 3. K-nearest Neighbors"
   ]
  },
  {
   "cell_type": "code",
   "execution_count": 17,
   "metadata": {
    "pycharm": {
     "name": "#%%\n"
    }
   },
   "outputs": [
    {
     "data": {
      "text/plain": "                          f1_score  roc_auc_score  accuracy_score\nn_neighbors oversampling                                         \n1           True          0.371976       0.535477        0.541365\n            False         0.309104       0.522374        0.612851\n2           True          0.342766       0.531466        0.588353\n            False         0.145698       0.511417        0.710442\n3           True          0.401479       0.543545        0.486747\n            False         0.268523       0.527224        0.666265\n4           True          0.385394       0.543136        0.532932\n            False         0.163780       0.519723        0.716867\n5           True          0.406992       0.542684        0.464659\n            False         0.251870       0.532673        0.691566\n6           True          0.404785       0.549862        0.501205\n            False         0.145913       0.514091        0.714859\n7           True          0.413031       0.544708        0.451004\n            False         0.217418       0.525208        0.699598\n8           True          0.412122       0.551821        0.484337\n            False         0.142008       0.515520        0.719277\n9           True          0.416900       0.546283        0.440562\n            False         0.204562       0.526839        0.710442\n10          True          0.414589       0.550206        0.467470\n            False         0.126383       0.515777        0.725703\n11          True          0.416525       0.543727        0.430924\n            False         0.161191       0.517445        0.714056\n12          True          0.420609       0.554344        0.461446\n            False         0.115976       0.514156        0.726908\n13          True          0.423922       0.552184        0.433735\n            False         0.158829       0.520273        0.720482\n14          True          0.425656       0.559798        0.460241\n            False         0.100263       0.511168        0.727711\n15          True          0.422596       0.549573        0.428514\n            False         0.152629       0.521904        0.725703",
      "text/html": "<div>\n<style scoped>\n    .dataframe tbody tr th:only-of-type {\n        vertical-align: middle;\n    }\n\n    .dataframe tbody tr th {\n        vertical-align: top;\n    }\n\n    .dataframe thead th {\n        text-align: right;\n    }\n</style>\n<table border=\"1\" class=\"dataframe\">\n  <thead>\n    <tr style=\"text-align: right;\">\n      <th></th>\n      <th></th>\n      <th>f1_score</th>\n      <th>roc_auc_score</th>\n      <th>accuracy_score</th>\n    </tr>\n    <tr>\n      <th>n_neighbors</th>\n      <th>oversampling</th>\n      <th></th>\n      <th></th>\n      <th></th>\n    </tr>\n  </thead>\n  <tbody>\n    <tr>\n      <th rowspan=\"2\" valign=\"top\">1</th>\n      <th>True</th>\n      <td>0.371976</td>\n      <td>0.535477</td>\n      <td>0.541365</td>\n    </tr>\n    <tr>\n      <th>False</th>\n      <td>0.309104</td>\n      <td>0.522374</td>\n      <td>0.612851</td>\n    </tr>\n    <tr>\n      <th rowspan=\"2\" valign=\"top\">2</th>\n      <th>True</th>\n      <td>0.342766</td>\n      <td>0.531466</td>\n      <td>0.588353</td>\n    </tr>\n    <tr>\n      <th>False</th>\n      <td>0.145698</td>\n      <td>0.511417</td>\n      <td>0.710442</td>\n    </tr>\n    <tr>\n      <th rowspan=\"2\" valign=\"top\">3</th>\n      <th>True</th>\n      <td>0.401479</td>\n      <td>0.543545</td>\n      <td>0.486747</td>\n    </tr>\n    <tr>\n      <th>False</th>\n      <td>0.268523</td>\n      <td>0.527224</td>\n      <td>0.666265</td>\n    </tr>\n    <tr>\n      <th rowspan=\"2\" valign=\"top\">4</th>\n      <th>True</th>\n      <td>0.385394</td>\n      <td>0.543136</td>\n      <td>0.532932</td>\n    </tr>\n    <tr>\n      <th>False</th>\n      <td>0.163780</td>\n      <td>0.519723</td>\n      <td>0.716867</td>\n    </tr>\n    <tr>\n      <th rowspan=\"2\" valign=\"top\">5</th>\n      <th>True</th>\n      <td>0.406992</td>\n      <td>0.542684</td>\n      <td>0.464659</td>\n    </tr>\n    <tr>\n      <th>False</th>\n      <td>0.251870</td>\n      <td>0.532673</td>\n      <td>0.691566</td>\n    </tr>\n    <tr>\n      <th rowspan=\"2\" valign=\"top\">6</th>\n      <th>True</th>\n      <td>0.404785</td>\n      <td>0.549862</td>\n      <td>0.501205</td>\n    </tr>\n    <tr>\n      <th>False</th>\n      <td>0.145913</td>\n      <td>0.514091</td>\n      <td>0.714859</td>\n    </tr>\n    <tr>\n      <th rowspan=\"2\" valign=\"top\">7</th>\n      <th>True</th>\n      <td>0.413031</td>\n      <td>0.544708</td>\n      <td>0.451004</td>\n    </tr>\n    <tr>\n      <th>False</th>\n      <td>0.217418</td>\n      <td>0.525208</td>\n      <td>0.699598</td>\n    </tr>\n    <tr>\n      <th rowspan=\"2\" valign=\"top\">8</th>\n      <th>True</th>\n      <td>0.412122</td>\n      <td>0.551821</td>\n      <td>0.484337</td>\n    </tr>\n    <tr>\n      <th>False</th>\n      <td>0.142008</td>\n      <td>0.515520</td>\n      <td>0.719277</td>\n    </tr>\n    <tr>\n      <th rowspan=\"2\" valign=\"top\">9</th>\n      <th>True</th>\n      <td>0.416900</td>\n      <td>0.546283</td>\n      <td>0.440562</td>\n    </tr>\n    <tr>\n      <th>False</th>\n      <td>0.204562</td>\n      <td>0.526839</td>\n      <td>0.710442</td>\n    </tr>\n    <tr>\n      <th rowspan=\"2\" valign=\"top\">10</th>\n      <th>True</th>\n      <td>0.414589</td>\n      <td>0.550206</td>\n      <td>0.467470</td>\n    </tr>\n    <tr>\n      <th>False</th>\n      <td>0.126383</td>\n      <td>0.515777</td>\n      <td>0.725703</td>\n    </tr>\n    <tr>\n      <th rowspan=\"2\" valign=\"top\">11</th>\n      <th>True</th>\n      <td>0.416525</td>\n      <td>0.543727</td>\n      <td>0.430924</td>\n    </tr>\n    <tr>\n      <th>False</th>\n      <td>0.161191</td>\n      <td>0.517445</td>\n      <td>0.714056</td>\n    </tr>\n    <tr>\n      <th rowspan=\"2\" valign=\"top\">12</th>\n      <th>True</th>\n      <td>0.420609</td>\n      <td>0.554344</td>\n      <td>0.461446</td>\n    </tr>\n    <tr>\n      <th>False</th>\n      <td>0.115976</td>\n      <td>0.514156</td>\n      <td>0.726908</td>\n    </tr>\n    <tr>\n      <th rowspan=\"2\" valign=\"top\">13</th>\n      <th>True</th>\n      <td>0.423922</td>\n      <td>0.552184</td>\n      <td>0.433735</td>\n    </tr>\n    <tr>\n      <th>False</th>\n      <td>0.158829</td>\n      <td>0.520273</td>\n      <td>0.720482</td>\n    </tr>\n    <tr>\n      <th rowspan=\"2\" valign=\"top\">14</th>\n      <th>True</th>\n      <td>0.425656</td>\n      <td>0.559798</td>\n      <td>0.460241</td>\n    </tr>\n    <tr>\n      <th>False</th>\n      <td>0.100263</td>\n      <td>0.511168</td>\n      <td>0.727711</td>\n    </tr>\n    <tr>\n      <th rowspan=\"2\" valign=\"top\">15</th>\n      <th>True</th>\n      <td>0.422596</td>\n      <td>0.549573</td>\n      <td>0.428514</td>\n    </tr>\n    <tr>\n      <th>False</th>\n      <td>0.152629</td>\n      <td>0.521904</td>\n      <td>0.725703</td>\n    </tr>\n  </tbody>\n</table>\n</div>"
     },
     "metadata": {},
     "output_type": "display_data"
    }
   ],
   "source": [
    "knn_results = hyperparameter_tuning_cv(model='knn', data=X_no, labels=y_no.Label, cv_k=5,\n",
    "                                       params=KNN_PARAMS)\n",
    "\n",
    "display(knn_results)"
   ]
  },
  {
   "cell_type": "code",
   "execution_count": 18,
   "metadata": {
    "pycharm": {
     "name": "#%%\n"
    },
    "scrolled": true
   },
   "outputs": [
    {
     "data": {
      "text/plain": "                          f1_score  roc_auc_score  accuracy_score\nn_neighbors oversampling                                         \n14          True          0.425656       0.559798        0.460241",
      "text/html": "<div>\n<style scoped>\n    .dataframe tbody tr th:only-of-type {\n        vertical-align: middle;\n    }\n\n    .dataframe tbody tr th {\n        vertical-align: top;\n    }\n\n    .dataframe thead th {\n        text-align: right;\n    }\n</style>\n<table border=\"1\" class=\"dataframe\">\n  <thead>\n    <tr style=\"text-align: right;\">\n      <th></th>\n      <th></th>\n      <th>f1_score</th>\n      <th>roc_auc_score</th>\n      <th>accuracy_score</th>\n    </tr>\n    <tr>\n      <th>n_neighbors</th>\n      <th>oversampling</th>\n      <th></th>\n      <th></th>\n      <th></th>\n    </tr>\n  </thead>\n  <tbody>\n    <tr>\n      <th>14</th>\n      <th>True</th>\n      <td>0.425656</td>\n      <td>0.559798</td>\n      <td>0.460241</td>\n    </tr>\n  </tbody>\n</table>\n</div>"
     },
     "metadata": {},
     "output_type": "display_data"
    }
   ],
   "source": [
    "# Best model parameters\n",
    "\n",
    "best_knn = knn_results.iloc[[\n",
    "    knn_results.reset_index()['roc_auc_score'].idxmax()]]\n",
    "\n",
    "display(best_knn)"
   ]
  },
  {
   "cell_type": "code",
   "execution_count": 19,
   "metadata": {},
   "outputs": [],
   "source": [
    "knn_results_1 = hyperparameter_tuning_cv(\n",
    "    model='knn', data=X_no_e_1, labels=y_no_e_1, cv_k=5, params=KNN_PARAMS)\n",
    "knn_results_2 = hyperparameter_tuning_cv(\n",
    "    model='knn', data=X_no_e_2, labels=y_no_e_2, cv_k=5, params=KNN_PARAMS)\n",
    "knn_results_3 = hyperparameter_tuning_cv(\n",
    "    model='knn', data=X_no_e_3, labels=y_no_e_3, cv_k=5, params=KNN_PARAMS)"
   ]
  },
  {
   "cell_type": "code",
   "execution_count": 20,
   "metadata": {},
   "outputs": [
    {
     "data": {
      "text/plain": "                          f1_score  roc_auc_score  accuracy_score\nn_neighbors oversampling                                         \n8           True          0.286659       0.595894        0.534667",
      "text/html": "<div>\n<style scoped>\n    .dataframe tbody tr th:only-of-type {\n        vertical-align: middle;\n    }\n\n    .dataframe tbody tr th {\n        vertical-align: top;\n    }\n\n    .dataframe thead th {\n        text-align: right;\n    }\n</style>\n<table border=\"1\" class=\"dataframe\">\n  <thead>\n    <tr style=\"text-align: right;\">\n      <th></th>\n      <th></th>\n      <th>f1_score</th>\n      <th>roc_auc_score</th>\n      <th>accuracy_score</th>\n    </tr>\n    <tr>\n      <th>n_neighbors</th>\n      <th>oversampling</th>\n      <th></th>\n      <th></th>\n      <th></th>\n    </tr>\n  </thead>\n  <tbody>\n    <tr>\n      <th>8</th>\n      <th>True</th>\n      <td>0.286659</td>\n      <td>0.595894</td>\n      <td>0.534667</td>\n    </tr>\n  </tbody>\n</table>\n</div>"
     },
     "metadata": {},
     "output_type": "display_data"
    },
    {
     "data": {
      "text/plain": "                          f1_score  roc_auc_score  accuracy_score\nn_neighbors oversampling                                         \n14          True          0.309888       0.527701        0.387097",
      "text/html": "<div>\n<style scoped>\n    .dataframe tbody tr th:only-of-type {\n        vertical-align: middle;\n    }\n\n    .dataframe tbody tr th {\n        vertical-align: top;\n    }\n\n    .dataframe thead th {\n        text-align: right;\n    }\n</style>\n<table border=\"1\" class=\"dataframe\">\n  <thead>\n    <tr style=\"text-align: right;\">\n      <th></th>\n      <th></th>\n      <th>f1_score</th>\n      <th>roc_auc_score</th>\n      <th>accuracy_score</th>\n    </tr>\n    <tr>\n      <th>n_neighbors</th>\n      <th>oversampling</th>\n      <th></th>\n      <th></th>\n      <th></th>\n    </tr>\n  </thead>\n  <tbody>\n    <tr>\n      <th>14</th>\n      <th>True</th>\n      <td>0.309888</td>\n      <td>0.527701</td>\n      <td>0.387097</td>\n    </tr>\n  </tbody>\n</table>\n</div>"
     },
     "metadata": {},
     "output_type": "display_data"
    },
    {
     "data": {
      "text/plain": "                          f1_score  roc_auc_score  accuracy_score\nn_neighbors oversampling                                         \n5           False         0.534208       0.589497        0.596341",
      "text/html": "<div>\n<style scoped>\n    .dataframe tbody tr th:only-of-type {\n        vertical-align: middle;\n    }\n\n    .dataframe tbody tr th {\n        vertical-align: top;\n    }\n\n    .dataframe thead th {\n        text-align: right;\n    }\n</style>\n<table border=\"1\" class=\"dataframe\">\n  <thead>\n    <tr style=\"text-align: right;\">\n      <th></th>\n      <th></th>\n      <th>f1_score</th>\n      <th>roc_auc_score</th>\n      <th>accuracy_score</th>\n    </tr>\n    <tr>\n      <th>n_neighbors</th>\n      <th>oversampling</th>\n      <th></th>\n      <th></th>\n      <th></th>\n    </tr>\n  </thead>\n  <tbody>\n    <tr>\n      <th>5</th>\n      <th>False</th>\n      <td>0.534208</td>\n      <td>0.589497</td>\n      <td>0.596341</td>\n    </tr>\n  </tbody>\n</table>\n</div>"
     },
     "metadata": {},
     "output_type": "display_data"
    }
   ],
   "source": [
    "best_knn_1 = knn_results_1.iloc[[\n",
    "    knn_results_1.reset_index()['roc_auc_score'].idxmax()]]\n",
    "best_knn_2 = knn_results_2.iloc[[\n",
    "    knn_results_2.reset_index()['roc_auc_score'].idxmax()]]\n",
    "best_knn_3 = knn_results_3.iloc[[\n",
    "    knn_results_3.reset_index()['roc_auc_score'].idxmax()]]\n",
    "\n",
    "display(best_knn_1, best_knn_2, best_knn_3)"
   ]
  },
  {
   "cell_type": "markdown",
   "metadata": {},
   "source": [
    "#### 4. Support Vector Classifier"
   ]
  },
  {
   "cell_type": "code",
   "execution_count": 21,
   "metadata": {
    "pycharm": {
     "name": "#%%\n"
    }
   },
   "outputs": [
    {
     "data": {
      "text/plain": "                           f1_score  roc_auc_score  accuracy_score\nkernel gamma oversampling                                         \nlinear 0.10  True          0.425218       0.583598        0.571888\n             False         0.000000       0.500000        0.739357\nrbf    0.10  True          0.109361       0.509626        0.722088\n             False         0.014901       0.500843        0.736948\nlinear 0.01  True          0.425218       0.583598        0.571888\n             False         0.000000       0.500000        0.739357\nrbf    0.01  True          0.392387       0.562942        0.587149\n             False         0.000000       0.500000        0.739357",
      "text/html": "<div>\n<style scoped>\n    .dataframe tbody tr th:only-of-type {\n        vertical-align: middle;\n    }\n\n    .dataframe tbody tr th {\n        vertical-align: top;\n    }\n\n    .dataframe thead th {\n        text-align: right;\n    }\n</style>\n<table border=\"1\" class=\"dataframe\">\n  <thead>\n    <tr style=\"text-align: right;\">\n      <th></th>\n      <th></th>\n      <th></th>\n      <th>f1_score</th>\n      <th>roc_auc_score</th>\n      <th>accuracy_score</th>\n    </tr>\n    <tr>\n      <th>kernel</th>\n      <th>gamma</th>\n      <th>oversampling</th>\n      <th></th>\n      <th></th>\n      <th></th>\n    </tr>\n  </thead>\n  <tbody>\n    <tr>\n      <th rowspan=\"2\" valign=\"top\">linear</th>\n      <th rowspan=\"2\" valign=\"top\">0.10</th>\n      <th>True</th>\n      <td>0.425218</td>\n      <td>0.583598</td>\n      <td>0.571888</td>\n    </tr>\n    <tr>\n      <th>False</th>\n      <td>0.000000</td>\n      <td>0.500000</td>\n      <td>0.739357</td>\n    </tr>\n    <tr>\n      <th rowspan=\"2\" valign=\"top\">rbf</th>\n      <th rowspan=\"2\" valign=\"top\">0.10</th>\n      <th>True</th>\n      <td>0.109361</td>\n      <td>0.509626</td>\n      <td>0.722088</td>\n    </tr>\n    <tr>\n      <th>False</th>\n      <td>0.014901</td>\n      <td>0.500843</td>\n      <td>0.736948</td>\n    </tr>\n    <tr>\n      <th rowspan=\"2\" valign=\"top\">linear</th>\n      <th rowspan=\"2\" valign=\"top\">0.01</th>\n      <th>True</th>\n      <td>0.425218</td>\n      <td>0.583598</td>\n      <td>0.571888</td>\n    </tr>\n    <tr>\n      <th>False</th>\n      <td>0.000000</td>\n      <td>0.500000</td>\n      <td>0.739357</td>\n    </tr>\n    <tr>\n      <th rowspan=\"2\" valign=\"top\">rbf</th>\n      <th rowspan=\"2\" valign=\"top\">0.01</th>\n      <th>True</th>\n      <td>0.392387</td>\n      <td>0.562942</td>\n      <td>0.587149</td>\n    </tr>\n    <tr>\n      <th>False</th>\n      <td>0.000000</td>\n      <td>0.500000</td>\n      <td>0.739357</td>\n    </tr>\n  </tbody>\n</table>\n</div>"
     },
     "metadata": {},
     "output_type": "display_data"
    }
   ],
   "source": [
    "svc_results = hyperparameter_tuning_cv(model='svc', data=X_no, labels=y_no.Label, cv_k=5,\n",
    "                                       params=SVC_PARAMS)\n",
    "\n",
    "display(svc_results)"
   ]
  },
  {
   "cell_type": "code",
   "execution_count": 22,
   "metadata": {
    "pycharm": {
     "name": "#%%\n"
    },
    "scrolled": true
   },
   "outputs": [
    {
     "data": {
      "text/plain": "                           f1_score  roc_auc_score  accuracy_score\nkernel gamma oversampling                                         \nlinear 0.1   True          0.425218       0.583598        0.571888",
      "text/html": "<div>\n<style scoped>\n    .dataframe tbody tr th:only-of-type {\n        vertical-align: middle;\n    }\n\n    .dataframe tbody tr th {\n        vertical-align: top;\n    }\n\n    .dataframe thead th {\n        text-align: right;\n    }\n</style>\n<table border=\"1\" class=\"dataframe\">\n  <thead>\n    <tr style=\"text-align: right;\">\n      <th></th>\n      <th></th>\n      <th></th>\n      <th>f1_score</th>\n      <th>roc_auc_score</th>\n      <th>accuracy_score</th>\n    </tr>\n    <tr>\n      <th>kernel</th>\n      <th>gamma</th>\n      <th>oversampling</th>\n      <th></th>\n      <th></th>\n      <th></th>\n    </tr>\n  </thead>\n  <tbody>\n    <tr>\n      <th>linear</th>\n      <th>0.1</th>\n      <th>True</th>\n      <td>0.425218</td>\n      <td>0.583598</td>\n      <td>0.571888</td>\n    </tr>\n  </tbody>\n</table>\n</div>"
     },
     "metadata": {},
     "output_type": "display_data"
    }
   ],
   "source": [
    "# Best model parameters\n",
    "\n",
    "best_svc = svc_results.iloc[[\n",
    "    svc_results.reset_index()['roc_auc_score'].idxmax()]]\n",
    "\n",
    "display(best_svc)"
   ]
  },
  {
   "cell_type": "code",
   "execution_count": 23,
   "metadata": {},
   "outputs": [],
   "source": [
    "svc_results_1 = hyperparameter_tuning_cv(\n",
    "    model='svc', data=X_no_e_1, labels=y_no_e_1, cv_k=5, params=SVC_PARAMS)\n",
    "svc_results_2 = hyperparameter_tuning_cv(\n",
    "    model='svc', data=X_no_e_2, labels=y_no_e_2, cv_k=5, params=SVC_PARAMS)\n",
    "svc_results_3 = hyperparameter_tuning_cv(\n",
    "    model='svc', data=X_no_e_3, labels=y_no_e_3, cv_k=5, params=SVC_PARAMS)"
   ]
  },
  {
   "cell_type": "code",
   "execution_count": 24,
   "metadata": {},
   "outputs": [
    {
     "data": {
      "text/plain": "                           f1_score  roc_auc_score  accuracy_score\nkernel gamma oversampling                                         \nlinear 0.1   True          0.349923       0.640295           0.744",
      "text/html": "<div>\n<style scoped>\n    .dataframe tbody tr th:only-of-type {\n        vertical-align: middle;\n    }\n\n    .dataframe tbody tr th {\n        vertical-align: top;\n    }\n\n    .dataframe thead th {\n        text-align: right;\n    }\n</style>\n<table border=\"1\" class=\"dataframe\">\n  <thead>\n    <tr style=\"text-align: right;\">\n      <th></th>\n      <th></th>\n      <th></th>\n      <th>f1_score</th>\n      <th>roc_auc_score</th>\n      <th>accuracy_score</th>\n    </tr>\n    <tr>\n      <th>kernel</th>\n      <th>gamma</th>\n      <th>oversampling</th>\n      <th></th>\n      <th></th>\n      <th></th>\n    </tr>\n  </thead>\n  <tbody>\n    <tr>\n      <th>linear</th>\n      <th>0.1</th>\n      <th>True</th>\n      <td>0.349923</td>\n      <td>0.640295</td>\n      <td>0.744</td>\n    </tr>\n  </tbody>\n</table>\n</div>"
     },
     "metadata": {},
     "output_type": "display_data"
    },
    {
     "data": {
      "text/plain": "                           f1_score  roc_auc_score  accuracy_score\nkernel gamma oversampling                                         \nrbf    0.01  True          0.289244       0.547053        0.632258",
      "text/html": "<div>\n<style scoped>\n    .dataframe tbody tr th:only-of-type {\n        vertical-align: middle;\n    }\n\n    .dataframe tbody tr th {\n        vertical-align: top;\n    }\n\n    .dataframe thead th {\n        text-align: right;\n    }\n</style>\n<table border=\"1\" class=\"dataframe\">\n  <thead>\n    <tr style=\"text-align: right;\">\n      <th></th>\n      <th></th>\n      <th></th>\n      <th>f1_score</th>\n      <th>roc_auc_score</th>\n      <th>accuracy_score</th>\n    </tr>\n    <tr>\n      <th>kernel</th>\n      <th>gamma</th>\n      <th>oversampling</th>\n      <th></th>\n      <th></th>\n      <th></th>\n    </tr>\n  </thead>\n  <tbody>\n    <tr>\n      <th>rbf</th>\n      <th>0.01</th>\n      <th>True</th>\n      <td>0.289244</td>\n      <td>0.547053</td>\n      <td>0.632258</td>\n    </tr>\n  </tbody>\n</table>\n</div>"
     },
     "metadata": {},
     "output_type": "display_data"
    },
    {
     "data": {
      "text/plain": "                           f1_score  roc_auc_score  accuracy_score\nkernel gamma oversampling                                         \nrbf    0.01  False         0.547247       0.619066        0.630488",
      "text/html": "<div>\n<style scoped>\n    .dataframe tbody tr th:only-of-type {\n        vertical-align: middle;\n    }\n\n    .dataframe tbody tr th {\n        vertical-align: top;\n    }\n\n    .dataframe thead th {\n        text-align: right;\n    }\n</style>\n<table border=\"1\" class=\"dataframe\">\n  <thead>\n    <tr style=\"text-align: right;\">\n      <th></th>\n      <th></th>\n      <th></th>\n      <th>f1_score</th>\n      <th>roc_auc_score</th>\n      <th>accuracy_score</th>\n    </tr>\n    <tr>\n      <th>kernel</th>\n      <th>gamma</th>\n      <th>oversampling</th>\n      <th></th>\n      <th></th>\n      <th></th>\n    </tr>\n  </thead>\n  <tbody>\n    <tr>\n      <th>rbf</th>\n      <th>0.01</th>\n      <th>False</th>\n      <td>0.547247</td>\n      <td>0.619066</td>\n      <td>0.630488</td>\n    </tr>\n  </tbody>\n</table>\n</div>"
     },
     "metadata": {},
     "output_type": "display_data"
    }
   ],
   "source": [
    "best_svc_1 = svc_results_1.iloc[[\n",
    "    svc_results_1.reset_index()['roc_auc_score'].idxmax()]]\n",
    "best_svc_2 = svc_results_2.iloc[[\n",
    "    svc_results_2.reset_index()['roc_auc_score'].idxmax()]]\n",
    "best_svc_3 = svc_results_3.iloc[[\n",
    "    svc_results_3.reset_index()['roc_auc_score'].idxmax()]]\n",
    "\n",
    "\n",
    "display(best_svc_1, best_svc_2, best_svc_3)"
   ]
  },
  {
   "cell_type": "markdown",
   "metadata": {},
   "source": [
    "#### 5. Naive Bayes Classifier"
   ]
  },
  {
   "cell_type": "code",
   "execution_count": 25,
   "metadata": {
    "pycharm": {
     "name": "#%%\n"
    }
   },
   "outputs": [
    {
     "data": {
      "text/plain": "              f1_score  roc_auc_score  accuracy_score\noversampling                                         \nTrue          0.421650       0.587704        0.606024\nFalse         0.363731       0.563051        0.646988",
      "text/html": "<div>\n<style scoped>\n    .dataframe tbody tr th:only-of-type {\n        vertical-align: middle;\n    }\n\n    .dataframe tbody tr th {\n        vertical-align: top;\n    }\n\n    .dataframe thead th {\n        text-align: right;\n    }\n</style>\n<table border=\"1\" class=\"dataframe\">\n  <thead>\n    <tr style=\"text-align: right;\">\n      <th></th>\n      <th>f1_score</th>\n      <th>roc_auc_score</th>\n      <th>accuracy_score</th>\n    </tr>\n    <tr>\n      <th>oversampling</th>\n      <th></th>\n      <th></th>\n      <th></th>\n    </tr>\n  </thead>\n  <tbody>\n    <tr>\n      <th>True</th>\n      <td>0.421650</td>\n      <td>0.587704</td>\n      <td>0.606024</td>\n    </tr>\n    <tr>\n      <th>False</th>\n      <td>0.363731</td>\n      <td>0.563051</td>\n      <td>0.646988</td>\n    </tr>\n  </tbody>\n</table>\n</div>"
     },
     "metadata": {},
     "output_type": "display_data"
    }
   ],
   "source": [
    "nb_results = hyperparameter_tuning_cv(model='naive_bayes', data=X_no, labels=y_no.Label, cv_k=5,\n",
    "                                      params=NAIVE_BAYES_PARAMS)\n",
    "\n",
    "display(nb_results)"
   ]
  },
  {
   "cell_type": "code",
   "execution_count": 26,
   "metadata": {
    "pycharm": {
     "name": "#%%\n"
    },
    "scrolled": true
   },
   "outputs": [
    {
     "data": {
      "text/plain": "              f1_score  roc_auc_score  accuracy_score\noversampling                                         \nTrue           0.42165       0.587704        0.606024",
      "text/html": "<div>\n<style scoped>\n    .dataframe tbody tr th:only-of-type {\n        vertical-align: middle;\n    }\n\n    .dataframe tbody tr th {\n        vertical-align: top;\n    }\n\n    .dataframe thead th {\n        text-align: right;\n    }\n</style>\n<table border=\"1\" class=\"dataframe\">\n  <thead>\n    <tr style=\"text-align: right;\">\n      <th></th>\n      <th>f1_score</th>\n      <th>roc_auc_score</th>\n      <th>accuracy_score</th>\n    </tr>\n    <tr>\n      <th>oversampling</th>\n      <th></th>\n      <th></th>\n      <th></th>\n    </tr>\n  </thead>\n  <tbody>\n    <tr>\n      <th>True</th>\n      <td>0.42165</td>\n      <td>0.587704</td>\n      <td>0.606024</td>\n    </tr>\n  </tbody>\n</table>\n</div>"
     },
     "metadata": {},
     "output_type": "display_data"
    }
   ],
   "source": [
    "# Best model parameters\n",
    "\n",
    "best_nb = nb_results.iloc[[nb_results.reset_index()['roc_auc_score'].idxmax()]]\n",
    "\n",
    "display(best_nb)"
   ]
  },
  {
   "cell_type": "code",
   "execution_count": 27,
   "metadata": {},
   "outputs": [],
   "source": [
    "nb_results_1 = hyperparameter_tuning_cv(\n",
    "    model='naive_bayes', data=X_no_e_1, labels=y_no_e_1, cv_k=5, params=NAIVE_BAYES_PARAMS)\n",
    "nb_results_2 = hyperparameter_tuning_cv(\n",
    "    model='naive_bayes', data=X_no_e_2, labels=y_no_e_2, cv_k=5, params=NAIVE_BAYES_PARAMS)\n",
    "nb_results_3 = hyperparameter_tuning_cv(\n",
    "    model='naive_bayes', data=X_no_e_3, labels=y_no_e_3, cv_k=5, params=NAIVE_BAYES_PARAMS)"
   ]
  },
  {
   "cell_type": "code",
   "execution_count": 28,
   "metadata": {},
   "outputs": [
    {
     "data": {
      "text/plain": "              f1_score  roc_auc_score  accuracy_score\noversampling                                         \nFalse         0.323266       0.627014        0.717333",
      "text/html": "<div>\n<style scoped>\n    .dataframe tbody tr th:only-of-type {\n        vertical-align: middle;\n    }\n\n    .dataframe tbody tr th {\n        vertical-align: top;\n    }\n\n    .dataframe thead th {\n        text-align: right;\n    }\n</style>\n<table border=\"1\" class=\"dataframe\">\n  <thead>\n    <tr style=\"text-align: right;\">\n      <th></th>\n      <th>f1_score</th>\n      <th>roc_auc_score</th>\n      <th>accuracy_score</th>\n    </tr>\n    <tr>\n      <th>oversampling</th>\n      <th></th>\n      <th></th>\n      <th></th>\n    </tr>\n  </thead>\n  <tbody>\n    <tr>\n      <th>False</th>\n      <td>0.323266</td>\n      <td>0.627014</td>\n      <td>0.717333</td>\n    </tr>\n  </tbody>\n</table>\n</div>"
     },
     "metadata": {},
     "output_type": "display_data"
    },
    {
     "data": {
      "text/plain": "              f1_score  roc_auc_score  accuracy_score\noversampling                                         \nTrue           0.33036       0.579262        0.629032",
      "text/html": "<div>\n<style scoped>\n    .dataframe tbody tr th:only-of-type {\n        vertical-align: middle;\n    }\n\n    .dataframe tbody tr th {\n        vertical-align: top;\n    }\n\n    .dataframe thead th {\n        text-align: right;\n    }\n</style>\n<table border=\"1\" class=\"dataframe\">\n  <thead>\n    <tr style=\"text-align: right;\">\n      <th></th>\n      <th>f1_score</th>\n      <th>roc_auc_score</th>\n      <th>accuracy_score</th>\n    </tr>\n    <tr>\n      <th>oversampling</th>\n      <th></th>\n      <th></th>\n      <th></th>\n    </tr>\n  </thead>\n  <tbody>\n    <tr>\n      <th>True</th>\n      <td>0.33036</td>\n      <td>0.579262</td>\n      <td>0.629032</td>\n    </tr>\n  </tbody>\n</table>\n</div>"
     },
     "metadata": {},
     "output_type": "display_data"
    },
    {
     "data": {
      "text/plain": "              f1_score  roc_auc_score  accuracy_score\noversampling                                         \nTrue          0.541429       0.602718        0.610976",
      "text/html": "<div>\n<style scoped>\n    .dataframe tbody tr th:only-of-type {\n        vertical-align: middle;\n    }\n\n    .dataframe tbody tr th {\n        vertical-align: top;\n    }\n\n    .dataframe thead th {\n        text-align: right;\n    }\n</style>\n<table border=\"1\" class=\"dataframe\">\n  <thead>\n    <tr style=\"text-align: right;\">\n      <th></th>\n      <th>f1_score</th>\n      <th>roc_auc_score</th>\n      <th>accuracy_score</th>\n    </tr>\n    <tr>\n      <th>oversampling</th>\n      <th></th>\n      <th></th>\n      <th></th>\n    </tr>\n  </thead>\n  <tbody>\n    <tr>\n      <th>True</th>\n      <td>0.541429</td>\n      <td>0.602718</td>\n      <td>0.610976</td>\n    </tr>\n  </tbody>\n</table>\n</div>"
     },
     "metadata": {},
     "output_type": "display_data"
    }
   ],
   "source": [
    "best_nb_1 = nb_results_1.iloc[[\n",
    "    nb_results_1.reset_index()['roc_auc_score'].idxmax()]]\n",
    "best_nb_2 = nb_results_2.iloc[[\n",
    "    nb_results_2.reset_index()['roc_auc_score'].idxmax()]]\n",
    "best_nb_3 = nb_results_3.iloc[[\n",
    "    nb_results_3.reset_index()['roc_auc_score'].idxmax()]]\n",
    "\n",
    "display(best_nb_1, best_nb_2, best_nb_3)"
   ]
  },
  {
   "cell_type": "markdown",
   "metadata": {},
   "source": [
    "#### 6. Decision Tree"
   ]
  },
  {
   "cell_type": "code",
   "execution_count": 29,
   "metadata": {
    "pycharm": {
     "name": "#%%\n"
    }
   },
   "outputs": [
    {
     "data": {
      "text/plain": "                        f1_score  roc_auc_score  accuracy_score\nmax_depth oversampling                                         \n3         True          0.406456       0.568437        0.563855\n          False         0.100317       0.511614        0.726908\n5         True          0.409876       0.559949        0.522490\n          False         0.173506       0.509469        0.690361\n7         True          0.393843       0.553389        0.550602\n          False         0.204118       0.505245        0.665060",
      "text/html": "<div>\n<style scoped>\n    .dataframe tbody tr th:only-of-type {\n        vertical-align: middle;\n    }\n\n    .dataframe tbody tr th {\n        vertical-align: top;\n    }\n\n    .dataframe thead th {\n        text-align: right;\n    }\n</style>\n<table border=\"1\" class=\"dataframe\">\n  <thead>\n    <tr style=\"text-align: right;\">\n      <th></th>\n      <th></th>\n      <th>f1_score</th>\n      <th>roc_auc_score</th>\n      <th>accuracy_score</th>\n    </tr>\n    <tr>\n      <th>max_depth</th>\n      <th>oversampling</th>\n      <th></th>\n      <th></th>\n      <th></th>\n    </tr>\n  </thead>\n  <tbody>\n    <tr>\n      <th rowspan=\"2\" valign=\"top\">3</th>\n      <th>True</th>\n      <td>0.406456</td>\n      <td>0.568437</td>\n      <td>0.563855</td>\n    </tr>\n    <tr>\n      <th>False</th>\n      <td>0.100317</td>\n      <td>0.511614</td>\n      <td>0.726908</td>\n    </tr>\n    <tr>\n      <th rowspan=\"2\" valign=\"top\">5</th>\n      <th>True</th>\n      <td>0.409876</td>\n      <td>0.559949</td>\n      <td>0.522490</td>\n    </tr>\n    <tr>\n      <th>False</th>\n      <td>0.173506</td>\n      <td>0.509469</td>\n      <td>0.690361</td>\n    </tr>\n    <tr>\n      <th rowspan=\"2\" valign=\"top\">7</th>\n      <th>True</th>\n      <td>0.393843</td>\n      <td>0.553389</td>\n      <td>0.550602</td>\n    </tr>\n    <tr>\n      <th>False</th>\n      <td>0.204118</td>\n      <td>0.505245</td>\n      <td>0.665060</td>\n    </tr>\n  </tbody>\n</table>\n</div>"
     },
     "metadata": {},
     "output_type": "display_data"
    }
   ],
   "source": [
    "dt_results = hyperparameter_tuning_cv(model='decision_tree', data=X_no, labels=y_no.Label, cv_k=5,\n",
    "                                      params=DECISION_TREE_PARAMS)\n",
    "\n",
    "display(dt_results)"
   ]
  },
  {
   "cell_type": "code",
   "execution_count": 30,
   "metadata": {
    "pycharm": {
     "name": "#%%\n"
    }
   },
   "outputs": [
    {
     "data": {
      "text/plain": "                        f1_score  roc_auc_score  accuracy_score\nmax_depth oversampling                                         \n3         True          0.406456       0.568437        0.563855",
      "text/html": "<div>\n<style scoped>\n    .dataframe tbody tr th:only-of-type {\n        vertical-align: middle;\n    }\n\n    .dataframe tbody tr th {\n        vertical-align: top;\n    }\n\n    .dataframe thead th {\n        text-align: right;\n    }\n</style>\n<table border=\"1\" class=\"dataframe\">\n  <thead>\n    <tr style=\"text-align: right;\">\n      <th></th>\n      <th></th>\n      <th>f1_score</th>\n      <th>roc_auc_score</th>\n      <th>accuracy_score</th>\n    </tr>\n    <tr>\n      <th>max_depth</th>\n      <th>oversampling</th>\n      <th></th>\n      <th></th>\n      <th></th>\n    </tr>\n  </thead>\n  <tbody>\n    <tr>\n      <th>3</th>\n      <th>True</th>\n      <td>0.406456</td>\n      <td>0.568437</td>\n      <td>0.563855</td>\n    </tr>\n  </tbody>\n</table>\n</div>"
     },
     "metadata": {},
     "output_type": "display_data"
    }
   ],
   "source": [
    "# Best model parameters\n",
    "\n",
    "best_dt = dt_results.iloc[[dt_results.reset_index()['roc_auc_score'].idxmax()]]\n",
    "\n",
    "display(best_dt)"
   ]
  },
  {
   "cell_type": "code",
   "execution_count": 31,
   "metadata": {},
   "outputs": [],
   "source": [
    "dt_results_1 = hyperparameter_tuning_cv(\n",
    "    model='decision_tree', data=X_no_e_1, labels=y_no_e_1, cv_k=5, params=DECISION_TREE_PARAMS)\n",
    "dt_results_2 = hyperparameter_tuning_cv(\n",
    "    model='decision_tree', data=X_no_e_2, labels=y_no_e_2, cv_k=5, params=DECISION_TREE_PARAMS)\n",
    "dt_results_3 = hyperparameter_tuning_cv(\n",
    "    model='decision_tree', data=X_no_e_3, labels=y_no_e_3, cv_k=5, params=DECISION_TREE_PARAMS)"
   ]
  },
  {
   "cell_type": "code",
   "execution_count": 32,
   "metadata": {},
   "outputs": [
    {
     "data": {
      "text/plain": "                        f1_score  roc_auc_score  accuracy_score\nmax_depth oversampling                                         \n3         True          0.291629       0.596903           0.648",
      "text/html": "<div>\n<style scoped>\n    .dataframe tbody tr th:only-of-type {\n        vertical-align: middle;\n    }\n\n    .dataframe tbody tr th {\n        vertical-align: top;\n    }\n\n    .dataframe thead th {\n        text-align: right;\n    }\n</style>\n<table border=\"1\" class=\"dataframe\">\n  <thead>\n    <tr style=\"text-align: right;\">\n      <th></th>\n      <th></th>\n      <th>f1_score</th>\n      <th>roc_auc_score</th>\n      <th>accuracy_score</th>\n    </tr>\n    <tr>\n      <th>max_depth</th>\n      <th>oversampling</th>\n      <th></th>\n      <th></th>\n      <th></th>\n    </tr>\n  </thead>\n  <tbody>\n    <tr>\n      <th>3</th>\n      <th>True</th>\n      <td>0.291629</td>\n      <td>0.596903</td>\n      <td>0.648</td>\n    </tr>\n  </tbody>\n</table>\n</div>"
     },
     "metadata": {},
     "output_type": "display_data"
    },
    {
     "data": {
      "text/plain": "                        f1_score  roc_auc_score  accuracy_score\nmax_depth oversampling                                         \n7         True          0.287455       0.538654        0.610753",
      "text/html": "<div>\n<style scoped>\n    .dataframe tbody tr th:only-of-type {\n        vertical-align: middle;\n    }\n\n    .dataframe tbody tr th {\n        vertical-align: top;\n    }\n\n    .dataframe thead th {\n        text-align: right;\n    }\n</style>\n<table border=\"1\" class=\"dataframe\">\n  <thead>\n    <tr style=\"text-align: right;\">\n      <th></th>\n      <th></th>\n      <th>f1_score</th>\n      <th>roc_auc_score</th>\n      <th>accuracy_score</th>\n    </tr>\n    <tr>\n      <th>max_depth</th>\n      <th>oversampling</th>\n      <th></th>\n      <th></th>\n      <th></th>\n    </tr>\n  </thead>\n  <tbody>\n    <tr>\n      <th>7</th>\n      <th>True</th>\n      <td>0.287455</td>\n      <td>0.538654</td>\n      <td>0.610753</td>\n    </tr>\n  </tbody>\n</table>\n</div>"
     },
     "metadata": {},
     "output_type": "display_data"
    },
    {
     "data": {
      "text/plain": "                        f1_score  roc_auc_score  accuracy_score\nmax_depth oversampling                                         \n3         False         0.489012       0.586157        0.602439",
      "text/html": "<div>\n<style scoped>\n    .dataframe tbody tr th:only-of-type {\n        vertical-align: middle;\n    }\n\n    .dataframe tbody tr th {\n        vertical-align: top;\n    }\n\n    .dataframe thead th {\n        text-align: right;\n    }\n</style>\n<table border=\"1\" class=\"dataframe\">\n  <thead>\n    <tr style=\"text-align: right;\">\n      <th></th>\n      <th></th>\n      <th>f1_score</th>\n      <th>roc_auc_score</th>\n      <th>accuracy_score</th>\n    </tr>\n    <tr>\n      <th>max_depth</th>\n      <th>oversampling</th>\n      <th></th>\n      <th></th>\n      <th></th>\n    </tr>\n  </thead>\n  <tbody>\n    <tr>\n      <th>3</th>\n      <th>False</th>\n      <td>0.489012</td>\n      <td>0.586157</td>\n      <td>0.602439</td>\n    </tr>\n  </tbody>\n</table>\n</div>"
     },
     "metadata": {},
     "output_type": "display_data"
    }
   ],
   "source": [
    "best_dt_1 = dt_results_1.iloc[[\n",
    "    dt_results_1.reset_index()['roc_auc_score'].idxmax()]]\n",
    "best_dt_2 = dt_results_2.iloc[[\n",
    "    dt_results_2.reset_index()['roc_auc_score'].idxmax()]]\n",
    "best_dt_3 = dt_results_3.iloc[[\n",
    "    dt_results_3.reset_index()['roc_auc_score'].idxmax()]]\n",
    "\n",
    "display(best_dt_1, best_dt_2, best_dt_3)"
   ]
  },
  {
   "cell_type": "markdown",
   "metadata": {},
   "source": [
    "#### 7. Random Forest"
   ]
  },
  {
   "cell_type": "code",
   "execution_count": 33,
   "metadata": {
    "pycharm": {
     "name": "#%%\n"
    }
   },
   "outputs": [
    {
     "data": {
      "text/plain": "                                     f1_score  roc_auc_score  accuracy_score\nmax_depth n_estimators oversampling                                         \n3         3            True          0.400941       0.559207        0.551406\n                       False         0.065094       0.512517        0.740964\n          5            True          0.413159       0.571702        0.560643\n                       False         0.006015       0.499956        0.737751\n          7            True          0.389771       0.553732        0.561044\n                       False         0.020317       0.502271        0.737349\n5         3            True          0.389654       0.556583        0.571084\n                       False         0.135186       0.514497        0.720482\n          5            True          0.396357       0.565168        0.582731\n                       False         0.080823       0.507388        0.728112\n          7            True          0.401722       0.571062        0.593574\n                       False         0.066588       0.506530        0.731325\n7         3            True          0.360347       0.533758        0.560241\n                       False         0.198924       0.521908        0.703213\n          5            True          0.365133       0.542770        0.581124\n                       False         0.169436       0.523728        0.721687\n          7            True          0.379859       0.555077        0.589960\n                       False         0.112743       0.511184        0.722088",
      "text/html": "<div>\n<style scoped>\n    .dataframe tbody tr th:only-of-type {\n        vertical-align: middle;\n    }\n\n    .dataframe tbody tr th {\n        vertical-align: top;\n    }\n\n    .dataframe thead th {\n        text-align: right;\n    }\n</style>\n<table border=\"1\" class=\"dataframe\">\n  <thead>\n    <tr style=\"text-align: right;\">\n      <th></th>\n      <th></th>\n      <th></th>\n      <th>f1_score</th>\n      <th>roc_auc_score</th>\n      <th>accuracy_score</th>\n    </tr>\n    <tr>\n      <th>max_depth</th>\n      <th>n_estimators</th>\n      <th>oversampling</th>\n      <th></th>\n      <th></th>\n      <th></th>\n    </tr>\n  </thead>\n  <tbody>\n    <tr>\n      <th rowspan=\"6\" valign=\"top\">3</th>\n      <th rowspan=\"2\" valign=\"top\">3</th>\n      <th>True</th>\n      <td>0.400941</td>\n      <td>0.559207</td>\n      <td>0.551406</td>\n    </tr>\n    <tr>\n      <th>False</th>\n      <td>0.065094</td>\n      <td>0.512517</td>\n      <td>0.740964</td>\n    </tr>\n    <tr>\n      <th rowspan=\"2\" valign=\"top\">5</th>\n      <th>True</th>\n      <td>0.413159</td>\n      <td>0.571702</td>\n      <td>0.560643</td>\n    </tr>\n    <tr>\n      <th>False</th>\n      <td>0.006015</td>\n      <td>0.499956</td>\n      <td>0.737751</td>\n    </tr>\n    <tr>\n      <th rowspan=\"2\" valign=\"top\">7</th>\n      <th>True</th>\n      <td>0.389771</td>\n      <td>0.553732</td>\n      <td>0.561044</td>\n    </tr>\n    <tr>\n      <th>False</th>\n      <td>0.020317</td>\n      <td>0.502271</td>\n      <td>0.737349</td>\n    </tr>\n    <tr>\n      <th rowspan=\"6\" valign=\"top\">5</th>\n      <th rowspan=\"2\" valign=\"top\">3</th>\n      <th>True</th>\n      <td>0.389654</td>\n      <td>0.556583</td>\n      <td>0.571084</td>\n    </tr>\n    <tr>\n      <th>False</th>\n      <td>0.135186</td>\n      <td>0.514497</td>\n      <td>0.720482</td>\n    </tr>\n    <tr>\n      <th rowspan=\"2\" valign=\"top\">5</th>\n      <th>True</th>\n      <td>0.396357</td>\n      <td>0.565168</td>\n      <td>0.582731</td>\n    </tr>\n    <tr>\n      <th>False</th>\n      <td>0.080823</td>\n      <td>0.507388</td>\n      <td>0.728112</td>\n    </tr>\n    <tr>\n      <th rowspan=\"2\" valign=\"top\">7</th>\n      <th>True</th>\n      <td>0.401722</td>\n      <td>0.571062</td>\n      <td>0.593574</td>\n    </tr>\n    <tr>\n      <th>False</th>\n      <td>0.066588</td>\n      <td>0.506530</td>\n      <td>0.731325</td>\n    </tr>\n    <tr>\n      <th rowspan=\"6\" valign=\"top\">7</th>\n      <th rowspan=\"2\" valign=\"top\">3</th>\n      <th>True</th>\n      <td>0.360347</td>\n      <td>0.533758</td>\n      <td>0.560241</td>\n    </tr>\n    <tr>\n      <th>False</th>\n      <td>0.198924</td>\n      <td>0.521908</td>\n      <td>0.703213</td>\n    </tr>\n    <tr>\n      <th rowspan=\"2\" valign=\"top\">5</th>\n      <th>True</th>\n      <td>0.365133</td>\n      <td>0.542770</td>\n      <td>0.581124</td>\n    </tr>\n    <tr>\n      <th>False</th>\n      <td>0.169436</td>\n      <td>0.523728</td>\n      <td>0.721687</td>\n    </tr>\n    <tr>\n      <th rowspan=\"2\" valign=\"top\">7</th>\n      <th>True</th>\n      <td>0.379859</td>\n      <td>0.555077</td>\n      <td>0.589960</td>\n    </tr>\n    <tr>\n      <th>False</th>\n      <td>0.112743</td>\n      <td>0.511184</td>\n      <td>0.722088</td>\n    </tr>\n  </tbody>\n</table>\n</div>"
     },
     "metadata": {},
     "output_type": "display_data"
    }
   ],
   "source": [
    "rf_results = hyperparameter_tuning_cv(model='random_forest', data=X_no, labels=y_no.Label, cv_k=5,\n",
    "                                      params=RANDOM_FOREST_PARAMS)\n",
    "\n",
    "display(rf_results)"
   ]
  },
  {
   "cell_type": "code",
   "execution_count": 34,
   "metadata": {
    "pycharm": {
     "name": "#%%\n"
    },
    "scrolled": true
   },
   "outputs": [
    {
     "data": {
      "text/plain": "                                     f1_score  roc_auc_score  accuracy_score\nmax_depth n_estimators oversampling                                         \n3         5            True          0.413159       0.571702        0.560643",
      "text/html": "<div>\n<style scoped>\n    .dataframe tbody tr th:only-of-type {\n        vertical-align: middle;\n    }\n\n    .dataframe tbody tr th {\n        vertical-align: top;\n    }\n\n    .dataframe thead th {\n        text-align: right;\n    }\n</style>\n<table border=\"1\" class=\"dataframe\">\n  <thead>\n    <tr style=\"text-align: right;\">\n      <th></th>\n      <th></th>\n      <th></th>\n      <th>f1_score</th>\n      <th>roc_auc_score</th>\n      <th>accuracy_score</th>\n    </tr>\n    <tr>\n      <th>max_depth</th>\n      <th>n_estimators</th>\n      <th>oversampling</th>\n      <th></th>\n      <th></th>\n      <th></th>\n    </tr>\n  </thead>\n  <tbody>\n    <tr>\n      <th>3</th>\n      <th>5</th>\n      <th>True</th>\n      <td>0.413159</td>\n      <td>0.571702</td>\n      <td>0.560643</td>\n    </tr>\n  </tbody>\n</table>\n</div>"
     },
     "metadata": {},
     "output_type": "display_data"
    }
   ],
   "source": [
    "# Best model parameters\n",
    "\n",
    "best_rf = rf_results.iloc[[rf_results.reset_index()['roc_auc_score'].idxmax()]]\n",
    "\n",
    "display(best_rf)"
   ]
  },
  {
   "cell_type": "code",
   "execution_count": 35,
   "metadata": {},
   "outputs": [],
   "source": [
    "rf_results_1 = hyperparameter_tuning_cv(\n",
    "    model='random_forest', data=X_no_e_1, labels=y_no_e_1, cv_k=5, params=RANDOM_FOREST_PARAMS)\n",
    "rf_results_2 = hyperparameter_tuning_cv(\n",
    "    model='random_forest', data=X_no_e_2, labels=y_no_e_2, cv_k=5, params=RANDOM_FOREST_PARAMS)\n",
    "rf_results_3 = hyperparameter_tuning_cv(\n",
    "    model='random_forest', data=X_no_e_3, labels=y_no_e_3, cv_k=5, params=RANDOM_FOREST_PARAMS)"
   ]
  },
  {
   "cell_type": "code",
   "execution_count": 36,
   "metadata": {},
   "outputs": [
    {
     "data": {
      "text/plain": "                                     f1_score  roc_auc_score  accuracy_score\nmax_depth n_estimators oversampling                                         \n3         7            True          0.332667        0.63515        0.714667",
      "text/html": "<div>\n<style scoped>\n    .dataframe tbody tr th:only-of-type {\n        vertical-align: middle;\n    }\n\n    .dataframe tbody tr th {\n        vertical-align: top;\n    }\n\n    .dataframe thead th {\n        text-align: right;\n    }\n</style>\n<table border=\"1\" class=\"dataframe\">\n  <thead>\n    <tr style=\"text-align: right;\">\n      <th></th>\n      <th></th>\n      <th></th>\n      <th>f1_score</th>\n      <th>roc_auc_score</th>\n      <th>accuracy_score</th>\n    </tr>\n    <tr>\n      <th>max_depth</th>\n      <th>n_estimators</th>\n      <th>oversampling</th>\n      <th></th>\n      <th></th>\n      <th></th>\n    </tr>\n  </thead>\n  <tbody>\n    <tr>\n      <th>3</th>\n      <th>7</th>\n      <th>True</th>\n      <td>0.332667</td>\n      <td>0.63515</td>\n      <td>0.714667</td>\n    </tr>\n  </tbody>\n</table>\n</div>"
     },
     "metadata": {},
     "output_type": "display_data"
    },
    {
     "data": {
      "text/plain": "                                     f1_score  roc_auc_score  accuracy_score\nmax_depth n_estimators oversampling                                         \n7         7            True           0.25221       0.524955        0.660215",
      "text/html": "<div>\n<style scoped>\n    .dataframe tbody tr th:only-of-type {\n        vertical-align: middle;\n    }\n\n    .dataframe tbody tr th {\n        vertical-align: top;\n    }\n\n    .dataframe thead th {\n        text-align: right;\n    }\n</style>\n<table border=\"1\" class=\"dataframe\">\n  <thead>\n    <tr style=\"text-align: right;\">\n      <th></th>\n      <th></th>\n      <th></th>\n      <th>f1_score</th>\n      <th>roc_auc_score</th>\n      <th>accuracy_score</th>\n    </tr>\n    <tr>\n      <th>max_depth</th>\n      <th>n_estimators</th>\n      <th>oversampling</th>\n      <th></th>\n      <th></th>\n      <th></th>\n    </tr>\n  </thead>\n  <tbody>\n    <tr>\n      <th>7</th>\n      <th>7</th>\n      <th>True</th>\n      <td>0.25221</td>\n      <td>0.524955</td>\n      <td>0.660215</td>\n    </tr>\n  </tbody>\n</table>\n</div>"
     },
     "metadata": {},
     "output_type": "display_data"
    },
    {
     "data": {
      "text/plain": "                                     f1_score  roc_auc_score  accuracy_score\nmax_depth n_estimators oversampling                                         \n3         7            False         0.548567        0.60558        0.613415",
      "text/html": "<div>\n<style scoped>\n    .dataframe tbody tr th:only-of-type {\n        vertical-align: middle;\n    }\n\n    .dataframe tbody tr th {\n        vertical-align: top;\n    }\n\n    .dataframe thead th {\n        text-align: right;\n    }\n</style>\n<table border=\"1\" class=\"dataframe\">\n  <thead>\n    <tr style=\"text-align: right;\">\n      <th></th>\n      <th></th>\n      <th></th>\n      <th>f1_score</th>\n      <th>roc_auc_score</th>\n      <th>accuracy_score</th>\n    </tr>\n    <tr>\n      <th>max_depth</th>\n      <th>n_estimators</th>\n      <th>oversampling</th>\n      <th></th>\n      <th></th>\n      <th></th>\n    </tr>\n  </thead>\n  <tbody>\n    <tr>\n      <th>3</th>\n      <th>7</th>\n      <th>False</th>\n      <td>0.548567</td>\n      <td>0.60558</td>\n      <td>0.613415</td>\n    </tr>\n  </tbody>\n</table>\n</div>"
     },
     "metadata": {},
     "output_type": "display_data"
    }
   ],
   "source": [
    "best_rf_1 = rf_results_1.iloc[[\n",
    "    rf_results_1.reset_index()['roc_auc_score'].idxmax()]]\n",
    "best_rf_2 = rf_results_2.iloc[[\n",
    "    rf_results_2.reset_index()['roc_auc_score'].idxmax()]]\n",
    "best_rf_3 = rf_results_3.iloc[[\n",
    "    rf_results_3.reset_index()['roc_auc_score'].idxmax()]]\n",
    "\n",
    "display(best_rf_1, best_rf_2, best_rf_3)"
   ]
  },
  {
   "cell_type": "markdown",
   "metadata": {
    "pycharm": {
     "name": "#%% md\n"
    }
   },
   "source": [
    "#### 8. Gradient Boosting"
   ]
  },
  {
   "cell_type": "code",
   "execution_count": 37,
   "metadata": {
    "pycharm": {
     "name": "#%%\n"
    }
   },
   "outputs": [
    {
     "data": {
      "text/plain": "                                     f1_score  roc_auc_score  accuracy_score\nmax_depth n_estimators oversampling                                         \n3         3            True          0.414036       0.575132        0.573494\n                       False         0.000000       0.500000        0.739357\n          5            True          0.407298       0.570560        0.575904\n                       False         0.003077       0.500248        0.738956\n          7            True          0.409399       0.573597        0.583133\n                       False         0.006107       0.500768        0.738956\n5         3            True          0.388268       0.552104        0.561044\n                       False         0.000000       0.500000        0.739357\n          5            True          0.401635       0.569740        0.589157\n                       False         0.003125       0.500236        0.738956\n          7            True          0.387845       0.559413        0.588353\n                       False         0.014774       0.500811        0.736948\n7         3            True          0.374658       0.543926        0.563454\n                       False         0.000000       0.500000        0.739357\n          5            True          0.379400       0.553716        0.586747\n                       False         0.014970       0.499518        0.734940\n          7            True          0.390062       0.567159        0.608434\n                       False         0.034255       0.499747        0.730120",
      "text/html": "<div>\n<style scoped>\n    .dataframe tbody tr th:only-of-type {\n        vertical-align: middle;\n    }\n\n    .dataframe tbody tr th {\n        vertical-align: top;\n    }\n\n    .dataframe thead th {\n        text-align: right;\n    }\n</style>\n<table border=\"1\" class=\"dataframe\">\n  <thead>\n    <tr style=\"text-align: right;\">\n      <th></th>\n      <th></th>\n      <th></th>\n      <th>f1_score</th>\n      <th>roc_auc_score</th>\n      <th>accuracy_score</th>\n    </tr>\n    <tr>\n      <th>max_depth</th>\n      <th>n_estimators</th>\n      <th>oversampling</th>\n      <th></th>\n      <th></th>\n      <th></th>\n    </tr>\n  </thead>\n  <tbody>\n    <tr>\n      <th rowspan=\"6\" valign=\"top\">3</th>\n      <th rowspan=\"2\" valign=\"top\">3</th>\n      <th>True</th>\n      <td>0.414036</td>\n      <td>0.575132</td>\n      <td>0.573494</td>\n    </tr>\n    <tr>\n      <th>False</th>\n      <td>0.000000</td>\n      <td>0.500000</td>\n      <td>0.739357</td>\n    </tr>\n    <tr>\n      <th rowspan=\"2\" valign=\"top\">5</th>\n      <th>True</th>\n      <td>0.407298</td>\n      <td>0.570560</td>\n      <td>0.575904</td>\n    </tr>\n    <tr>\n      <th>False</th>\n      <td>0.003077</td>\n      <td>0.500248</td>\n      <td>0.738956</td>\n    </tr>\n    <tr>\n      <th rowspan=\"2\" valign=\"top\">7</th>\n      <th>True</th>\n      <td>0.409399</td>\n      <td>0.573597</td>\n      <td>0.583133</td>\n    </tr>\n    <tr>\n      <th>False</th>\n      <td>0.006107</td>\n      <td>0.500768</td>\n      <td>0.738956</td>\n    </tr>\n    <tr>\n      <th rowspan=\"6\" valign=\"top\">5</th>\n      <th rowspan=\"2\" valign=\"top\">3</th>\n      <th>True</th>\n      <td>0.388268</td>\n      <td>0.552104</td>\n      <td>0.561044</td>\n    </tr>\n    <tr>\n      <th>False</th>\n      <td>0.000000</td>\n      <td>0.500000</td>\n      <td>0.739357</td>\n    </tr>\n    <tr>\n      <th rowspan=\"2\" valign=\"top\">5</th>\n      <th>True</th>\n      <td>0.401635</td>\n      <td>0.569740</td>\n      <td>0.589157</td>\n    </tr>\n    <tr>\n      <th>False</th>\n      <td>0.003125</td>\n      <td>0.500236</td>\n      <td>0.738956</td>\n    </tr>\n    <tr>\n      <th rowspan=\"2\" valign=\"top\">7</th>\n      <th>True</th>\n      <td>0.387845</td>\n      <td>0.559413</td>\n      <td>0.588353</td>\n    </tr>\n    <tr>\n      <th>False</th>\n      <td>0.014774</td>\n      <td>0.500811</td>\n      <td>0.736948</td>\n    </tr>\n    <tr>\n      <th rowspan=\"6\" valign=\"top\">7</th>\n      <th rowspan=\"2\" valign=\"top\">3</th>\n      <th>True</th>\n      <td>0.374658</td>\n      <td>0.543926</td>\n      <td>0.563454</td>\n    </tr>\n    <tr>\n      <th>False</th>\n      <td>0.000000</td>\n      <td>0.500000</td>\n      <td>0.739357</td>\n    </tr>\n    <tr>\n      <th rowspan=\"2\" valign=\"top\">5</th>\n      <th>True</th>\n      <td>0.379400</td>\n      <td>0.553716</td>\n      <td>0.586747</td>\n    </tr>\n    <tr>\n      <th>False</th>\n      <td>0.014970</td>\n      <td>0.499518</td>\n      <td>0.734940</td>\n    </tr>\n    <tr>\n      <th rowspan=\"2\" valign=\"top\">7</th>\n      <th>True</th>\n      <td>0.390062</td>\n      <td>0.567159</td>\n      <td>0.608434</td>\n    </tr>\n    <tr>\n      <th>False</th>\n      <td>0.034255</td>\n      <td>0.499747</td>\n      <td>0.730120</td>\n    </tr>\n  </tbody>\n</table>\n</div>"
     },
     "metadata": {},
     "output_type": "display_data"
    }
   ],
   "source": [
    "gb_results = hyperparameter_tuning_cv(model='gradient_boosting', data=X_no, labels=y_no.Label, cv_k=5,\n",
    "                                      params=GRADIENT_BOOSTING_PARAMS)\n",
    "\n",
    "display(gb_results)"
   ]
  },
  {
   "cell_type": "code",
   "execution_count": 38,
   "metadata": {
    "pycharm": {
     "name": "#%%\n"
    },
    "scrolled": true
   },
   "outputs": [
    {
     "data": {
      "text/plain": "                                     f1_score  roc_auc_score  accuracy_score\nmax_depth n_estimators oversampling                                         \n3         3            True          0.414036       0.575132        0.573494",
      "text/html": "<div>\n<style scoped>\n    .dataframe tbody tr th:only-of-type {\n        vertical-align: middle;\n    }\n\n    .dataframe tbody tr th {\n        vertical-align: top;\n    }\n\n    .dataframe thead th {\n        text-align: right;\n    }\n</style>\n<table border=\"1\" class=\"dataframe\">\n  <thead>\n    <tr style=\"text-align: right;\">\n      <th></th>\n      <th></th>\n      <th></th>\n      <th>f1_score</th>\n      <th>roc_auc_score</th>\n      <th>accuracy_score</th>\n    </tr>\n    <tr>\n      <th>max_depth</th>\n      <th>n_estimators</th>\n      <th>oversampling</th>\n      <th></th>\n      <th></th>\n      <th></th>\n    </tr>\n  </thead>\n  <tbody>\n    <tr>\n      <th>3</th>\n      <th>3</th>\n      <th>True</th>\n      <td>0.414036</td>\n      <td>0.575132</td>\n      <td>0.573494</td>\n    </tr>\n  </tbody>\n</table>\n</div>"
     },
     "metadata": {},
     "output_type": "display_data"
    }
   ],
   "source": [
    "# Best model parameters\n",
    "\n",
    "best_gb = gb_results.iloc[[gb_results.reset_index()['roc_auc_score'].idxmax()]]\n",
    "\n",
    "display(best_gb)"
   ]
  },
  {
   "cell_type": "code",
   "execution_count": 39,
   "metadata": {},
   "outputs": [],
   "source": [
    "gb_results_1 = hyperparameter_tuning_cv(\n",
    "    model='gradient_boosting', data=X_no_e_1, labels=y_no_e_1, cv_k=5, params=GRADIENT_BOOSTING_PARAMS)\n",
    "gb_results_2 = hyperparameter_tuning_cv(\n",
    "    model='gradient_boosting', data=X_no_e_2, labels=y_no_e_2, cv_k=5, params=GRADIENT_BOOSTING_PARAMS)\n",
    "gb_results_3 = hyperparameter_tuning_cv(\n",
    "    model='gradient_boosting', data=X_no_e_3, labels=y_no_e_3, cv_k=5, params=GRADIENT_BOOSTING_PARAMS)"
   ]
  },
  {
   "cell_type": "code",
   "execution_count": 40,
   "metadata": {},
   "outputs": [
    {
     "data": {
      "text/plain": "                                     f1_score  roc_auc_score  accuracy_score\nmax_depth n_estimators oversampling                                         \n3         7            True          0.306213       0.609657        0.694667",
      "text/html": "<div>\n<style scoped>\n    .dataframe tbody tr th:only-of-type {\n        vertical-align: middle;\n    }\n\n    .dataframe tbody tr th {\n        vertical-align: top;\n    }\n\n    .dataframe thead th {\n        text-align: right;\n    }\n</style>\n<table border=\"1\" class=\"dataframe\">\n  <thead>\n    <tr style=\"text-align: right;\">\n      <th></th>\n      <th></th>\n      <th></th>\n      <th>f1_score</th>\n      <th>roc_auc_score</th>\n      <th>accuracy_score</th>\n    </tr>\n    <tr>\n      <th>max_depth</th>\n      <th>n_estimators</th>\n      <th>oversampling</th>\n      <th></th>\n      <th></th>\n      <th></th>\n    </tr>\n  </thead>\n  <tbody>\n    <tr>\n      <th>3</th>\n      <th>7</th>\n      <th>True</th>\n      <td>0.306213</td>\n      <td>0.609657</td>\n      <td>0.694667</td>\n    </tr>\n  </tbody>\n</table>\n</div>"
     },
     "metadata": {},
     "output_type": "display_data"
    },
    {
     "data": {
      "text/plain": "                                     f1_score  roc_auc_score  accuracy_score\nmax_depth n_estimators oversampling                                         \n5         5            True          0.265376       0.528027         0.63871",
      "text/html": "<div>\n<style scoped>\n    .dataframe tbody tr th:only-of-type {\n        vertical-align: middle;\n    }\n\n    .dataframe tbody tr th {\n        vertical-align: top;\n    }\n\n    .dataframe thead th {\n        text-align: right;\n    }\n</style>\n<table border=\"1\" class=\"dataframe\">\n  <thead>\n    <tr style=\"text-align: right;\">\n      <th></th>\n      <th></th>\n      <th></th>\n      <th>f1_score</th>\n      <th>roc_auc_score</th>\n      <th>accuracy_score</th>\n    </tr>\n    <tr>\n      <th>max_depth</th>\n      <th>n_estimators</th>\n      <th>oversampling</th>\n      <th></th>\n      <th></th>\n      <th></th>\n    </tr>\n  </thead>\n  <tbody>\n    <tr>\n      <th>5</th>\n      <th>5</th>\n      <th>True</th>\n      <td>0.265376</td>\n      <td>0.528027</td>\n      <td>0.63871</td>\n    </tr>\n  </tbody>\n</table>\n</div>"
     },
     "metadata": {},
     "output_type": "display_data"
    },
    {
     "data": {
      "text/plain": "                                     f1_score  roc_auc_score  accuracy_score\nmax_depth n_estimators oversampling                                         \n3         5            True          0.565416       0.597911         0.59878",
      "text/html": "<div>\n<style scoped>\n    .dataframe tbody tr th:only-of-type {\n        vertical-align: middle;\n    }\n\n    .dataframe tbody tr th {\n        vertical-align: top;\n    }\n\n    .dataframe thead th {\n        text-align: right;\n    }\n</style>\n<table border=\"1\" class=\"dataframe\">\n  <thead>\n    <tr style=\"text-align: right;\">\n      <th></th>\n      <th></th>\n      <th></th>\n      <th>f1_score</th>\n      <th>roc_auc_score</th>\n      <th>accuracy_score</th>\n    </tr>\n    <tr>\n      <th>max_depth</th>\n      <th>n_estimators</th>\n      <th>oversampling</th>\n      <th></th>\n      <th></th>\n      <th></th>\n    </tr>\n  </thead>\n  <tbody>\n    <tr>\n      <th>3</th>\n      <th>5</th>\n      <th>True</th>\n      <td>0.565416</td>\n      <td>0.597911</td>\n      <td>0.59878</td>\n    </tr>\n  </tbody>\n</table>\n</div>"
     },
     "metadata": {},
     "output_type": "display_data"
    }
   ],
   "source": [
    "best_gb_1 = gb_results_1.iloc[[\n",
    "    gb_results_1.reset_index()['roc_auc_score'].idxmax()]]\n",
    "best_gb_2 = gb_results_2.iloc[[\n",
    "    gb_results_2.reset_index()['roc_auc_score'].idxmax()]]\n",
    "best_gb_3 = gb_results_3.iloc[[\n",
    "    gb_results_3.reset_index()['roc_auc_score'].idxmax()]]\n",
    "display(best_gb_1, best_gb_2, best_gb_3)"
   ]
  },
  {
   "cell_type": "markdown",
   "metadata": {},
   "source": [
    "### Results"
   ]
  },
  {
   "cell_type": "code",
   "execution_count": 41,
   "metadata": {
    "pycharm": {
     "name": "#%%\n"
    }
   },
   "outputs": [],
   "source": [
    "# display('logistic', best_log)\n",
    "# display('lda', best_lda)\n",
    "# display('knn', best_knn)\n",
    "# display('svc', best_svc)\n",
    "# display('naive_bayes', best_nb)\n",
    "# display('decision_tree', best_dt)\n",
    "# display('random_forest', best_rf)\n",
    "# display('gradient_boosting', best_gb)"
   ]
  },
  {
   "cell_type": "code",
   "execution_count": 42,
   "metadata": {},
   "outputs": [],
   "source": [
    "weighted_average = (\n",
    "    np.array([len(X_no_e_1), len(X_no_e_2), len(X_no_e_3)]) / len(X_no_e))\n",
    "\n",
    "e_log = np.sum(pd.concat([best_log_1, best_log_2, best_log_3]\n",
    "                         ).roc_auc_score.values * weighted_average)\n",
    "e_lda = np.sum(pd.concat([best_lda_1, best_lda_2, best_lda_3]\n",
    "                         ).roc_auc_score.values * weighted_average)\n",
    "e_knn = np.sum(pd.concat([best_knn_1, best_knn_2, best_knn_3]\n",
    "                         ).roc_auc_score.values * weighted_average)\n",
    "e_svc = np.sum(pd.concat([best_svc_1, best_svc_2, best_svc_3]\n",
    "                         ).roc_auc_score.values * weighted_average)\n",
    "e_nb = np.sum(pd.concat([best_nb_1, best_nb_2, best_nb_3]\n",
    "                        ).roc_auc_score.values * weighted_average)\n",
    "e_dt = np.sum(pd.concat([best_dt_1, best_dt_2, best_dt_3]\n",
    "                        ).roc_auc_score.values * weighted_average)\n",
    "e_rf = np.sum(pd.concat([best_rf_1, best_rf_2, best_rf_3]\n",
    "                        ).roc_auc_score.values * weighted_average)\n",
    "e_gb = np.sum(pd.concat([best_gb_1, best_gb_2, best_gb_3]\n",
    "                        ).roc_auc_score.values * weighted_average)"
   ]
  },
  {
   "cell_type": "code",
   "execution_count": 43,
   "metadata": {},
   "outputs": [
    {
     "data": {
      "text/plain": "'naive_bayes'"
     },
     "metadata": {},
     "output_type": "display_data"
    },
    {
     "data": {
      "text/plain": "              f1_score  roc_auc_score  accuracy_score\noversampling                                         \nFalse         0.323266       0.627014        0.717333\nTrue          0.330360       0.579262        0.629032\nTrue          0.541429       0.602718        0.610976",
      "text/html": "<div>\n<style scoped>\n    .dataframe tbody tr th:only-of-type {\n        vertical-align: middle;\n    }\n\n    .dataframe tbody tr th {\n        vertical-align: top;\n    }\n\n    .dataframe thead th {\n        text-align: right;\n    }\n</style>\n<table border=\"1\" class=\"dataframe\">\n  <thead>\n    <tr style=\"text-align: right;\">\n      <th></th>\n      <th>f1_score</th>\n      <th>roc_auc_score</th>\n      <th>accuracy_score</th>\n    </tr>\n    <tr>\n      <th>oversampling</th>\n      <th></th>\n      <th></th>\n      <th></th>\n    </tr>\n  </thead>\n  <tbody>\n    <tr>\n      <th>False</th>\n      <td>0.323266</td>\n      <td>0.627014</td>\n      <td>0.717333</td>\n    </tr>\n    <tr>\n      <th>True</th>\n      <td>0.330360</td>\n      <td>0.579262</td>\n      <td>0.629032</td>\n    </tr>\n    <tr>\n      <th>True</th>\n      <td>0.541429</td>\n      <td>0.602718</td>\n      <td>0.610976</td>\n    </tr>\n  </tbody>\n</table>\n</div>"
     },
     "metadata": {},
     "output_type": "display_data"
    }
   ],
   "source": [
    "# Results expert features\n",
    "# First row is Expert 1, second Expert 2, third Expert 3\n",
    "# display('logistic', pd.concat([best_log_1,best_log_2,best_log_3]))\n",
    "# display('lda', pd.concat([best_lda_1,best_lda_2,best_lda_3]))\n",
    "# display('knn', pd.concat([best_knn_1,best_knn_2,best_knn_3]))\n",
    "# display('svc', pd.concat([best_svc_1,best_svc_2,best_svc_3]))\n",
    "display('naive_bayes', pd.concat([best_nb_1, best_nb_2, best_nb_3]))\n",
    "# display('decision_tree', pd.concat([best_dt_1,best_dt_2,best_dt_3]))\n",
    "# display('random_forest', pd.concat([best_rf_1,best_rf_2,best_rf_3]))\n",
    "# display('gradient_boosting', pd.concat([best_gb_1,best_gb_2,best_gb_3]))"
   ]
  },
  {
   "cell_type": "code",
   "execution_count": 44,
   "metadata": {},
   "outputs": [
    {
     "data": {
      "text/plain": "              models  auc_best  auc_expert_weighted\n0           logistic  0.593197             0.576382\n1                lda  0.589683             0.577612\n2                knn  0.559798             0.568393\n3                svc  0.583598             0.598600\n4        naive_bayes  0.587704             0.601259\n5      decision_tree  0.568437             0.571681\n6      random_forest  0.571702             0.584405\n7  gradient_boosting  0.575132             0.575397",
      "text/html": "<div>\n<style scoped>\n    .dataframe tbody tr th:only-of-type {\n        vertical-align: middle;\n    }\n\n    .dataframe tbody tr th {\n        vertical-align: top;\n    }\n\n    .dataframe thead th {\n        text-align: right;\n    }\n</style>\n<table border=\"1\" class=\"dataframe\">\n  <thead>\n    <tr style=\"text-align: right;\">\n      <th></th>\n      <th>models</th>\n      <th>auc_best</th>\n      <th>auc_expert_weighted</th>\n    </tr>\n  </thead>\n  <tbody>\n    <tr>\n      <th>0</th>\n      <td>logistic</td>\n      <td>0.593197</td>\n      <td>0.576382</td>\n    </tr>\n    <tr>\n      <th>1</th>\n      <td>lda</td>\n      <td>0.589683</td>\n      <td>0.577612</td>\n    </tr>\n    <tr>\n      <th>2</th>\n      <td>knn</td>\n      <td>0.559798</td>\n      <td>0.568393</td>\n    </tr>\n    <tr>\n      <th>3</th>\n      <td>svc</td>\n      <td>0.583598</td>\n      <td>0.598600</td>\n    </tr>\n    <tr>\n      <th>4</th>\n      <td>naive_bayes</td>\n      <td>0.587704</td>\n      <td>0.601259</td>\n    </tr>\n    <tr>\n      <th>5</th>\n      <td>decision_tree</td>\n      <td>0.568437</td>\n      <td>0.571681</td>\n    </tr>\n    <tr>\n      <th>6</th>\n      <td>random_forest</td>\n      <td>0.571702</td>\n      <td>0.584405</td>\n    </tr>\n    <tr>\n      <th>7</th>\n      <td>gradient_boosting</td>\n      <td>0.575132</td>\n      <td>0.575397</td>\n    </tr>\n  </tbody>\n</table>\n</div>"
     },
     "metadata": {},
     "output_type": "display_data"
    }
   ],
   "source": [
    "results = pd.DataFrame(data={'models': ['logistic', 'lda', 'knn', 'svc', 'naive_bayes', 'decision_tree',\n",
    "                                        'random_forest', 'gradient_boosting'],\n",
    "                             'auc_best': [best_log.roc_auc_score.values[0], best_lda.roc_auc_score.values[0],\n",
    "                                          best_knn.roc_auc_score.values[0], best_svc.roc_auc_score.values[0],\n",
    "                                          best_nb.roc_auc_score.values[0], best_dt.roc_auc_score.values[0],\n",
    "                                          best_rf.roc_auc_score.values[0], best_gb.roc_auc_score.values[0]],\n",
    "                             'auc_expert_weighted': [e_log, e_lda, e_knn, e_svc, e_nb, e_dt, e_rf, e_gb]})\n",
    "\n",
    "display(results)"
   ]
  },
  {
   "cell_type": "markdown",
   "metadata": {},
   "source": [
    "### Conclusions\n",
    "\n",
    "TODO\n"
   ]
  },
  {
   "cell_type": "code",
   "execution_count": 45,
   "metadata": {},
   "outputs": [],
   "source": [
    "# Save dataframe\n",
    "# results.to_pickle(\"results_no_seg_no_metadata.pkl\")"
   ]
  },
  {
   "cell_type": "code",
   "execution_count": 46,
   "metadata": {
    "scrolled": true
   },
   "outputs": [
    {
     "data": {
      "text/plain": "auc_best               0.578656\nauc_expert_weighted    0.581716\ndtype: float64"
     },
     "execution_count": 46,
     "metadata": {},
     "output_type": "execute_result"
    }
   ],
   "source": [
    "results.mean(axis=0)"
   ]
  },
  {
   "cell_type": "code",
   "execution_count": 47,
   "metadata": {},
   "outputs": [
    {
     "data": {
      "text/plain": "models                 logistic\nauc_best               0.593197\nauc_expert_weighted    0.576382\nName: 0, dtype: object"
     },
     "execution_count": 47,
     "metadata": {},
     "output_type": "execute_result"
    }
   ],
   "source": [
    "results.loc[results['auc_best'].argmax()]"
   ]
  },
  {
   "cell_type": "code",
   "execution_count": 48,
   "metadata": {},
   "outputs": [
    {
     "data": {
      "text/plain": "models                 naive_bayes\nauc_best                  0.587704\nauc_expert_weighted       0.601259\nName: 4, dtype: object"
     },
     "execution_count": 48,
     "metadata": {},
     "output_type": "execute_result"
    }
   ],
   "source": [
    "results.loc[results['auc_expert_weighted'].argmax()]"
   ]
  }
 ],
 "metadata": {
  "kernelspec": {
   "name": "pycharm-97a0754f",
   "language": "python",
   "display_name": "PyCharm (cs-433-project-2-cough_classifier)"
  },
  "language_info": {
   "codemirror_mode": {
    "name": "ipython",
    "version": 3
   },
   "file_extension": ".py",
   "mimetype": "text/x-python",
   "name": "python",
   "nbconvert_exporter": "python",
   "pygments_lexer": "ipython3",
   "version": "3.8.5"
  }
 },
 "nbformat": 4,
 "nbformat_minor": 4
}