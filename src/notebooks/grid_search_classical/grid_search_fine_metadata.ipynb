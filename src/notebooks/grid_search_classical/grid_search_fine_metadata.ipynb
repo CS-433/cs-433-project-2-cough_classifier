{
 "cells": [
  {
   "cell_type": "markdown",
   "metadata": {},
   "source": [
    "### Import libraries"
   ]
  },
  {
   "cell_type": "code",
   "execution_count": 1,
   "metadata": {
    "scrolled": true
   },
   "outputs": [],
   "source": [
    "from IPython.core.display import display\n",
    "from src.utils.preprocessing import classic_preprocessing\n",
    "from src.utils.get_data import import_data, split_experts\n",
    "from src.utils.train import hyperparameter_tuning_cv\n",
    "from src.utils.config import *\n",
    "import pandas as pd\n",
    "import numpy as np"
   ]
  },
  {
   "cell_type": "code",
   "execution_count": 2,
   "metadata": {
    "pycharm": {
     "name": "#%%\n"
    }
   },
   "outputs": [],
   "source": [
    "%load_ext autoreload\n",
    "%autoreload 2"
   ]
  },
  {
   "cell_type": "markdown",
   "metadata": {},
   "source": [
    "### Load Data"
   ]
  },
  {
   "cell_type": "code",
   "execution_count": 3,
   "metadata": {},
   "outputs": [],
   "source": [
    "DATA_PATH = '../../../data'\n",
    "X_fine, y_fine = import_data(DATA_PATH, segmentation_type='fine',\n",
    "                             drop_user_features=False,\n",
    "                             drop_expert=True)"
   ]
  },
  {
   "cell_type": "code",
   "execution_count": 4,
   "metadata": {},
   "outputs": [],
   "source": [
    "# For each expert separately\n",
    "X_e, y_e = import_data(DATA_PATH, segmentation_type='fine',\n",
    "                       drop_user_features=False,\n",
    "                       drop_expert=False)"
   ]
  },
  {
   "cell_type": "code",
   "execution_count": 5,
   "metadata": {
    "pycharm": {
     "name": "#%%\n"
    }
   },
   "outputs": [
    {
     "data": {
      "text/html": [
       "<div>\n",
       "<style scoped>\n",
       "    .dataframe tbody tr th:only-of-type {\n",
       "        vertical-align: middle;\n",
       "    }\n",
       "\n",
       "    .dataframe tbody tr th {\n",
       "        vertical-align: top;\n",
       "    }\n",
       "\n",
       "    .dataframe thead th {\n",
       "        text-align: right;\n",
       "    }\n",
       "</style>\n",
       "<table border=\"1\" class=\"dataframe\">\n",
       "  <thead>\n",
       "    <tr style=\"text-align: right;\">\n",
       "      <th></th>\n",
       "      <th></th>\n",
       "      <th>EEPD50_100</th>\n",
       "      <th>EEPD100_150</th>\n",
       "      <th>EEPD150_200</th>\n",
       "      <th>EEPD200_250</th>\n",
       "      <th>EEPD250_300</th>\n",
       "      <th>EEPD300_350</th>\n",
       "      <th>EEPD350_400</th>\n",
       "      <th>EEPD400_450</th>\n",
       "      <th>EEPD450_500</th>\n",
       "      <th>EEPD500_550</th>\n",
       "      <th>...</th>\n",
       "      <th>PSD_225-425</th>\n",
       "      <th>PSD_450-550</th>\n",
       "      <th>PSD_1325-1600</th>\n",
       "      <th>PSD_1600-1900</th>\n",
       "      <th>PSD_2500-2900</th>\n",
       "      <th>PSD_3100-3700</th>\n",
       "      <th>Age</th>\n",
       "      <th>Gender</th>\n",
       "      <th>Resp_Condition</th>\n",
       "      <th>Symptoms</th>\n",
       "    </tr>\n",
       "    <tr>\n",
       "      <th>subject</th>\n",
       "      <th>file_id</th>\n",
       "      <th></th>\n",
       "      <th></th>\n",
       "      <th></th>\n",
       "      <th></th>\n",
       "      <th></th>\n",
       "      <th></th>\n",
       "      <th></th>\n",
       "      <th></th>\n",
       "      <th></th>\n",
       "      <th></th>\n",
       "      <th></th>\n",
       "      <th></th>\n",
       "      <th></th>\n",
       "      <th></th>\n",
       "      <th></th>\n",
       "      <th></th>\n",
       "      <th></th>\n",
       "      <th></th>\n",
       "      <th></th>\n",
       "      <th></th>\n",
       "      <th></th>\n",
       "    </tr>\n",
       "  </thead>\n",
       "  <tbody>\n",
       "    <tr>\n",
       "      <th rowspan=\"5\" valign=\"top\">008ba489-31ad-44d8-856b-fcf72369dc46</th>\n",
       "      <th>0</th>\n",
       "      <td>6.0</td>\n",
       "      <td>6.0</td>\n",
       "      <td>5.0</td>\n",
       "      <td>4.0</td>\n",
       "      <td>5.0</td>\n",
       "      <td>5.0</td>\n",
       "      <td>6.0</td>\n",
       "      <td>6.0</td>\n",
       "      <td>5.0</td>\n",
       "      <td>6.0</td>\n",
       "      <td>...</td>\n",
       "      <td>0.398299</td>\n",
       "      <td>0.026407</td>\n",
       "      <td>0.013356</td>\n",
       "      <td>0.033366</td>\n",
       "      <td>0.043195</td>\n",
       "      <td>0.010385</td>\n",
       "      <td>28.0</td>\n",
       "      <td>1.0</td>\n",
       "      <td>0.0</td>\n",
       "      <td>0.0</td>\n",
       "    </tr>\n",
       "    <tr>\n",
       "      <th>1</th>\n",
       "      <td>3.0</td>\n",
       "      <td>3.0</td>\n",
       "      <td>3.0</td>\n",
       "      <td>4.0</td>\n",
       "      <td>4.0</td>\n",
       "      <td>5.0</td>\n",
       "      <td>4.0</td>\n",
       "      <td>4.0</td>\n",
       "      <td>4.0</td>\n",
       "      <td>3.0</td>\n",
       "      <td>...</td>\n",
       "      <td>0.230052</td>\n",
       "      <td>0.086242</td>\n",
       "      <td>0.023806</td>\n",
       "      <td>0.008824</td>\n",
       "      <td>0.056102</td>\n",
       "      <td>0.011429</td>\n",
       "      <td>28.0</td>\n",
       "      <td>1.0</td>\n",
       "      <td>0.0</td>\n",
       "      <td>0.0</td>\n",
       "    </tr>\n",
       "    <tr>\n",
       "      <th>2</th>\n",
       "      <td>4.0</td>\n",
       "      <td>4.0</td>\n",
       "      <td>3.0</td>\n",
       "      <td>4.0</td>\n",
       "      <td>3.0</td>\n",
       "      <td>3.0</td>\n",
       "      <td>4.0</td>\n",
       "      <td>4.0</td>\n",
       "      <td>4.0</td>\n",
       "      <td>4.0</td>\n",
       "      <td>...</td>\n",
       "      <td>0.105747</td>\n",
       "      <td>0.180344</td>\n",
       "      <td>0.034701</td>\n",
       "      <td>0.006258</td>\n",
       "      <td>0.038410</td>\n",
       "      <td>0.005515</td>\n",
       "      <td>28.0</td>\n",
       "      <td>1.0</td>\n",
       "      <td>0.0</td>\n",
       "      <td>0.0</td>\n",
       "    </tr>\n",
       "    <tr>\n",
       "      <th>3</th>\n",
       "      <td>4.0</td>\n",
       "      <td>4.0</td>\n",
       "      <td>4.0</td>\n",
       "      <td>4.0</td>\n",
       "      <td>4.0</td>\n",
       "      <td>5.0</td>\n",
       "      <td>3.0</td>\n",
       "      <td>4.0</td>\n",
       "      <td>4.0</td>\n",
       "      <td>3.0</td>\n",
       "      <td>...</td>\n",
       "      <td>0.235517</td>\n",
       "      <td>0.121967</td>\n",
       "      <td>0.061882</td>\n",
       "      <td>0.002742</td>\n",
       "      <td>0.030492</td>\n",
       "      <td>0.001584</td>\n",
       "      <td>28.0</td>\n",
       "      <td>1.0</td>\n",
       "      <td>0.0</td>\n",
       "      <td>0.0</td>\n",
       "    </tr>\n",
       "    <tr>\n",
       "      <th>4</th>\n",
       "      <td>4.0</td>\n",
       "      <td>4.0</td>\n",
       "      <td>5.0</td>\n",
       "      <td>4.0</td>\n",
       "      <td>4.0</td>\n",
       "      <td>5.0</td>\n",
       "      <td>3.0</td>\n",
       "      <td>4.0</td>\n",
       "      <td>4.0</td>\n",
       "      <td>3.0</td>\n",
       "      <td>...</td>\n",
       "      <td>0.230394</td>\n",
       "      <td>0.119689</td>\n",
       "      <td>0.069418</td>\n",
       "      <td>0.002717</td>\n",
       "      <td>0.033935</td>\n",
       "      <td>0.001643</td>\n",
       "      <td>28.0</td>\n",
       "      <td>1.0</td>\n",
       "      <td>0.0</td>\n",
       "      <td>0.0</td>\n",
       "    </tr>\n",
       "  </tbody>\n",
       "</table>\n",
       "<p>5 rows × 70 columns</p>\n",
       "</div>"
      ],
      "text/plain": [
       "                                              EEPD50_100  EEPD100_150  \\\n",
       "subject                              file_id                            \n",
       "008ba489-31ad-44d8-856b-fcf72369dc46 0               6.0          6.0   \n",
       "                                     1               3.0          3.0   \n",
       "                                     2               4.0          4.0   \n",
       "                                     3               4.0          4.0   \n",
       "                                     4               4.0          4.0   \n",
       "\n",
       "                                              EEPD150_200  EEPD200_250  \\\n",
       "subject                              file_id                             \n",
       "008ba489-31ad-44d8-856b-fcf72369dc46 0                5.0          4.0   \n",
       "                                     1                3.0          4.0   \n",
       "                                     2                3.0          4.0   \n",
       "                                     3                4.0          4.0   \n",
       "                                     4                5.0          4.0   \n",
       "\n",
       "                                              EEPD250_300  EEPD300_350  \\\n",
       "subject                              file_id                             \n",
       "008ba489-31ad-44d8-856b-fcf72369dc46 0                5.0          5.0   \n",
       "                                     1                4.0          5.0   \n",
       "                                     2                3.0          3.0   \n",
       "                                     3                4.0          5.0   \n",
       "                                     4                4.0          5.0   \n",
       "\n",
       "                                              EEPD350_400  EEPD400_450  \\\n",
       "subject                              file_id                             \n",
       "008ba489-31ad-44d8-856b-fcf72369dc46 0                6.0          6.0   \n",
       "                                     1                4.0          4.0   \n",
       "                                     2                4.0          4.0   \n",
       "                                     3                3.0          4.0   \n",
       "                                     4                3.0          4.0   \n",
       "\n",
       "                                              EEPD450_500  EEPD500_550  ...  \\\n",
       "subject                              file_id                            ...   \n",
       "008ba489-31ad-44d8-856b-fcf72369dc46 0                5.0          6.0  ...   \n",
       "                                     1                4.0          3.0  ...   \n",
       "                                     2                4.0          4.0  ...   \n",
       "                                     3                4.0          3.0  ...   \n",
       "                                     4                4.0          3.0  ...   \n",
       "\n",
       "                                              PSD_225-425  PSD_450-550  \\\n",
       "subject                              file_id                             \n",
       "008ba489-31ad-44d8-856b-fcf72369dc46 0           0.398299     0.026407   \n",
       "                                     1           0.230052     0.086242   \n",
       "                                     2           0.105747     0.180344   \n",
       "                                     3           0.235517     0.121967   \n",
       "                                     4           0.230394     0.119689   \n",
       "\n",
       "                                              PSD_1325-1600  PSD_1600-1900  \\\n",
       "subject                              file_id                                 \n",
       "008ba489-31ad-44d8-856b-fcf72369dc46 0             0.013356       0.033366   \n",
       "                                     1             0.023806       0.008824   \n",
       "                                     2             0.034701       0.006258   \n",
       "                                     3             0.061882       0.002742   \n",
       "                                     4             0.069418       0.002717   \n",
       "\n",
       "                                              PSD_2500-2900  PSD_3100-3700  \\\n",
       "subject                              file_id                                 \n",
       "008ba489-31ad-44d8-856b-fcf72369dc46 0             0.043195       0.010385   \n",
       "                                     1             0.056102       0.011429   \n",
       "                                     2             0.038410       0.005515   \n",
       "                                     3             0.030492       0.001584   \n",
       "                                     4             0.033935       0.001643   \n",
       "\n",
       "                                               Age  Gender  Resp_Condition  \\\n",
       "subject                              file_id                                 \n",
       "008ba489-31ad-44d8-856b-fcf72369dc46 0        28.0     1.0             0.0   \n",
       "                                     1        28.0     1.0             0.0   \n",
       "                                     2        28.0     1.0             0.0   \n",
       "                                     3        28.0     1.0             0.0   \n",
       "                                     4        28.0     1.0             0.0   \n",
       "\n",
       "                                              Symptoms  \n",
       "subject                              file_id            \n",
       "008ba489-31ad-44d8-856b-fcf72369dc46 0             0.0  \n",
       "                                     1             0.0  \n",
       "                                     2             0.0  \n",
       "                                     3             0.0  \n",
       "                                     4             0.0  \n",
       "\n",
       "[5 rows x 70 columns]"
      ]
     },
     "metadata": {},
     "output_type": "display_data"
    },
    {
     "data": {
      "text/html": [
       "<div>\n",
       "<style scoped>\n",
       "    .dataframe tbody tr th:only-of-type {\n",
       "        vertical-align: middle;\n",
       "    }\n",
       "\n",
       "    .dataframe tbody tr th {\n",
       "        vertical-align: top;\n",
       "    }\n",
       "\n",
       "    .dataframe thead th {\n",
       "        text-align: right;\n",
       "    }\n",
       "</style>\n",
       "<table border=\"1\" class=\"dataframe\">\n",
       "  <thead>\n",
       "    <tr style=\"text-align: right;\">\n",
       "      <th></th>\n",
       "      <th></th>\n",
       "      <th>Label</th>\n",
       "    </tr>\n",
       "    <tr>\n",
       "      <th>subject</th>\n",
       "      <th>file_id</th>\n",
       "      <th></th>\n",
       "    </tr>\n",
       "  </thead>\n",
       "  <tbody>\n",
       "    <tr>\n",
       "      <th rowspan=\"5\" valign=\"top\">008ba489-31ad-44d8-856b-fcf72369dc46</th>\n",
       "      <th>0</th>\n",
       "      <td>1.0</td>\n",
       "    </tr>\n",
       "    <tr>\n",
       "      <th>1</th>\n",
       "      <td>1.0</td>\n",
       "    </tr>\n",
       "    <tr>\n",
       "      <th>2</th>\n",
       "      <td>1.0</td>\n",
       "    </tr>\n",
       "    <tr>\n",
       "      <th>3</th>\n",
       "      <td>1.0</td>\n",
       "    </tr>\n",
       "    <tr>\n",
       "      <th>4</th>\n",
       "      <td>1.0</td>\n",
       "    </tr>\n",
       "  </tbody>\n",
       "</table>\n",
       "</div>"
      ],
      "text/plain": [
       "                                              Label\n",
       "subject                              file_id       \n",
       "008ba489-31ad-44d8-856b-fcf72369dc46 0          1.0\n",
       "                                     1          1.0\n",
       "                                     2          1.0\n",
       "                                     3          1.0\n",
       "                                     4          1.0"
      ]
     },
     "metadata": {},
     "output_type": "display_data"
    }
   ],
   "source": [
    "display(X_fine.head())\n",
    "display(y_fine.head())"
   ]
  },
  {
   "cell_type": "markdown",
   "metadata": {},
   "source": [
    "### Preprocessing"
   ]
  },
  {
   "cell_type": "code",
   "execution_count": 6,
   "metadata": {},
   "outputs": [],
   "source": [
    "X_fine = classic_preprocessing(X_fine, norm=False)"
   ]
  },
  {
   "cell_type": "code",
   "execution_count": 7,
   "metadata": {},
   "outputs": [],
   "source": [
    "# Save the expert feature for split\n",
    "expert = X_e['Expert'].copy()\n",
    "X_e = classic_preprocessing(X_e, norm=False)\n",
    "X_e['Expert'] = expert.values"
   ]
  },
  {
   "cell_type": "markdown",
   "metadata": {},
   "source": [
    "### Split expert models"
   ]
  },
  {
   "cell_type": "code",
   "execution_count": 8,
   "metadata": {},
   "outputs": [],
   "source": [
    "X_e_1, y_e_1, X_e_2, y_e_2, X_e_3, y_e_3 = split_experts(X_e, y_e)"
   ]
  },
  {
   "cell_type": "markdown",
   "metadata": {},
   "source": [
    "### Grid search"
   ]
  },
  {
   "cell_type": "markdown",
   "metadata": {
    "pycharm": {
     "name": "#%% md\n"
    }
   },
   "source": [
    "#### 1. Logistic regression"
   ]
  },
  {
   "cell_type": "code",
   "execution_count": 9,
   "metadata": {
    "pycharm": {
     "name": "#%%\n"
    },
    "scrolled": true
   },
   "outputs": [
    {
     "data": {
      "text/html": [
       "<div>\n",
       "<style scoped>\n",
       "    .dataframe tbody tr th:only-of-type {\n",
       "        vertical-align: middle;\n",
       "    }\n",
       "\n",
       "    .dataframe tbody tr th {\n",
       "        vertical-align: top;\n",
       "    }\n",
       "\n",
       "    .dataframe thead th {\n",
       "        text-align: right;\n",
       "    }\n",
       "</style>\n",
       "<table border=\"1\" class=\"dataframe\">\n",
       "  <thead>\n",
       "    <tr style=\"text-align: right;\">\n",
       "      <th></th>\n",
       "      <th></th>\n",
       "      <th>f1_score</th>\n",
       "      <th>roc_auc_score</th>\n",
       "      <th>accuracy_score</th>\n",
       "    </tr>\n",
       "    <tr>\n",
       "      <th>max_iter</th>\n",
       "      <th>oversampling</th>\n",
       "      <th></th>\n",
       "      <th></th>\n",
       "      <th></th>\n",
       "    </tr>\n",
       "  </thead>\n",
       "  <tbody>\n",
       "    <tr>\n",
       "      <th rowspan=\"2\" valign=\"top\">10000</th>\n",
       "      <th>True</th>\n",
       "      <td>0.412988</td>\n",
       "      <td>0.567085</td>\n",
       "      <td>0.569757</td>\n",
       "    </tr>\n",
       "    <tr>\n",
       "      <th>False</th>\n",
       "      <td>0.018266</td>\n",
       "      <td>0.502426</td>\n",
       "      <td>0.729624</td>\n",
       "    </tr>\n",
       "    <tr>\n",
       "      <th rowspan=\"2\" valign=\"top\">100000</th>\n",
       "      <th>True</th>\n",
       "      <td>0.412988</td>\n",
       "      <td>0.567085</td>\n",
       "      <td>0.569757</td>\n",
       "    </tr>\n",
       "    <tr>\n",
       "      <th>False</th>\n",
       "      <td>0.018266</td>\n",
       "      <td>0.502426</td>\n",
       "      <td>0.729624</td>\n",
       "    </tr>\n",
       "  </tbody>\n",
       "</table>\n",
       "</div>"
      ],
      "text/plain": [
       "                       f1_score  roc_auc_score  accuracy_score\n",
       "max_iter oversampling                                         \n",
       "10000    True          0.412988       0.567085        0.569757\n",
       "         False         0.018266       0.502426        0.729624\n",
       "100000   True          0.412988       0.567085        0.569757\n",
       "         False         0.018266       0.502426        0.729624"
      ]
     },
     "metadata": {},
     "output_type": "display_data"
    }
   ],
   "source": [
    "log_results = hyperparameter_tuning_cv(model='logistic', data=X_fine, labels=y_fine.Label, cv_k=5,\n",
    "                                       params=LOGISTIC_PARAMS)\n",
    "\n",
    "display(log_results)"
   ]
  },
  {
   "cell_type": "code",
   "execution_count": 10,
   "metadata": {
    "pycharm": {
     "name": "#%%\n"
    }
   },
   "outputs": [
    {
     "data": {
      "text/html": [
       "<div>\n",
       "<style scoped>\n",
       "    .dataframe tbody tr th:only-of-type {\n",
       "        vertical-align: middle;\n",
       "    }\n",
       "\n",
       "    .dataframe tbody tr th {\n",
       "        vertical-align: top;\n",
       "    }\n",
       "\n",
       "    .dataframe thead th {\n",
       "        text-align: right;\n",
       "    }\n",
       "</style>\n",
       "<table border=\"1\" class=\"dataframe\">\n",
       "  <thead>\n",
       "    <tr style=\"text-align: right;\">\n",
       "      <th></th>\n",
       "      <th></th>\n",
       "      <th>f1_score</th>\n",
       "      <th>roc_auc_score</th>\n",
       "      <th>accuracy_score</th>\n",
       "    </tr>\n",
       "    <tr>\n",
       "      <th>max_iter</th>\n",
       "      <th>oversampling</th>\n",
       "      <th></th>\n",
       "      <th></th>\n",
       "      <th></th>\n",
       "    </tr>\n",
       "  </thead>\n",
       "  <tbody>\n",
       "    <tr>\n",
       "      <th>10000</th>\n",
       "      <th>True</th>\n",
       "      <td>0.412988</td>\n",
       "      <td>0.567085</td>\n",
       "      <td>0.569757</td>\n",
       "    </tr>\n",
       "  </tbody>\n",
       "</table>\n",
       "</div>"
      ],
      "text/plain": [
       "                       f1_score  roc_auc_score  accuracy_score\n",
       "max_iter oversampling                                         \n",
       "10000    True          0.412988       0.567085        0.569757"
      ]
     },
     "metadata": {},
     "output_type": "display_data"
    }
   ],
   "source": [
    "# Best model parameters\n",
    "\n",
    "best_log = log_results.iloc[[log_results.reset_index()['f1_score'].idxmax()]]\n",
    "\n",
    "display(best_log)"
   ]
  },
  {
   "cell_type": "code",
   "execution_count": 11,
   "metadata": {},
   "outputs": [],
   "source": [
    "# for each expert\n",
    "log_results_1 = hyperparameter_tuning_cv(model='logistic', data=X_e_1, labels=y_e_1, cv_k=5,\n",
    "                                         params=LOGISTIC_PARAMS)\n",
    "log_results_2 = hyperparameter_tuning_cv(model='logistic', data=X_e_2, labels=y_e_2, cv_k=5,\n",
    "                                         params=LOGISTIC_PARAMS)\n",
    "log_results_3 = hyperparameter_tuning_cv(model='logistic', data=X_e_3, labels=y_e_3, cv_k=5,\n",
    "                                         params=LOGISTIC_PARAMS)"
   ]
  },
  {
   "cell_type": "code",
   "execution_count": 12,
   "metadata": {},
   "outputs": [
    {
     "data": {
      "text/html": [
       "<div>\n",
       "<style scoped>\n",
       "    .dataframe tbody tr th:only-of-type {\n",
       "        vertical-align: middle;\n",
       "    }\n",
       "\n",
       "    .dataframe tbody tr th {\n",
       "        vertical-align: top;\n",
       "    }\n",
       "\n",
       "    .dataframe thead th {\n",
       "        text-align: right;\n",
       "    }\n",
       "</style>\n",
       "<table border=\"1\" class=\"dataframe\">\n",
       "  <thead>\n",
       "    <tr style=\"text-align: right;\">\n",
       "      <th></th>\n",
       "      <th></th>\n",
       "      <th>f1_score</th>\n",
       "      <th>roc_auc_score</th>\n",
       "      <th>accuracy_score</th>\n",
       "    </tr>\n",
       "    <tr>\n",
       "      <th>max_iter</th>\n",
       "      <th>oversampling</th>\n",
       "      <th></th>\n",
       "      <th></th>\n",
       "      <th></th>\n",
       "    </tr>\n",
       "  </thead>\n",
       "  <tbody>\n",
       "    <tr>\n",
       "      <th>10000</th>\n",
       "      <th>True</th>\n",
       "      <td>0.378743</td>\n",
       "      <td>0.677047</td>\n",
       "      <td>0.674554</td>\n",
       "    </tr>\n",
       "  </tbody>\n",
       "</table>\n",
       "</div>"
      ],
      "text/plain": [
       "                       f1_score  roc_auc_score  accuracy_score\n",
       "max_iter oversampling                                         \n",
       "10000    True          0.378743       0.677047        0.674554"
      ]
     },
     "metadata": {},
     "output_type": "display_data"
    },
    {
     "data": {
      "text/html": [
       "<div>\n",
       "<style scoped>\n",
       "    .dataframe tbody tr th:only-of-type {\n",
       "        vertical-align: middle;\n",
       "    }\n",
       "\n",
       "    .dataframe tbody tr th {\n",
       "        vertical-align: top;\n",
       "    }\n",
       "\n",
       "    .dataframe thead th {\n",
       "        text-align: right;\n",
       "    }\n",
       "</style>\n",
       "<table border=\"1\" class=\"dataframe\">\n",
       "  <thead>\n",
       "    <tr style=\"text-align: right;\">\n",
       "      <th></th>\n",
       "      <th></th>\n",
       "      <th>f1_score</th>\n",
       "      <th>roc_auc_score</th>\n",
       "      <th>accuracy_score</th>\n",
       "    </tr>\n",
       "    <tr>\n",
       "      <th>max_iter</th>\n",
       "      <th>oversampling</th>\n",
       "      <th></th>\n",
       "      <th></th>\n",
       "      <th></th>\n",
       "    </tr>\n",
       "  </thead>\n",
       "  <tbody>\n",
       "    <tr>\n",
       "      <th>10000</th>\n",
       "      <th>True</th>\n",
       "      <td>0.323139</td>\n",
       "      <td>0.565205</td>\n",
       "      <td>0.585564</td>\n",
       "    </tr>\n",
       "  </tbody>\n",
       "</table>\n",
       "</div>"
      ],
      "text/plain": [
       "                       f1_score  roc_auc_score  accuracy_score\n",
       "max_iter oversampling                                         \n",
       "10000    True          0.323139       0.565205        0.585564"
      ]
     },
     "metadata": {},
     "output_type": "display_data"
    },
    {
     "data": {
      "text/html": [
       "<div>\n",
       "<style scoped>\n",
       "    .dataframe tbody tr th:only-of-type {\n",
       "        vertical-align: middle;\n",
       "    }\n",
       "\n",
       "    .dataframe tbody tr th {\n",
       "        vertical-align: top;\n",
       "    }\n",
       "\n",
       "    .dataframe thead th {\n",
       "        text-align: right;\n",
       "    }\n",
       "</style>\n",
       "<table border=\"1\" class=\"dataframe\">\n",
       "  <thead>\n",
       "    <tr style=\"text-align: right;\">\n",
       "      <th></th>\n",
       "      <th></th>\n",
       "      <th>f1_score</th>\n",
       "      <th>roc_auc_score</th>\n",
       "      <th>accuracy_score</th>\n",
       "    </tr>\n",
       "    <tr>\n",
       "      <th>max_iter</th>\n",
       "      <th>oversampling</th>\n",
       "      <th></th>\n",
       "      <th></th>\n",
       "      <th></th>\n",
       "    </tr>\n",
       "  </thead>\n",
       "  <tbody>\n",
       "    <tr>\n",
       "      <th>10000</th>\n",
       "      <th>False</th>\n",
       "      <td>0.607526</td>\n",
       "      <td>0.646554</td>\n",
       "      <td>0.650483</td>\n",
       "    </tr>\n",
       "  </tbody>\n",
       "</table>\n",
       "</div>"
      ],
      "text/plain": [
       "                       f1_score  roc_auc_score  accuracy_score\n",
       "max_iter oversampling                                         \n",
       "10000    False         0.607526       0.646554        0.650483"
      ]
     },
     "metadata": {},
     "output_type": "display_data"
    }
   ],
   "source": [
    "# Best model parameters\n",
    "\n",
    "best_log_1 = log_results_1.iloc[[\n",
    "    log_results_1.reset_index()['roc_auc_score'].idxmax()]]\n",
    "best_log_2 = log_results_2.iloc[[\n",
    "    log_results_2.reset_index()['roc_auc_score'].idxmax()]]\n",
    "best_log_3 = log_results_3.iloc[[\n",
    "    log_results_3.reset_index()['roc_auc_score'].idxmax()]]\n",
    "\n",
    "display(best_log_1, best_log_2, best_log_3)"
   ]
  },
  {
   "cell_type": "markdown",
   "metadata": {
    "pycharm": {
     "name": "#%% md\n"
    }
   },
   "source": [
    "#### 2. Linear Discriminant Analysis"
   ]
  },
  {
   "cell_type": "code",
   "execution_count": 13,
   "metadata": {
    "pycharm": {
     "name": "#%%\n"
    }
   },
   "outputs": [
    {
     "data": {
      "text/html": [
       "<div>\n",
       "<style scoped>\n",
       "    .dataframe tbody tr th:only-of-type {\n",
       "        vertical-align: middle;\n",
       "    }\n",
       "\n",
       "    .dataframe tbody tr th {\n",
       "        vertical-align: top;\n",
       "    }\n",
       "\n",
       "    .dataframe thead th {\n",
       "        text-align: right;\n",
       "    }\n",
       "</style>\n",
       "<table border=\"1\" class=\"dataframe\">\n",
       "  <thead>\n",
       "    <tr style=\"text-align: right;\">\n",
       "      <th></th>\n",
       "      <th>f1_score</th>\n",
       "      <th>roc_auc_score</th>\n",
       "      <th>accuracy_score</th>\n",
       "    </tr>\n",
       "    <tr>\n",
       "      <th>oversampling</th>\n",
       "      <th></th>\n",
       "      <th></th>\n",
       "      <th></th>\n",
       "    </tr>\n",
       "  </thead>\n",
       "  <tbody>\n",
       "    <tr>\n",
       "      <th>True</th>\n",
       "      <td>0.374699</td>\n",
       "      <td>0.568242</td>\n",
       "      <td>0.651260</td>\n",
       "    </tr>\n",
       "    <tr>\n",
       "      <th>False</th>\n",
       "      <td>0.166116</td>\n",
       "      <td>0.532169</td>\n",
       "      <td>0.731526</td>\n",
       "    </tr>\n",
       "  </tbody>\n",
       "</table>\n",
       "</div>"
      ],
      "text/plain": [
       "              f1_score  roc_auc_score  accuracy_score\n",
       "oversampling                                         \n",
       "True          0.374699       0.568242        0.651260\n",
       "False         0.166116       0.532169        0.731526"
      ]
     },
     "metadata": {},
     "output_type": "display_data"
    }
   ],
   "source": [
    "lda_results = hyperparameter_tuning_cv(model='lda', data=X_fine, labels=y_fine.Label, cv_k=5,\n",
    "                                       params=LDA_PARAMS)\n",
    "\n",
    "display(lda_results)"
   ]
  },
  {
   "cell_type": "code",
   "execution_count": 14,
   "metadata": {
    "pycharm": {
     "name": "#%%\n"
    },
    "scrolled": true
   },
   "outputs": [
    {
     "data": {
      "text/html": [
       "<div>\n",
       "<style scoped>\n",
       "    .dataframe tbody tr th:only-of-type {\n",
       "        vertical-align: middle;\n",
       "    }\n",
       "\n",
       "    .dataframe tbody tr th {\n",
       "        vertical-align: top;\n",
       "    }\n",
       "\n",
       "    .dataframe thead th {\n",
       "        text-align: right;\n",
       "    }\n",
       "</style>\n",
       "<table border=\"1\" class=\"dataframe\">\n",
       "  <thead>\n",
       "    <tr style=\"text-align: right;\">\n",
       "      <th></th>\n",
       "      <th>f1_score</th>\n",
       "      <th>roc_auc_score</th>\n",
       "      <th>accuracy_score</th>\n",
       "    </tr>\n",
       "    <tr>\n",
       "      <th>oversampling</th>\n",
       "      <th></th>\n",
       "      <th></th>\n",
       "      <th></th>\n",
       "    </tr>\n",
       "  </thead>\n",
       "  <tbody>\n",
       "    <tr>\n",
       "      <th>True</th>\n",
       "      <td>0.374699</td>\n",
       "      <td>0.568242</td>\n",
       "      <td>0.65126</td>\n",
       "    </tr>\n",
       "  </tbody>\n",
       "</table>\n",
       "</div>"
      ],
      "text/plain": [
       "              f1_score  roc_auc_score  accuracy_score\n",
       "oversampling                                         \n",
       "True          0.374699       0.568242         0.65126"
      ]
     },
     "metadata": {},
     "output_type": "display_data"
    }
   ],
   "source": [
    "# Best model parameters\n",
    "\n",
    "best_lda = lda_results.iloc[[lda_results.reset_index()['f1_score'].idxmax()]]\n",
    "\n",
    "display(best_lda)"
   ]
  },
  {
   "cell_type": "code",
   "execution_count": 15,
   "metadata": {},
   "outputs": [],
   "source": [
    "# For each expert\n",
    "lda_results_1 = hyperparameter_tuning_cv(model='lda', data=X_e_1, labels=y_e_1, cv_k=5,\n",
    "                                         params=LDA_PARAMS)\n",
    "lda_results_2 = hyperparameter_tuning_cv(model='lda', data=X_e_2, labels=y_e_2, cv_k=5,\n",
    "                                         params=LDA_PARAMS)\n",
    "lda_results_3 = hyperparameter_tuning_cv(model='lda', data=X_e_3, labels=y_e_3, cv_k=5,\n",
    "                                         params=LDA_PARAMS)"
   ]
  },
  {
   "cell_type": "code",
   "execution_count": 16,
   "metadata": {},
   "outputs": [
    {
     "data": {
      "text/html": [
       "<div>\n",
       "<style scoped>\n",
       "    .dataframe tbody tr th:only-of-type {\n",
       "        vertical-align: middle;\n",
       "    }\n",
       "\n",
       "    .dataframe tbody tr th {\n",
       "        vertical-align: top;\n",
       "    }\n",
       "\n",
       "    .dataframe thead th {\n",
       "        text-align: right;\n",
       "    }\n",
       "</style>\n",
       "<table border=\"1\" class=\"dataframe\">\n",
       "  <thead>\n",
       "    <tr style=\"text-align: right;\">\n",
       "      <th></th>\n",
       "      <th>f1_score</th>\n",
       "      <th>roc_auc_score</th>\n",
       "      <th>accuracy_score</th>\n",
       "    </tr>\n",
       "    <tr>\n",
       "      <th>oversampling</th>\n",
       "      <th></th>\n",
       "      <th></th>\n",
       "      <th></th>\n",
       "    </tr>\n",
       "  </thead>\n",
       "  <tbody>\n",
       "    <tr>\n",
       "      <th>True</th>\n",
       "      <td>0.349083</td>\n",
       "      <td>0.631606</td>\n",
       "      <td>0.732253</td>\n",
       "    </tr>\n",
       "  </tbody>\n",
       "</table>\n",
       "</div>"
      ],
      "text/plain": [
       "              f1_score  roc_auc_score  accuracy_score\n",
       "oversampling                                         \n",
       "True          0.349083       0.631606        0.732253"
      ]
     },
     "metadata": {},
     "output_type": "display_data"
    },
    {
     "data": {
      "text/html": [
       "<div>\n",
       "<style scoped>\n",
       "    .dataframe tbody tr th:only-of-type {\n",
       "        vertical-align: middle;\n",
       "    }\n",
       "\n",
       "    .dataframe tbody tr th {\n",
       "        vertical-align: top;\n",
       "    }\n",
       "\n",
       "    .dataframe thead th {\n",
       "        text-align: right;\n",
       "    }\n",
       "</style>\n",
       "<table border=\"1\" class=\"dataframe\">\n",
       "  <thead>\n",
       "    <tr style=\"text-align: right;\">\n",
       "      <th></th>\n",
       "      <th>f1_score</th>\n",
       "      <th>roc_auc_score</th>\n",
       "      <th>accuracy_score</th>\n",
       "    </tr>\n",
       "    <tr>\n",
       "      <th>oversampling</th>\n",
       "      <th></th>\n",
       "      <th></th>\n",
       "      <th></th>\n",
       "    </tr>\n",
       "  </thead>\n",
       "  <tbody>\n",
       "    <tr>\n",
       "      <th>True</th>\n",
       "      <td>0.241579</td>\n",
       "      <td>0.521757</td>\n",
       "      <td>0.672703</td>\n",
       "    </tr>\n",
       "  </tbody>\n",
       "</table>\n",
       "</div>"
      ],
      "text/plain": [
       "              f1_score  roc_auc_score  accuracy_score\n",
       "oversampling                                         \n",
       "True          0.241579       0.521757        0.672703"
      ]
     },
     "metadata": {},
     "output_type": "display_data"
    },
    {
     "data": {
      "text/html": [
       "<div>\n",
       "<style scoped>\n",
       "    .dataframe tbody tr th:only-of-type {\n",
       "        vertical-align: middle;\n",
       "    }\n",
       "\n",
       "    .dataframe tbody tr th {\n",
       "        vertical-align: top;\n",
       "    }\n",
       "\n",
       "    .dataframe thead th {\n",
       "        text-align: right;\n",
       "    }\n",
       "</style>\n",
       "<table border=\"1\" class=\"dataframe\">\n",
       "  <thead>\n",
       "    <tr style=\"text-align: right;\">\n",
       "      <th></th>\n",
       "      <th>f1_score</th>\n",
       "      <th>roc_auc_score</th>\n",
       "      <th>accuracy_score</th>\n",
       "    </tr>\n",
       "    <tr>\n",
       "      <th>oversampling</th>\n",
       "      <th></th>\n",
       "      <th></th>\n",
       "      <th></th>\n",
       "    </tr>\n",
       "  </thead>\n",
       "  <tbody>\n",
       "    <tr>\n",
       "      <th>True</th>\n",
       "      <td>0.642293</td>\n",
       "      <td>0.662332</td>\n",
       "      <td>0.663448</td>\n",
       "    </tr>\n",
       "  </tbody>\n",
       "</table>\n",
       "</div>"
      ],
      "text/plain": [
       "              f1_score  roc_auc_score  accuracy_score\n",
       "oversampling                                         \n",
       "True          0.642293       0.662332        0.663448"
      ]
     },
     "metadata": {},
     "output_type": "display_data"
    }
   ],
   "source": [
    "best_lda_1 = lda_results_1.iloc[[\n",
    "    lda_results_1.reset_index()['roc_auc_score'].idxmax()]]\n",
    "best_lda_2 = lda_results_2.iloc[[\n",
    "    lda_results_2.reset_index()['roc_auc_score'].idxmax()]]\n",
    "best_lda_3 = lda_results_3.iloc[[\n",
    "    lda_results_3.reset_index()['roc_auc_score'].idxmax()]]\n",
    "\n",
    "display(best_lda_1, best_lda_2, best_lda_3)"
   ]
  },
  {
   "cell_type": "markdown",
   "metadata": {
    "pycharm": {
     "name": "#%% md\n"
    }
   },
   "source": [
    "#### 3. K-nearest Neighbors"
   ]
  },
  {
   "cell_type": "code",
   "execution_count": 17,
   "metadata": {
    "pycharm": {
     "name": "#%%\n"
    }
   },
   "outputs": [
    {
     "data": {
      "text/html": [
       "<div>\n",
       "<style scoped>\n",
       "    .dataframe tbody tr th:only-of-type {\n",
       "        vertical-align: middle;\n",
       "    }\n",
       "\n",
       "    .dataframe tbody tr th {\n",
       "        vertical-align: top;\n",
       "    }\n",
       "\n",
       "    .dataframe thead th {\n",
       "        text-align: right;\n",
       "    }\n",
       "</style>\n",
       "<table border=\"1\" class=\"dataframe\">\n",
       "  <thead>\n",
       "    <tr style=\"text-align: right;\">\n",
       "      <th></th>\n",
       "      <th></th>\n",
       "      <th>f1_score</th>\n",
       "      <th>roc_auc_score</th>\n",
       "      <th>accuracy_score</th>\n",
       "    </tr>\n",
       "    <tr>\n",
       "      <th>n_neighbors</th>\n",
       "      <th>oversampling</th>\n",
       "      <th></th>\n",
       "      <th></th>\n",
       "      <th></th>\n",
       "    </tr>\n",
       "  </thead>\n",
       "  <tbody>\n",
       "    <tr>\n",
       "      <th rowspan=\"2\" valign=\"top\">1</th>\n",
       "      <th>True</th>\n",
       "      <td>0.336058</td>\n",
       "      <td>0.519485</td>\n",
       "      <td>0.574608</td>\n",
       "    </tr>\n",
       "    <tr>\n",
       "      <th>False</th>\n",
       "      <td>0.297966</td>\n",
       "      <td>0.518941</td>\n",
       "      <td>0.619971</td>\n",
       "    </tr>\n",
       "    <tr>\n",
       "      <th rowspan=\"2\" valign=\"top\">2</th>\n",
       "      <th>True</th>\n",
       "      <td>0.275333</td>\n",
       "      <td>0.511873</td>\n",
       "      <td>0.626153</td>\n",
       "    </tr>\n",
       "    <tr>\n",
       "      <th>False</th>\n",
       "      <td>0.125618</td>\n",
       "      <td>0.502653</td>\n",
       "      <td>0.697004</td>\n",
       "    </tr>\n",
       "    <tr>\n",
       "      <th rowspan=\"2\" valign=\"top\">3</th>\n",
       "      <th>True</th>\n",
       "      <td>0.347361</td>\n",
       "      <td>0.513996</td>\n",
       "      <td>0.542463</td>\n",
       "    </tr>\n",
       "    <tr>\n",
       "      <th>False</th>\n",
       "      <td>0.231637</td>\n",
       "      <td>0.507660</td>\n",
       "      <td>0.651736</td>\n",
       "    </tr>\n",
       "    <tr>\n",
       "      <th rowspan=\"2\" valign=\"top\">4</th>\n",
       "      <th>True</th>\n",
       "      <td>0.300677</td>\n",
       "      <td>0.505864</td>\n",
       "      <td>0.587066</td>\n",
       "    </tr>\n",
       "    <tr>\n",
       "      <th>False</th>\n",
       "      <td>0.128080</td>\n",
       "      <td>0.506394</td>\n",
       "      <td>0.702330</td>\n",
       "    </tr>\n",
       "    <tr>\n",
       "      <th rowspan=\"2\" valign=\"top\">5</th>\n",
       "      <th>True</th>\n",
       "      <td>0.358493</td>\n",
       "      <td>0.516266</td>\n",
       "      <td>0.528864</td>\n",
       "    </tr>\n",
       "    <tr>\n",
       "      <th>False</th>\n",
       "      <td>0.192536</td>\n",
       "      <td>0.506308</td>\n",
       "      <td>0.672943</td>\n",
       "    </tr>\n",
       "    <tr>\n",
       "      <th rowspan=\"2\" valign=\"top\">6</th>\n",
       "      <th>True</th>\n",
       "      <td>0.328879</td>\n",
       "      <td>0.516417</td>\n",
       "      <td>0.577080</td>\n",
       "    </tr>\n",
       "    <tr>\n",
       "      <th>False</th>\n",
       "      <td>0.107415</td>\n",
       "      <td>0.507036</td>\n",
       "      <td>0.710984</td>\n",
       "    </tr>\n",
       "    <tr>\n",
       "      <th rowspan=\"2\" valign=\"top\">7</th>\n",
       "      <th>True</th>\n",
       "      <td>0.358652</td>\n",
       "      <td>0.514388</td>\n",
       "      <td>0.523348</td>\n",
       "    </tr>\n",
       "    <tr>\n",
       "      <th>False</th>\n",
       "      <td>0.172732</td>\n",
       "      <td>0.512951</td>\n",
       "      <td>0.694817</td>\n",
       "    </tr>\n",
       "    <tr>\n",
       "      <th rowspan=\"2\" valign=\"top\">8</th>\n",
       "      <th>True</th>\n",
       "      <td>0.333482</td>\n",
       "      <td>0.512579</td>\n",
       "      <td>0.560628</td>\n",
       "    </tr>\n",
       "    <tr>\n",
       "      <th>False</th>\n",
       "      <td>0.092781</td>\n",
       "      <td>0.505914</td>\n",
       "      <td>0.714123</td>\n",
       "    </tr>\n",
       "    <tr>\n",
       "      <th rowspan=\"2\" valign=\"top\">9</th>\n",
       "      <th>True</th>\n",
       "      <td>0.358523</td>\n",
       "      <td>0.512413</td>\n",
       "      <td>0.518117</td>\n",
       "    </tr>\n",
       "    <tr>\n",
       "      <th>False</th>\n",
       "      <td>0.138495</td>\n",
       "      <td>0.510564</td>\n",
       "      <td>0.705278</td>\n",
       "    </tr>\n",
       "    <tr>\n",
       "      <th rowspan=\"2\" valign=\"top\">10</th>\n",
       "      <th>True</th>\n",
       "      <td>0.339105</td>\n",
       "      <td>0.514137</td>\n",
       "      <td>0.556443</td>\n",
       "    </tr>\n",
       "    <tr>\n",
       "      <th>False</th>\n",
       "      <td>0.075582</td>\n",
       "      <td>0.505172</td>\n",
       "      <td>0.718307</td>\n",
       "    </tr>\n",
       "    <tr>\n",
       "      <th rowspan=\"2\" valign=\"top\">11</th>\n",
       "      <th>True</th>\n",
       "      <td>0.356457</td>\n",
       "      <td>0.509735</td>\n",
       "      <td>0.514788</td>\n",
       "    </tr>\n",
       "    <tr>\n",
       "      <th>False</th>\n",
       "      <td>0.102923</td>\n",
       "      <td>0.505375</td>\n",
       "      <td>0.709748</td>\n",
       "    </tr>\n",
       "    <tr>\n",
       "      <th rowspan=\"2\" valign=\"top\">12</th>\n",
       "      <th>True</th>\n",
       "      <td>0.335406</td>\n",
       "      <td>0.508775</td>\n",
       "      <td>0.548169</td>\n",
       "    </tr>\n",
       "    <tr>\n",
       "      <th>False</th>\n",
       "      <td>0.059042</td>\n",
       "      <td>0.504549</td>\n",
       "      <td>0.722206</td>\n",
       "    </tr>\n",
       "    <tr>\n",
       "      <th rowspan=\"2\" valign=\"top\">13</th>\n",
       "      <th>True</th>\n",
       "      <td>0.357656</td>\n",
       "      <td>0.508705</td>\n",
       "      <td>0.509558</td>\n",
       "    </tr>\n",
       "    <tr>\n",
       "      <th>False</th>\n",
       "      <td>0.086177</td>\n",
       "      <td>0.505470</td>\n",
       "      <td>0.715454</td>\n",
       "    </tr>\n",
       "    <tr>\n",
       "      <th rowspan=\"2\" valign=\"top\">14</th>\n",
       "      <th>True</th>\n",
       "      <td>0.343405</td>\n",
       "      <td>0.511971</td>\n",
       "      <td>0.543985</td>\n",
       "    </tr>\n",
       "    <tr>\n",
       "      <th>False</th>\n",
       "      <td>0.043727</td>\n",
       "      <td>0.501245</td>\n",
       "      <td>0.721350</td>\n",
       "    </tr>\n",
       "    <tr>\n",
       "      <th rowspan=\"2\" valign=\"top\">15</th>\n",
       "      <th>True</th>\n",
       "      <td>0.360199</td>\n",
       "      <td>0.510708</td>\n",
       "      <td>0.510319</td>\n",
       "    </tr>\n",
       "    <tr>\n",
       "      <th>False</th>\n",
       "      <td>0.070985</td>\n",
       "      <td>0.504655</td>\n",
       "      <td>0.718878</td>\n",
       "    </tr>\n",
       "  </tbody>\n",
       "</table>\n",
       "</div>"
      ],
      "text/plain": [
       "                          f1_score  roc_auc_score  accuracy_score\n",
       "n_neighbors oversampling                                         \n",
       "1           True          0.336058       0.519485        0.574608\n",
       "            False         0.297966       0.518941        0.619971\n",
       "2           True          0.275333       0.511873        0.626153\n",
       "            False         0.125618       0.502653        0.697004\n",
       "3           True          0.347361       0.513996        0.542463\n",
       "            False         0.231637       0.507660        0.651736\n",
       "4           True          0.300677       0.505864        0.587066\n",
       "            False         0.128080       0.506394        0.702330\n",
       "5           True          0.358493       0.516266        0.528864\n",
       "            False         0.192536       0.506308        0.672943\n",
       "6           True          0.328879       0.516417        0.577080\n",
       "            False         0.107415       0.507036        0.710984\n",
       "7           True          0.358652       0.514388        0.523348\n",
       "            False         0.172732       0.512951        0.694817\n",
       "8           True          0.333482       0.512579        0.560628\n",
       "            False         0.092781       0.505914        0.714123\n",
       "9           True          0.358523       0.512413        0.518117\n",
       "            False         0.138495       0.510564        0.705278\n",
       "10          True          0.339105       0.514137        0.556443\n",
       "            False         0.075582       0.505172        0.718307\n",
       "11          True          0.356457       0.509735        0.514788\n",
       "            False         0.102923       0.505375        0.709748\n",
       "12          True          0.335406       0.508775        0.548169\n",
       "            False         0.059042       0.504549        0.722206\n",
       "13          True          0.357656       0.508705        0.509558\n",
       "            False         0.086177       0.505470        0.715454\n",
       "14          True          0.343405       0.511971        0.543985\n",
       "            False         0.043727       0.501245        0.721350\n",
       "15          True          0.360199       0.510708        0.510319\n",
       "            False         0.070985       0.504655        0.718878"
      ]
     },
     "metadata": {},
     "output_type": "display_data"
    }
   ],
   "source": [
    "knn_results = hyperparameter_tuning_cv(model='knn', data=X_fine, labels=y_fine.Label, cv_k=5,\n",
    "                                       params=KNN_PARAMS)\n",
    "\n",
    "display(knn_results)"
   ]
  },
  {
   "cell_type": "code",
   "execution_count": 18,
   "metadata": {
    "pycharm": {
     "name": "#%%\n"
    },
    "scrolled": true
   },
   "outputs": [
    {
     "data": {
      "text/html": [
       "<div>\n",
       "<style scoped>\n",
       "    .dataframe tbody tr th:only-of-type {\n",
       "        vertical-align: middle;\n",
       "    }\n",
       "\n",
       "    .dataframe tbody tr th {\n",
       "        vertical-align: top;\n",
       "    }\n",
       "\n",
       "    .dataframe thead th {\n",
       "        text-align: right;\n",
       "    }\n",
       "</style>\n",
       "<table border=\"1\" class=\"dataframe\">\n",
       "  <thead>\n",
       "    <tr style=\"text-align: right;\">\n",
       "      <th></th>\n",
       "      <th></th>\n",
       "      <th>f1_score</th>\n",
       "      <th>roc_auc_score</th>\n",
       "      <th>accuracy_score</th>\n",
       "    </tr>\n",
       "    <tr>\n",
       "      <th>n_neighbors</th>\n",
       "      <th>oversampling</th>\n",
       "      <th></th>\n",
       "      <th></th>\n",
       "      <th></th>\n",
       "    </tr>\n",
       "  </thead>\n",
       "  <tbody>\n",
       "    <tr>\n",
       "      <th>15</th>\n",
       "      <th>True</th>\n",
       "      <td>0.360199</td>\n",
       "      <td>0.510708</td>\n",
       "      <td>0.510319</td>\n",
       "    </tr>\n",
       "  </tbody>\n",
       "</table>\n",
       "</div>"
      ],
      "text/plain": [
       "                          f1_score  roc_auc_score  accuracy_score\n",
       "n_neighbors oversampling                                         \n",
       "15          True          0.360199       0.510708        0.510319"
      ]
     },
     "metadata": {},
     "output_type": "display_data"
    }
   ],
   "source": [
    "# Best model parameters\n",
    "\n",
    "best_knn = knn_results.iloc[[knn_results.reset_index()['f1_score'].idxmax()]]\n",
    "\n",
    "display(best_knn)"
   ]
  },
  {
   "cell_type": "code",
   "execution_count": 19,
   "metadata": {},
   "outputs": [],
   "source": [
    "knn_results_1 = hyperparameter_tuning_cv(\n",
    "    model='knn', data=X_e_1, labels=y_e_1, cv_k=5, params=KNN_PARAMS)\n",
    "knn_results_2 = hyperparameter_tuning_cv(\n",
    "    model='knn', data=X_e_2, labels=y_e_2, cv_k=5, params=KNN_PARAMS)\n",
    "knn_results_3 = hyperparameter_tuning_cv(\n",
    "    model='knn', data=X_e_3, labels=y_e_3, cv_k=5, params=KNN_PARAMS)"
   ]
  },
  {
   "cell_type": "code",
   "execution_count": null,
   "metadata": {},
   "outputs": [],
   "source": [
    "best_knn_1 = knn_results_1.iloc[[\n",
    "    knn_results_1.reset_index()['roc_auc_score'].idxmax()]]\n",
    "best_knn_2 = knn_results_2.iloc[[\n",
    "    knn_results_2.reset_index()['roc_auc_score'].idxmax()]]\n",
    "best_knn_3 = knn_results_3.iloc[[\n",
    "    knn_results_3.reset_index()['roc_auc_score'].idxmax()]]\n",
    "\n",
    "display(best_knn_1, best_knn_2, best_knn_3)"
   ]
  },
  {
   "cell_type": "markdown",
   "metadata": {},
   "source": [
    "#### 4. Support Vector Classifier"
   ]
  },
  {
   "cell_type": "code",
   "execution_count": null,
   "metadata": {
    "pycharm": {
     "is_executing": true,
     "name": "#%%\n"
    }
   },
   "outputs": [],
   "source": [
    "svc_results = hyperparameter_tuning_cv(model='svc', data=X_fine, labels=y_fine.Label, cv_k=5,\n",
    "                                       params=SVC_PARAMS)\n",
    "\n",
    "display(svc_results)"
   ]
  },
  {
   "cell_type": "code",
   "execution_count": null,
   "metadata": {
    "pycharm": {
     "name": "#%%\n"
    }
   },
   "outputs": [],
   "source": [
    "# Best model parameters\n",
    "\n",
    "best_svc = svc_results.iloc[[svc_results.reset_index()['f1_score'].idxmax()]]\n",
    "\n",
    "display(best_svc)"
   ]
  },
  {
   "cell_type": "code",
   "execution_count": null,
   "metadata": {},
   "outputs": [],
   "source": [
    "svc_results_1 = hyperparameter_tuning_cv(\n",
    "    model='svc', data=X_e_1, labels=y_e_1, cv_k=5, params=SVC_PARAMS)\n",
    "svc_results_2 = hyperparameter_tuning_cv(\n",
    "    model='svc', data=X_e_2, labels=y_e_2, cv_k=5, params=SVC_PARAMS)\n",
    "svc_results_3 = hyperparameter_tuning_cv(\n",
    "    model='svc', data=X_e_3, labels=y_e_3, cv_k=5, params=SVC_PARAMS)"
   ]
  },
  {
   "cell_type": "code",
   "execution_count": null,
   "metadata": {},
   "outputs": [],
   "source": [
    "best_svc_1 = svc_results_1.iloc[[\n",
    "    svc_results_1.reset_index()['roc_auc_score'].idxmax()]]\n",
    "best_svc_2 = svc_results_2.iloc[[\n",
    "    svc_results_2.reset_index()['roc_auc_score'].idxmax()]]\n",
    "best_svc_3 = svc_results_3.iloc[[\n",
    "    svc_results_3.reset_index()['roc_auc_score'].idxmax()]]\n",
    "\n",
    "\n",
    "display(best_svc_1, best_svc_2, best_svc_3)"
   ]
  },
  {
   "cell_type": "markdown",
   "metadata": {},
   "source": [
    "#### 5. Naive Bayes Classifier"
   ]
  },
  {
   "cell_type": "code",
   "execution_count": null,
   "metadata": {
    "pycharm": {
     "name": "#%%\n"
    }
   },
   "outputs": [],
   "source": [
    "nb_results = hyperparameter_tuning_cv(model='naive_bayes', data=X_fine, labels=y_fine.Label, cv_k=5,\n",
    "                                      params=NAIVE_BAYES_PARAMS)\n",
    "\n",
    "display(nb_results)"
   ]
  },
  {
   "cell_type": "code",
   "execution_count": null,
   "metadata": {
    "pycharm": {
     "name": "#%%\n"
    }
   },
   "outputs": [],
   "source": [
    "# Best model parameters\n",
    "\n",
    "best_nb = nb_results.iloc[[nb_results.reset_index()['f1_score'].idxmax()]]\n",
    "\n",
    "display(best_nb)"
   ]
  },
  {
   "cell_type": "code",
   "execution_count": null,
   "metadata": {},
   "outputs": [],
   "source": [
    "nb_results_1 = hyperparameter_tuning_cv(\n",
    "    model='naive_bayes', data=X_e_1, labels=y_e_1, cv_k=5, params=NAIVE_BAYES_PARAMS)\n",
    "nb_results_2 = hyperparameter_tuning_cv(\n",
    "    model='naive_bayes', data=X_e_2, labels=y_e_2, cv_k=5, params=NAIVE_BAYES_PARAMS)\n",
    "nb_results_3 = hyperparameter_tuning_cv(\n",
    "    model='naive_bayes', data=X_e_3, labels=y_e_3, cv_k=5, params=NAIVE_BAYES_PARAMS)"
   ]
  },
  {
   "cell_type": "code",
   "execution_count": null,
   "metadata": {},
   "outputs": [],
   "source": [
    "best_nb_1 = nb_results_1.iloc[[\n",
    "    nb_results_1.reset_index()['roc_auc_score'].idxmax()]]\n",
    "best_nb_2 = nb_results_2.iloc[[\n",
    "    nb_results_2.reset_index()['roc_auc_score'].idxmax()]]\n",
    "best_nb_3 = nb_results_3.iloc[[\n",
    "    nb_results_3.reset_index()['roc_auc_score'].idxmax()]]\n",
    "\n",
    "display(best_nb_1, best_nb_2, best_nb_3)"
   ]
  },
  {
   "cell_type": "markdown",
   "metadata": {},
   "source": [
    "#### 6. Decision Tree"
   ]
  },
  {
   "cell_type": "code",
   "execution_count": null,
   "metadata": {
    "pycharm": {
     "name": "#%%\n"
    }
   },
   "outputs": [],
   "source": [
    "dt_results = hyperparameter_tuning_cv(model='decision_tree', data=X_fine, labels=y_fine.Label, cv_k=5,\n",
    "                                      params=DECISION_TREE_PARAMS)\n",
    "\n",
    "display(dt_results)"
   ]
  },
  {
   "cell_type": "code",
   "execution_count": null,
   "metadata": {
    "pycharm": {
     "name": "#%%\n"
    }
   },
   "outputs": [],
   "source": [
    "# Best model parameters\n",
    "\n",
    "best_dt = dt_results.iloc[[dt_results.reset_index()['f1_score'].idxmax()]]\n",
    "\n",
    "display(best_dt)"
   ]
  },
  {
   "cell_type": "code",
   "execution_count": null,
   "metadata": {},
   "outputs": [],
   "source": [
    "dt_results_1 = hyperparameter_tuning_cv(\n",
    "    model='decision_tree', data=X_e_1, labels=y_e_1, cv_k=5, params=DECISION_TREE_PARAMS)\n",
    "dt_results_2 = hyperparameter_tuning_cv(\n",
    "    model='decision_tree', data=X_e_2, labels=y_e_2, cv_k=5, params=DECISION_TREE_PARAMS)\n",
    "dt_results_3 = hyperparameter_tuning_cv(\n",
    "    model='decision_tree', data=X_e_3, labels=y_e_3, cv_k=5, params=DECISION_TREE_PARAMS)"
   ]
  },
  {
   "cell_type": "code",
   "execution_count": null,
   "metadata": {},
   "outputs": [],
   "source": [
    "best_dt_1 = dt_results_1.iloc[[\n",
    "    dt_results_1.reset_index()['roc_auc_score'].idxmax()]]\n",
    "best_dt_2 = dt_results_2.iloc[[\n",
    "    dt_results_2.reset_index()['roc_auc_score'].idxmax()]]\n",
    "best_dt_3 = dt_results_3.iloc[[\n",
    "    dt_results_3.reset_index()['roc_auc_score'].idxmax()]]\n",
    "\n",
    "display(best_dt_1, best_dt_2, best_dt_3)"
   ]
  },
  {
   "cell_type": "markdown",
   "metadata": {},
   "source": [
    "#### 7. Random Forest"
   ]
  },
  {
   "cell_type": "code",
   "execution_count": null,
   "metadata": {
    "pycharm": {
     "name": "#%%\n"
    }
   },
   "outputs": [],
   "source": [
    "rf_results = hyperparameter_tuning_cv(model='random_forest', data=X_fine, labels=y_fine.Label, cv_k=5,\n",
    "                                      params=RANDOM_FOREST_PARAMS)\n",
    "\n",
    "display(rf_results)"
   ]
  },
  {
   "cell_type": "code",
   "execution_count": null,
   "metadata": {
    "pycharm": {
     "name": "#%%\n"
    },
    "scrolled": true
   },
   "outputs": [],
   "source": [
    "# Best model parameters\n",
    "\n",
    "best_rf = rf_results.iloc[[rf_results.reset_index()['f1_score'].idxmax()]]\n",
    "\n",
    "display(best_rf)"
   ]
  },
  {
   "cell_type": "code",
   "execution_count": null,
   "metadata": {},
   "outputs": [],
   "source": [
    "rf_results_1 = hyperparameter_tuning_cv(\n",
    "    model='random_forest', data=X_e_1, labels=y_e_1, cv_k=5, params=RANDOM_FOREST_PARAMS)\n",
    "rf_results_2 = hyperparameter_tuning_cv(\n",
    "    model='random_forest', data=X_e_2, labels=y_e_2, cv_k=5, params=RANDOM_FOREST_PARAMS)\n",
    "rf_results_3 = hyperparameter_tuning_cv(\n",
    "    model='random_forest', data=X_e_3, labels=y_e_3, cv_k=5, params=RANDOM_FOREST_PARAMS)"
   ]
  },
  {
   "cell_type": "code",
   "execution_count": null,
   "metadata": {},
   "outputs": [],
   "source": [
    "best_rf_1 = rf_results_1.iloc[[\n",
    "    rf_results_1.reset_index()['roc_auc_score'].idxmax()]]\n",
    "best_rf_2 = rf_results_2.iloc[[\n",
    "    rf_results_2.reset_index()['roc_auc_score'].idxmax()]]\n",
    "best_rf_3 = rf_results_3.iloc[[\n",
    "    rf_results_3.reset_index()['roc_auc_score'].idxmax()]]\n",
    "\n",
    "display(best_rf_1, best_rf_2, best_rf_3)"
   ]
  },
  {
   "cell_type": "markdown",
   "metadata": {
    "pycharm": {
     "name": "#%% md\n"
    }
   },
   "source": [
    "#### 8. Gradient Boosting"
   ]
  },
  {
   "cell_type": "code",
   "execution_count": null,
   "metadata": {
    "pycharm": {
     "name": "#%%\n"
    }
   },
   "outputs": [],
   "source": [
    "gb_results = hyperparameter_tuning_cv(model='gradient_boosting', data=X_fine, labels=y_fine.Label, cv_k=5,\n",
    "                                      params=GRADIENT_BOOSTING_PARAMS)\n",
    "\n",
    "display(gb_results)"
   ]
  },
  {
   "cell_type": "code",
   "execution_count": null,
   "metadata": {
    "pycharm": {
     "name": "#%%\n"
    },
    "scrolled": true
   },
   "outputs": [],
   "source": [
    "# Best model parameters\n",
    "\n",
    "best_gb = gb_results.iloc[[gb_results.reset_index()['f1_score'].idxmax()]]\n",
    "\n",
    "display(best_gb)"
   ]
  },
  {
   "cell_type": "code",
   "execution_count": null,
   "metadata": {},
   "outputs": [],
   "source": [
    "gb_results_1 = hyperparameter_tuning_cv(\n",
    "    model='gradient_boosting', data=X_e_1, labels=y_e_1, cv_k=5, params=GRADIENT_BOOSTING_PARAMS)\n",
    "gb_results_2 = hyperparameter_tuning_cv(\n",
    "    model='gradient_boosting', data=X_e_2, labels=y_e_2, cv_k=5, params=GRADIENT_BOOSTING_PARAMS)\n",
    "gb_results_3 = hyperparameter_tuning_cv(\n",
    "    model='gradient_boosting', data=X_e_3, labels=y_e_3, cv_k=5, params=GRADIENT_BOOSTING_PARAMS)"
   ]
  },
  {
   "cell_type": "code",
   "execution_count": null,
   "metadata": {},
   "outputs": [],
   "source": [
    "best_gb_1 = gb_results_1.iloc[[\n",
    "    gb_results_1.reset_index()['roc_auc_score'].idxmax()]]\n",
    "best_gb_2 = gb_results_2.iloc[[\n",
    "    gb_results_2.reset_index()['roc_auc_score'].idxmax()]]\n",
    "best_gb_3 = gb_results_3.iloc[[\n",
    "    gb_results_3.reset_index()['roc_auc_score'].idxmax()]]\n",
    "display(best_gb_1, best_gb_2, best_gb_3)"
   ]
  },
  {
   "cell_type": "markdown",
   "metadata": {},
   "source": [
    "### Results"
   ]
  },
  {
   "cell_type": "code",
   "execution_count": null,
   "metadata": {
    "pycharm": {
     "name": "#%%\n"
    }
   },
   "outputs": [],
   "source": [
    "#display('logistic', best_log)\n",
    "#display('lda', best_lda)\n",
    "#display('knn', best_knn)\n",
    "#display('svc', best_svc)\n",
    "#display('naive_bayes', best_nb)\n",
    "#display('decision_tree', best_dt)\n",
    "#display('random_forest', best_rf)\n",
    "#display('gradient_boosting', best_gb)"
   ]
  },
  {
   "cell_type": "code",
   "execution_count": null,
   "metadata": {},
   "outputs": [],
   "source": [
    "weighted_average = (np.array([len(X_e_1), len(X_e_2), len(X_e_3)]) / len(X_e))\n",
    "\n",
    "e_log = np.sum(pd.concat([best_log_1, best_log_2, best_log_3]\n",
    "                         ).roc_auc_score.values * weighted_average)\n",
    "e_lda = np.sum(pd.concat([best_lda_1, best_lda_2, best_lda_3]\n",
    "                         ).roc_auc_score.values * weighted_average)\n",
    "e_knn = np.sum(pd.concat([best_knn_1, best_knn_2, best_knn_3]\n",
    "                         ).roc_auc_score.values * weighted_average)\n",
    "e_svc = np.sum(pd.concat([best_svc_1, best_svc_2, best_svc_3]\n",
    "                         ).roc_auc_score.values * weighted_average)\n",
    "e_nb = np.sum(pd.concat([best_nb_1, best_nb_2, best_nb_3]\n",
    "                        ).roc_auc_score.values * weighted_average)\n",
    "e_dt = np.sum(pd.concat([best_dt_1, best_dt_2, best_dt_3]\n",
    "                        ).roc_auc_score.values * weighted_average)\n",
    "e_rf = np.sum(pd.concat([best_rf_1, best_rf_2, best_rf_3]\n",
    "                        ).roc_auc_score.values * weighted_average)\n",
    "e_gb = np.sum(pd.concat([best_gb_1, best_gb_2, best_gb_3]\n",
    "                        ).roc_auc_score.values * weighted_average)"
   ]
  },
  {
   "cell_type": "code",
   "execution_count": null,
   "metadata": {},
   "outputs": [],
   "source": [
    "# Results expert features\n",
    "# First row is Expert 1, second Expert 2, third Expert 3\n",
    "#display('logistic', pd.concat([best_log_1,best_log_2,best_log_3]))\n",
    "#display('lda', pd.concat([best_lda_1,best_lda_2,best_lda_3]))\n",
    "display('knn', pd.concat([best_knn_1, best_knn_2, best_knn_3]))\n",
    "#display('svc', pd.concat([best_svc_1,best_svc_2,best_svc_3]))\n",
    "#display('naive_bayes', pd.concat([best_nb_1,best_nb_2,best_nb_3]))\n",
    "#display('decision_tree', pd.concat([best_dt_1,best_dt_2,best_dt_3]))\n",
    "#display('random_forest', pd.concat([best_rf_1,best_rf_2,best_rf_3]))\n",
    "#display('gradient_boosting', pd.concat([best_gb_1,best_gb_2,best_gb_3]))"
   ]
  },
  {
   "cell_type": "code",
   "execution_count": null,
   "metadata": {},
   "outputs": [],
   "source": [
    "results = pd.DataFrame(data={'models': ['logistic', 'lda', 'knn', 'svc', 'naive_bayes', 'decision_tree',\n",
    "                                        'random_forest', 'gradient_boosting'],\n",
    "                             'auc_best': [best_log.roc_auc_score.values[0], best_lda.roc_auc_score.values[0],\n",
    "                                          best_knn.roc_auc_score.values[0], best_svc.roc_auc_score.values[0],\n",
    "                                          best_nb.roc_auc_score.values[0], best_dt.roc_auc_score.values[0],\n",
    "                                          best_rf.roc_auc_score.values[0], best_gb.roc_auc_score.values[0]],\n",
    "                             'auc_expert_weighted': [e_log, e_lda, e_knn, e_svc, e_nb, e_dt, e_rf, e_gb]})\n",
    "\n",
    "display(results)"
   ]
  },
  {
   "cell_type": "markdown",
   "metadata": {
    "pycharm": {
     "name": "#%% md\n"
    }
   },
   "source": [
    "### Conclusions\n"
   ]
  },
  {
   "cell_type": "code",
   "execution_count": null,
   "metadata": {},
   "outputs": [],
   "source": [
    "# Save dataframe\n",
    "# results.to_pickle(\"results_fine_metadata.pkl\")"
   ]
  },
  {
   "cell_type": "code",
   "execution_count": null,
   "metadata": {},
   "outputs": [],
   "source": [
    "results.mean(axis=0)"
   ]
  },
  {
   "cell_type": "code",
   "execution_count": null,
   "metadata": {},
   "outputs": [],
   "source": [
    "results.loc[results['auc_best'].argmax()]"
   ]
  },
  {
   "cell_type": "code",
   "execution_count": null,
   "metadata": {},
   "outputs": [],
   "source": [
    "results.loc[results['auc_expert_weighted'].argmax()]"
   ]
  },
  {
   "cell_type": "markdown",
   "metadata": {},
   "source": [
    "## ---------------------------------------"
   ]
  },
  {
   "cell_type": "code",
   "execution_count": null,
   "metadata": {
    "scrolled": true
   },
   "outputs": [],
   "source": [
    "# results.mean(axis=0)"
   ]
  },
  {
   "cell_type": "code",
   "execution_count": null,
   "metadata": {},
   "outputs": [],
   "source": [
    "results.loc[results['auc_best'].argmax()]"
   ]
  },
  {
   "cell_type": "code",
   "execution_count": null,
   "metadata": {},
   "outputs": [],
   "source": [
    "results.loc[results['auc_expert_weighted'].argmax()]"
   ]
  },
  {
   "cell_type": "code",
   "execution_count": null,
   "metadata": {},
   "outputs": [],
   "source": []
  }
 ],
 "metadata": {
  "kernelspec": {
   "display_name": "PyCharm (cs-433-project-2-cough_classifier)",
   "language": "python",
   "name": "pycharm-97a0754f"
  },
  "language_info": {
   "codemirror_mode": {
    "name": "ipython",
    "version": 3
   },
   "file_extension": ".py",
   "mimetype": "text/x-python",
   "name": "python",
   "nbconvert_exporter": "python",
   "pygments_lexer": "ipython3",
   "version": "3.8.6"
  }
 },
 "nbformat": 4,
 "nbformat_minor": 4
}
