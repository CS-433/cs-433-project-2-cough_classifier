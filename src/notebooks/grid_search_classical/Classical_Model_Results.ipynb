{
 "cells": [
  {
   "cell_type": "markdown",
   "metadata": {},
   "source": [
    "### Libraries"
   ]
  },
  {
   "cell_type": "code",
   "execution_count": 1,
   "metadata": {},
   "outputs": [],
   "source": [
    "import pandas as pd\n",
    "import matplotlib.pyplot as plt\n",
    "import seaborn as sns\n",
    "from IPython.core.display import display\n",
    "from src.utils.preprocessing import standardize, classic_preprocessing\n",
    "from src.utils.get_data import import_data"
   ]
  },
  {
   "cell_type": "code",
   "execution_count": 2,
   "metadata": {},
   "outputs": [],
   "source": [
    "%load_ext autoreload\n",
    "%autoreload 2\n",
    "\n",
    "import warnings\n",
    "warnings.filterwarnings('ignore')"
   ]
  },
  {
   "cell_type": "markdown",
   "metadata": {},
   "source": [
    "## Compare the results from hyperparameter tuning"
   ]
  },
  {
   "cell_type": "code",
   "execution_count": 3,
   "metadata": {},
   "outputs": [],
   "source": [
    "no_seg_no_md = pd.read_pickle(\"results_no_seg_no_metadata.pkl\")\n",
    "no_seg_md = pd.read_pickle(\"results_no_seg_metadata.pkl\")\n",
    "\n",
    "coarse_no_md = pd.read_pickle(\"results_coarse_no_metadata.pkl\")\n",
    "coarse_md = pd.read_pickle(\"results_coarse_metadata.pkl\")\n",
    "\n",
    "fine_no_md = pd.read_pickle(\"results_fine_no_metadata.pkl\")\n",
    "fine_md = pd.read_pickle(\"results_fine_metadata.pkl\")"
   ]
  },
  {
   "cell_type": "code",
   "execution_count": 4,
   "metadata": {},
   "outputs": [],
   "source": [
    "# no_seg_no_md.merge(no_seg_md, left_on = 'models', right_on = 'models')\n",
    "no_seg_no_md = pd.melt(no_seg_no_md, id_vars=[\n",
    "                       'models'], value_vars=['auc_expert_weighted'])\n",
    "# no_seg_md = pd.melt(no_seg_md, id_vars=['models'], value_vars=['auc_best', 'auc_expert_weighted'])\n",
    "\n",
    "# coarse_no_md = pd.melt(coarse_no_md, id_vars=['models'], value_vars=['auc_best', 'auc_expert_weighted'])\n",
    "coarse_md = pd.melt(coarse_md, id_vars=['models'], value_vars=[\n",
    "                    'auc_expert_weighted'])\n",
    "\n",
    "# fine_no_md = pd.melt(fine_no_md, id_vars=['models'], value_vars=['auc_best', 'auc_expert_weighted'])\n",
    "fine_md = pd.melt(fine_md, id_vars=['models'], value_vars=[\n",
    "                  'auc_expert_weighted'])"
   ]
  },
  {
   "cell_type": "code",
   "execution_count": 5,
   "metadata": {},
   "outputs": [],
   "source": [
    "no_seg_no_md['variable'] = no_seg_no_md['variable'].map(\n",
    "    {'auc_expert_weighted': 'no'})\n",
    "coarse_md['variable'] = coarse_md['variable'].map(\n",
    "    {'auc_expert_weighted': 'coarse'})\n",
    "fine_md['variable'] = fine_md['variable'].map({'auc_expert_weighted': 'fine'})"
   ]
  },
  {
   "cell_type": "code",
   "execution_count": 6,
   "metadata": {},
   "outputs": [],
   "source": [
    "df = fine_md.append(coarse_md).append(no_seg_no_md)"
   ]
  },
  {
   "cell_type": "code",
   "execution_count": 7,
   "metadata": {},
   "outputs": [],
   "source": [
    "df['models'] = df['models'].map({'logistic': 'Logistic', 'lda': 'LDA', 'knn': 'KNN', 'svc': 'SVC',\n",
    "                                 'naive_bayes': 'Naive Bayes', 'decision_tree': 'Decision Tree', 'random_forest': 'Random Forest',\n",
    "                                 'gradient_boosting': 'eXtreme GB'})"
   ]
  },
  {
   "cell_type": "code",
   "execution_count": 9,
   "metadata": {},
   "outputs": [
    {
     "data": {
      "image/png": "[encoded data removed]",
      "text/plain": [
       "<Figure size 432x288 with 1 Axes>"
      ]
     },
     "metadata": {
      "needs_background": "light"
     },
     "output_type": "display_data"
    }
   ],
   "source": [
    "plt.figure(figsize=(6, 4))\n",
    "sns.barplot(data=df, y='models', x='value',\n",
    "            hue='variable', palette='colorblind')\n",
    "plt.xlabel('AUC score')\n",
    "# plt.xticks(rotation=90);\n",
    "plt.legend(loc='lower right')\n",
    "plt.xlim(0.5, 0.75)\n",
    "plt.ylabel('')\n",
    "\n",
    "VIS_PATH = \"../../../vis\"\n",
    "plt.savefig(f'{VIS_PATH}/results_classical', format='pdf', bbox_inches='tight')"
   ]
  },
  {
   "cell_type": "code",
   "execution_count": 10,
   "metadata": {},
   "outputs": [
    {
     "data": {
      "text/plain": [
       "<AxesSubplot:xlabel='models', ylabel='value'>"
      ]
     },
     "execution_count": 10,
     "metadata": {},
     "output_type": "execute_result"
    },
    {
     "data": {
      "image/png": "[encoded data removed]",
      "text/plain": [
       "<Figure size 432x288 with 1 Axes>"
      ]
     },
     "metadata": {
      "needs_background": "light"
     },
     "output_type": "display_data"
    }
   ],
   "source": [
    "sns.barplot(data=fine_md, x='models', y='value',\n",
    "            hue='variable', palette='Set2', alpha=0.5)\n",
    "sns.barplot(data=coarse_md, x='models', y='value', hue='variable', alpha=0.5)\n",
    "sns.barplot(data=no_seg_no_md, x='models', y='value',\n",
    "            hue='variable', palette='husl', alpha=0.5)"
   ]
  }
 ],
 "metadata": {
  "kernelspec": {
   "display_name": "Python 3",
   "language": "python",
   "name": "python3"
  },
  "language_info": {
   "codemirror_mode": {
    "name": "ipython",
    "version": 3
   },
   "file_extension": ".py",
   "mimetype": "text/x-python",
   "name": "python",
   "nbconvert_exporter": "python",
   "pygments_lexer": "ipython3",
   "version": "3.8.5"
  }
 },
 "nbformat": 4,
 "nbformat_minor": 4
}
