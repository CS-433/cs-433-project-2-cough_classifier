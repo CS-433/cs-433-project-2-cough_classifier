{
 "cells": [
  {
   "cell_type": "code",
   "execution_count": null,
   "metadata": {},
   "outputs": [],
   "source": [
    "import pandas as pd"
   ]
  },
  {
   "cell_type": "code",
   "execution_count": null,
   "metadata": {},
   "outputs": [],
   "source": [
    "file = \"grid_search_d_27112020_030929.csv\""
   ]
  },
  {
   "cell_type": "code",
   "execution_count": null,
   "metadata": {},
   "outputs": [],
   "source": [
    "df = pd.read_csv(file)\n",
    "df"
   ]
  },
  {
   "cell_type": "code",
   "execution_count": null,
   "metadata": {},
   "outputs": [],
   "source": [
    "df.sort_values(by=\"avg_acc\", ascending=False)[[\"model\", \"avg_acc\"]].head(10)"
   ]
  },
  {
   "cell_type": "code",
   "execution_count": null,
   "metadata": {},
   "outputs": [],
   "source": [
    "df.sort_values(by=\"avg_auc\", ascending=False)[[\"model\", \"avg_auc\"]].head(10)"
   ]
  },
  {
   "cell_type": "code",
   "execution_count": null,
   "metadata": {},
   "outputs": [],
   "source": [
    "df.columns"
   ]
  },
  {
   "cell_type": "code",
   "execution_count": null,
   "metadata": {},
   "outputs": [],
   "source": [
    "def average_by_feature(df, feature):\n",
    "    for region, df_region in df.groupby(feature):\n",
    "        print(f\"Split based on feature \\\"{feature}\\\". Value = {region} has:\")\n",
    "        avg_acc = df_region[\"avg_acc\"].mean()\n",
    "        avg_auc = df_region[\"avg_auc\"].mean()\n",
    "        print(f\"\\t Average Accuracy of: {avg_acc}\")\n",
    "        print(f\"\\t Average AUC of: {avg_auc}\")"
   ]
  },
  {
   "cell_type": "code",
   "execution_count": null,
   "metadata": {},
   "outputs": [],
   "source": [
    "for feature in ['model', 'criterion', 'optimizer', 'activation_function',\n",
    "       'hidden_layer_dims', 'batch_size', 'learning_rate', 'weight_decay',\n",
    "       'dropout', 'smote']:\n",
    "    print(\"\\n\"*3)\n",
    "    print(\"=\"*40)\n",
    "    print(f\"FEATURE: {feature}\")\n",
    "    average_by_feature(df, feature)"
   ]
  },
  {
   "cell_type": "code",
   "execution_count": null,
   "metadata": {},
   "outputs": [],
   "source": []
  }
 ],
 "metadata": {
  "kernelspec": {
   "display_name": "Python 3",
   "language": "python",
   "name": "python3"
  },
  "language_info": {
   "codemirror_mode": {
    "name": "ipython",
    "version": 3
   },
   "file_extension": ".py",
   "mimetype": "text/x-python",
   "name": "python",
   "nbconvert_exporter": "python",
   "pygments_lexer": "ipython3",
   "version": "3.8.5"
  }
 },
 "nbformat": 4,
 "nbformat_minor": 4
}