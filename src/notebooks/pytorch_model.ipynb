{
 "cells": [
  {
   "cell_type": "markdown",
   "metadata": {},
   "source": [
    "### Step 1: Imports"
   ]
  },
  {
   "cell_type": "code",
   "execution_count": 1,
   "metadata": {},
   "outputs": [],
   "source": [
    "import torch\n",
    "import torch.nn as nn\n",
    "\n",
    "import torch.optim as optim\n",
    "from sklearn.model_selection import train_test_split\n",
    "from sklearn.metrics import confusion_matrix, classification_report\n",
    "from collections import Counter\n",
    "from imblearn.over_sampling import SMOTE\n",
    "import numpy as np\n",
    "import pandas as pd\n",
    "import seaborn as sns\n",
    "\n",
    "# Device configuration\n",
    "device = torch.device('cuda' if torch.cuda.is_available() else 'cpu') # TODO get GPU\n",
    "\n",
    "from src.utils.get_data import get_data_loader\n",
    "from src.utils.get_data import import_data"
   ]
  },
  {
   "cell_type": "markdown",
   "metadata": {},
   "source": [
    "### Step 2: Get Data"
   ]
  },
  {
   "cell_type": "code",
   "execution_count": 17,
   "metadata": {},
   "outputs": [],
   "source": [
    "DATA_PATH = \"../data\"\n",
    "fc, lc = import_data(DATA_PATH, segmentation_type='coarse', is_user_features=True,\n",
    "                     return_type='pd')\n",
    "fn, ln = import_data(DATA_PATH, segmentation_type='no', is_user_features=True,\n",
    "                     return_type='pd')"
   ]
  },
  {
   "cell_type": "markdown",
   "metadata": {},
   "source": [
    "### Step 2.1: Data Analysis"
   ]
  },
  {
   "cell_type": "markdown",
   "metadata": {},
   "source": [
    "#### Class Imbalance: We observe quite the heavy imbalance, in favor of label 0"
   ]
  },
  {
   "cell_type": "code",
   "execution_count": 54,
   "metadata": {},
   "outputs": [
    {
     "name": "stdout",
     "output_type": "stream",
     "text": [
      "Original dataset shape Counter({0.0: 1229, 1.0: 430})\n",
      "(1659, 72) (1659, 1)\n"
     ]
    },
    {
     "data": {
      "image/png": "[encoded data removed]",
      "text/plain": [
       "<Figure size 432x288 with 1 Axes>"
      ]
     },
     "metadata": {
      "needs_background": "light"
     },
     "output_type": "display_data"
    }
   ],
   "source": [
    "sns.countplot(x = 'Label', data=ln)\n",
    "print('Original dataset shape %s' % Counter(ln[\"Label\"]))\n",
    "print(fn.shape, ln.shape)"
   ]
  },
  {
   "cell_type": "code",
   "execution_count": 55,
   "metadata": {},
   "outputs": [
    {
     "name": "stdout",
     "output_type": "stream",
     "text": [
      "Resampled dataset shape Counter({1.0: 1229, 0.0: 1229})\n"
     ]
    },
    {
     "data": {
      "image/png": "[encoded data removed]",
      "text/plain": [
       "<Figure size 432x288 with 1 Axes>"
      ]
     },
     "metadata": {
      "needs_background": "light"
     },
     "output_type": "display_data"
    }
   ],
   "source": [
    "oversample = SMOTE(random_state=42)\n",
    "fn_oversampled, ln_oversampled = oversample.fit_resample(fn, ln)\n",
    "\n",
    "fn_oversampled = pd.DataFrame(fn_oversampled, columns=fn.columns)\n",
    "ln_oversampled = pd.DataFrame(ln_oversampled, columns=ln.columns)\n",
    "\n",
    "sns.countplot(x = 'Label', data=ln_oversampled)\n",
    "print('Resampled dataset shape %s' % Counter(ln_oversampled[\"Label\"]))"
   ]
  },
  {
   "cell_type": "markdown",
   "metadata": {},
   "source": [
    "##### Split into Training and Test"
   ]
  },
  {
   "cell_type": "code",
   "execution_count": 56,
   "metadata": {},
   "outputs": [],
   "source": [
    "X_train, X_test, y_train, y_test = train_test_split(fn, ln[\"Label\"], test_size=0.33, random_state=420)"
   ]
  },
  {
   "cell_type": "markdown",
   "metadata": {},
   "source": [
    "#### Standardize Inputs"
   ]
  },
  {
   "cell_type": "code",
   "execution_count": 57,
   "metadata": {},
   "outputs": [],
   "source": [
    "# scaler = StandardScaler()\n",
    "# X_train = scaler.fit_transform(X_train)\n",
    "# X_test = scaler.fit_transform(X_test)"
   ]
  },
  {
   "cell_type": "markdown",
   "metadata": {},
   "source": [
    "### Step 3: Hyper Parameters"
   ]
  },
  {
   "cell_type": "code",
   "execution_count": 58,
   "metadata": {},
   "outputs": [],
   "source": [
    "EPOCHS = 50\n",
    "BATCH_SIZE = 64\n",
    "LEARNING_RATE = 0.001\n",
    "INPUT_DIM = X_train.shape[1]\n",
    "OUTPUT_DIM = 1\n",
    "HIDDEN1_DIM = 100\n",
    "HIDDEN2_DIM = 10\n",
    "DROPOUT = 0.1\n",
    "WEIGHT_DECAY = 1"
   ]
  },
  {
   "cell_type": "markdown",
   "metadata": {},
   "source": [
    "### Step 4: Define Custom Data Loaders"
   ]
  },
  {
   "cell_type": "code",
   "execution_count": 59,
   "metadata": {},
   "outputs": [
    {
     "data": {
      "text/plain": [
       "'\\nclass trainData(Dataset):\\n    \\n    def __init__(self, X_data, y_data):\\n        self.X_data = X_data\\n        self.y_data = y_data\\n        \\n    def __getitem__(self, index):\\n        return self.X_data[index], self.y_data[index]\\n        \\n    def __len__ (self):\\n        return len(self.X_data)\\n\\n## test data    \\nclass testData(Dataset):\\n    \\n    def __init__(self, X_data):\\n        self.X_data = X_data\\n        \\n    def __getitem__(self, index):\\n        return self.X_data[index]\\n        \\n    def __len__ (self):\\n        return len(self.X_data)\\n    \\n\\ntrain_data = trainData(torch.FloatTensor(X_train), \\n                       torch.FloatTensor(y_train))\\ntest_data = trainData(torch.FloatTensor(X_test), torch.FloatTensor(y_test.values))\\n'"
      ]
     },
     "execution_count": 59,
     "metadata": {},
     "output_type": "execute_result"
    }
   ],
   "source": [
    "## train data\n",
    "\"\"\"\n",
    "class trainData(Dataset):\n",
    "    \n",
    "    def __init__(self, X_data, y_data):\n",
    "        self.X_data = X_data\n",
    "        self.y_data = y_data\n",
    "        \n",
    "    def __getitem__(self, index):\n",
    "        return self.X_data[index], self.y_data[index]\n",
    "        \n",
    "    def __len__ (self):\n",
    "        return len(self.X_data)\n",
    "\n",
    "## test data    \n",
    "class testData(Dataset):\n",
    "    \n",
    "    def __init__(self, X_data):\n",
    "        self.X_data = X_data\n",
    "        \n",
    "    def __getitem__(self, index):\n",
    "        return self.X_data[index]\n",
    "        \n",
    "    def __len__ (self):\n",
    "        return len(self.X_data)\n",
    "    \n",
    "\n",
    "train_data = trainData(torch.FloatTensor(X_train), \n",
    "                       torch.FloatTensor(y_train))\n",
    "test_data = trainData(torch.FloatTensor(X_test), torch.FloatTensor(y_test.values))\n",
    "\"\"\""
   ]
  },
  {
   "cell_type": "code",
   "execution_count": 60,
   "metadata": {},
   "outputs": [],
   "source": [
    "#train_loader = DataLoader(dataset=train_data, batch_size=BATCH_SIZE, shuffle=True)\n",
    "#test_loader = DataLoader(dataset=test_data, batch_size=1)"
   ]
  },
  {
   "cell_type": "code",
   "execution_count": 61,
   "metadata": {},
   "outputs": [],
   "source": [
    "train_loader, test_loader = get_data_loader(\"no\", smote=True, batch_size=64)"
   ]
  },
  {
   "cell_type": "markdown",
   "metadata": {},
   "source": [
    "### Step 5: Define Custom NN"
   ]
  },
  {
   "cell_type": "code",
   "execution_count": 62,
   "metadata": {},
   "outputs": [],
   "source": [
    "class BinaryClassification(nn.Module):\n",
    "    def __init__(self, input_dim, output_dim, hidden1_dim, hidden2_dim, dropout=0.1):\n",
    "        super(BinaryClassification, self).__init__()        # Number of input features is 12.\n",
    "        self.layer_1 = nn.Linear(input_dim, hidden1_dim) \n",
    "        self.layer_2 = nn.Linear(hidden1_dim, hidden2_dim)\n",
    "        self.layer_out = nn.Linear(hidden2_dim, output_dim) \n",
    "        \n",
    "        self.relu = nn.ReLU()\n",
    "        self.dropout = nn.Dropout(p=dropout)\n",
    "        self.batchnorm1 = nn.BatchNorm1d(hidden1_dim)\n",
    "        self.batchnorm2 = nn.BatchNorm1d(hidden2_dim)\n",
    "        \n",
    "    def forward(self, inputs):\n",
    "        x = self.relu(self.layer_1(inputs))\n",
    "        x = self.batchnorm1(x)\n",
    "        x = self.relu(self.layer_2(x))\n",
    "        x = self.batchnorm2(x)\n",
    "        x = self.dropout(x)\n",
    "        x = self.layer_out(x)\n",
    "        \n",
    "        return x"
   ]
  },
  {
   "cell_type": "code",
   "execution_count": 67,
   "metadata": {},
   "outputs": [],
   "source": [
    "### Step 6: TODO"
   ]
  },
  {
   "cell_type": "code",
   "execution_count": 68,
   "metadata": {},
   "outputs": [
    {
     "name": "stdout",
     "output_type": "stream",
     "text": [
      "binaryClassification(\n",
      "  (layer_1): Linear(in_features=72, out_features=100, bias=True)\n",
      "  (layer_2): Linear(in_features=100, out_features=10, bias=True)\n",
      "  (layer_out): Linear(in_features=10, out_features=1, bias=True)\n",
      "  (relu): ReLU()\n",
      "  (dropout): Dropout(p=0.1, inplace=False)\n",
      "  (batchnorm1): BatchNorm1d(100, eps=1e-05, momentum=0.1, affine=True, track_running_stats=True)\n",
      "  (batchnorm2): BatchNorm1d(10, eps=1e-05, momentum=0.1, affine=True, track_running_stats=True)\n",
      ")\n"
     ]
    }
   ],
   "source": [
    "model = BinaryClassification(INPUT_DIM, OUTPUT_DIM, HIDDEN1_DIM, HIDDEN2_DIM, DROPOUT)\n",
    "model.to(device)\n",
    "print(model)\n",
    "criterion = nn.BCEWithLogitsLoss()\n",
    "optimizer = optim.Adam(model.parameters(), lr=LEARNING_RATE, weight_decay=WEIGHT_DECAY)"
   ]
  },
  {
   "cell_type": "code",
   "execution_count": 69,
   "metadata": {},
   "outputs": [],
   "source": [
    "def binary_acc(y_pred, y_test):\n",
    "    y_pred_tag = torch.round(torch.sigmoid(y_pred))\n",
    "\n",
    "    correct_results_sum = (y_pred_tag == y_test).sum().float()\n",
    "    acc = correct_results_sum/y_test.shape[0]\n",
    "    acc = torch.round(acc * 100)\n",
    "    \n",
    "    return acc\n",
    "\n",
    "from sklearn import metrics\n",
    "\n",
    "def aoc(y_pred, y_test):\n",
    "    y_pred = y_pred.detach().numpy()\n",
    "    y_test = y_test.detach().numpy()\n",
    "    fpr, tpr, thresholds = metrics.roc_curve(y_test, y_pred)\n",
    "    return metrics.auc(fpr, tpr)"
   ]
  },
  {
   "cell_type": "markdown",
   "metadata": {},
   "source": [
    "### Step X: Train the Model"
   ]
  },
  {
   "cell_type": "code",
   "execution_count": 70,
   "metadata": {},
   "outputs": [
    {
     "name": "stdout",
     "output_type": "stream",
     "text": [
      "Epoch 001: | Loss: 0.66739 | Acc: 0.640\n",
      "Epoch 002: | Loss: 0.62750 | Acc: 0.723\n",
      "Epoch 003: | Loss: 0.58701 | Acc: 0.794\n",
      "Epoch 004: | Loss: 0.55885 | Acc: 0.824\n",
      "Epoch 005: | Loss: 0.55073 | Acc: 0.834\n",
      "Epoch 006: | Loss: 0.55128 | Acc: 0.836\n",
      "Epoch 007: | Loss: 0.55910 | Acc: 0.823\n",
      "Epoch 008: | Loss: 0.55900 | Acc: 0.832\n",
      "Epoch 009: | Loss: 0.56497 | Acc: 0.825\n",
      "Epoch 010: | Loss: 0.56758 | Acc: 0.828\n",
      "Epoch 011: | Loss: 0.57362 | Acc: 0.822\n",
      "Epoch 012: | Loss: 0.57568 | Acc: 0.820\n",
      "Epoch 013: | Loss: 0.57084 | Acc: 0.840\n",
      "Epoch 014: | Loss: 0.58649 | Acc: 0.814\n",
      "Epoch 015: | Loss: 0.57857 | Acc: 0.833\n",
      "Epoch 016: | Loss: 0.58574 | Acc: 0.822\n",
      "Epoch 017: | Loss: 0.59119 | Acc: 0.821\n",
      "Epoch 018: | Loss: 0.58773 | Acc: 0.825\n",
      "Epoch 019: | Loss: 0.58733 | Acc: 0.837\n",
      "Epoch 020: | Loss: 0.58723 | Acc: 0.841\n",
      "Epoch 021: | Loss: 0.58279 | Acc: 0.853\n",
      "Epoch 022: | Loss: 0.58640 | Acc: 0.844\n",
      "Epoch 023: | Loss: 0.59750 | Acc: 0.835\n",
      "Epoch 024: | Loss: 0.60217 | Acc: 0.833\n",
      "Epoch 025: | Loss: 0.60922 | Acc: 0.823\n",
      "Epoch 026: | Loss: 0.60289 | Acc: 0.850\n",
      "Epoch 027: | Loss: 0.60580 | Acc: 0.842\n",
      "Epoch 028: | Loss: 0.61475 | Acc: 0.839\n",
      "Epoch 029: | Loss: 0.61348 | Acc: 0.853\n",
      "Epoch 030: | Loss: 0.61778 | Acc: 0.837\n",
      "Epoch 031: | Loss: 0.61564 | Acc: 0.862\n",
      "Epoch 032: | Loss: 0.62094 | Acc: 0.852\n",
      "Epoch 033: | Loss: 0.62806 | Acc: 0.839\n",
      "Epoch 034: | Loss: 0.62868 | Acc: 0.856\n",
      "Epoch 035: | Loss: 0.63796 | Acc: 0.831\n",
      "Epoch 036: | Loss: 0.63703 | Acc: 0.859\n",
      "Epoch 037: | Loss: 0.64027 | Acc: 0.853\n",
      "Epoch 038: | Loss: 0.64808 | Acc: 0.832\n",
      "Epoch 039: | Loss: 0.65092 | Acc: 0.839\n",
      "Epoch 040: | Loss: 0.65222 | Acc: 0.851\n",
      "Epoch 041: | Loss: 0.65458 | Acc: 0.850\n",
      "Epoch 042: | Loss: 0.65810 | Acc: 0.848\n",
      "Epoch 043: | Loss: 0.66041 | Acc: 0.854\n",
      "Epoch 044: | Loss: 0.66554 | Acc: 0.826\n",
      "Epoch 045: | Loss: 0.66872 | Acc: 0.829\n",
      "Epoch 046: | Loss: 0.67022 | Acc: 0.846\n",
      "Epoch 047: | Loss: 0.67261 | Acc: 0.841\n",
      "Epoch 048: | Loss: 0.67404 | Acc: 0.852\n",
      "Epoch 049: | Loss: 0.67586 | Acc: 0.849\n",
      "Epoch 050: | Loss: 0.67835 | Acc: 0.838\n"
     ]
    }
   ],
   "source": [
    "model.train()\n",
    "for e in range(1, EPOCHS+1):\n",
    "    epoch_loss = 0\n",
    "    epoch_acc = 0\n",
    "    for X_batch, y_batch in train_loader:\n",
    "        X_batch, y_batch = X_batch.to(device), y_batch.to(device)\n",
    "        optimizer.zero_grad()\n",
    "        \n",
    "        y_pred = model(X_batch)\n",
    "        \n",
    "        loss = criterion(y_pred, y_batch.unsqueeze(1))\n",
    "        #acc = binary_acc(y_pred, y_batch.unsqueeze(1))\n",
    "        acc = aoc(y_pred, y_batch.unsqueeze(1))\n",
    "        \n",
    "        loss.backward()\n",
    "        optimizer.step()\n",
    "        \n",
    "        epoch_loss += loss.item()\n",
    "        epoch_acc += acc.item()\n",
    "        \n",
    "\n",
    "    print(f'Epoch {e+0:03}: | Loss: {epoch_loss/len(train_loader):.5f} | Acc: {epoch_acc/len(train_loader):.3f}')\n",
    "    #print(acc1)"
   ]
  },
  {
   "cell_type": "code",
   "execution_count": 74,
   "metadata": {},
   "outputs": [
    {
     "data": {
      "text/plain": [
       "21.79186986124579"
      ]
     },
     "execution_count": 74,
     "metadata": {},
     "output_type": "execute_result"
    },
    {
     "data": {
      "text/plain": [
       "<Figure size 432x288 with 0 Axes>"
      ]
     },
     "metadata": {},
     "output_type": "display_data"
    }
   ],
   "source": [
    "import matplotlib.pyplot as plt\n",
    "\n",
    "plt.figure()\n",
    "epoch_acc"
   ]
  },
  {
   "cell_type": "markdown",
   "metadata": {},
   "source": [
    "### Step X: Test the Model "
   ]
  },
  {
   "cell_type": "code",
   "execution_count": 31,
   "metadata": {},
   "outputs": [],
   "source": [
    "y_pred_list = []\n",
    "y_test_list = []\n",
    "model.eval()\n",
    "with torch.no_grad():\n",
    "    for X_batch, y_batch in test_loader: # todo for now i onyl include labels from data loader as _ THIS IS BAD! ITS WRONG!\n",
    "        X_batch = X_batch.to(device)\n",
    "        y_test_pred = model(X_batch)\n",
    "        y_test_pred = torch.sigmoid(y_test_pred)\n",
    "        y_pred_tag = torch.round(y_test_pred)\n",
    "        y_pred_list.append(y_pred_tag.cpu().numpy())\n",
    "        y_test_list.append(y_batch.cpu().numpy())\n",
    "y_pred_list = [a.squeeze().tolist() for a in y_pred_list]\n",
    "y_test_list = [b.squeeze().tolist() for b in y_test_list]"
   ]
  },
  {
   "cell_type": "code",
   "execution_count": 37,
   "metadata": {},
   "outputs": [
    {
     "data": {
      "text/plain": [
       "812"
      ]
     },
     "execution_count": 37,
     "metadata": {},
     "output_type": "execute_result"
    }
   ],
   "source": [
    "len(y_test_list)"
   ]
  },
  {
   "cell_type": "code",
   "execution_count": 41,
   "metadata": {},
   "outputs": [],
   "source": [
    "c = confusion_matrix(y_test_list, y_pred_list)"
   ]
  },
  {
   "cell_type": "code",
   "execution_count": 42,
   "metadata": {},
   "outputs": [
    {
     "data": {
      "text/plain": [
       "0.6785714285714286"
      ]
     },
     "execution_count": 42,
     "metadata": {},
     "output_type": "execute_result"
    }
   ],
   "source": []
  },
  {
   "cell_type": "code",
   "execution_count": 38,
   "metadata": {},
   "outputs": [
    {
     "name": "stdout",
     "output_type": "stream",
     "text": [
      "              precision    recall  f1-score   support\n",
      "\n",
      "         0.0       0.75      0.56      0.64       414\n",
      "         1.0       0.64      0.80      0.71       398\n",
      "\n",
      "    accuracy                           0.68       812\n",
      "   macro avg       0.69      0.68      0.67       812\n",
      "weighted avg       0.69      0.68      0.67       812\n",
      "\n"
     ]
    }
   ],
   "source": [
    "print(classification_report(y_test_list, y_pred_list))"
   ]
  },
  {
   "cell_type": "markdown",
   "metadata": {},
   "source": [
    "# TODO\n",
    "\n",
    "first off, you wouldn't shuffle your test loader.\n",
    "\n",
    "Here's an example:\n",
    " \n",
    "batch_size = 20  \n",
    "class_sample_count = [10, 1, 20, 3, 4] # dataset has 10 class-1 samples, 1 class-2 samples, etc.  \n",
    "weights = 1 / torch.Tensor(class_sample_count)  \n",
    "sampler = torch.utils.data.sampler.WeightedRandomSampler(weights, batch_size)  \n",
    "trainloader = data_utils.DataLoader(train_dataset, batch_size = batch_size, shuffle=True, sampler = sampler) \n",
    "\n",
    "I THINK THIS OR SMOTE: BASICALLY THIS IS DEFAULT OVERSAMPLING\n"
   ]
  },
  {
   "cell_type": "code",
   "execution_count": null,
   "metadata": {},
   "outputs": [],
   "source": []
  }
 ],
 "metadata": {
  "kernelspec": {
   "display_name": "Python 3",
   "language": "python",
   "name": "python3"
  },
  "language_info": {
   "codemirror_mode": {
    "name": "ipython",
    "version": 3
   },
   "file_extension": ".py",
   "mimetype": "text/x-python",
   "name": "python",
   "nbconvert_exporter": "python",
   "pygments_lexer": "ipython3",
   "version": "3.8.5"
  }
 },
 "nbformat": 4,
 "nbformat_minor": 4
}