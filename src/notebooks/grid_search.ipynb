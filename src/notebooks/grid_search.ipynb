{
 "cells": [
  {
   "cell_type": "markdown",
   "metadata": {},
   "source": [
    "### Libraries"
   ]
  },
  {
   "cell_type": "code",
   "execution_count": 1,
   "metadata": {},
   "outputs": [],
   "source": [
    "import pandas as pd\n",
    "from IPython.core.display import display\n",
    "from src.utils.preprocessing import standardize, dummy_code, oversample, remove_correlated_features\n",
    "from src.utils.get_data import import_data\n",
    "from src.utils.train import hyperparameter_tuning_cv\n",
    "from src.utils.config import *\n",
    "from sklearn.metrics import f1_score\n"
   ]
  },
  {
   "cell_type": "code",
   "execution_count": 2,
   "metadata": {},
   "outputs": [],
   "source": [
    "%load_ext autoreload\n",
    "%autoreload 1"
   ]
  },
  {
   "cell_type": "markdown",
   "metadata": {},
   "source": [
    "### Load Data"
   ]
  },
  {
   "cell_type": "code",
   "execution_count": 3,
   "metadata": {},
   "outputs": [],
   "source": [
    "DATA_PATH = '../../data'\n",
    "coarse_data, coarse_labels = import_data(DATA_PATH, segmentation_type = 'coarse', is_user_features=True)\n",
    "fine_data, fine_labels = import_data(DATA_PATH, segmentation_type = 'fine', is_user_features=True)\n",
    "no_data, no_labels = import_data(DATA_PATH, segmentation_type = 'no', is_user_features=True)\n",
    "\n",
    "# For later processing rename the index\n",
    "no_data.index = no_data.index.rename('subject')"
   ]
  },
  {
   "cell_type": "markdown",
   "metadata": {},
   "source": [
    "### Preprocessing"
   ]
  },
  {
   "cell_type": "code",
   "execution_count": 4,
   "metadata": {},
   "outputs": [],
   "source": [
    "# rename\n",
    "X_coarse = coarse_data\n",
    "X_fine = fine_data\n",
    "X_no = no_data"
   ]
  },
  {
   "cell_type": "markdown",
   "metadata": {},
   "source": [
    "#### Normalisation"
   ]
  },
  {
   "cell_type": "code",
   "execution_count": 5,
   "metadata": {},
   "outputs": [],
   "source": [
    "# For case where is_user_features=True\n",
    "X_coarse = standardize(X_coarse, 0, -3)\n",
    "X_fine = standardize(X_fine, 0, -3)\n",
    "X_no = standardize(X_no, 0, -3)"
   ]
  },
  {
   "cell_type": "markdown",
   "metadata": {},
   "source": [
    "#### Dummy code categorical features"
   ]
  },
  {
   "cell_type": "code",
   "execution_count": 6,
   "metadata": {},
   "outputs": [],
   "source": [
    "X_coarse = dummy_code(X_coarse, columns = ['Gender', 'Resp_Condition', 'Symptoms'])\n",
    "X_fine = dummy_code(X_fine, columns = ['Gender', 'Resp_Condition', 'Symptoms'])\n",
    "X_no = dummy_code(X_no, columns = ['Gender', 'Resp_Condition', 'Symptoms'])"
   ]
  },
  {
   "cell_type": "markdown",
   "metadata": {},
   "source": [
    "#### Drop correlated features"
   ]
  },
  {
   "cell_type": "code",
   "execution_count": 7,
   "metadata": {},
   "outputs": [],
   "source": [
    "# Drop features with a Pearson correlation > 0.9 to prevent multicolinearity\n",
    "X_coarse = remove_correlated_features(X_coarse, 0.95)"
   ]
  },
  {
   "cell_type": "markdown",
   "metadata": {},
   "source": [
    "### Grid search"
   ]
  },
  {
   "cell_type": "code",
   "execution_count": 8,
   "metadata": {
    "scrolled": true,
    "pycharm": {
     "name": "#%%\n"
    }
   },
   "outputs": [
    {
     "data": {
      "text/plain": "    n_neighbors  oversampling  f1_score\n0             3          True  0.454197\n1             3         False  0.348949\n2             4          True  0.443779\n3             4         False  0.221902\n4             5          True  0.452730\n5             5         False  0.291581\n6             6          True  0.441285\n7             6         False  0.192870\n8             7          True  0.440777\n9             7         False  0.262932\n10            8          True  0.444388\n11            8         False  0.172300\n12            9          True  0.440296\n13            9         False  0.247606\n14           10          True  0.436607\n15           10         False  0.168736\n16           11          True  0.433570\n17           11         False  0.212657",
      "text/html": "<div>\n<style scoped>\n    .dataframe tbody tr th:only-of-type {\n        vertical-align: middle;\n    }\n\n    .dataframe tbody tr th {\n        vertical-align: top;\n    }\n\n    .dataframe thead th {\n        text-align: right;\n    }\n</style>\n<table border=\"1\" class=\"dataframe\">\n  <thead>\n    <tr style=\"text-align: right;\">\n      <th></th>\n      <th>n_neighbors</th>\n      <th>oversampling</th>\n      <th>f1_score</th>\n    </tr>\n  </thead>\n  <tbody>\n    <tr>\n      <th>0</th>\n      <td>3</td>\n      <td>True</td>\n      <td>0.454197</td>\n    </tr>\n    <tr>\n      <th>1</th>\n      <td>3</td>\n      <td>False</td>\n      <td>0.348949</td>\n    </tr>\n    <tr>\n      <th>2</th>\n      <td>4</td>\n      <td>True</td>\n      <td>0.443779</td>\n    </tr>\n    <tr>\n      <th>3</th>\n      <td>4</td>\n      <td>False</td>\n      <td>0.221902</td>\n    </tr>\n    <tr>\n      <th>4</th>\n      <td>5</td>\n      <td>True</td>\n      <td>0.452730</td>\n    </tr>\n    <tr>\n      <th>5</th>\n      <td>5</td>\n      <td>False</td>\n      <td>0.291581</td>\n    </tr>\n    <tr>\n      <th>6</th>\n      <td>6</td>\n      <td>True</td>\n      <td>0.441285</td>\n    </tr>\n    <tr>\n      <th>7</th>\n      <td>6</td>\n      <td>False</td>\n      <td>0.192870</td>\n    </tr>\n    <tr>\n      <th>8</th>\n      <td>7</td>\n      <td>True</td>\n      <td>0.440777</td>\n    </tr>\n    <tr>\n      <th>9</th>\n      <td>7</td>\n      <td>False</td>\n      <td>0.262932</td>\n    </tr>\n    <tr>\n      <th>10</th>\n      <td>8</td>\n      <td>True</td>\n      <td>0.444388</td>\n    </tr>\n    <tr>\n      <th>11</th>\n      <td>8</td>\n      <td>False</td>\n      <td>0.172300</td>\n    </tr>\n    <tr>\n      <th>12</th>\n      <td>9</td>\n      <td>True</td>\n      <td>0.440296</td>\n    </tr>\n    <tr>\n      <th>13</th>\n      <td>9</td>\n      <td>False</td>\n      <td>0.247606</td>\n    </tr>\n    <tr>\n      <th>14</th>\n      <td>10</td>\n      <td>True</td>\n      <td>0.436607</td>\n    </tr>\n    <tr>\n      <th>15</th>\n      <td>10</td>\n      <td>False</td>\n      <td>0.168736</td>\n    </tr>\n    <tr>\n      <th>16</th>\n      <td>11</td>\n      <td>True</td>\n      <td>0.433570</td>\n    </tr>\n    <tr>\n      <th>17</th>\n      <td>11</td>\n      <td>False</td>\n      <td>0.212657</td>\n    </tr>\n  </tbody>\n</table>\n</div>"
     },
     "metadata": {},
     "output_type": "display_data"
    },
    {
     "data": {
      "text/plain": "n_neighbors            3\noversampling        True\nf1_score        0.454197\nName: 0, dtype: object"
     },
     "metadata": {},
     "output_type": "display_data"
    }
   ],
   "source": [
    "knn_results = hyperparameter_tuning_cv(model='knn', data=X_coarse, labels=coarse_labels.Label, cv_k=5,\n",
    "                                       params=KNN_PARAMS, metric=f1_score)\n",
    "\n",
    "display(knn_results)\n",
    "\n",
    "display(knn_results.iloc[knn_results[f1_score.__name__].agg(pd.Series.idxmax)])\n"
   ]
  }
 ],
 "metadata": {
  "kernelspec": {
   "name": "pycharm-97a0754f",
   "language": "python",
   "display_name": "PyCharm (cs-433-project-2-cough_classifier)"
  },
  "language_info": {
   "codemirror_mode": {
    "name": "ipython",
    "version": 3
   },
   "file_extension": ".py",
   "mimetype": "text/x-python",
   "name": "python",
   "nbconvert_exporter": "python",
   "pygments_lexer": "ipython3",
   "version": "3.8.5"
  }
 },
 "nbformat": 4,
 "nbformat_minor": 4
}