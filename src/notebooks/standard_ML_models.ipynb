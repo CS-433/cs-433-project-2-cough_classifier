{
 "cells": [
  {
   "cell_type": "markdown",
   "metadata": {},
   "source": [
    "### Libraries"
   ]
  },
  {
   "cell_type": "code",
   "execution_count": null,
   "metadata": {},
   "outputs": [],
   "source": [
    "import pandas as pd\n",
    "import matplotlib.pyplot as plt\n",
    "import seaborn as sns\n",
    "from IPython.core.display import display\n",
    "from src.utils.preprocessing import standardize, classic_preprocessing\n",
    "from src.utils.get_data import import_data, expert_models\n",
    "from src.utils.model_helpers import AUC_all_models"
   ]
  },
  {
   "cell_type": "code",
   "execution_count": null,
   "metadata": {},
   "outputs": [],
   "source": [
    "%load_ext autoreload\n",
    "%autoreload 2\n",
    "\n",
    "import warnings\n",
    "warnings.filterwarnings('ignore')"
   ]
  },
  {
   "cell_type": "markdown",
   "metadata": {},
   "source": [
    "### Load Data"
   ]
  },
  {
   "cell_type": "code",
   "execution_count": null,
   "metadata": {},
   "outputs": [],
   "source": [
    "DATA_PATH = '../../data'\n",
    "coarse_data, coarse_labels = import_data(DATA_PATH, segmentation_type='coarse',\n",
    "                                         drop_expert=False, drop_user_features=False)\n",
    "fine_data, fine_labels = import_data(DATA_PATH, segmentation_type='fine',\n",
    "                                     drop_expert=False, drop_user_features=False)\n",
    "no_data, no_labels = import_data(DATA_PATH, segmentation_type='no',\n",
    "                                 drop_expert=False, drop_user_features=False)\n",
    "\n",
    "# For later processing rename the index\n",
    "no_data.index = no_data.index.rename('subject')"
   ]
  },
  {
   "cell_type": "code",
   "execution_count": null,
   "metadata": {
    "scrolled": true
   },
   "outputs": [],
   "source": [
    "coarse_labels.Label.mean()"
   ]
  },
  {
   "cell_type": "markdown",
   "metadata": {},
   "source": [
    "### Preprocessing"
   ]
  },
  {
   "cell_type": "code",
   "execution_count": null,
   "metadata": {},
   "outputs": [],
   "source": [
    "# rename\n",
    "X_coarse = coarse_data\n",
    "X_fine = fine_data\n",
    "X_no = no_data"
   ]
  },
  {
   "cell_type": "markdown",
   "metadata": {},
   "source": [
    "#### Normalisation"
   ]
  },
  {
   "cell_type": "code",
   "execution_count": null,
   "metadata": {},
   "outputs": [],
   "source": [
    "# For case where drop_user_features=False\n",
    "X_coarse = standardize(X_coarse, idx_start=0, idx_end=-5)\n",
    "X_fine = standardize(X_fine, idx_start=0, idx_end=-5)\n",
    "X_no = standardize(X_no, idx_start=0, idx_end=-5)\n",
    "\n",
    "# Standardise the age\n",
    "X_coarse = standardize(X_coarse, idx_start=-4, idx_end=-3)\n",
    "X_fine = standardize(X_fine, idx_start=-4, idx_end=-3)\n",
    "X_no = standardize(X_no, idx_start=-4, idx_end=-3)"
   ]
  },
  {
   "cell_type": "markdown",
   "metadata": {},
   "source": [
    "#### Dummy code and correlated feature dropping"
   ]
  },
  {
   "cell_type": "code",
   "execution_count": null,
   "metadata": {},
   "outputs": [],
   "source": [
    "X_coarse = classic_preprocessing(X_coarse, norm=False)\n",
    "X_fine = classic_preprocessing(X_fine, norm=False)\n",
    "X_no = classic_preprocessing(X_no, norm=False)"
   ]
  },
  {
   "cell_type": "markdown",
   "metadata": {},
   "source": [
    "#### Get optimal features model"
   ]
  },
  {
   "cell_type": "code",
   "execution_count": null,
   "metadata": {},
   "outputs": [],
   "source": [
    "# X_coarse_opt = get_optimal_features_model(X_fine, fine_labels, model=GradientBoostingClassifier(random_state=0), start_idx = 1)"
   ]
  },
  {
   "cell_type": "markdown",
   "metadata": {},
   "source": [
    "### Model training for each expert with additional features"
   ]
  },
  {
   "cell_type": "code",
   "execution_count": null,
   "metadata": {
    "scrolled": true
   },
   "outputs": [],
   "source": [
    "coarse_results_experts = expert_models(X_coarse, coarse_labels)\n",
    "fine_results_experts = expert_models(X_fine, fine_labels)\n",
    "no_results_experts = expert_models(X_no, no_labels)"
   ]
  },
  {
   "cell_type": "code",
   "execution_count": null,
   "metadata": {
    "collapsed": true,
    "jupyter": {
     "outputs_hidden": true
    }
   },
   "outputs": [],
   "source": [
    "coarse_results_experts['Data'] = 'coarse'\n",
    "fine_results_experts['Data'] = 'fine'\n",
    "no_results_experts['Data'] = 'no_segmentation'\n",
    "display(coarse_results_experts, fine_results_experts, no_results_experts)"
   ]
  },
  {
   "cell_type": "markdown",
   "metadata": {},
   "source": [
    "### Model training all data"
   ]
  },
  {
   "cell_type": "code",
   "execution_count": null,
   "metadata": {
    "collapsed": true,
    "jupyter": {
     "outputs_hidden": true
    }
   },
   "outputs": [],
   "source": [
    "oversampling = True\n",
    "coarse_results = AUC_all_models(\n",
    "    X_coarse, coarse_labels.Label, k=6, oversampling=oversampling)\n",
    "fine_results = AUC_all_models(\n",
    "    X_fine, fine_labels.Label, k=6, oversampling=oversampling)\n",
    "no_results = AUC_all_models(X_no, no_labels.Label,\n",
    "                            k=6, oversampling=oversampling)"
   ]
  },
  {
   "cell_type": "code",
   "execution_count": null,
   "metadata": {
    "collapsed": true,
    "jupyter": {
     "outputs_hidden": true
    }
   },
   "outputs": [],
   "source": [
    "coarse_results = coarse_results.rename(columns={'AUC (mean)': \"Coarse_AUC\"})\n",
    "fine_results = fine_results.rename(columns={'AUC (mean)': \"Fine_AUC\"})\n",
    "no_results = no_results.rename(columns={'AUC (mean)': \"No_Seg_AUC\"})\n",
    "\n",
    "pd.concat([coarse_results, fine_results[\"Fine_AUC\"],\n",
    "           no_results[\"No_Seg_AUC\"]], axis=1, sort=False)\n",
    "# Most promising seem to be RandomForest and GradientBoosting --> Tune their hyperparameters!"
   ]
  },
  {
   "cell_type": "code",
   "execution_count": null,
   "metadata": {
    "collapsed": true,
    "jupyter": {
     "outputs_hidden": true
    }
   },
   "outputs": [],
   "source": [
    "coarse_results = coarse_results.rename(columns={'AUC (mean)': \"Coarse_AUC\"})\n",
    "fine_results = fine_results.rename(columns={'AUC (mean)': \"Fine_AUC\"})\n",
    "no_results = no_results.rename(columns={'AUC (mean)': \"No_Seg_AUC\"})\n",
    "\n",
    "pd.concat([coarse_results, fine_results[\"Fine_AUC\"],\n",
    "           no_results[\"No_Seg_AUC\"]], axis=1, sort=False)\n",
    "# Most promising seem to be RandomForest and GradientBoosting --> Tune their hyperparameters!"
   ]
  },
  {
   "cell_type": "markdown",
   "metadata": {},
   "source": [
    "### Models without expert features"
   ]
  },
  {
   "cell_type": "code",
   "execution_count": null,
   "metadata": {},
   "outputs": [],
   "source": [
    "DATA_PATH = '../../data'\n",
    "coarse_data_n, coarse_labels_n = import_data(\n",
    "    DATA_PATH, segmentation_type='coarse', drop_user_features=True)\n",
    "fine_data_n, fine_labels_n = import_data(\n",
    "    DATA_PATH, segmentation_type='fine', drop_user_features=True)\n",
    "no_data_n, no_labels_n = import_data(\n",
    "    DATA_PATH, segmentation_type='no', drop_user_features=True)\n",
    "\n",
    "# For later processing rename the index\n",
    "no_data_n.index = no_data_n.index.rename('subject')"
   ]
  },
  {
   "cell_type": "code",
   "execution_count": null,
   "metadata": {},
   "outputs": [],
   "source": [
    "# rename\n",
    "X_coarse_n = coarse_data_n\n",
    "X_fine_n = fine_data_n\n",
    "X_no_n = no_data_n"
   ]
  },
  {
   "cell_type": "markdown",
   "metadata": {},
   "source": [
    "#### Preprocessing"
   ]
  },
  {
   "cell_type": "code",
   "execution_count": null,
   "metadata": {},
   "outputs": [],
   "source": [
    "# For case where is_user_features=False\n",
    "X_coarse_n = classic_preprocessing(X_coarse_n, start=0, stop=-1)\n",
    "X_fine_n = classic_preprocessing(X_fine_n, start=0, stop=-1)\n",
    "X_no_n = classic_preprocessing(X_no_n, start=0, stop=-1)"
   ]
  },
  {
   "cell_type": "markdown",
   "metadata": {},
   "source": [
    "### Train model for each expert without additional features"
   ]
  },
  {
   "cell_type": "code",
   "execution_count": null,
   "metadata": {},
   "outputs": [],
   "source": [
    "coarse_results_experts_n = expert_models(X_coarse_n, coarse_labels_n)\n",
    "fine_results_experts_n = expert_models(X_fine_n, fine_labels_n)\n",
    "no_results_experts_n = expert_models(X_no_n, no_labels_n)"
   ]
  },
  {
   "cell_type": "code",
   "execution_count": null,
   "metadata": {},
   "outputs": [],
   "source": [
    "coarse_results_experts_n['Data'] = 'coarse'\n",
    "fine_results_experts_n['Data'] = 'fine'\n",
    "no_results_experts_n['Data'] = 'no_segmentation'\n",
    "display(coarse_results_experts_n, fine_results_experts_n, no_results_experts_n)"
   ]
  },
  {
   "cell_type": "code",
   "execution_count": null,
   "metadata": {
    "collapsed": true,
    "jupyter": {
     "outputs_hidden": true
    }
   },
   "outputs": [],
   "source": [
    "# Compare: with expert features:\n",
    "display(coarse_results_experts, fine_results_experts, no_results_experts)"
   ]
  },
  {
   "cell_type": "markdown",
   "metadata": {},
   "source": [
    "### Train model for all data without additional features"
   ]
  },
  {
   "cell_type": "code",
   "execution_count": null,
   "metadata": {},
   "outputs": [],
   "source": [
    "oversampling = True\n",
    "coarse_results_n = AUC_all_models(\n",
    "    X_coarse_n, coarse_labels_n.Label, k=6, oversampling=oversampling)\n",
    "fine_results_n = AUC_all_models(\n",
    "    X_fine_n, fine_labels_n.Label, k=6, oversampling=oversampling)\n",
    "no_results_n = AUC_all_models(\n",
    "    X_no_n, no_labels_n.Label, k=6, oversampling=oversampling)"
   ]
  },
  {
   "cell_type": "code",
   "execution_count": null,
   "metadata": {
    "scrolled": true
   },
   "outputs": [],
   "source": [
    "coarse_results_n = coarse_results_n.rename(\n",
    "    columns={'AUC (mean)': \"Coarse_AUC\"})\n",
    "fine_results_n = fine_results_n.rename(columns={'AUC (mean)': \"Fine_AUC\"})\n",
    "no_results_n = no_results_n.rename(columns={'AUC (mean)': \"No_Seg_AUC\"})\n",
    "\n",
    "pd.concat([coarse_results_n, fine_results_n[\"Fine_AUC\"],\n",
    "           no_results_n[\"No_Seg_AUC\"]], axis=1, sort=False)"
   ]
  },
  {
   "cell_type": "markdown",
   "metadata": {},
   "source": [
    "## Compare the results from hyperparameter tuning"
   ]
  },
  {
   "cell_type": "code",
   "execution_count": null,
   "metadata": {},
   "outputs": [],
   "source": [
    "no_seg_no_md = pd.read_pickle(\"results_no_seg_no_metadata.pkl\")\n",
    "no_seg_md = pd.read_pickle(\"results_no_seg_metadata.pkl\")\n",
    "\n",
    "coarse_no_md = pd.read_pickle(\"results_coarse_no_metadata.pkl\")\n",
    "coarse_md = pd.read_pickle(\"results_coarse_metadata.pkl\")\n",
    "\n",
    "fine_no_md = pd.read_pickle(\"results_fine_no_metadata.pkl\")\n",
    "fine_md = pd.read_pickle(\"results_fine_metadata.pkl\")"
   ]
  },
  {
   "cell_type": "code",
   "execution_count": null,
   "metadata": {},
   "outputs": [],
   "source": [
    "# no_seg_no_md.merge(no_seg_md, left_on = 'models', right_on = 'models')\n",
    "no_seg_no_md = pd.melt(no_seg_no_md, id_vars=[\n",
    "                       'models'], value_vars=['auc_expert_weighted'])\n",
    "# no_seg_md = pd.melt(no_seg_md, id_vars=['models'], value_vars=['auc_best', 'auc_expert_weighted'])\n",
    "\n",
    "# coarse_no_md = pd.melt(coarse_no_md, id_vars=['models'], value_vars=['auc_best', 'auc_expert_weighted'])\n",
    "coarse_md = pd.melt(coarse_md, id_vars=['models'], value_vars=[\n",
    "                    'auc_expert_weighted'])\n",
    "\n",
    "# fine_no_md = pd.melt(fine_no_md, id_vars=['models'], value_vars=['auc_best', 'auc_expert_weighted'])\n",
    "fine_md = pd.melt(fine_md, id_vars=['models'], value_vars=[\n",
    "                  'auc_expert_weighted'])"
   ]
  },
  {
   "cell_type": "code",
   "execution_count": null,
   "metadata": {},
   "outputs": [],
   "source": [
    "no_seg_no_md['variable'] = no_seg_no_md['variable'].map(\n",
    "    {'auc_expert_weighted': 'no'})\n",
    "coarse_md['variable'] = coarse_md['variable'].map(\n",
    "    {'auc_expert_weighted': 'coarse'})\n",
    "fine_md['variable'] = fine_md['variable'].map({'auc_expert_weighted': 'fine'})"
   ]
  },
  {
   "cell_type": "code",
   "execution_count": null,
   "metadata": {},
   "outputs": [],
   "source": [
    "fine_md"
   ]
  },
  {
   "cell_type": "code",
   "execution_count": null,
   "metadata": {},
   "outputs": [],
   "source": [
    "df = fine_md.append(coarse_md).append(no_seg_no_md)"
   ]
  },
  {
   "cell_type": "code",
   "execution_count": null,
   "metadata": {},
   "outputs": [],
   "source": [
    "df"
   ]
  },
  {
   "cell_type": "code",
   "execution_count": null,
   "metadata": {},
   "outputs": [],
   "source": [
    "df['models'] = df['models'].map({'logistic': 'Logistic', 'lda': 'LDA', 'knn': 'KNN', 'svc': 'SVC',\n",
    "                                 'naive_bayes': 'Naive Bayes', 'decision_tree': 'Decision Tree', 'random_forest': 'Random Forest',\n",
    "                                 'gradient_boosting': 'eXtreme GB'})"
   ]
  },
  {
   "cell_type": "code",
   "execution_count": null,
   "metadata": {},
   "outputs": [],
   "source": [
    "plt.figure(figsize=(6, 4))\n",
    "sns.barplot(data=df, y='models', x='value',\n",
    "            hue='variable', palette='colorblind')\n",
    "plt.xlabel('AUC score')\n",
    "# plt.xticks(rotation=90);\n",
    "plt.legend(loc='lower right')\n",
    "plt.xlim(0.5, 0.75)\n",
    "plt.ylabel('')\n",
    "\n",
    "VIS_PATH = \"../../vis\"\n",
    "plt.savefig(f'{VIS_PATH}/results_classical', format='pdf', bbox_inches='tight')"
   ]
  },
  {
   "cell_type": "code",
   "execution_count": null,
   "metadata": {},
   "outputs": [],
   "source": [
    "sns.barplot(data=fine_md, x='models', y='value',\n",
    "            hue='variable', palette='Set2', alpha=0.5)\n",
    "sns.barplot(data=coarse_md, x='models', y='value', hue='variable', alpha=0.5)\n",
    "sns.barplot(data=no_seg_no_md, x='models', y='value',\n",
    "            hue='variable', palette='husl', alpha=0.5)"
   ]
  },
  {
   "cell_type": "code",
   "execution_count": null,
   "metadata": {
    "pycharm": {
     "name": "#%%\n"
    }
   },
   "outputs": [],
   "source": [
    "# ich will für alle drei datensätze den expert model score"
   ]
  }
 ],
 "metadata": {
  "kernelspec": {
   "display_name": "PyCharm (cs-433-project-2-cough_classifier)",
   "language": "python",
   "name": "pycharm-97a0754f"
  },
  "language_info": {
   "codemirror_mode": {
    "name": "ipython",
    "version": 3
   },
   "file_extension": ".py",
   "mimetype": "text/x-python",
   "name": "python",
   "nbconvert_exporter": "python",
   "pygments_lexer": "ipython3",
   "version": "3.8.6"
  }
 },
 "nbformat": 4,
 "nbformat_minor": 4
}
